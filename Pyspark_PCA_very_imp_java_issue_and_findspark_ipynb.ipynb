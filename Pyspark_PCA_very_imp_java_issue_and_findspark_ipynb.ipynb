{
  "nbformat": 4,
  "nbformat_minor": 0,
  "metadata": {
    "colab": {
      "name": "Pyspark PCA very imp java issue and findspark. ipynb",
      "provenance": [],
      "collapsed_sections": [],
      "authorship_tag": "ABX9TyMh8+nH/kVPRDQQvuTqcdeV",
      "include_colab_link": true
    },
    "kernelspec": {
      "name": "python3",
      "display_name": "Python 3"
    }
  },
  "cells": [
    {
      "cell_type": "markdown",
      "metadata": {
        "id": "view-in-github",
        "colab_type": "text"
      },
      "source": [
        "<a href=\"https://colab.research.google.com/github/veeransr/ML-and-Deep-learning-practice-with-python/blob/master/Pyspark_PCA_very_imp_java_issue_and_findspark_ipynb.ipynb\" target=\"_parent\"><img src=\"https://colab.research.google.com/assets/colab-badge.svg\" alt=\"Open In Colab\"/></a>"
      ]
    },
    {
      "cell_type": "code",
      "metadata": {
        "id": "2Mt095GmKoAx",
        "colab_type": "code",
        "colab": {}
      },
      "source": [
        "!apt-get install openjdk-8-jdk-headless -qq > /dev/null\n",
        "!wget -q https://downloads.apache.org/spark/spark-2.4.5/spark-2.4.5-bin-hadoop2.7.tgz\n",
        "!tar xf spark-2.4.5-bin-hadoop2.7.tgz\n",
        "!pip install -q findspark"
      ],
      "execution_count": 0,
      "outputs": []
    },
    {
      "cell_type": "code",
      "metadata": {
        "id": "AVCFR-ChLGkE",
        "colab_type": "code",
        "colab": {}
      },
      "source": [
        "import os\n",
        "os.environ[\"JAVA_HOME\"] = \"/usr/lib/jvm/java-8-openjdk-amd64\"\n",
        "os.environ[\"SPARK_HOME\"] = \"/content/spark-2.4.5-bin-hadoop2.7\""
      ],
      "execution_count": 0,
      "outputs": []
    },
    {
      "cell_type": "code",
      "metadata": {
        "id": "iPsCgVteLL_h",
        "colab_type": "code",
        "colab": {}
      },
      "source": [
        "import findspark\n",
        "findspark.init()"
      ],
      "execution_count": 0,
      "outputs": []
    },
    {
      "cell_type": "code",
      "metadata": {
        "id": "nQyKMU4SzKsT",
        "colab_type": "code",
        "outputId": "05c14d66-1b79-4bf3-821c-64aefc095c5d",
        "colab": {
          "base_uri": "https://localhost:8080/",
          "height": 258
        }
      },
      "source": [
        "!pip install pyspark"
      ],
      "execution_count": 0,
      "outputs": [
        {
          "output_type": "stream",
          "text": [
            "Collecting pyspark\n",
            "\u001b[?25l  Downloading https://files.pythonhosted.org/packages/9a/5a/271c416c1c2185b6cb0151b29a91fff6fcaed80173c8584ff6d20e46b465/pyspark-2.4.5.tar.gz (217.8MB)\n",
            "\u001b[K     |████████████████████████████████| 217.8MB 56kB/s \n",
            "\u001b[?25hCollecting py4j==0.10.7\n",
            "\u001b[?25l  Downloading https://files.pythonhosted.org/packages/e3/53/c737818eb9a7dc32a7cd4f1396e787bd94200c3997c72c1dbe028587bd76/py4j-0.10.7-py2.py3-none-any.whl (197kB)\n",
            "\u001b[K     |████████████████████████████████| 204kB 40.1MB/s \n",
            "\u001b[?25hBuilding wheels for collected packages: pyspark\n",
            "  Building wheel for pyspark (setup.py) ... \u001b[?25l\u001b[?25hdone\n",
            "  Created wheel for pyspark: filename=pyspark-2.4.5-py2.py3-none-any.whl size=218257927 sha256=5375a3abcea2ea29a8a954e13e83316b3a29dfbc5458cf8197a9c1311eb40fce\n",
            "  Stored in directory: /root/.cache/pip/wheels/bf/db/04/61d66a5939364e756eb1c1be4ec5bdce6e04047fc7929a3c3c\n",
            "Successfully built pyspark\n",
            "Installing collected packages: py4j, pyspark\n",
            "Successfully installed py4j-0.10.7 pyspark-2.4.5\n"
          ],
          "name": "stdout"
        }
      ]
    },
    {
      "cell_type": "code",
      "metadata": {
        "id": "0SFngvPLy_j_",
        "colab_type": "code",
        "colab": {}
      },
      "source": [
        "from pyspark import SparkContext\n",
        "from pyspark.sql import SparkSession\n",
        "from pyspark.ml.feature import PCA\n",
        "from pyspark.ml.linalg import Vectors\n",
        "from pyspark.mllib.regression import LabeledPoint\n",
        "from pyspark.mllib.util import MLUtils\n",
        "import numpy as np\n",
        "from pyspark.ml.feature import StandardScaler\n",
        "import pyspark.sql.functions as f\n",
        "import pyspark.sql.types\n",
        "import pandas as pd\n",
        "from pyspark.sql import Row\n",
        "spark = SparkSession.builder.getOrCreate()\n",
        "sc = SparkContext.getOrCreate()\n",
        "from pyspark.ml.feature import VectorAssembler"
      ],
      "execution_count": 0,
      "outputs": []
    },
    {
      "cell_type": "code",
      "metadata": {
        "id": "QVDSmRUPzdub",
        "colab_type": "code",
        "colab": {}
      },
      "source": [
        "df = pd.read_csv(\"https://raw.githubusercontent.com/venky14/Machine-Learning-with-Iris-Dataset/master/Iris.csv\")\n",
        "df = df.drop(['Species'], axis = 1)\n",
        "spark_df = spark.createDataFrame(df)"
      ],
      "execution_count": 0,
      "outputs": []
    },
    {
      "cell_type": "code",
      "metadata": {
        "id": "-zQFzpSJzjKr",
        "colab_type": "code",
        "outputId": "fc0cbfd5-992e-4594-9a49-bb80c5af73fd",
        "colab": {
          "base_uri": "https://localhost:8080/",
          "height": 289
        }
      },
      "source": [
        "spark_df.show(10)"
      ],
      "execution_count": 0,
      "outputs": [
        {
          "output_type": "stream",
          "text": [
            "+---+-------------+------------+-------------+------------+\n",
            "| Id|SepalLengthCm|SepalWidthCm|PetalLengthCm|PetalWidthCm|\n",
            "+---+-------------+------------+-------------+------------+\n",
            "|  1|          5.1|         3.5|          1.4|         0.2|\n",
            "|  2|          4.9|         3.0|          1.4|         0.2|\n",
            "|  3|          4.7|         3.2|          1.3|         0.2|\n",
            "|  4|          4.6|         3.1|          1.5|         0.2|\n",
            "|  5|          5.0|         3.6|          1.4|         0.2|\n",
            "|  6|          5.4|         3.9|          1.7|         0.4|\n",
            "|  7|          4.6|         3.4|          1.4|         0.3|\n",
            "|  8|          5.0|         3.4|          1.5|         0.2|\n",
            "|  9|          4.4|         2.9|          1.4|         0.2|\n",
            "| 10|          4.9|         3.1|          1.5|         0.1|\n",
            "+---+-------------+------------+-------------+------------+\n",
            "only showing top 10 rows\n",
            "\n"
          ],
          "name": "stdout"
        }
      ]
    },
    {
      "cell_type": "markdown",
      "metadata": {
        "id": "95xGYfELznls",
        "colab_type": "text"
      },
      "source": [
        "Create a single vector column\n",
        "We can use VectorAssembler transformer to combine a given list of columns into a single vector column."
      ]
    },
    {
      "cell_type": "code",
      "metadata": {
        "id": "cZeBh8Svzp_0",
        "colab_type": "code",
        "outputId": "bf7e4872-2075-4b34-934e-8301c66cbcd5",
        "colab": {
          "base_uri": "https://localhost:8080/",
          "height": 34
        }
      },
      "source": [
        "cols = spark_df.drop('Id').columns\n",
        "cols"
      ],
      "execution_count": 0,
      "outputs": [
        {
          "output_type": "execute_result",
          "data": {
            "text/plain": [
              "['SepalLengthCm', 'SepalWidthCm', 'PetalLengthCm', 'PetalWidthCm']"
            ]
          },
          "metadata": {
            "tags": []
          },
          "execution_count": 8
        }
      ]
    },
    {
      "cell_type": "code",
      "metadata": {
        "id": "Jxk-7o9YztfM",
        "colab_type": "code",
        "outputId": "059edf70-8ef5-4078-eabf-78cd8fdd0796",
        "colab": {
          "base_uri": "https://localhost:8080/",
          "height": 204
        }
      },
      "source": [
        "assembler = VectorAssembler(inputCols=cols, outputCol = 'features')\n",
        "output_dat = assembler.transform(spark_df).select('Id', 'features')\n",
        "output_dat.show(5, truncate = False)"
      ],
      "execution_count": 0,
      "outputs": [
        {
          "output_type": "stream",
          "text": [
            "+---+-----------------+\n",
            "|Id |features         |\n",
            "+---+-----------------+\n",
            "|1  |[5.1,3.5,1.4,0.2]|\n",
            "|2  |[4.9,3.0,1.4,0.2]|\n",
            "|3  |[4.7,3.2,1.3,0.2]|\n",
            "|4  |[4.6,3.1,1.5,0.2]|\n",
            "|5  |[5.0,3.6,1.4,0.2]|\n",
            "+---+-----------------+\n",
            "only showing top 5 rows\n",
            "\n"
          ],
          "name": "stdout"
        }
      ]
    },
    {
      "cell_type": "markdown",
      "metadata": {
        "id": "Vkqpbj03zxut",
        "colab_type": "text"
      },
      "source": [
        "In Spark, unlike R and like Python, the PCA decomposition will not scale the input data automatically. There is no parameter that controls whether to center or standardize the data. We have to process our data before applying PCA. Now, let's center our data. We do not need to scale it (withStd=False)."
      ]
    },
    {
      "cell_type": "code",
      "metadata": {
        "id": "Cio630JW0EP3",
        "colab_type": "code",
        "colab": {}
      },
      "source": [
        ""
      ],
      "execution_count": 0,
      "outputs": []
    },
    {
      "cell_type": "code",
      "metadata": {
        "id": "8gaudAOjzzBG",
        "colab_type": "code",
        "outputId": "11526da1-6c07-4456-b61b-55c3eee451be",
        "colab": {
          "base_uri": "https://localhost:8080/",
          "height": 204
        }
      },
      "source": [
        "scaler = StandardScaler(inputCol=\"features\", outputCol=\"scaledFeatures\", withStd=False, withMean=True)\n",
        "\n",
        "# Compute summary statistics by fitting the StandardScaler\n",
        "scalerModel = scaler.fit(output_dat)\n",
        "\n",
        "# Normalize each feature to have unit standard deviation.\n",
        "scaledData = scalerModel.transform(output_dat)\n",
        "scaledData.select(['Id', 'scaledFeatures']).show(5, truncate = False) # sample centered data"
      ],
      "execution_count": 0,
      "outputs": [
        {
          "output_type": "stream",
          "text": [
            "+---+--------------------------------------------------------------------------------+\n",
            "|Id |scaledFeatures                                                                  |\n",
            "+---+--------------------------------------------------------------------------------+\n",
            "|1  |[-0.7433333333333332,0.4460000000000006,-2.358666666666667,-0.998666666666667]  |\n",
            "|2  |[-0.9433333333333325,-0.05399999999999938,-2.358666666666667,-0.998666666666667]|\n",
            "|3  |[-1.1433333333333326,0.1460000000000008,-2.458666666666667,-0.998666666666667]  |\n",
            "|4  |[-1.2433333333333332,0.04600000000000071,-2.258666666666667,-0.998666666666667] |\n",
            "|5  |[-0.8433333333333328,0.5460000000000007,-2.358666666666667,-0.998666666666667]  |\n",
            "+---+--------------------------------------------------------------------------------+\n",
            "only showing top 5 rows\n",
            "\n"
          ],
          "name": "stdout"
        }
      ]
    },
    {
      "cell_type": "code",
      "metadata": {
        "id": "R0SmFMgo0F4K",
        "colab_type": "code",
        "outputId": "da23e0c1-e632-41c1-fb88-a8fd192c378b",
        "colab": {
          "base_uri": "https://localhost:8080/",
          "height": 34
        }
      },
      "source": [
        "scaler.getOutputCol()"
      ],
      "execution_count": 0,
      "outputs": [
        {
          "output_type": "execute_result",
          "data": {
            "text/plain": [
              "'scaledFeatures'"
            ]
          },
          "metadata": {
            "tags": []
          },
          "execution_count": 11
        }
      ]
    },
    {
      "cell_type": "code",
      "metadata": {
        "id": "QqZvzedVz3e1",
        "colab_type": "code",
        "colab": {}
      },
      "source": [
        "pca = PCA(k=4, inputCol = 'scaledFeatures', outputCol=\"pcaFeatures\")\n",
        "\n",
        "model = pca.fit(scaledData)\n",
        "transformed_feature = model.transform(scaledData)"
      ],
      "execution_count": 0,
      "outputs": []
    },
    {
      "cell_type": "code",
      "metadata": {
        "id": "FUA0KLeh0bZ6",
        "colab_type": "code",
        "outputId": "bf856fc3-c20c-488e-c8d0-6e3186b1cbb7",
        "colab": {
          "base_uri": "https://localhost:8080/",
          "height": 34
        }
      },
      "source": [
        "np.round(100.00*model.explainedVariance.toArray(),4)"
      ],
      "execution_count": 0,
      "outputs": [
        {
          "output_type": "execute_result",
          "data": {
            "text/plain": [
              "array([92.4616,  5.3016,  1.7185,  0.5183])"
            ]
          },
          "metadata": {
            "tags": []
          },
          "execution_count": 16
        }
      ]
    },
    {
      "cell_type": "code",
      "metadata": {
        "id": "3y1hfaci0fUa",
        "colab_type": "code",
        "outputId": "35b41e29-af70-476f-e3c0-38d831710cde",
        "colab": {
          "base_uri": "https://localhost:8080/",
          "height": 85
        }
      },
      "source": [
        "pcs = np.round(model.pc.toArray(),4)\n",
        "pcs"
      ],
      "execution_count": 0,
      "outputs": [
        {
          "output_type": "execute_result",
          "data": {
            "text/plain": [
              "array([[-0.3616, -0.6565,  0.581 ,  0.3173],\n",
              "       [ 0.0823, -0.7297, -0.5964, -0.3241],\n",
              "       [-0.8566,  0.1758, -0.0725, -0.4797],\n",
              "       [-0.3588,  0.0747, -0.5491,  0.7511]])"
            ]
          },
          "metadata": {
            "tags": []
          },
          "execution_count": 17
        }
      ]
    },
    {
      "cell_type": "code",
      "metadata": {
        "id": "bmlX2Hfw0koT",
        "colab_type": "code",
        "outputId": "f8df0a7b-cdd7-4d91-be1d-3c2ee923b005",
        "colab": {
          "base_uri": "https://localhost:8080/",
          "height": 173
        }
      },
      "source": [
        "pcs = np.round(model.pc.toArray(),4)\n",
        "df_pc = pd.DataFrame(pcs, columns = ['PC1','PC2','PC3','PC4'], index = cols)\n",
        "df_pc"
      ],
      "execution_count": 0,
      "outputs": [
        {
          "output_type": "execute_result",
          "data": {
            "text/html": [
              "<div>\n",
              "<style scoped>\n",
              "    .dataframe tbody tr th:only-of-type {\n",
              "        vertical-align: middle;\n",
              "    }\n",
              "\n",
              "    .dataframe tbody tr th {\n",
              "        vertical-align: top;\n",
              "    }\n",
              "\n",
              "    .dataframe thead th {\n",
              "        text-align: right;\n",
              "    }\n",
              "</style>\n",
              "<table border=\"1\" class=\"dataframe\">\n",
              "  <thead>\n",
              "    <tr style=\"text-align: right;\">\n",
              "      <th></th>\n",
              "      <th>PC1</th>\n",
              "      <th>PC2</th>\n",
              "      <th>PC3</th>\n",
              "      <th>PC4</th>\n",
              "    </tr>\n",
              "  </thead>\n",
              "  <tbody>\n",
              "    <tr>\n",
              "      <th>SepalLengthCm</th>\n",
              "      <td>-0.3616</td>\n",
              "      <td>-0.6565</td>\n",
              "      <td>0.5810</td>\n",
              "      <td>0.3173</td>\n",
              "    </tr>\n",
              "    <tr>\n",
              "      <th>SepalWidthCm</th>\n",
              "      <td>0.0823</td>\n",
              "      <td>-0.7297</td>\n",
              "      <td>-0.5964</td>\n",
              "      <td>-0.3241</td>\n",
              "    </tr>\n",
              "    <tr>\n",
              "      <th>PetalLengthCm</th>\n",
              "      <td>-0.8566</td>\n",
              "      <td>0.1758</td>\n",
              "      <td>-0.0725</td>\n",
              "      <td>-0.4797</td>\n",
              "    </tr>\n",
              "    <tr>\n",
              "      <th>PetalWidthCm</th>\n",
              "      <td>-0.3588</td>\n",
              "      <td>0.0747</td>\n",
              "      <td>-0.5491</td>\n",
              "      <td>0.7511</td>\n",
              "    </tr>\n",
              "  </tbody>\n",
              "</table>\n",
              "</div>"
            ],
            "text/plain": [
              "                  PC1     PC2     PC3     PC4\n",
              "SepalLengthCm -0.3616 -0.6565  0.5810  0.3173\n",
              "SepalWidthCm   0.0823 -0.7297 -0.5964 -0.3241\n",
              "PetalLengthCm -0.8566  0.1758 -0.0725 -0.4797\n",
              "PetalWidthCm  -0.3588  0.0747 -0.5491  0.7511"
            ]
          },
          "metadata": {
            "tags": []
          },
          "execution_count": 18
        }
      ]
    },
    {
      "cell_type": "code",
      "metadata": {
        "id": "gqp9KjvG0sbM",
        "colab_type": "code",
        "outputId": "00c74fd6-3c85-41b6-c9d1-f980ef1f4bc7",
        "colab": {
          "base_uri": "https://localhost:8080/",
          "height": 102
        }
      },
      "source": [
        "df_pc['PC1']"
      ],
      "execution_count": 0,
      "outputs": [
        {
          "output_type": "execute_result",
          "data": {
            "text/plain": [
              "SepalLengthCm   -0.3616\n",
              "SepalWidthCm     0.0823\n",
              "PetalLengthCm   -0.8566\n",
              "PetalWidthCm    -0.3588\n",
              "Name: PC1, dtype: float64"
            ]
          },
          "metadata": {
            "tags": []
          },
          "execution_count": 19
        }
      ]
    },
    {
      "cell_type": "code",
      "metadata": {
        "id": "C2WRcn4E0vCE",
        "colab_type": "code",
        "outputId": "b5adf825-2339-4f59-ff1b-8e081b64b75b",
        "colab": {
          "base_uri": "https://localhost:8080/",
          "height": 289
        }
      },
      "source": [
        "transformed_feature.select('pcaFeatures').show(10, truncate = False)"
      ],
      "execution_count": 0,
      "outputs": [
        {
          "output_type": "stream",
          "text": [
            "+-----------------------------------------------------------------------------------+\n",
            "|pcaFeatures                                                                        |\n",
            "+-----------------------------------------------------------------------------------+\n",
            "|[2.6842071251039488,-0.3266073147643894,0.021511837001963352,0.0010061572415417386]|\n",
            "|[2.7153906156341314,0.1695568475560246,0.2035214250054912,0.09960242401681774]     |\n",
            "|[2.8898195396179167,0.1373456096050262,-0.024709240998956328,0.019304542832509375] |\n",
            "|[2.7464371973087354,0.31112431575199007,-0.03767197528530031,-0.0759552741085362]  |\n",
            "|[2.7285929818313153,-0.33392456356845623,-0.09622969977460838,-0.06312873271710939]|\n",
            "|[2.2798973610095983,-0.7477827132251348,-0.17432561901640187,-0.027146803697900457]|\n",
            "|[2.8208906821806305,0.08210451102467928,-0.26425108519069535,-0.050099625062850706]|\n",
            "|[2.6264819933238193,-0.17040534896029133,0.015801510264315866,-0.0462817609665096] |\n",
            "|[2.887958565335635,0.5707980263315899,-0.027335406114506577,-0.026615414325656728] |\n",
            "|[2.6738446867191215,0.10669170375273689,0.19153329973564548,-0.05589096599605503]  |\n",
            "+-----------------------------------------------------------------------------------+\n",
            "only showing top 10 rows\n",
            "\n"
          ],
          "name": "stdout"
        }
      ]
    },
    {
      "cell_type": "markdown",
      "metadata": {
        "id": "-JyBgGDR00QN",
        "colab_type": "text"
      },
      "source": [
        "We can round the PCAs above to compare the results with those from R and Python"
      ]
    },
    {
      "cell_type": "code",
      "metadata": {
        "id": "YuDn1vdF0zr_",
        "colab_type": "code",
        "outputId": "00848954-19e6-4053-d356-c28f32ba22cb",
        "colab": {
          "base_uri": "https://localhost:8080/",
          "height": 459
        }
      },
      "source": [
        "transformed_feature.select('pcaFeatures').rdd.map(lambda x: Row(pcaFeatures = str([x for x in list(np.round(x[0].\\\n",
        "                                                    toArray(),4))]))).toDF().show(truncate = False)"
      ],
      "execution_count": 0,
      "outputs": [
        {
          "output_type": "stream",
          "text": [
            "+-----------------------------------+\n",
            "|pcaFeatures                        |\n",
            "+-----------------------------------+\n",
            "|[2.6842, -0.3266, 0.0215, 0.001]   |\n",
            "|[2.7154, 0.1696, 0.2035, 0.0996]   |\n",
            "|[2.8898, 0.1373, -0.0247, 0.0193]  |\n",
            "|[2.7464, 0.3111, -0.0377, -0.076]  |\n",
            "|[2.7286, -0.3339, -0.0962, -0.0631]|\n",
            "|[2.2799, -0.7478, -0.1743, -0.0271]|\n",
            "|[2.8209, 0.0821, -0.2643, -0.0501] |\n",
            "|[2.6265, -0.1704, 0.0158, -0.0463] |\n",
            "|[2.888, 0.5708, -0.0273, -0.0266]  |\n",
            "|[2.6738, 0.1067, 0.1915, -0.0559]  |\n",
            "|[2.5065, -0.6519, 0.0693, -0.0166] |\n",
            "|[2.6131, -0.0215, -0.1077, -0.1577]|\n",
            "|[2.7874, 0.2277, 0.2003, -0.0072]  |\n",
            "|[3.2252, 0.5033, -0.0684, -0.0219] |\n",
            "|[2.6435, -1.1862, 0.1445, 0.157]   |\n",
            "|[2.3839, -1.3448, -0.2837, 0.0019] |\n",
            "|[2.6225, -0.8181, -0.1453, 0.1647] |\n",
            "|[2.6483, -0.3191, -0.0334, 0.0761] |\n",
            "|[2.1991, -0.8792, 0.1145, 0.0253]  |\n",
            "|[2.5873, -0.5205, -0.2196, -0.0691]|\n",
            "+-----------------------------------+\n",
            "only showing top 20 rows\n",
            "\n"
          ],
          "name": "stdout"
        }
      ]
    },
    {
      "cell_type": "code",
      "metadata": {
        "id": "kjrBN9TVPk23",
        "colab_type": "code",
        "outputId": "ae5a8cc5-accb-4d96-c17a-79979b987dfc",
        "colab": {
          "base_uri": "https://localhost:8080/",
          "height": 34
        }
      },
      "source": [
        "transformed_feature .count()"
      ],
      "execution_count": 0,
      "outputs": [
        {
          "output_type": "execute_result",
          "data": {
            "text/plain": [
              "150"
            ]
          },
          "metadata": {
            "tags": []
          },
          "execution_count": 23
        }
      ]
    },
    {
      "cell_type": "markdown",
      "metadata": {
        "id": "EKQdpwWiQ1zL",
        "colab_type": "text"
      },
      "source": [
        "Cool, this works as expected. Now we obtain a sample and read each of the three columns into a python list"
      ]
    },
    {
      "cell_type": "code",
      "metadata": {
        "id": "DXYE3uBtQqXw",
        "colab_type": "code",
        "colab": {}
      },
      "source": [
        "rdd = transformed_feature.rdd.sample(False,0.8)"
      ],
      "execution_count": 0,
      "outputs": []
    },
    {
      "cell_type": "code",
      "metadata": {
        "id": "eUx9hBsYQ2x4",
        "colab_type": "code",
        "colab": {}
      },
      "source": [
        "x = rdd.map(lambda a : a.pcaFeatures).map(lambda a : a[0]).collect()"
      ],
      "execution_count": 0,
      "outputs": []
    },
    {
      "cell_type": "code",
      "metadata": {
        "id": "YyrlLEJFRFYJ",
        "colab_type": "code",
        "colab": {}
      },
      "source": [
        "y = rdd.map(lambda a : a.pcaFeatures).map(lambda a : a[1]).collect()"
      ],
      "execution_count": 0,
      "outputs": []
    },
    {
      "cell_type": "code",
      "metadata": {
        "id": "Lcnzt_NKRIcR",
        "colab_type": "code",
        "colab": {}
      },
      "source": [
        "z = rdd.map(lambda a : a.pcaFeatures).map(lambda a : a[2]).collect()"
      ],
      "execution_count": 0,
      "outputs": []
    },
    {
      "cell_type": "markdown",
      "metadata": {
        "id": "fJQvUQS1ROO6",
        "colab_type": "text"
      },
      "source": [
        "Finally we plot the three lists and name each of them as dimension 1-3 in the plot"
      ]
    },
    {
      "cell_type": "code",
      "metadata": {
        "id": "SNYiUfOJRLdW",
        "colab_type": "code",
        "outputId": "77ea8069-5bc7-41ff-b191-9314f6c48d0b",
        "colab": {
          "base_uri": "https://localhost:8080/",
          "height": 248
        }
      },
      "source": [
        "%matplotlib inline\n",
        "import matplotlib.pyplot as plt\n",
        "from mpl_toolkits.mplot3d import Axes3D\n",
        "\n",
        "\n",
        "fig = plt.figure()\n",
        "ax = fig.add_subplot(111, projection='3d')\n",
        "\n",
        "\n",
        "\n",
        "\n",
        "ax.scatter(x,y,z, c='r', marker='o')\n",
        "\n",
        "ax.set_xlabel('dimension1')\n",
        "ax.set_ylabel('dimension2')\n",
        "ax.set_zlabel('dimension3')\n",
        "\n",
        "plt.show()"
      ],
      "execution_count": 0,
      "outputs": [
        {
          "output_type": "display_data",
          "data": {
            "image/png": "[encoded data removed]",
            "text/plain": [
              "<Figure size 432x288 with 1 Axes>"
            ]
          },
          "metadata": {
            "tags": [],
            "needs_background": "light"
          }
        }
      ]
    },
    {
      "cell_type": "markdown",
      "metadata": {
        "id": "IKLeoPuFUinp",
        "colab_type": "text"
      },
      "source": [
        "Practice second example"
      ]
    },
    {
      "cell_type": "code",
      "metadata": {
        "id": "BU5h-DbsUnyO",
        "colab_type": "code",
        "outputId": "a7fb3374-af20-4ebb-b25c-17a907d3491c",
        "colab": {
          "base_uri": "https://localhost:8080/",
          "height": 238
        }
      },
      "source": [
        "df = pd.read_csv('https://courses.edx.org/asset-v1:MITx+15.071x_2a+2T2015+type@asset+block/climate_change.csv')\n",
        "spark_df = spark.createDataFrame(df)\n",
        "spark_df.printSchema()"
      ],
      "execution_count": 0,
      "outputs": [
        {
          "output_type": "stream",
          "text": [
            "root\n",
            " |-- Year: long (nullable = true)\n",
            " |-- Month: long (nullable = true)\n",
            " |-- MEI: double (nullable = true)\n",
            " |-- CO2: double (nullable = true)\n",
            " |-- CH4: double (nullable = true)\n",
            " |-- N2O: double (nullable = true)\n",
            " |-- CFC-11: double (nullable = true)\n",
            " |-- CFC-12: double (nullable = true)\n",
            " |-- TSI: double (nullable = true)\n",
            " |-- Aerosols: double (nullable = true)\n",
            " |-- Temp: double (nullable = true)\n",
            "\n"
          ],
          "name": "stdout"
        }
      ]
    },
    {
      "cell_type": "code",
      "metadata": {
        "id": "ug4ZhFRYUp9A",
        "colab_type": "code",
        "outputId": "99b47232-fd08-4e75-fb80-9c99d7d1a957",
        "colab": {
          "base_uri": "https://localhost:8080/",
          "height": 224
        }
      },
      "source": [
        "spark_df.show(5)"
      ],
      "execution_count": 0,
      "outputs": [
        {
          "output_type": "stream",
          "text": [
            "+----+-----+------------------+------+-------+-------+------------------+------------------+---------+--------+-------------------+\n",
            "|Year|Month|               MEI|   CO2|    CH4|    N2O|            CFC-11|            CFC-12|      TSI|Aerosols|               Temp|\n",
            "+----+-----+------------------+------+-------+-------+------------------+------------------+---------+--------+-------------------+\n",
            "|1983|    5|             2.556|345.96|1638.59|303.677|           191.324|350.11300000000006|1366.1024|  0.0863|              0.109|\n",
            "|1983|    6|             2.167|345.52|1633.71|303.746|192.05700000000002|           351.848|1366.1208|  0.0794|0.11800000000000001|\n",
            "|1983|    7|1.7409999999999999|344.15|1633.22|303.795|192.81799999999998|           353.725| 1366.285|  0.0731|0.13699999999999998|\n",
            "|1983|    8|              1.13|342.25|1631.35|303.839|           193.602|355.63300000000004|1366.4202|  0.0673|0.17600000000000002|\n",
            "|1983|    9|             0.428|340.17| 1648.4|303.901|           194.392|           357.465|1366.2335|  0.0619|              0.149|\n",
            "+----+-----+------------------+------+-------+-------+------------------+------------------+---------+--------+-------------------+\n",
            "only showing top 5 rows\n",
            "\n"
          ],
          "name": "stdout"
        }
      ]
    },
    {
      "cell_type": "markdown",
      "metadata": {
        "id": "BLEvoU-DU21O",
        "colab_type": "text"
      },
      "source": [
        "We create a single vector column following the same steps we did in the first case above. But now we will center and standardize the data before applying PCA. We do not need to include temperature in the features vector. We want to perform PCA over the other variables."
      ]
    },
    {
      "cell_type": "code",
      "metadata": {
        "id": "tMwK1hI9U4FZ",
        "colab_type": "code",
        "outputId": "d9e5689c-c517-49a3-a12b-3e805e339d8c",
        "colab": {
          "base_uri": "https://localhost:8080/",
          "height": 187
        }
      },
      "source": [
        "cols = spark_df.drop('Temp').columns\n",
        "cols"
      ],
      "execution_count": 0,
      "outputs": [
        {
          "output_type": "execute_result",
          "data": {
            "text/plain": [
              "['Year',\n",
              " 'Month',\n",
              " 'MEI',\n",
              " 'CO2',\n",
              " 'CH4',\n",
              " 'N2O',\n",
              " 'CFC-11',\n",
              " 'CFC-12',\n",
              " 'TSI',\n",
              " 'Aerosols']"
            ]
          },
          "metadata": {
            "tags": []
          },
          "execution_count": 32
        }
      ]
    },
    {
      "cell_type": "code",
      "metadata": {
        "id": "68WnsN8rU_ji",
        "colab_type": "code",
        "outputId": "9ec52494-51e0-444f-816e-9cd129bbb73c",
        "colab": {
          "base_uri": "https://localhost:8080/",
          "height": 224
        }
      },
      "source": [
        "assembler = VectorAssembler(inputCols=cols, outputCol = 'features')\n",
        "output_dat = assembler.transform(spark_df).select('Temp', 'features')\n",
        "output_dat.show(5, truncate = False)"
      ],
      "execution_count": 0,
      "outputs": [
        {
          "output_type": "stream",
          "text": [
            "+-------------------+-------------------------------------------------------------------------------------------------+\n",
            "|Temp               |features                                                                                         |\n",
            "+-------------------+-------------------------------------------------------------------------------------------------+\n",
            "|0.109              |[1983.0,5.0,2.556,345.96,1638.59,303.677,191.324,350.11300000000006,1366.1024,0.0863]            |\n",
            "|0.11800000000000001|[1983.0,6.0,2.167,345.52,1633.71,303.746,192.05700000000002,351.848,1366.1208,0.0794]            |\n",
            "|0.13699999999999998|[1983.0,7.0,1.7409999999999999,344.15,1633.22,303.795,192.81799999999998,353.725,1366.285,0.0731]|\n",
            "|0.17600000000000002|[1983.0,8.0,1.13,342.25,1631.35,303.839,193.602,355.63300000000004,1366.4202,0.0673]             |\n",
            "|0.149              |[1983.0,9.0,0.428,340.17,1648.4,303.901,194.392,357.465,1366.2335,0.0619]                        |\n",
            "+-------------------+-------------------------------------------------------------------------------------------------+\n",
            "only showing top 5 rows\n",
            "\n"
          ],
          "name": "stdout"
        }
      ]
    },
    {
      "cell_type": "markdown",
      "metadata": {
        "id": "764IhJW4VOOv",
        "colab_type": "text"
      },
      "source": [
        "Again, since the variables have different columns, we standardize the data by passing withStd=True."
      ]
    },
    {
      "cell_type": "code",
      "metadata": {
        "id": "iMEmsfLjVIv_",
        "colab_type": "code",
        "outputId": "064b254c-0758-489f-91f4-a38269a12669",
        "colab": {
          "base_uri": "https://localhost:8080/",
          "height": 224
        }
      },
      "source": [
        "scaler = StandardScaler(inputCol=\"features\", outputCol=\"scaledFeatures\", withStd=True, withMean=True)\n",
        "\n",
        "# Compute summary statistics by fitting the StandardScaler\n",
        "scalerModel = scaler.fit(output_dat)\n",
        "\n",
        "# Normalize each feature to have unit standard deviation.\n",
        "scaledData = scalerModel.transform(output_dat)\n",
        "scaledData.select(['Temp', 'scaledFeatures']).show(5, truncate = False)"
      ],
      "execution_count": 0,
      "outputs": [
        {
          "output_type": "stream",
          "text": [
            "+-------------------+-----------------------------------------------------------------------------------------------------------------------------------------------------------------------------------------------------+\n",
            "|Temp               |scaledFeatures                                                                                                                                                                                       |\n",
            "+-------------------+-----------------------------------------------------------------------------------------------------------------------------------------------------------------------------------------------------+\n",
            "|0.109              |[-1.7057795516993026,-0.4502035379206729,2.4313891926587416,-1.3652710347365973,-2.415427998374155,-1.6678691628022453,-2.9977124436890437,-2.5491905227480895,0.07917956200329643,2.397379982283791]|\n",
            "|0.11800000000000001|[-1.7057795516993026,-0.1601142289676031,2.0166409848574762,-1.4000615507473042,-2.521395906315118,-1.6546637515752127,-2.961482320340128,-2.519187184596053,0.125224507699849,2.1598549501929045]   |\n",
            "|0.13699999999999998|[-1.7057795516993026,0.12997507998546673,1.5624437187306413,-1.5083865665079157,-2.5320361265796825,-1.645285995776293,-2.9238682359355934,-2.486728241822927,0.5361255991895665,1.942984268718617]  |\n",
            "|0.17600000000000002|[-1.7057795516993026,0.4200643889385366,0.911001160975955,-1.658618340190513,-2.5726426814668995,-1.6368651538344157,-2.885117326378226,-2.4537332163508303,0.8744558523523546,1.7433255460914951]   |\n",
            "|0.149              |[-1.7057795516993026,0.7101536978916064,0.16253524355567725,-1.823082597695673,-2.20240644573053,-1.6249994220072177,-2.846069853737512,-2.422052458140726,0.40724980009265593,1.5574363905421058]   |\n",
            "+-------------------+-----------------------------------------------------------------------------------------------------------------------------------------------------------------------------------------------------+\n",
            "only showing top 5 rows\n",
            "\n"
          ],
          "name": "stdout"
        }
      ]
    },
    {
      "cell_type": "code",
      "metadata": {
        "id": "UB74oTpgVcPo",
        "colab_type": "code",
        "colab": {}
      },
      "source": [
        "pca = PCA(k=10, inputCol = scaler.getOutputCol(), outputCol=\"pcaFeatures\")\n",
        "\n",
        "model = pca.fit(scaledData)\n",
        "transformed_feature = model.transform(scaledData)"
      ],
      "execution_count": 0,
      "outputs": []
    },
    {
      "cell_type": "markdown",
      "metadata": {
        "id": "3kmBvUhXVuuu",
        "colab_type": "text"
      },
      "source": [
        "The variance explained are the same with R, scikit-learn and Spark"
      ]
    },
    {
      "cell_type": "code",
      "metadata": {
        "id": "f5mtPI6sVhyX",
        "colab_type": "code",
        "outputId": "a3deeb97-0c71-402a-c943-5723bcd630d7",
        "colab": {
          "base_uri": "https://localhost:8080/",
          "height": 51
        }
      },
      "source": [
        "np.round(100.00*model.explainedVariance.toArray(),4)"
      ],
      "execution_count": 0,
      "outputs": [
        {
          "output_type": "execute_result",
          "data": {
            "text/plain": [
              "array([5.19871e+01, 1.46612e+01, 1.08331e+01, 1.01167e+01, 6.23870e+00,\n",
              "       5.47980e+00, 4.62300e-01, 1.48900e-01, 6.39000e-02, 8.40000e-03])"
            ]
          },
          "metadata": {
            "tags": []
          },
          "execution_count": 36
        }
      ]
    },
    {
      "cell_type": "markdown",
      "metadata": {
        "id": "78L88sWCV7ba",
        "colab_type": "text"
      },
      "source": [
        "The eigenvectors are the same with R, scikit-learn and Spark"
      ]
    },
    {
      "cell_type": "code",
      "metadata": {
        "id": "aEwyX-xLV834",
        "colab_type": "code",
        "outputId": "446d7a9d-1c76-4e3b-83ed-3a71184b87c6",
        "colab": {
          "base_uri": "https://localhost:8080/",
          "height": 357
        }
      },
      "source": [
        "pcs = np.round(model.pc.toArray(),4)\n",
        "pcs"
      ],
      "execution_count": 0,
      "outputs": [
        {
          "output_type": "execute_result",
          "data": {
            "text/plain": [
              "array([[-4.237e-01,  1.014e-01, -1.270e-01, -2.120e-02,  2.036e-01,\n",
              "         9.160e-02,  1.556e-01, -3.187e-01, -4.580e-02,  7.848e-01],\n",
              "       [ 1.100e-02,  9.100e-03, -6.960e-02,  9.886e-01,  3.190e-02,\n",
              "         9.060e-02,  5.400e-02,  7.000e-02, -1.810e-02,  1.800e-02],\n",
              "       [ 6.970e-02, -5.125e-01, -5.834e-01, -8.220e-02, -2.100e-01,\n",
              "         5.833e-01, -2.860e-02,  1.000e-03,  9.900e-03,  3.000e-04],\n",
              "       [-4.128e-01,  1.341e-01, -1.264e-01, -9.710e-02,  2.475e-01,\n",
              "         1.322e-01,  3.007e-01,  7.632e-01, -1.558e-01, -1.017e-01],\n",
              "       [-4.262e-01, -9.200e-02, -1.070e-02,  4.920e-02, -2.820e-02,\n",
              "        -8.700e-02, -8.778e-01,  1.638e-01, -7.700e-03,  3.890e-02],\n",
              "       [-4.170e-01,  1.201e-01, -1.153e-01,  1.400e-02,  2.715e-01,\n",
              "         1.342e-01,  7.960e-02, -3.456e-01,  6.030e-01, -4.660e-01],\n",
              "       [-2.862e-01, -4.596e-01,  1.380e-01,  4.660e-02, -4.918e-01,\n",
              "        -3.956e-01,  2.781e-01,  1.735e-01,  4.000e-01,  1.409e-01],\n",
              "       [-4.192e-01, -1.951e-01,  9.300e-03,  3.570e-02, -1.428e-01,\n",
              "        -1.381e-01,  1.653e-01, -3.669e-01, -6.702e-01, -3.664e-01],\n",
              "       [-5.910e-02, -3.811e-01,  7.480e-01,  3.300e-03,  2.102e-01,\n",
              "         4.968e-01,  5.900e-03,  5.300e-03, -4.600e-03,  2.660e-02],\n",
              "       [ 1.687e-01, -5.400e-01, -1.751e-01,  6.500e-03,  6.865e-01,\n",
              "        -4.215e-01, -1.500e-03,  6.300e-03, -1.660e-02,  5.700e-03]])"
            ]
          },
          "metadata": {
            "tags": []
          },
          "execution_count": 37
        }
      ]
    },
    {
      "cell_type": "code",
      "metadata": {
        "id": "tBOKqka-WISx",
        "colab_type": "code",
        "outputId": "32cccc87-380d-4d3d-9eb2-2031627b9e4e",
        "colab": {
          "base_uri": "https://localhost:8080/",
          "height": 34
        }
      },
      "source": [
        "cols[:-1]"
      ],
      "execution_count": 0,
      "outputs": [
        {
          "output_type": "execute_result",
          "data": {
            "text/plain": [
              "['Year', 'Month', 'MEI', 'CO2', 'CH4', 'N2O', 'CFC-11', 'CFC-12', 'TSI']"
            ]
          },
          "metadata": {
            "tags": []
          },
          "execution_count": 38
        }
      ]
    },
    {
      "cell_type": "code",
      "metadata": {
        "id": "pAaNT4reWS5a",
        "colab_type": "code",
        "outputId": "a2c27d79-7553-485a-c0ff-ac4a762371d3",
        "colab": {
          "base_uri": "https://localhost:8080/",
          "height": 359
        }
      },
      "source": [
        "pcs = np.round(model.pc.toArray(),4)\n",
        "df_pc = pd.DataFrame(pcs, columns = ['PC'+str(i) for i in range(1, 11)], index = cols)\n",
        "df_pc"
      ],
      "execution_count": 0,
      "outputs": [
        {
          "output_type": "execute_result",
          "data": {
            "text/html": [
              "<div>\n",
              "<style scoped>\n",
              "    .dataframe tbody tr th:only-of-type {\n",
              "        vertical-align: middle;\n",
              "    }\n",
              "\n",
              "    .dataframe tbody tr th {\n",
              "        vertical-align: top;\n",
              "    }\n",
              "\n",
              "    .dataframe thead th {\n",
              "        text-align: right;\n",
              "    }\n",
              "</style>\n",
              "<table border=\"1\" class=\"dataframe\">\n",
              "  <thead>\n",
              "    <tr style=\"text-align: right;\">\n",
              "      <th></th>\n",
              "      <th>PC1</th>\n",
              "      <th>PC2</th>\n",
              "      <th>PC3</th>\n",
              "      <th>PC4</th>\n",
              "      <th>PC5</th>\n",
              "      <th>PC6</th>\n",
              "      <th>PC7</th>\n",
              "      <th>PC8</th>\n",
              "      <th>PC9</th>\n",
              "      <th>PC10</th>\n",
              "    </tr>\n",
              "  </thead>\n",
              "  <tbody>\n",
              "    <tr>\n",
              "      <th>Year</th>\n",
              "      <td>-0.4237</td>\n",
              "      <td>0.1014</td>\n",
              "      <td>-0.1270</td>\n",
              "      <td>-0.0212</td>\n",
              "      <td>0.2036</td>\n",
              "      <td>0.0916</td>\n",
              "      <td>0.1556</td>\n",
              "      <td>-0.3187</td>\n",
              "      <td>-0.0458</td>\n",
              "      <td>0.7848</td>\n",
              "    </tr>\n",
              "    <tr>\n",
              "      <th>Month</th>\n",
              "      <td>0.0110</td>\n",
              "      <td>0.0091</td>\n",
              "      <td>-0.0696</td>\n",
              "      <td>0.9886</td>\n",
              "      <td>0.0319</td>\n",
              "      <td>0.0906</td>\n",
              "      <td>0.0540</td>\n",
              "      <td>0.0700</td>\n",
              "      <td>-0.0181</td>\n",
              "      <td>0.0180</td>\n",
              "    </tr>\n",
              "    <tr>\n",
              "      <th>MEI</th>\n",
              "      <td>0.0697</td>\n",
              "      <td>-0.5125</td>\n",
              "      <td>-0.5834</td>\n",
              "      <td>-0.0822</td>\n",
              "      <td>-0.2100</td>\n",
              "      <td>0.5833</td>\n",
              "      <td>-0.0286</td>\n",
              "      <td>0.0010</td>\n",
              "      <td>0.0099</td>\n",
              "      <td>0.0003</td>\n",
              "    </tr>\n",
              "    <tr>\n",
              "      <th>CO2</th>\n",
              "      <td>-0.4128</td>\n",
              "      <td>0.1341</td>\n",
              "      <td>-0.1264</td>\n",
              "      <td>-0.0971</td>\n",
              "      <td>0.2475</td>\n",
              "      <td>0.1322</td>\n",
              "      <td>0.3007</td>\n",
              "      <td>0.7632</td>\n",
              "      <td>-0.1558</td>\n",
              "      <td>-0.1017</td>\n",
              "    </tr>\n",
              "    <tr>\n",
              "      <th>CH4</th>\n",
              "      <td>-0.4262</td>\n",
              "      <td>-0.0920</td>\n",
              "      <td>-0.0107</td>\n",
              "      <td>0.0492</td>\n",
              "      <td>-0.0282</td>\n",
              "      <td>-0.0870</td>\n",
              "      <td>-0.8778</td>\n",
              "      <td>0.1638</td>\n",
              "      <td>-0.0077</td>\n",
              "      <td>0.0389</td>\n",
              "    </tr>\n",
              "    <tr>\n",
              "      <th>N2O</th>\n",
              "      <td>-0.4170</td>\n",
              "      <td>0.1201</td>\n",
              "      <td>-0.1153</td>\n",
              "      <td>0.0140</td>\n",
              "      <td>0.2715</td>\n",
              "      <td>0.1342</td>\n",
              "      <td>0.0796</td>\n",
              "      <td>-0.3456</td>\n",
              "      <td>0.6030</td>\n",
              "      <td>-0.4660</td>\n",
              "    </tr>\n",
              "    <tr>\n",
              "      <th>CFC-11</th>\n",
              "      <td>-0.2862</td>\n",
              "      <td>-0.4596</td>\n",
              "      <td>0.1380</td>\n",
              "      <td>0.0466</td>\n",
              "      <td>-0.4918</td>\n",
              "      <td>-0.3956</td>\n",
              "      <td>0.2781</td>\n",
              "      <td>0.1735</td>\n",
              "      <td>0.4000</td>\n",
              "      <td>0.1409</td>\n",
              "    </tr>\n",
              "    <tr>\n",
              "      <th>CFC-12</th>\n",
              "      <td>-0.4192</td>\n",
              "      <td>-0.1951</td>\n",
              "      <td>0.0093</td>\n",
              "      <td>0.0357</td>\n",
              "      <td>-0.1428</td>\n",
              "      <td>-0.1381</td>\n",
              "      <td>0.1653</td>\n",
              "      <td>-0.3669</td>\n",
              "      <td>-0.6702</td>\n",
              "      <td>-0.3664</td>\n",
              "    </tr>\n",
              "    <tr>\n",
              "      <th>TSI</th>\n",
              "      <td>-0.0591</td>\n",
              "      <td>-0.3811</td>\n",
              "      <td>0.7480</td>\n",
              "      <td>0.0033</td>\n",
              "      <td>0.2102</td>\n",
              "      <td>0.4968</td>\n",
              "      <td>0.0059</td>\n",
              "      <td>0.0053</td>\n",
              "      <td>-0.0046</td>\n",
              "      <td>0.0266</td>\n",
              "    </tr>\n",
              "    <tr>\n",
              "      <th>Aerosols</th>\n",
              "      <td>0.1687</td>\n",
              "      <td>-0.5400</td>\n",
              "      <td>-0.1751</td>\n",
              "      <td>0.0065</td>\n",
              "      <td>0.6865</td>\n",
              "      <td>-0.4215</td>\n",
              "      <td>-0.0015</td>\n",
              "      <td>0.0063</td>\n",
              "      <td>-0.0166</td>\n",
              "      <td>0.0057</td>\n",
              "    </tr>\n",
              "  </tbody>\n",
              "</table>\n",
              "</div>"
            ],
            "text/plain": [
              "             PC1     PC2     PC3     PC4  ...     PC7     PC8     PC9    PC10\n",
              "Year     -0.4237  0.1014 -0.1270 -0.0212  ...  0.1556 -0.3187 -0.0458  0.7848\n",
              "Month     0.0110  0.0091 -0.0696  0.9886  ...  0.0540  0.0700 -0.0181  0.0180\n",
              "MEI       0.0697 -0.5125 -0.5834 -0.0822  ... -0.0286  0.0010  0.0099  0.0003\n",
              "CO2      -0.4128  0.1341 -0.1264 -0.0971  ...  0.3007  0.7632 -0.1558 -0.1017\n",
              "CH4      -0.4262 -0.0920 -0.0107  0.0492  ... -0.8778  0.1638 -0.0077  0.0389\n",
              "N2O      -0.4170  0.1201 -0.1153  0.0140  ...  0.0796 -0.3456  0.6030 -0.4660\n",
              "CFC-11   -0.2862 -0.4596  0.1380  0.0466  ...  0.2781  0.1735  0.4000  0.1409\n",
              "CFC-12   -0.4192 -0.1951  0.0093  0.0357  ...  0.1653 -0.3669 -0.6702 -0.3664\n",
              "TSI      -0.0591 -0.3811  0.7480  0.0033  ...  0.0059  0.0053 -0.0046  0.0266\n",
              "Aerosols  0.1687 -0.5400 -0.1751  0.0065  ... -0.0015  0.0063 -0.0166  0.0057\n",
              "\n",
              "[10 rows x 10 columns]"
            ]
          },
          "metadata": {
            "tags": []
          },
          "execution_count": 39
        }
      ]
    },
    {
      "cell_type": "code",
      "metadata": {
        "id": "EiyPcbikWUfK",
        "colab_type": "code",
        "outputId": "b14fc16b-ed3d-4584-dfff-7fd66f8d6643",
        "colab": {
          "base_uri": "https://localhost:8080/",
          "height": 204
        }
      },
      "source": [
        "df_pc['PC1']"
      ],
      "execution_count": 0,
      "outputs": [
        {
          "output_type": "execute_result",
          "data": {
            "text/plain": [
              "Year       -0.4237\n",
              "Month       0.0110\n",
              "MEI         0.0697\n",
              "CO2        -0.4128\n",
              "CH4        -0.4262\n",
              "N2O        -0.4170\n",
              "CFC-11     -0.2862\n",
              "CFC-12     -0.4192\n",
              "TSI        -0.0591\n",
              "Aerosols    0.1687\n",
              "Name: PC1, dtype: float64"
            ]
          },
          "metadata": {
            "tags": []
          },
          "execution_count": 40
        }
      ]
    },
    {
      "cell_type": "code",
      "metadata": {
        "id": "OUfSdqB0Wf_L",
        "colab_type": "code",
        "outputId": "c3eb0a2a-e562-4764-85a9-3b17b2f6dcec",
        "colab": {
          "base_uri": "https://localhost:8080/",
          "height": 309
        }
      },
      "source": [
        "transformed_feature.select('pcaFeatures').show(10, truncate = False)"
      ],
      "execution_count": 0,
      "outputs": [
        {
          "output_type": "stream",
          "text": [
            "+------------------------------------------------------------------------------------------------------------------------------------------------------------------------------------------------------------+\n",
            "|pcaFeatures                                                                                                                                                                                                 |\n",
            "+------------------------------------------------------------------------------------------------------------------------------------------------------------------------------------------------------------+\n",
            "|[5.501970988036403,-1.033941305259777,-1.5779950804229512,-0.8329916610555118,1.9055594307863581,1.5937319453827874,-0.04031106890631596,0.08401643092961632,-0.194738126118535,0.003157775293389585]       |\n",
            "|[5.464533785859555,-0.72383446996442,-1.2708952200914518,-0.5124210499419806,1.824382139670005,1.4889953863925818,0.08645636889781091,0.049477702243640356,-0.19178963291896775,-0.004471712810447564]      |\n",
            "|[5.396150685688079,-0.563904399418509,-0.6625638583871178,-0.17535283760492187,1.8194226212660038,1.5143865821020697,0.11118147154418356,-0.022888284271155843,-0.1839357632020622,0.009963323270224584]    |\n",
            "|[5.351135069459508,-0.28811934233790304,0.009440106328734044,0.18045830754315362,1.8420194443855036,1.3778204953120088,0.15511720994149245,-0.1322801032061482,-0.17171022589406115,0.026021776908634768]   |\n",
            "|[5.179123011662378,0.29773799675955437,0.13014630947097539,0.5633040196980916,1.7109629237744786,0.741555281001057,-0.16777099711699986,-0.19017270348302923,-0.15485632439346475,0.0370857263604437]       |\n",
            "|[4.971866889441568,0.7413672699382418,0.07745291896074222,0.9033250401844971,1.579124488330825,0.3131204297445145,-0.41511567976036173,-0.11985150942563057,-0.16038098430095338,0.030015375973600766]      |\n",
            "|[4.912813603110022,0.8820696614474687,0.2785111841412102,1.1925654904710277,1.5558407452050123,0.3605594579770772,-0.24208839320926154,-0.05333241526126278,-0.1760971016621511,0.012599491535016789]       |\n",
            "|[4.862838501906303,1.004598788664547,0.1835180599068187,1.4646811534080149,1.4657299929743774,0.3921397338211556,-0.10133160373096434,0.0381362781569759,-0.19399925557863834,-0.010334236110486651]        |\n",
            "|[4.735988057457016,1.7327241635072101,-0.684291374973072,-1.6846181355507859,1.0124751106515546,-0.7364241943979093,-0.31006936274222785,-0.16720679041108205,-0.14370037531241206,-0.016593883394558997]   |\n",
            "|[4.6472667667309295,1.6978402250151983,-0.10583023290040594,-1.3831074493047912,1.1171191413109938,-0.5057776373888696,-0.20800689941706774,-0.11576523213983235,-0.15330686838738744,-0.012226960769033186]|\n",
            "+------------------------------------------------------------------------------------------------------------------------------------------------------------------------------------------------------------+\n",
            "only showing top 10 rows\n",
            "\n"
          ],
          "name": "stdout"
        }
      ]
    },
    {
      "cell_type": "markdown",
      "metadata": {
        "id": "8OScFwOcW3ue",
        "colab_type": "text"
      },
      "source": [
        "For comparing with the results from Python and R, I have rounded the array above."
      ]
    },
    {
      "cell_type": "code",
      "metadata": {
        "id": "ATRnqACnW3XP",
        "colab_type": "code",
        "outputId": "ea64407a-c204-491f-ff06-0dd17a125367",
        "colab": {
          "base_uri": "https://localhost:8080/",
          "height": 459
        }
      },
      "source": [
        "transformed_feature.select('pcaFeatures').rdd.map(lambda x: Row(pcaFeatures = str([x for x in list(np.round(x[0].\\\n",
        "                                                    toArray(),4))]))).toDF().show(truncate = False)"
      ],
      "execution_count": 0,
      "outputs": [
        {
          "output_type": "stream",
          "text": [
            "+--------------------------------------------------------------------------------------+\n",
            "|pcaFeatures                                                                           |\n",
            "+--------------------------------------------------------------------------------------+\n",
            "|[5.502, -1.0339, -1.578, -0.833, 1.9056, 1.5937, -0.0403, 0.084, -0.1947, 0.0032]     |\n",
            "|[5.4645, -0.7238, -1.2709, -0.5124, 1.8244, 1.489, 0.0865, 0.0495, -0.1918, -0.0045]  |\n",
            "|[5.3962, -0.5639, -0.6626, -0.1754, 1.8194, 1.5144, 0.1112, -0.0229, -0.1839, 0.01]   |\n",
            "|[5.3511, -0.2881, 0.0094, 0.1805, 1.842, 1.3778, 0.1551, -0.1323, -0.1717, 0.026]     |\n",
            "|[5.1791, 0.2977, 0.1301, 0.5633, 1.711, 0.7416, -0.1678, -0.1902, -0.1549, 0.0371]    |\n",
            "|[4.9719, 0.7414, 0.0775, 0.9033, 1.5791, 0.3131, -0.4151, -0.1199, -0.1604, 0.03]     |\n",
            "|[4.9128, 0.8821, 0.2785, 1.1926, 1.5558, 0.3606, -0.2421, -0.0533, -0.1761, 0.0126]   |\n",
            "|[4.8628, 1.0046, 0.1835, 1.4647, 1.4657, 0.3921, -0.1013, 0.0381, -0.194, -0.0103]    |\n",
            "|[4.736, 1.7327, -0.6843, -1.6846, 1.0125, -0.7364, -0.3101, -0.1672, -0.1437, -0.0166]|\n",
            "|[4.6473, 1.6978, -0.1058, -1.3831, 1.1171, -0.5058, -0.208, -0.1158, -0.1533, -0.0122]|\n",
            "|[4.5723, 0.8943, 0.4063, -1.1581, 1.1647, 0.6322, -0.1656, -0.0562, -0.152, 0.0107]   |\n",
            "|[4.5815, 1.4205, -0.8621, -0.9008, 0.755, 0.0793, -0.1602, 0.0346, -0.1491, -0.0437]  |\n",
            "|[4.5535, 1.4011, -0.3419, -0.6076, 0.8684, 0.2946, 0.0532, 0.0681, -0.1512, -0.0476]  |\n",
            "|[4.6144, 1.2959, 0.42, -0.3054, 1.0381, 0.5952, 0.3701, -0.0027, -0.136, -0.0395]     |\n",
            "|[4.6613, 1.2904, 0.4629, -0.01, 0.9685, 0.6549, 0.4484, -0.091, -0.101, -0.0368]      |\n",
            "|[4.5846, 1.4106, 0.2504, 0.3149, 0.7889, 0.4487, 0.1641, -0.1728, -0.0505, -0.0226]   |\n",
            "|[4.4384, 1.4174, -0.0063, 0.6311, 0.5947, 0.3475, -0.2262, -0.2002, -0.0016, -0.0041] |\n",
            "|[4.2983, 1.4267, -0.2247, 0.9218, 0.4645, 0.3185, -0.3928, -0.125, 0.023, -0.0063]    |\n",
            "|[4.1753, 1.7402, -0.2119, 1.2358, 0.4497, -0.0089, -0.3565, -0.0154, 0.0288, -0.0229] |\n",
            "|[4.1057, 1.8247, 0.0857, 1.533, 0.5248, -0.0264, -0.1793, 0.08, 0.0262, -0.0292]      |\n",
            "+--------------------------------------------------------------------------------------+\n",
            "only showing top 20 rows\n",
            "\n"
          ],
          "name": "stdout"
        }
      ]
    },
    {
      "cell_type": "code",
      "metadata": {
        "id": "oP0A5zFEX9ud",
        "colab_type": "code",
        "outputId": "cafe4bfd-4acb-46b7-8447-fcefd26a3182",
        "colab": {
          "base_uri": "https://localhost:8080/",
          "height": 34
        }
      },
      "source": [
        "transformed_feature .count()"
      ],
      "execution_count": 0,
      "outputs": [
        {
          "output_type": "execute_result",
          "data": {
            "text/plain": [
              "308"
            ]
          },
          "metadata": {
            "tags": []
          },
          "execution_count": 43
        }
      ]
    },
    {
      "cell_type": "code",
      "metadata": {
        "id": "J1TkERNDX_gl",
        "colab_type": "code",
        "colab": {}
      },
      "source": [
        "rdd = transformed_feature.rdd.sample(1,0.9)\n",
        "#rdd.show()"
      ],
      "execution_count": 0,
      "outputs": []
    },
    {
      "cell_type": "markdown",
      "metadata": {
        "id": "I4SVLe8sb_oT",
        "colab_type": "text"
      },
      "source": [
        "By selecting with replacement number, it is possible to make the graph\n",
        "as in sample(self, withReplacement, fraction, seed=None):\n",
        "\n",
        "param withReplacement: can elements be sampled multiple times (replaced when sampled out)"
      ]
    },
    {
      "cell_type": "code",
      "metadata": {
        "id": "jDpYyZLfYJsR",
        "colab_type": "code",
        "colab": {}
      },
      "source": [
        "#x1 = transformed_feature.map(lambda a : a.pcaFeatures).map(lambda a : a[0]).collect()"
      ],
      "execution_count": 0,
      "outputs": []
    },
    {
      "cell_type": "code",
      "metadata": {
        "id": "rfMthd3hYxgj",
        "colab_type": "code",
        "colab": {}
      },
      "source": [
        "x = rdd.map(lambda a : a.pcaFeatures).map(lambda a : a[0]).collect()"
      ],
      "execution_count": 0,
      "outputs": []
    },
    {
      "cell_type": "code",
      "metadata": {
        "id": "M9FIHMldYMWH",
        "colab_type": "code",
        "colab": {}
      },
      "source": [
        "#y1 = transformed_feature.map(lambda a : a.pcaFeatures).map(lambda a : a[1]).collect()"
      ],
      "execution_count": 0,
      "outputs": []
    },
    {
      "cell_type": "code",
      "metadata": {
        "id": "3okLH5jKY1fu",
        "colab_type": "code",
        "colab": {}
      },
      "source": [
        "y = rdd.map(lambda a : a.pcaFeatures).map(lambda a : a[1]).collect()"
      ],
      "execution_count": 0,
      "outputs": []
    },
    {
      "cell_type": "code",
      "metadata": {
        "id": "c8WfOQ1CYPV3",
        "colab_type": "code",
        "colab": {}
      },
      "source": [
        "#z1 = transformed_feature.map(lambda a : a.pcaFeatures).map(lambda a : a[2]).collect()"
      ],
      "execution_count": 0,
      "outputs": []
    },
    {
      "cell_type": "code",
      "metadata": {
        "id": "yeBCWG6QY2JL",
        "colab_type": "code",
        "colab": {}
      },
      "source": [
        "z = rdd.map(lambda a : a.pcaFeatures).map(lambda a : a[2]).collect()"
      ],
      "execution_count": 0,
      "outputs": []
    },
    {
      "cell_type": "code",
      "metadata": {
        "id": "aizYA7zyYSdh",
        "colab_type": "code",
        "outputId": "38d82aad-80db-4269-a7fc-03ab37cb60d5",
        "colab": {
          "base_uri": "https://localhost:8080/",
          "height": 248
        }
      },
      "source": [
        "%matplotlib inline\n",
        "import matplotlib.pyplot as plt\n",
        "from mpl_toolkits.mplot3d import Axes3D\n",
        "\n",
        "\n",
        "fig = plt.figure()\n",
        "ax = fig.add_subplot(111, projection='3d')\n",
        "\n",
        "\n",
        "\n",
        "\n",
        "ax.scatter(x,y,z, c='r', marker='o')\n",
        "\n",
        "ax.set_xlabel('dimension1')\n",
        "ax.set_ylabel('dimension2')\n",
        "ax.set_zlabel('dimension3')\n",
        "\n",
        "plt.show()"
      ],
      "execution_count": 0,
      "outputs": [
        {
          "output_type": "display_data",
          "data": {
            "image/png": "[encoded data removed]",
            "text/plain": [
              "<Figure size 432x288 with 1 Axes>"
            ]
          },
          "metadata": {
            "tags": [],
            "needs_background": "light"
          }
        }
      ]
    }
  ]
}