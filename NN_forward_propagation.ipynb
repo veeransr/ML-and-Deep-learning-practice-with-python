{
  "nbformat": 4,
  "nbformat_minor": 0,
  "metadata": {
    "colab": {
      "name": "NN-forward propagation.ipynb",
      "provenance": [],
      "collapsed_sections": [],
      "authorship_tag": "ABX9TyOy+9XvJ/p+qpQ1Pp53+uW+",
      "include_colab_link": true
    },
    "kernelspec": {
      "name": "python3",
      "display_name": "Python 3"
    }
  },
  "cells": [
    {
      "cell_type": "markdown",
      "metadata": {
        "id": "view-in-github",
        "colab_type": "text"
      },
      "source": [
        "<a href=\"https://colab.research.google.com/github/veeransr/ML-and-Deep-learning-practice-with-python/blob/master/NN_forward_propagation.ipynb\" target=\"_parent\"><img src=\"https://colab.research.google.com/assets/colab-badge.svg\" alt=\"Open In Colab\"/></a>"
      ]
    },
    {
      "cell_type": "code",
      "metadata": {
        "id": "hQIJR6gkIEF-",
        "colab_type": "code",
        "colab": {}
      },
      "source": [
        "import numpy as np # import Numpy library to generate \n",
        "\n",
        "weights = np.around(np.random.uniform(size=6), decimals=2) # initialize the weights\n",
        "biases = np.around(np.random.uniform(size=3), decimals=2) # initialize the biases\n"
      ],
      "execution_count": 0,
      "outputs": []
    },
    {
      "cell_type": "code",
      "metadata": {
        "id": "lB8J0C5_hxIh",
        "colab_type": "code",
        "outputId": "430b9f86-3ff8-4abd-8747-0030c2b319e5",
        "colab": {
          "base_uri": "https://localhost:8080/",
          "height": 51
        }
      },
      "source": [
        "print(weights)\n",
        "print(biases)"
      ],
      "execution_count": 0,
      "outputs": [
        {
          "output_type": "stream",
          "text": [
            "[0.49 0.31 0.74 0.95 0.09 0.8 ]\n",
            "[0.26 0.06 0.66]\n"
          ],
          "name": "stdout"
        }
      ]
    },
    {
      "cell_type": "code",
      "metadata": {
        "id": "HlJlYXifiC-t",
        "colab_type": "code",
        "outputId": "356322bb-38c9-4050-f075-b832595f37a0",
        "colab": {
          "base_uri": "https://localhost:8080/",
          "height": 34
        }
      },
      "source": [
        "x_1 = 0.5 # input 1\n",
        "x_2 = 0.85 # input 2\n",
        "\n",
        "print('x1 is {} and x2 is {}'.format(x_1, x_2))"
      ],
      "execution_count": 0,
      "outputs": [
        {
          "output_type": "stream",
          "text": [
            "x1 is 0.5 and x2 is 0.85\n"
          ],
          "name": "stdout"
        }
      ]
    },
    {
      "cell_type": "code",
      "metadata": {
        "id": "SHltVRltifCf",
        "colab_type": "code",
        "outputId": "78909655-6278-4f22-efd0-75c917ff7a34",
        "colab": {
          "base_uri": "https://localhost:8080/",
          "height": 34
        }
      },
      "source": [
        "z_11 = x_1 * weights[0] + x_2 * weights[1] + biases[0]\n",
        "\n",
        "print('The weighted sum of the inputs at the first node in the hidden layer is {}'.format(z_11))"
      ],
      "execution_count": 0,
      "outputs": [
        {
          "output_type": "stream",
          "text": [
            "The weighted sum of the inputs at the first node in the hidden layer is 0.7685\n"
          ],
          "name": "stdout"
        }
      ]
    },
    {
      "cell_type": "code",
      "metadata": {
        "id": "xTNIFKE_i47B",
        "colab_type": "code",
        "outputId": "6b9f2772-290f-456d-f741-bc72056bae14",
        "colab": {
          "base_uri": "https://localhost:8080/",
          "height": 34
        }
      },
      "source": [
        "z_12 = x_1 * weights[2] + x_2 * weights[3] + biases[1]\n",
        "\n",
        "print('The weighted sum of the inputs at the first node in the hidden layer is {}'.format(z_12))"
      ],
      "execution_count": 0,
      "outputs": [
        {
          "output_type": "stream",
          "text": [
            "The weighted sum of the inputs at the first node in the hidden layer is 1.2375\n"
          ],
          "name": "stdout"
        }
      ]
    },
    {
      "cell_type": "markdown",
      "metadata": {
        "id": "q9Q5VVbDjga0",
        "colab_type": "text"
      },
      "source": [
        "Next, assuming a sigmoid activation function, let's compute the activation of the first node,  𝑎1,1 , in the hidden layer."
      ]
    },
    {
      "cell_type": "code",
      "metadata": {
        "id": "_u4Gq2FOi-V7",
        "colab_type": "code",
        "outputId": "65177585-ee61-46dd-f135-c898c1c093ad",
        "colab": {
          "base_uri": "https://localhost:8080/",
          "height": 34
        }
      },
      "source": [
        "a_11 = 1.0 / (1.0 + np.exp(-z_11))\n",
        "\n",
        "print('The activation of the first node in the hidden layer is {}'.format(np.around(a_11, decimals=4)))"
      ],
      "execution_count": 0,
      "outputs": [
        {
          "output_type": "stream",
          "text": [
            "The activation of the first node in the hidden layer is 0.7751\n"
          ],
          "name": "stdout"
        }
      ]
    },
    {
      "cell_type": "code",
      "metadata": {
        "id": "bZBuGFBJjsxT",
        "colab_type": "code",
        "outputId": "4e6bb1f3-2fd1-40ce-8c5a-ed6e9adc6ee1",
        "colab": {
          "base_uri": "https://localhost:8080/",
          "height": 34
        }
      },
      "source": [
        "a_12 = 1.0/ (1.0+np.exp(-z_12))\n",
        "print('The sigoid function of activation at hidden layer node 2 is : {}'.format(np.around(a_12, decimals =4)))"
      ],
      "execution_count": 0,
      "outputs": [
        {
          "output_type": "stream",
          "text": [
            "The sigoid function of activation at hidden layer node 2 is : 0.7751\n"
          ],
          "name": "stdout"
        }
      ]
    },
    {
      "cell_type": "markdown",
      "metadata": {
        "id": "mulIYaRGlPlF",
        "colab_type": "text"
      },
      "source": [
        "Now these activations will serve as the inputs to the output layer. So, let's compute the weighted sum of these inputs to the node in the output layer. Assign the value to z_2."
      ]
    },
    {
      "cell_type": "code",
      "metadata": {
        "id": "0a-3Ks3fkdST",
        "colab_type": "code",
        "outputId": "4c21f5c3-7756-4f5e-c877-19384b0c528f",
        "colab": {
          "base_uri": "https://localhost:8080/",
          "height": 34
        }
      },
      "source": [
        "z_2 = a_11*weights[4]+a_12*weights[5]+biases[2]\n",
        "print('the sum of weighted inputs for the outputlayer : {}'.format(np.around(z_2, decimals =4)))"
      ],
      "execution_count": 0,
      "outputs": [
        {
          "output_type": "stream",
          "text": [
            "the sum of weighted inputs for the outputlayer : 1.3499\n"
          ],
          "name": "stdout"
        }
      ]
    },
    {
      "cell_type": "code",
      "metadata": {
        "id": "9yZRw924mujK",
        "colab_type": "code",
        "outputId": "d15f8dfb-7162-4245-c400-7c9d8b80eefa",
        "colab": {
          "base_uri": "https://localhost:8080/",
          "height": 34
        }
      },
      "source": [
        "a_2 = 1/(1+ np.exp(-z_2))\n",
        "print('The sigmoid activation function at output layer resulted : {}'. format(np.around(a_2, decimals = 4)))"
      ],
      "execution_count": 0,
      "outputs": [
        {
          "output_type": "stream",
          "text": [
            "The sigmoid activation function at output layer resulted : 0.7941\n"
          ],
          "name": "stdout"
        }
      ]
    },
    {
      "cell_type": "markdown",
      "metadata": {
        "id": "H1a6BJUdnvN7",
        "colab_type": "text"
      },
      "source": [
        "Obviously, neural networks for real problems are composed of many hidden layers and many more nodes in each layer. So, we can't continue making predictions using this very inefficient approach of computing the weighted sum at each node and the activation of each node manually.\n",
        "\n",
        "In order to code an automatic way of making predictions, let's generalize our network. A general network would take  𝑛  inputs, would have many hidden layers, each hidden layer having  𝑚  nodes, and would have an output layer. Although the network is showing one hidden layer, but we will code the network to have many hidden layers. Similarly, although the network shows an output layer with one node, we will code the network to have more than one node in the output layer.\n",
        "![alt text](https://)\n",
        "\n",
        "Neural Network General\n",
        "\n",
        "\n",
        "Initialize a Network\n",
        "Let's start by formally defining the structure of the network."
      ]
    },
    {
      "cell_type": "markdown",
      "metadata": {
        "id": "Dou7Z_9CqXNT",
        "colab_type": "text"
      },
      "source": [
        "Initialize a Network\n",
        "Let's start by formally defining the structure of the network."
      ]
    },
    {
      "cell_type": "code",
      "metadata": {
        "id": "R3-OU2AWqW_N",
        "colab_type": "code",
        "colab": {}
      },
      "source": [
        "n = 2 # number of inputs\n",
        "num_hidden_layers = 2 # number of hidden layers\n",
        "m = [2, 2] # number of nodes in each hidden layer\n",
        "num_nodes_output = 1 # number of nodes in the output layer"
      ],
      "execution_count": 0,
      "outputs": []
    },
    {
      "cell_type": "markdown",
      "metadata": {
        "id": "DIacoXXdqm1_",
        "colab_type": "text"
      },
      "source": [
        "Now that we defined the structure of the network, let's go ahead and inititailize the weights and the biases in the network to random numbers. In order to be able to initialize the weights and the biases to random numbers, we will need to import the Numpy library."
      ]
    },
    {
      "cell_type": "code",
      "metadata": {
        "id": "e9RD1Z8Jnu6T",
        "colab_type": "code",
        "outputId": "403d460f-c270-4a4d-a61b-6b65f42d3c40",
        "colab": {
          "base_uri": "https://localhost:8080/",
          "height": 54
        }
      },
      "source": [
        "import numpy as np # import the Numpy library\n",
        "\n",
        "num_nodes_previous = n # number of nodes in the previous layer\n",
        "\n",
        "network = {} # initialize network an an empty dictionary\n",
        "\n",
        "# loop through each layer and randomly initialize the weights and biases associated with each node\n",
        "# notice how we are adding 1 to the number of hidden layers in order to include the output layer\n",
        "for layer in range(num_hidden_layers + 1): \n",
        "   \n",
        "    \n",
        "    # determine name of layer\n",
        "    if layer == num_hidden_layers:\n",
        "        layer_name = 'output'\n",
        "        num_nodes = num_nodes_output\n",
        "    else:\n",
        "        layer_name = 'layer_{}'.format(layer + 1)\n",
        "        num_nodes = m[layer]\n",
        "        \n",
        "    # initialize weights and biases associated with each node in the current layer\n",
        "    network[layer_name] = {}\n",
        "    for node in range(num_nodes):\n",
        "        node_name = 'node_{}'.format(node+1)\n",
        "        network[layer_name][node_name] = {\n",
        "            'weights': np.around(np.random.uniform(size=num_nodes_previous), decimals=2),\n",
        "            'bias': np.around(np.random.uniform(size=1), decimals=2),\n",
        "        }\n",
        "    \n",
        "    num_nodes_previous = num_nodes\n",
        "    \n",
        "print(network) # print network"
      ],
      "execution_count": 0,
      "outputs": [
        {
          "output_type": "stream",
          "text": [
            "{'layer_1': {'node_1': {'weights': array([0.97, 0.5 ]), 'bias': array([0.43])}, 'node_2': {'weights': array([0.42, 0.69]), 'bias': array([0.93])}}, 'layer_2': {'node_1': {'weights': array([0.02, 0.97]), 'bias': array([0.62])}, 'node_2': {'weights': array([0.13, 0.91]), 'bias': array([0.1])}}, 'output': {'node_1': {'weights': array([0.08, 0.41]), 'bias': array([0.92])}}}\n"
          ],
          "name": "stdout"
        }
      ]
    },
    {
      "cell_type": "markdown",
      "metadata": {
        "id": "_zKvJF-T0SWo",
        "colab_type": "text"
      },
      "source": [
        "Awesome! So now with the above code, we are able to initialize the weights and the biases pertaining to any network of any number of hidden layers and number of nodes in each layer. But let's put this code in a function so that we are able to repetitively execute all this code whenever we want to construct a neural network."
      ]
    },
    {
      "cell_type": "code",
      "metadata": {
        "id": "whH5Grp1_Mc_",
        "colab_type": "code",
        "colab": {}
      },
      "source": [
        ""
      ],
      "execution_count": 0,
      "outputs": []
    },
    {
      "cell_type": "code",
      "metadata": {
        "id": "KNaDqJre_9k4",
        "colab_type": "code",
        "colab": {}
      },
      "source": [
        "def initialize_network(num_inputs, num_hidden_layers, num_nodes_hidden, num_nodes_output):\n",
        "    \n",
        "    num_nodes_previous = num_inputs # number of nodes in the previous layer\n",
        "\n",
        "    network = {}\n",
        "    \n",
        "    # loop through each layer and randomly initialize the weights and biases associated with each layer\n",
        "    for layer in range(num_hidden_layers + 1):\n",
        "        \n",
        "        if layer == num_hidden_layers:\n",
        "            layer_name = 'output' # name last layer in the network output\n",
        "            num_nodes = num_nodes_output\n",
        "        else:\n",
        "            layer_name = 'layer_{}'.format(layer + 1) # otherwise give the layer a number\n",
        "            num_nodes = num_nodes_hidden[layer] \n",
        "        \n",
        "        # initialize weights and bias for each node\n",
        "        network[layer_name] = {}\n",
        "        for node in range(num_nodes):\n",
        "            node_name = 'node_{}'.format(node+1)\n",
        "            network[layer_name][node_name] = {\n",
        "                'weights': np.around(np.random.uniform(size=num_nodes_previous), decimals=2),\n",
        "                'bias': np.around(np.random.uniform(size=1), decimals=2),\n",
        "            }\n",
        "    \n",
        "        num_nodes_previous = num_nodes\n",
        "\n",
        "    return network # return the network"
      ],
      "execution_count": 0,
      "outputs": []
    },
    {
      "cell_type": "markdown",
      "metadata": {
        "id": "30KANMqlAA_8",
        "colab_type": "text"
      },
      "source": [
        "The above code is not working so midified"
      ]
    },
    {
      "cell_type": "code",
      "metadata": {
        "id": "udrMw6Af0Fbi",
        "colab_type": "code",
        "colab": {}
      },
      "source": [
        "def initialize_network2(num_inputs, num_hidden_layers, num_nodes_hidden, num_nodes_output):\n",
        "    \n",
        "    num_nodes_previous = num_inputs # number of nodes in the previous layer\n",
        "    m = np.full((num_nodes_hidden),num_nodes_hidden)\n",
        "    network = {}\n",
        "    \n",
        "    # loop through each layer and randomly initialize the weights and biases associated with each layer\n",
        "    for layer in range(num_hidden_layers + 1):\n",
        "        \n",
        "        if layer == num_hidden_layers:\n",
        "            layer_name = 'output' # name last layer in the network output\n",
        "            num_nodes = num_nodes_output\n",
        "        else:\n",
        "            layer_name = 'layer_{}'.format(layer + 1) # otherwise give the layer a number\n",
        "            num_nodes = m[layer] \n",
        "        \n",
        "        # initialize weights and bias for each node\n",
        "        network[layer_name] = {}\n",
        "        for node in range(num_nodes):\n",
        "            node_name = 'node_{}'.format(node+1)\n",
        "            network[layer_name][node_name] = {\n",
        "                'weights': np.around(np.random.uniform(size=num_nodes_previous), decimals=2),\n",
        "                'bias': np.around(np.random.uniform(size=1), decimals=2),\n",
        "            }\n",
        "    \n",
        "        num_nodes_previous = num_nodes\n",
        "\n",
        "    return network # return the network"
      ],
      "execution_count": 0,
      "outputs": []
    },
    {
      "cell_type": "code",
      "metadata": {
        "id": "VQXuhtll-C4h",
        "colab_type": "code",
        "outputId": "690157ad-836f-482a-f8f7-e6a5285b96cf",
        "colab": {
          "base_uri": "https://localhost:8080/",
          "height": 1000
        }
      },
      "source": [
        "y = initialize_network2(100, 10, 10, 1)\n",
        "y"
      ],
      "execution_count": 0,
      "outputs": [
        {
          "output_type": "execute_result",
          "data": {
            "text/plain": [
              "{'layer_1': {'node_1': {'bias': array([0.76]),\n",
              "   'weights': array([0.75, 0.61, 0.54, 0.82, 0.27, 0.32, 0.12, 0.3 , 1.  , 0.93, 0.93,\n",
              "          0.53, 0.4 , 0.14, 0.99, 0.8 , 0.06, 0.24, 0.49, 0.76, 0.71, 0.9 ,\n",
              "          0.28, 0.96, 0.6 , 0.22, 0.86, 0.89, 0.23, 0.44, 0.46, 0.35, 0.72,\n",
              "          0.43, 0.11, 0.82, 0.66, 0.82, 0.63, 0.61, 0.27, 0.08, 0.41, 0.96,\n",
              "          0.52, 0.59, 0.75, 0.95, 0.24, 0.28, 0.92, 0.22, 0.42, 0.51, 0.57,\n",
              "          0.92, 0.95, 0.27, 0.31, 0.72, 0.57, 0.25, 0.07, 0.96, 0.39, 0.46,\n",
              "          0.05, 0.08, 0.82, 0.94, 0.78, 0.64, 0.69, 0.46, 0.37, 0.16, 0.9 ,\n",
              "          0.14, 0.88, 0.72, 0.06, 0.36, 0.16, 0.13, 0.44, 0.66, 0.56, 0.43,\n",
              "          0.6 , 0.04, 0.86, 0.27, 0.06, 0.54, 0.72, 0.37, 0.75, 0.48, 0.29,\n",
              "          0.91])},\n",
              "  'node_10': {'bias': array([0.11]),\n",
              "   'weights': array([0.87, 0.85, 0.99, 0.44, 0.65, 0.63, 0.74, 0.54, 0.25, 0.76, 0.82,\n",
              "          0.81, 0.87, 0.3 , 0.91, 0.26, 0.24, 0.  , 0.8 , 0.58, 0.71, 0.07,\n",
              "          0.89, 0.68, 0.82, 0.19, 0.12, 0.69, 0.34, 0.03, 0.9 , 0.09, 0.59,\n",
              "          0.95, 0.85, 0.15, 0.55, 0.68, 0.5 , 0.92, 0.73, 0.81, 0.38, 0.24,\n",
              "          0.66, 0.08, 0.94, 0.11, 0.82, 0.22, 0.96, 0.07, 0.24, 0.03, 0.84,\n",
              "          0.38, 0.51, 0.43, 0.3 , 0.04, 0.27, 0.64, 0.75, 0.24, 0.31, 0.99,\n",
              "          0.5 , 0.71, 0.08, 0.8 , 0.45, 0.25, 0.06, 0.98, 0.29, 0.78, 0.89,\n",
              "          0.14, 0.13, 0.56, 0.39, 0.5 , 0.68, 0.49, 0.94, 0.24, 0.25, 0.01,\n",
              "          0.49, 0.52, 0.42, 0.78, 0.22, 0.67, 0.08, 0.77, 0.09, 0.52, 0.37,\n",
              "          0.29])},\n",
              "  'node_2': {'bias': array([0.7]),\n",
              "   'weights': array([0.06, 0.87, 0.61, 0.61, 0.98, 0.75, 0.89, 0.55, 0.53, 0.17, 0.95,\n",
              "          0.9 , 0.2 , 0.45, 0.49, 0.73, 0.98, 0.36, 0.31, 0.22, 0.22, 0.68,\n",
              "          0.44, 0.8 , 0.34, 0.64, 0.41, 0.96, 0.07, 0.99, 0.23, 0.78, 0.1 ,\n",
              "          0.98, 0.41, 0.37, 0.44, 0.07, 0.55, 0.54, 0.43, 0.28, 0.82, 0.16,\n",
              "          0.99, 0.02, 0.67, 0.54, 0.09, 0.43, 0.93, 0.7 , 0.32, 0.38, 0.35,\n",
              "          0.4 , 0.69, 0.87, 0.2 , 0.63, 0.96, 0.17, 0.87, 0.9 , 0.08, 0.17,\n",
              "          0.42, 0.82, 0.39, 0.03, 0.48, 0.26, 0.85, 0.63, 0.19, 0.25, 0.48,\n",
              "          0.59, 0.96, 0.37, 0.39, 0.67, 0.33, 0.35, 0.34, 0.08, 0.94, 0.24,\n",
              "          0.7 , 0.24, 0.92, 0.18, 0.24, 0.53, 0.81, 0.41, 0.09, 0.83, 0.33,\n",
              "          0.52])},\n",
              "  'node_3': {'bias': array([0.11]),\n",
              "   'weights': array([0.57, 0.71, 0.57, 0.05, 0.61, 0.94, 0.14, 0.44, 0.26, 0.63, 0.61,\n",
              "          0.82, 0.06, 0.39, 0.8 , 0.4 , 0.08, 0.87, 0.02, 0.86, 0.6 , 0.86,\n",
              "          0.49, 0.98, 0.35, 0.61, 0.51, 0.78, 0.05, 0.29, 0.03, 0.  , 0.2 ,\n",
              "          0.39, 0.01, 0.03, 0.34, 0.6 , 0.94, 0.81, 0.21, 0.84, 0.21, 0.28,\n",
              "          0.63, 0.  , 0.61, 0.14, 0.55, 0.25, 0.41, 0.88, 0.13, 0.59, 0.58,\n",
              "          0.8 , 0.22, 0.64, 0.59, 0.15, 0.55, 0.68, 0.71, 0.34, 0.88, 0.55,\n",
              "          0.46, 0.49, 0.63, 0.84, 0.28, 0.05, 0.91, 0.88, 0.35, 0.61, 0.31,\n",
              "          0.08, 0.16, 0.14, 0.4 , 0.52, 0.05, 0.84, 0.27, 0.05, 0.29, 0.8 ,\n",
              "          0.87, 0.11, 0.57, 0.92, 0.86, 0.13, 0.98, 0.04, 0.97, 0.  , 0.44,\n",
              "          0.35])},\n",
              "  'node_4': {'bias': array([0.57]),\n",
              "   'weights': array([0.23, 0.67, 0.21, 0.32, 0.02, 0.8 , 0.52, 0.22, 0.65, 0.  , 0.37,\n",
              "          0.88, 0.3 , 0.18, 0.  , 0.47, 0.79, 0.52, 0.01, 0.19, 0.78, 0.54,\n",
              "          0.95, 0.04, 0.16, 0.92, 0.71, 0.81, 0.66, 0.82, 0.11, 0.86, 0.6 ,\n",
              "          0.98, 0.14, 0.06, 0.55, 0.95, 0.01, 0.78, 0.31, 0.54, 0.92, 0.7 ,\n",
              "          0.5 , 0.3 , 0.39, 0.58, 0.55, 0.76, 0.21, 0.7 , 0.26, 0.23, 0.38,\n",
              "          0.05, 0.96, 0.  , 0.08, 0.42, 0.22, 0.39, 0.63, 0.67, 0.96, 0.57,\n",
              "          0.8 , 0.68, 0.63, 0.31, 0.44, 0.26, 0.34, 0.28, 0.76, 0.13, 0.04,\n",
              "          0.85, 1.  , 0.05, 0.83, 0.69, 0.61, 0.57, 0.64, 0.28, 0.8 , 0.59,\n",
              "          0.53, 0.24, 0.44, 0.72, 0.73, 0.79, 0.7 , 0.28, 0.41, 0.66, 0.93,\n",
              "          1.  ])},\n",
              "  'node_5': {'bias': array([0.72]),\n",
              "   'weights': array([0.69, 0.88, 0.08, 0.22, 0.31, 0.27, 0.29, 0.1 , 0.74, 0.17, 0.43,\n",
              "          0.72, 0.59, 0.97, 0.33, 0.92, 0.16, 0.36, 0.4 , 0.49, 0.8 , 0.3 ,\n",
              "          0.46, 0.94, 0.95, 0.74, 0.99, 0.87, 0.34, 0.36, 0.62, 0.65, 0.17,\n",
              "          0.7 , 0.08, 0.61, 0.51, 0.8 , 0.51, 0.01, 0.36, 0.75, 0.93, 0.56,\n",
              "          0.6 , 0.89, 0.9 , 0.55, 0.46, 0.6 , 0.78, 0.77, 0.54, 0.58, 0.49,\n",
              "          0.52, 0.79, 0.88, 0.55, 0.39, 0.78, 0.48, 0.86, 0.45, 0.73, 0.41,\n",
              "          0.1 , 0.37, 0.9 , 0.35, 0.84, 0.9 , 0.89, 0.73, 0.11, 0.58, 0.79,\n",
              "          0.4 , 0.32, 0.06, 0.52, 0.71, 0.2 , 0.14, 0.45, 0.97, 0.29, 0.27,\n",
              "          0.46, 0.84, 0.67, 0.57, 0.48, 0.19, 0.42, 0.8 , 0.76, 0.17, 0.71,\n",
              "          0.04])},\n",
              "  'node_6': {'bias': array([0.12]),\n",
              "   'weights': array([0.85, 0.18, 0.05, 0.36, 0.89, 0.85, 0.63, 0.65, 0.35, 0.09, 0.23,\n",
              "          0.84, 0.49, 0.94, 0.42, 0.91, 0.84, 0.26, 0.74, 0.7 , 0.76, 0.67,\n",
              "          0.41, 0.23, 0.62, 0.38, 0.56, 0.19, 0.37, 0.99, 0.45, 0.45, 0.39,\n",
              "          0.43, 0.68, 0.74, 0.44, 0.01, 0.51, 0.53, 0.41, 0.43, 0.96, 0.96,\n",
              "          0.19, 0.17, 0.08, 0.1 , 0.35, 0.42, 0.7 , 0.51, 0.4 , 0.46, 0.36,\n",
              "          0.43, 0.99, 0.97, 0.69, 0.64, 0.94, 0.64, 0.8 , 0.31, 0.05, 0.3 ,\n",
              "          0.8 , 0.43, 0.44, 0.59, 0.72, 0.88, 0.8 , 0.34, 0.81, 0.24, 0.46,\n",
              "          0.08, 0.09, 0.94, 0.12, 0.4 , 0.33, 0.62, 0.41, 0.5 , 0.6 , 0.91,\n",
              "          0.41, 0.51, 0.31, 0.42, 0.06, 0.24, 0.49, 0.04, 0.03, 0.93, 0.19,\n",
              "          0.33])},\n",
              "  'node_7': {'bias': array([0.33]),\n",
              "   'weights': array([0.16, 0.38, 0.67, 0.99, 0.84, 0.15, 0.9 , 0.53, 0.82, 0.59, 0.08,\n",
              "          0.64, 0.5 , 0.97, 0.24, 0.98, 1.  , 0.27, 0.31, 0.22, 0.46, 0.11,\n",
              "          0.04, 0.56, 0.84, 0.9 , 0.36, 0.34, 0.86, 0.87, 0.13, 0.65, 0.82,\n",
              "          0.47, 0.08, 0.48, 0.62, 0.97, 0.76, 0.83, 0.74, 0.21, 0.89, 0.96,\n",
              "          0.32, 0.1 , 0.3 , 0.8 , 0.47, 0.82, 0.56, 0.36, 0.66, 0.28, 0.  ,\n",
              "          0.12, 0.93, 0.73, 0.97, 0.19, 0.15, 0.5 , 0.95, 0.59, 0.6 , 0.63,\n",
              "          0.05, 0.21, 0.08, 0.28, 0.52, 0.43, 0.98, 0.4 , 0.51, 0.07, 0.76,\n",
              "          0.96, 0.71, 0.34, 0.28, 0.9 , 0.05, 0.41, 0.47, 0.28, 0.55, 0.05,\n",
              "          0.73, 0.28, 0.57, 0.31, 0.33, 0.96, 0.15, 0.56, 0.91, 0.2 , 0.21,\n",
              "          0.76])},\n",
              "  'node_8': {'bias': array([0.9]),\n",
              "   'weights': array([0.53, 0.38, 0.1 , 0.31, 0.76, 0.64, 0.22, 0.28, 0.4 , 0.05, 0.18,\n",
              "          0.79, 0.68, 0.15, 0.69, 0.68, 0.53, 0.97, 0.55, 0.86, 0.83, 0.09,\n",
              "          0.09, 0.61, 0.18, 0.09, 0.11, 0.17, 0.8 , 0.02, 0.24, 0.95, 0.29,\n",
              "          0.09, 0.6 , 0.23, 0.3 , 0.46, 0.54, 0.03, 0.27, 0.85, 0.52, 0.73,\n",
              "          0.54, 0.95, 0.5 , 0.65, 0.82, 0.24, 0.05, 0.96, 0.48, 0.06, 0.97,\n",
              "          0.88, 0.12, 0.57, 1.  , 0.05, 0.38, 0.12, 0.58, 0.33, 0.94, 0.17,\n",
              "          0.  , 0.24, 0.68, 0.7 , 0.8 , 0.71, 0.76, 0.28, 0.02, 0.74, 0.3 ,\n",
              "          0.51, 0.03, 0.53, 0.07, 0.68, 0.18, 0.02, 0.24, 0.73, 1.  , 0.69,\n",
              "          0.11, 0.87, 0.81, 0.38, 0.64, 0.28, 0.39, 0.19, 0.39, 0.99, 0.28,\n",
              "          0.71])},\n",
              "  'node_9': {'bias': array([0.12]),\n",
              "   'weights': array([0.75, 0.6 , 0.79, 0.9 , 0.85, 0.27, 0.39, 0.52, 0.03, 0.26, 0.94,\n",
              "          0.27, 0.14, 0.08, 0.33, 0.56, 0.33, 0.55, 0.45, 0.26, 0.64, 0.23,\n",
              "          0.55, 0.8 , 0.02, 0.65, 0.5 , 0.88, 0.33, 0.73, 0.51, 0.65, 0.21,\n",
              "          0.01, 0.54, 0.95, 0.75, 0.52, 0.56, 0.54, 0.95, 0.52, 0.05, 0.85,\n",
              "          0.87, 0.04, 0.11, 0.47, 0.28, 0.05, 0.34, 0.63, 0.79, 0.22, 0.15,\n",
              "          0.48, 0.37, 0.81, 0.4 , 0.25, 0.7 , 0.24, 0.5 , 0.33, 0.76, 0.73,\n",
              "          0.27, 0.51, 0.22, 0.39, 0.93, 0.81, 0.63, 0.93, 0.86, 0.62, 0.29,\n",
              "          0.38, 0.27, 0.1 , 0.57, 0.6 , 0.72, 0.14, 0.82, 0.8 , 0.51, 0.6 ,\n",
              "          0.65, 0.72, 0.09, 0.91, 0.66, 0.44, 0.9 , 0.29, 0.46, 0.77, 0.7 ,\n",
              "          0.31])}},\n",
              " 'layer_10': {'node_1': {'bias': array([0.53]),\n",
              "   'weights': array([0.5 , 0.54, 0.79, 0.1 , 0.33, 0.95, 0.78, 0.64, 0.65, 0.07])},\n",
              "  'node_10': {'bias': array([0.04]),\n",
              "   'weights': array([0.63, 0.42, 0.27, 0.09, 0.02, 0.79, 0.3 , 0.21, 0.46, 0.74])},\n",
              "  'node_2': {'bias': array([0.26]),\n",
              "   'weights': array([0.68, 0.59, 0.43, 0.03, 0.24, 0.89, 0.81, 0.77, 0.49, 0.14])},\n",
              "  'node_3': {'bias': array([0.81]),\n",
              "   'weights': array([0.71, 0.26, 0.39, 0.91, 0.66, 0.94, 0.08, 0.53, 0.81, 0.  ])},\n",
              "  'node_4': {'bias': array([0.19]),\n",
              "   'weights': array([0.42, 0.21, 0.14, 0.8 , 0.58, 0.04, 0.06, 0.87, 0.51, 0.39])},\n",
              "  'node_5': {'bias': array([0.86]),\n",
              "   'weights': array([0.38, 0.12, 0.25, 0.52, 0.67, 0.17, 0.24, 0.31, 0.41, 0.5 ])},\n",
              "  'node_6': {'bias': array([0.74]),\n",
              "   'weights': array([0.94, 0.39, 0.5 , 0.76, 0.18, 0.32, 0.45, 0.53, 0.34, 0.97])},\n",
              "  'node_7': {'bias': array([0.23]),\n",
              "   'weights': array([0.24, 0.21, 0.55, 0.15, 0.71, 0.95, 0.52, 0.74, 0.43, 0.52])},\n",
              "  'node_8': {'bias': array([0.15]),\n",
              "   'weights': array([0.09, 0.63, 0.65, 0.96, 0.48, 0.53, 0.09, 0.71, 0.34, 0.05])},\n",
              "  'node_9': {'bias': array([0.99]),\n",
              "   'weights': array([0.3 , 0.44, 0.62, 0.8 , 0.23, 0.36, 0.7 , 0.54, 0.11, 0.52])}},\n",
              " 'layer_2': {'node_1': {'bias': array([0.36]),\n",
              "   'weights': array([0.03, 0.  , 0.79, 0.66, 0.21, 0.81, 0.51, 0.89, 0.91, 0.53])},\n",
              "  'node_10': {'bias': array([0.56]),\n",
              "   'weights': array([0.82, 0.5 , 0.41, 0.74, 0.21, 0.04, 0.69, 0.72, 0.59, 0.63])},\n",
              "  'node_2': {'bias': array([0.05]),\n",
              "   'weights': array([0.25, 0.4 , 0.82, 0.29, 0.32, 0.78, 0.41, 0.8 , 0.62, 0.77])},\n",
              "  'node_3': {'bias': array([0.82]),\n",
              "   'weights': array([0.97, 0.79, 0.81, 0.44, 0.7 , 0.46, 0.82, 0.48, 0.69, 0.89])},\n",
              "  'node_4': {'bias': array([0.77]),\n",
              "   'weights': array([0.72, 0.09, 0.67, 0.15, 0.5 , 0.43, 0.31, 0.08, 0.41, 0.03])},\n",
              "  'node_5': {'bias': array([0.7]),\n",
              "   'weights': array([0.27, 0.28, 0.79, 0.2 , 0.74, 0.21, 0.47, 0.32, 0.92, 0.89])},\n",
              "  'node_6': {'bias': array([0.42]),\n",
              "   'weights': array([0.35, 0.72, 0.83, 0.15, 0.1 , 0.44, 0.49, 0.54, 0.98, 0.51])},\n",
              "  'node_7': {'bias': array([0.25]),\n",
              "   'weights': array([0.64, 0.45, 0.28, 0.01, 0.32, 0.43, 0.75, 0.4 , 0.12, 0.84])},\n",
              "  'node_8': {'bias': array([0.21]),\n",
              "   'weights': array([0.43, 0.87, 0.99, 0.01, 0.81, 0.5 , 0.33, 0.18, 0.27, 0.96])},\n",
              "  'node_9': {'bias': array([0.96]),\n",
              "   'weights': array([0.16, 0.2 , 0.52, 0.79, 0.97, 0.41, 0.02, 0.63, 0.09, 0.04])}},\n",
              " 'layer_3': {'node_1': {'bias': array([0.74]),\n",
              "   'weights': array([0.17, 0.46, 0.36, 0.34, 0.58, 0.38, 0.9 , 0.38, 0.98, 0.22])},\n",
              "  'node_10': {'bias': array([0.44]),\n",
              "   'weights': array([0.33, 0.86, 0.95, 0.58, 0.11, 0.21, 0.37, 0.47, 0.56, 0.58])},\n",
              "  'node_2': {'bias': array([0.41]),\n",
              "   'weights': array([0.63, 0.65, 0.45, 0.85, 0.94, 0.92, 0.96, 0.05, 0.18, 0.07])},\n",
              "  'node_3': {'bias': array([0.24]),\n",
              "   'weights': array([0.45, 0.1 , 0.17, 0.43, 0.41, 0.42, 0.39, 0.32, 0.6 , 0.06])},\n",
              "  'node_4': {'bias': array([0.28]),\n",
              "   'weights': array([0.51, 0.66, 0.08, 0.66, 0.46, 0.93, 0.7 , 0.34, 0.14, 0.4 ])},\n",
              "  'node_5': {'bias': array([0.71]),\n",
              "   'weights': array([0.8 , 0.52, 0.31, 0.59, 0.92, 0.44, 0.04, 0.25, 0.02, 0.96])},\n",
              "  'node_6': {'bias': array([0.55]),\n",
              "   'weights': array([0.79, 0.76, 0.85, 0.39, 0.76, 0.37, 0.29, 0.24, 0.24, 0.38])},\n",
              "  'node_7': {'bias': array([0.65]),\n",
              "   'weights': array([0.48, 0.72, 0.54, 0.8 , 0.5 , 0.48, 0.83, 0.95, 0.79, 0.73])},\n",
              "  'node_8': {'bias': array([0.23]),\n",
              "   'weights': array([0.65, 0.98, 0.19, 0.57, 0.26, 0.9 , 0.61, 0.48, 0.62, 0.14])},\n",
              "  'node_9': {'bias': array([0.97]),\n",
              "   'weights': array([0.08, 0.08, 0.21, 0.53, 0.66, 0.62, 0.56, 0.81, 0.77, 0.69])}},\n",
              " 'layer_4': {'node_1': {'bias': array([0.48]),\n",
              "   'weights': array([0.45, 0.78, 0.42, 0.77, 0.45, 0.73, 0.46, 0.05, 0.35, 0.97])},\n",
              "  'node_10': {'bias': array([0.51]),\n",
              "   'weights': array([0.63, 0.71, 0.55, 0.83, 0.59, 0.12, 0.2 , 0.02, 0.85, 0.94])},\n",
              "  'node_2': {'bias': array([0.44]),\n",
              "   'weights': array([0.94, 0.31, 0.49, 0.18, 0.44, 0.38, 0.65, 0.03, 0.37, 0.67])},\n",
              "  'node_3': {'bias': array([0.59]),\n",
              "   'weights': array([0.09, 0.8 , 0.01, 0.02, 0.85, 0.13, 0.81, 0.63, 0.77, 0.68])},\n",
              "  'node_4': {'bias': array([0.81]),\n",
              "   'weights': array([0.5 , 0.81, 0.21, 0.87, 0.7 , 0.65, 0.19, 0.84, 0.15, 0.73])},\n",
              "  'node_5': {'bias': array([0.89]),\n",
              "   'weights': array([0.22, 0.6 , 0.12, 0.7 , 0.8 , 0.06, 0.65, 0.4 , 0.83, 0.47])},\n",
              "  'node_6': {'bias': array([0.29]),\n",
              "   'weights': array([0.52, 0.26, 0.14, 0.17, 0.67, 0.84, 0.04, 0.43, 0.4 , 0.88])},\n",
              "  'node_7': {'bias': array([0.58]),\n",
              "   'weights': array([0.42, 0.32, 0.85, 0.82, 1.  , 0.06, 0.83, 0.51, 0.1 , 0.29])},\n",
              "  'node_8': {'bias': array([0.71]),\n",
              "   'weights': array([0.5 , 0.68, 0.09, 0.26, 0.54, 0.76, 0.61, 0.05, 0.4 , 0.32])},\n",
              "  'node_9': {'bias': array([0.36]),\n",
              "   'weights': array([0.89, 0.84, 0.43, 0.3 , 0.49, 0.29, 0.38, 0.16, 0.21, 0.93])}},\n",
              " 'layer_5': {'node_1': {'bias': array([0.61]),\n",
              "   'weights': array([0.08, 0.46, 0.32, 0.55, 0.51, 0.09, 0.86, 0.18, 0.67, 0.41])},\n",
              "  'node_10': {'bias': array([0.47]),\n",
              "   'weights': array([0.39, 0.1 , 0.62, 0.86, 0.5 , 0.55, 0.02, 0.67, 0.86, 0.03])},\n",
              "  'node_2': {'bias': array([0.51]),\n",
              "   'weights': array([0.79, 0.18, 0.41, 0.43, 0.94, 0.16, 0.3 , 0.55, 0.14, 0.95])},\n",
              "  'node_3': {'bias': array([0.5]),\n",
              "   'weights': array([0.06, 0.21, 0.06, 0.27, 0.22, 0.6 , 0.27, 0.69, 0.77, 0.28])},\n",
              "  'node_4': {'bias': array([0.11]),\n",
              "   'weights': array([0.87, 0.6 , 0.45, 0.28, 0.79, 0.39, 0.24, 0.07, 0.06, 0.2 ])},\n",
              "  'node_5': {'bias': array([0.67]),\n",
              "   'weights': array([0.54, 0.14, 0.3 , 0.58, 0.73, 0.92, 0.5 , 0.72, 0.68, 0.1 ])},\n",
              "  'node_6': {'bias': array([0.47]),\n",
              "   'weights': array([0.83, 0.03, 0.28, 0.69, 0.29, 0.88, 0.26, 0.48, 0.64, 0.17])},\n",
              "  'node_7': {'bias': array([0.33]),\n",
              "   'weights': array([0.55, 0.57, 0.07, 0.21, 0.61, 0.14, 0.13, 0.99, 0.73, 0.49])},\n",
              "  'node_8': {'bias': array([0.02]),\n",
              "   'weights': array([0.25, 0.17, 0.18, 0.68, 0.72, 0.11, 0.45, 0.84, 0.98, 0.69])},\n",
              "  'node_9': {'bias': array([0.83]),\n",
              "   'weights': array([0.95, 0.63, 0.24, 0.82, 0.49, 0.43, 0.28, 0.53, 0.19, 0.88])}},\n",
              " 'layer_6': {'node_1': {'bias': array([0.29]),\n",
              "   'weights': array([0.88, 0.31, 0.64, 0.66, 0.97, 0.23, 0.2 , 0.21, 0.6 , 0.74])},\n",
              "  'node_10': {'bias': array([0.44]),\n",
              "   'weights': array([0.55, 0.96, 0.36, 0.47, 0.51, 0.43, 0.77, 0.68, 0.75, 0.47])},\n",
              "  'node_2': {'bias': array([0.02]),\n",
              "   'weights': array([0.83, 0.13, 0.23, 0.04, 0.06, 0.28, 0.62, 0.28, 0.14, 0.73])},\n",
              "  'node_3': {'bias': array([0.47]),\n",
              "   'weights': array([0.76, 0.91, 0.83, 0.22, 0.18, 0.4 , 0.49, 0.9 , 0.42, 0.96])},\n",
              "  'node_4': {'bias': array([0.46]),\n",
              "   'weights': array([0.5 , 0.09, 0.18, 0.69, 0.41, 0.87, 0.33, 0.81, 0.81, 0.44])},\n",
              "  'node_5': {'bias': array([0.91]),\n",
              "   'weights': array([0.24, 0.54, 0.33, 0.88, 0.32, 0.38, 0.88, 0.43, 0.86, 0.86])},\n",
              "  'node_6': {'bias': array([0.44]),\n",
              "   'weights': array([0.69, 0.97, 0.75, 0.18, 0.84, 0.52, 0.29, 0.54, 0.6 , 0.86])},\n",
              "  'node_7': {'bias': array([0.4]),\n",
              "   'weights': array([0.57, 0.08, 0.55, 0.77, 0.13, 0.6 , 0.17, 0.84, 0.43, 0.02])},\n",
              "  'node_8': {'bias': array([0.01]),\n",
              "   'weights': array([0.64, 0.38, 0.92, 0.35, 0.11, 0.67, 0.97, 0.09, 0.05, 0.77])},\n",
              "  'node_9': {'bias': array([0.14]),\n",
              "   'weights': array([0.15, 0.55, 0.58, 0.19, 0.22, 0.76, 0.46, 0.95, 0.5 , 0.49])}},\n",
              " 'layer_7': {'node_1': {'bias': array([0.84]),\n",
              "   'weights': array([0.65, 0.1 , 0.62, 0.03, 0.44, 0.98, 0.62, 0.91, 0.29, 0.02])},\n",
              "  'node_10': {'bias': array([0.14]),\n",
              "   'weights': array([0.09, 0.98, 0.39, 0.72, 0.39, 0.76, 0.38, 0.89, 0.71, 0.3 ])},\n",
              "  'node_2': {'bias': array([0.38]),\n",
              "   'weights': array([0.36, 0.38, 0.22, 0.56, 0.56, 0.41, 0.51, 0.2 , 0.58, 0.72])},\n",
              "  'node_3': {'bias': array([0.96]),\n",
              "   'weights': array([0.08, 0.32, 0.33, 0.39, 0.54, 0.91, 0.13, 0.18, 0.91, 0.67])},\n",
              "  'node_4': {'bias': array([0.01]),\n",
              "   'weights': array([0.43, 0.19, 0.2 , 0.8 , 0.7 , 0.74, 0.05, 0.35, 0.23, 0.97])},\n",
              "  'node_5': {'bias': array([1.]),\n",
              "   'weights': array([0.31, 0.16, 0.58, 0.55, 0.83, 0.46, 0.78, 0.46, 0.39, 0.76])},\n",
              "  'node_6': {'bias': array([0.36]),\n",
              "   'weights': array([0.11, 0.91, 0.09, 0.78, 0.4 , 0.28, 0.73, 0.61, 0.36, 0.04])},\n",
              "  'node_7': {'bias': array([0.16]),\n",
              "   'weights': array([0.14, 0.32, 0.19, 0.57, 0.56, 0.81, 0.59, 0.93, 0.19, 0.14])},\n",
              "  'node_8': {'bias': array([0.9]),\n",
              "   'weights': array([0.73, 0.22, 0.81, 0.33, 0.69, 0.67, 0.35, 0.39, 0.02, 0.28])},\n",
              "  'node_9': {'bias': array([0.76]),\n",
              "   'weights': array([0.84, 0.36, 0.9 , 0.05, 0.54, 0.14, 0.3 , 0.56, 0.46, 0.8 ])}},\n",
              " 'layer_8': {'node_1': {'bias': array([0.76]),\n",
              "   'weights': array([0.5 , 0.21, 0.12, 0.41, 0.45, 0.26, 0.84, 0.03, 0.28, 0.53])},\n",
              "  'node_10': {'bias': array([0.71]),\n",
              "   'weights': array([0.79, 0.58, 0.47, 0.86, 0.78, 0.63, 0.57, 0.79, 0.74, 1.  ])},\n",
              "  'node_2': {'bias': array([0.8]),\n",
              "   'weights': array([0.47, 0.42, 0.24, 0.63, 0.51, 0.32, 0.86, 0.81, 0.37, 0.42])},\n",
              "  'node_3': {'bias': array([0.15]),\n",
              "   'weights': array([0.66, 0.78, 0.63, 0.22, 0.55, 0.43, 0.65, 0.78, 0.41, 0.33])},\n",
              "  'node_4': {'bias': array([0.84]),\n",
              "   'weights': array([0.89, 0.21, 0.38, 0.72, 0.11, 0.77, 0.72, 0.36, 0.87, 0.93])},\n",
              "  'node_5': {'bias': array([0.36]),\n",
              "   'weights': array([0.55, 0.83, 0.69, 0.44, 0.99, 0.06, 0.86, 0.57, 0.07, 0.21])},\n",
              "  'node_6': {'bias': array([0.82]),\n",
              "   'weights': array([0.55, 0.43, 0.39, 0.92, 0.24, 0.22, 0.06, 0.84, 0.86, 0.69])},\n",
              "  'node_7': {'bias': array([0.48]),\n",
              "   'weights': array([0.79, 0.87, 0.12, 0.13, 0.21, 0.38, 0.85, 0.31, 0.86, 0.91])},\n",
              "  'node_8': {'bias': array([0.78]),\n",
              "   'weights': array([0.6 , 0.1 , 0.24, 0.6 , 0.19, 0.7 , 0.98, 0.99, 0.06, 0.69])},\n",
              "  'node_9': {'bias': array([0.16]),\n",
              "   'weights': array([0.02, 0.64, 0.98, 0.91, 0.43, 0.6 , 0.24, 0.76, 0.65, 0.16])}},\n",
              " 'layer_9': {'node_1': {'bias': array([0.53]),\n",
              "   'weights': array([0.8 , 0.23, 0.13, 0.77, 0.14, 0.9 , 0.94, 0.25, 0.07, 0.69])},\n",
              "  'node_10': {'bias': array([0.11]),\n",
              "   'weights': array([0.55, 0.13, 0.46, 0.16, 0.15, 0.78, 0.66, 0.17, 0.86, 0.4 ])},\n",
              "  'node_2': {'bias': array([0.05]),\n",
              "   'weights': array([0.09, 0.09, 0.64, 0.38, 0.7 , 0.72, 0.33, 0.03, 0.67, 0.46])},\n",
              "  'node_3': {'bias': array([0.04]),\n",
              "   'weights': array([0.34, 0.28, 0.52, 0.11, 0.23, 0.92, 0.08, 0.35, 0.09, 0.82])},\n",
              "  'node_4': {'bias': array([0.44]),\n",
              "   'weights': array([0.84, 0.8 , 0.35, 0.78, 0.4 , 0.42, 0.66, 0.77, 0.84, 0.81])},\n",
              "  'node_5': {'bias': array([0.34]),\n",
              "   'weights': array([0.26, 0.57, 0.54, 0.37, 0.48, 0.7 , 0.73, 0.85, 0.41, 0.78])},\n",
              "  'node_6': {'bias': array([0.86]),\n",
              "   'weights': array([0.02, 0.96, 0.55, 0.03, 0.32, 0.85, 0.57, 0.55, 0.6 , 0.77])},\n",
              "  'node_7': {'bias': array([0.36]),\n",
              "   'weights': array([0.49, 0.14, 0.66, 0.94, 0.53, 0.36, 0.87, 0.89, 0.72, 0.96])},\n",
              "  'node_8': {'bias': array([0.26]),\n",
              "   'weights': array([0.16, 0.94, 0.  , 0.89, 0.62, 0.13, 0.9 , 0.79, 0.99, 0.  ])},\n",
              "  'node_9': {'bias': array([0.88]),\n",
              "   'weights': array([0.67, 0.01, 0.24, 0.65, 0.54, 0.38, 0.64, 0.33, 0.74, 0.57])}},\n",
              " 'output': {'node_1': {'bias': array([0.69]),\n",
              "   'weights': array([0.78, 0.8 , 0.02, 0.22, 0.7 , 0.83, 0.42, 0.76, 0.91, 0.04])}}}"
            ]
          },
          "metadata": {
            "tags": []
          },
          "execution_count": 59
        }
      ]
    },
    {
      "cell_type": "code",
      "metadata": {
        "id": "hBOmZYOX0pwk",
        "colab_type": "code",
        "outputId": "0c12c3fc-7080-4168-c9c7-659a7c1ac152",
        "colab": {
          "base_uri": "https://localhost:8080/",
          "height": 1000
        }
      },
      "source": [
        "x= initialize_network(100, 10, 10, 1)\n",
        "x"
      ],
      "execution_count": 0,
      "outputs": [
        {
          "output_type": "execute_result",
          "data": {
            "text/plain": [
              "{'layer_1': {'node_1': {'bias': array([0.15]),\n",
              "   'weights': array([0.44, 0.46, 0.74, 0.21, 0.21, 0.69, 0.71, 0.68, 0.27, 0.81, 0.66,\n",
              "          0.44, 0.44, 0.73, 0.19, 0.7 , 0.08, 0.48, 0.83, 0.41, 0.44, 0.49,\n",
              "          0.82, 0.15, 0.38, 0.94, 0.02, 0.24, 0.34, 0.22, 0.15, 0.81, 0.57,\n",
              "          0.89, 0.63, 0.7 , 0.31, 0.29, 0.24, 0.78, 0.96, 0.14, 0.7 , 0.68,\n",
              "          0.6 , 0.72, 0.37, 0.66, 0.59, 0.51, 0.95, 0.88, 0.82, 0.87, 0.67,\n",
              "          0.07, 0.43, 0.86, 0.67, 0.37, 0.14, 0.55, 0.15, 0.33, 0.84, 0.3 ,\n",
              "          0.54, 0.85, 0.59, 0.47, 0.33, 0.55, 0.32, 0.38, 0.27, 0.67, 0.51,\n",
              "          0.52, 0.91, 0.07, 0.87, 0.66, 0.57, 0.91, 0.51, 0.03, 0.04, 0.36,\n",
              "          0.01, 0.41, 0.84, 0.6 , 0.63, 0.77, 0.09, 0.62, 0.51, 0.88, 0.78,\n",
              "          0.28])},\n",
              "  'node_10': {'bias': array([0.81]),\n",
              "   'weights': array([0.55, 0.73, 0.92, 0.15, 0.  , 0.73, 0.02, 0.89, 0.23, 0.3 , 0.47,\n",
              "          0.58, 0.13, 0.66, 0.99, 0.83, 0.21, 0.18, 0.52, 0.41, 0.12, 0.06,\n",
              "          0.26, 0.28, 0.23, 1.  , 0.66, 0.72, 0.42, 0.03, 0.96, 0.46, 0.67,\n",
              "          0.82, 0.86, 0.12, 0.97, 0.82, 0.41, 0.18, 0.71, 0.27, 0.72, 0.95,\n",
              "          0.45, 0.2 , 0.12, 0.1 , 0.01, 0.94, 0.26, 0.5 , 0.8 , 0.  , 0.25,\n",
              "          0.73, 0.11, 0.94, 0.49, 0.  , 0.02, 0.92, 0.98, 0.93, 0.25, 0.68,\n",
              "          0.75, 0.14, 0.24, 0.14, 0.61, 0.27, 0.32, 0.8 , 0.34, 0.98, 0.67,\n",
              "          0.99, 0.98, 0.55, 0.51, 0.01, 0.66, 0.69, 0.97, 0.52, 0.3 , 0.22,\n",
              "          0.82, 0.97, 0.52, 0.45, 0.07, 0.2 , 0.63, 0.64, 0.64, 0.81, 0.06,\n",
              "          0.39])},\n",
              "  'node_2': {'bias': array([0.93]),\n",
              "   'weights': array([0.27, 0.94, 0.7 , 0.36, 0.01, 0.92, 0.81, 0.33, 0.9 , 0.39, 0.05,\n",
              "          0.48, 0.68, 0.43, 0.1 , 0.41, 0.01, 0.23, 0.4 , 0.76, 0.57, 0.17,\n",
              "          0.64, 0.89, 0.11, 0.91, 0.48, 0.96, 0.14, 0.03, 0.69, 0.33, 0.77,\n",
              "          0.22, 0.93, 0.19, 0.08, 0.93, 0.32, 0.13, 0.92, 0.19, 0.82, 0.29,\n",
              "          0.85, 0.39, 0.9 , 0.07, 0.09, 0.09, 0.73, 0.71, 0.11, 0.3 , 0.36,\n",
              "          0.73, 0.7 , 0.35, 0.54, 0.32, 0.8 , 0.8 , 0.49, 0.4 , 0.46, 0.49,\n",
              "          0.95, 0.99, 0.25, 0.87, 0.33, 0.43, 0.54, 0.53, 0.97, 0.89, 0.93,\n",
              "          0.34, 0.75, 0.17, 0.11, 0.75, 0.18, 0.02, 0.48, 0.3 , 0.59, 0.37,\n",
              "          0.55, 0.67, 0.41, 0.35, 0.32, 0.98, 0.24, 0.76, 0.04, 0.87, 0.12,\n",
              "          0.89])},\n",
              "  'node_3': {'bias': array([0.49]),\n",
              "   'weights': array([0.54, 0.05, 0.53, 0.84, 0.62, 0.39, 0.17, 0.64, 0.06, 0.87, 0.33,\n",
              "          0.91, 0.1 , 0.65, 0.28, 0.8 , 0.04, 0.4 , 0.79, 0.15, 0.42, 0.38,\n",
              "          0.71, 0.25, 0.02, 0.88, 0.23, 0.61, 0.1 , 0.03, 0.56, 0.3 , 0.88,\n",
              "          0.61, 0.74, 0.17, 0.56, 0.98, 0.69, 1.  , 0.38, 0.29, 0.69, 0.68,\n",
              "          0.98, 0.03, 0.09, 0.89, 0.11, 0.58, 0.8 , 0.46, 0.36, 0.7 , 0.04,\n",
              "          0.74, 0.56, 0.46, 0.52, 0.79, 0.05, 0.31, 0.2 , 0.9 , 0.64, 0.72,\n",
              "          0.13, 0.97, 0.53, 0.74, 0.45, 0.91, 0.21, 0.43, 0.18, 0.01, 0.72,\n",
              "          0.36, 0.3 , 0.73, 0.55, 0.23, 0.25, 0.97, 0.17, 0.98, 0.08, 0.9 ,\n",
              "          0.79, 0.83, 0.19, 0.86, 0.01, 0.11, 0.75, 0.27, 0.12, 0.8 , 0.7 ,\n",
              "          0.71])},\n",
              "  'node_4': {'bias': array([0.67]),\n",
              "   'weights': array([0.48, 0.18, 0.79, 0.59, 0.92, 0.3 , 0.15, 0.38, 0.43, 0.59, 0.47,\n",
              "          0.7 , 0.39, 0.97, 0.26, 0.44, 0.19, 0.8 , 0.19, 0.73, 0.6 , 0.69,\n",
              "          0.62, 0.97, 0.68, 0.12, 0.9 , 0.98, 0.99, 0.84, 0.45, 0.26, 0.57,\n",
              "          0.3 , 0.22, 0.51, 0.71, 0.96, 0.79, 0.17, 0.36, 0.54, 0.11, 0.75,\n",
              "          0.88, 0.9 , 0.74, 0.67, 0.69, 0.84, 0.42, 0.73, 0.88, 0.6 , 0.12,\n",
              "          0.7 , 0.76, 0.38, 0.01, 0.23, 0.89, 0.54, 0.82, 0.09, 0.81, 0.53,\n",
              "          0.57, 0.54, 0.24, 0.98, 0.34, 0.43, 0.49, 0.62, 0.81, 0.48, 0.08,\n",
              "          0.4 , 0.87, 0.65, 0.61, 0.67, 0.77, 0.91, 0.57, 0.24, 0.59, 0.45,\n",
              "          0.79, 0.66, 0.9 , 0.47, 0.19, 0.79, 0.54, 0.13, 0.95, 0.64, 0.44,\n",
              "          0.1 ])},\n",
              "  'node_5': {'bias': array([0.47]),\n",
              "   'weights': array([0.81, 0.12, 0.4 , 0.43, 0.33, 0.26, 0.74, 0.46, 0.01, 0.89, 0.59,\n",
              "          0.04, 0.71, 0.99, 0.79, 0.36, 0.81, 0.46, 0.27, 0.43, 0.12, 0.52,\n",
              "          0.35, 0.47, 0.32, 0.83, 0.38, 0.26, 0.81, 0.39, 0.99, 0.17, 0.63,\n",
              "          0.97, 0.68, 0.2 , 0.89, 0.13, 0.48, 0.14, 0.82, 0.76, 0.75, 0.33,\n",
              "          0.55, 0.1 , 0.86, 0.76, 0.43, 0.37, 0.8 , 0.88, 0.37, 0.41, 0.79,\n",
              "          0.48, 0.14, 0.25, 0.51, 0.06, 0.56, 0.54, 0.26, 0.56, 0.58, 0.74,\n",
              "          0.8 , 0.5 , 0.52, 0.08, 0.32, 0.6 , 0.83, 0.14, 0.39, 0.85, 0.74,\n",
              "          0.71, 0.65, 0.75, 0.28, 0.19, 0.43, 0.31, 0.33, 0.23, 0.34, 0.22,\n",
              "          0.26, 0.67, 0.76, 0.88, 0.33, 0.38, 0.69, 0.36, 0.7 , 0.11, 0.13,\n",
              "          0.85])},\n",
              "  'node_6': {'bias': array([0.76]),\n",
              "   'weights': array([0.28, 0.77, 0.39, 0.51, 0.37, 0.94, 0.36, 0.4 , 0.89, 0.26, 0.17,\n",
              "          0.35, 0.53, 0.84, 0.6 , 0.36, 0.11, 0.75, 0.15, 0.6 , 0.04, 0.87,\n",
              "          0.6 , 0.48, 0.53, 0.13, 0.83, 0.86, 0.32, 0.46, 0.53, 0.07, 0.73,\n",
              "          0.79, 0.72, 0.17, 0.71, 0.21, 1.  , 0.5 , 0.63, 0.48, 0.12, 0.41,\n",
              "          0.15, 0.38, 0.7 , 0.65, 0.48, 0.36, 0.78, 0.2 , 0.74, 0.49, 0.95,\n",
              "          0.23, 0.77, 0.69, 0.3 , 0.99, 0.45, 0.6 , 0.66, 0.17, 0.78, 0.07,\n",
              "          0.21, 0.09, 0.3 , 0.66, 0.88, 0.92, 0.84, 0.71, 0.77, 0.59, 0.15,\n",
              "          0.46, 0.39, 0.49, 0.5 , 0.24, 0.85, 0.21, 0.15, 0.48, 0.19, 0.81,\n",
              "          0.53, 0.76, 0.05, 0.91, 0.69, 0.53, 0.54, 0.1 , 0.56, 0.61, 0.24,\n",
              "          0.54])},\n",
              "  'node_7': {'bias': array([0.85]),\n",
              "   'weights': array([0.  , 0.87, 0.99, 0.13, 0.6 , 0.93, 0.43, 0.01, 0.14, 0.26, 0.96,\n",
              "          0.89, 0.81, 0.78, 0.53, 0.51, 0.73, 0.11, 0.56, 0.96, 0.2 , 0.34,\n",
              "          0.6 , 0.39, 0.48, 0.84, 0.43, 0.12, 0.35, 0.74, 0.62, 0.52, 0.67,\n",
              "          0.44, 0.5 , 0.93, 0.33, 0.05, 0.56, 0.85, 0.31, 0.26, 0.43, 0.65,\n",
              "          0.89, 0.85, 0.59, 0.26, 0.63, 0.19, 0.76, 0.03, 0.63, 0.63, 0.09,\n",
              "          0.08, 0.6 , 0.23, 0.03, 0.18, 0.8 , 0.37, 0.59, 0.4 , 0.61, 0.13,\n",
              "          0.79, 0.97, 0.94, 0.99, 0.68, 0.97, 0.5 , 0.06, 0.66, 0.62, 0.24,\n",
              "          0.29, 0.23, 0.02, 0.08, 0.73, 0.16, 0.72, 0.69, 0.89, 0.16, 0.08,\n",
              "          0.52, 0.2 , 0.4 , 0.29, 0.6 , 0.43, 0.98, 0.29, 0.81, 0.62, 0.92,\n",
              "          0.29])},\n",
              "  'node_8': {'bias': array([0.39]),\n",
              "   'weights': array([0.49, 0.32, 0.15, 0.72, 0.39, 0.38, 0.46, 0.25, 0.41, 0.84, 0.57,\n",
              "          0.83, 0.22, 0.72, 0.47, 0.54, 0.74, 0.49, 0.02, 0.33, 0.66, 0.13,\n",
              "          0.22, 0.7 , 0.32, 0.98, 0.44, 0.62, 0.64, 0.66, 0.94, 0.79, 0.1 ,\n",
              "          0.99, 0.17, 0.59, 0.72, 0.17, 0.68, 0.77, 0.09, 0.82, 0.98, 0.64,\n",
              "          0.58, 0.06, 0.16, 0.54, 0.46, 0.64, 0.5 , 0.34, 0.92, 0.69, 0.88,\n",
              "          0.26, 0.97, 0.66, 0.92, 0.92, 0.05, 0.5 , 0.75, 0.81, 0.47, 0.92,\n",
              "          0.68, 0.71, 0.41, 0.69, 0.77, 0.85, 0.4 , 0.57, 0.8 , 0.76, 0.72,\n",
              "          0.95, 0.98, 0.78, 0.88, 0.24, 0.94, 0.85, 0.82, 0.04, 0.29, 0.91,\n",
              "          0.62, 0.61, 0.49, 0.83, 0.84, 0.2 , 0.36, 0.17, 0.83, 0.25, 0.15,\n",
              "          0.09])},\n",
              "  'node_9': {'bias': array([0.55]),\n",
              "   'weights': array([0.81, 0.6 , 0.09, 0.96, 0.74, 0.01, 0.62, 0.54, 0.6 , 0.24, 0.47,\n",
              "          0.29, 0.04, 0.74, 0.03, 0.76, 0.43, 0.81, 0.4 , 0.85, 0.71, 0.92,\n",
              "          0.14, 0.42, 0.61, 0.51, 0.92, 0.8 , 0.26, 0.19, 0.58, 0.65, 0.6 ,\n",
              "          0.05, 0.06, 0.41, 0.93, 0.33, 0.91, 0.13, 0.9 , 0.6 , 0.31, 0.28,\n",
              "          0.09, 0.25, 0.24, 0.84, 0.45, 0.56, 0.94, 0.33, 0.4 , 0.77, 0.6 ,\n",
              "          0.5 , 0.3 , 0.61, 0.52, 0.55, 0.18, 0.95, 0.29, 0.64, 0.32, 0.16,\n",
              "          0.18, 0.11, 0.82, 0.5 , 0.61, 0.51, 0.65, 0.17, 0.59, 0.57, 0.93,\n",
              "          0.27, 0.65, 0.28, 0.85, 0.18, 0.54, 0.56, 0.16, 0.68, 0.48, 0.4 ,\n",
              "          0.42, 0.75, 0.64, 0.07, 0.6 , 0.52, 0.88, 0.73, 0.65, 0.44, 0.34,\n",
              "          0.12])}},\n",
              " 'layer_10': {'node_1': {'bias': array([0.25]),\n",
              "   'weights': array([0.42, 0.13, 0.94, 0.73, 0.7 , 0.87, 0.03, 0.23, 0.08, 0.89])},\n",
              "  'node_10': {'bias': array([0.8]),\n",
              "   'weights': array([0.56, 0.02, 0.68, 0.4 , 0.06, 0.64, 0.97, 0.49, 0.7 , 0.4 ])},\n",
              "  'node_2': {'bias': array([0.72]),\n",
              "   'weights': array([0.35, 0.3 , 0.09, 0.72, 0.65, 0.78, 0.01, 0.71, 0.98, 0.34])},\n",
              "  'node_3': {'bias': array([0.72]),\n",
              "   'weights': array([0.81, 0.76, 0.01, 0.17, 0.97, 0.65, 0.34, 0.09, 0.65, 0.71])},\n",
              "  'node_4': {'bias': array([0.]),\n",
              "   'weights': array([0.85, 0.01, 0.27, 0.35, 0.17, 0.98, 0.55, 0.51, 0.3 , 0.12])},\n",
              "  'node_5': {'bias': array([0.4]),\n",
              "   'weights': array([0.74, 0.78, 0.63, 0.3 , 0.13, 0.92, 0.99, 0.07, 0.28, 0.69])},\n",
              "  'node_6': {'bias': array([0.27]),\n",
              "   'weights': array([0.87, 0.28, 0.71, 0.3 , 0.73, 0.79, 0.89, 0.05, 0.05, 0.46])},\n",
              "  'node_7': {'bias': array([0.95]),\n",
              "   'weights': array([0.6 , 0.1 , 0.49, 0.8 , 0.14, 0.47, 0.88, 0.79, 0.3 , 0.3 ])},\n",
              "  'node_8': {'bias': array([0.84]),\n",
              "   'weights': array([0.19, 0.85, 0.96, 0.69, 0.41, 0.99, 0.15, 0.92, 0.55, 0.74])},\n",
              "  'node_9': {'bias': array([0.83]),\n",
              "   'weights': array([0.8 , 0.96, 0.51, 0.04, 0.08, 0.95, 0.37, 0.01, 0.63, 0.21])}},\n",
              " 'layer_2': {'node_1': {'bias': array([0.77]),\n",
              "   'weights': array([0.05, 0.28, 0.78, 0.21, 0.3 , 0.01, 0.61, 0.36, 0.21, 0.88])},\n",
              "  'node_10': {'bias': array([0.95]),\n",
              "   'weights': array([0.06, 0.83, 0.49, 0.61, 0.3 , 0.82, 0.59, 0.87, 0.76, 0.39])},\n",
              "  'node_2': {'bias': array([0.92]),\n",
              "   'weights': array([0.29, 0.45, 0.05, 0.38, 0.18, 0.63, 0.92, 0.81, 0.81, 0.69])},\n",
              "  'node_3': {'bias': array([0.75]),\n",
              "   'weights': array([0.99, 0.81, 0.94, 0.49, 0.19, 0.29, 0.94, 0.92, 0.74, 0.54])},\n",
              "  'node_4': {'bias': array([0.73]),\n",
              "   'weights': array([0.01, 0.54, 0.11, 0.64, 0.41, 0.  , 0.47, 0.07, 0.36, 0.04])},\n",
              "  'node_5': {'bias': array([0.12]),\n",
              "   'weights': array([0.27, 0.72, 0.06, 0.39, 0.82, 0.49, 0.03, 0.18, 0.59, 0.  ])},\n",
              "  'node_6': {'bias': array([0.11]),\n",
              "   'weights': array([0.88, 0.42, 0.42, 0.96, 0.56, 0.42, 0.57, 0.54, 0.92, 0.62])},\n",
              "  'node_7': {'bias': array([0.23]),\n",
              "   'weights': array([0.65, 0.97, 0.44, 0.88, 0.37, 0.48, 0.26, 0.3 , 0.17, 0.13])},\n",
              "  'node_8': {'bias': array([0.44]),\n",
              "   'weights': array([0.6 , 0.95, 0.42, 0.47, 0.4 , 0.94, 0.22, 0.11, 0.73, 0.97])},\n",
              "  'node_9': {'bias': array([0.64]),\n",
              "   'weights': array([0.19, 0.74, 0.66, 0.56, 0.97, 0.93, 0.64, 0.85, 0.61, 0.21])}},\n",
              " 'layer_3': {'node_1': {'bias': array([0.59]),\n",
              "   'weights': array([0.78, 0.15, 0.3 , 0.76, 0.76, 0.38, 0.72, 0.5 , 0.06, 0.68])},\n",
              "  'node_10': {'bias': array([0.5]),\n",
              "   'weights': array([0.12, 0.32, 0.63, 0.2 , 0.73, 0.8 , 0.08, 0.85, 0.83, 0.32])},\n",
              "  'node_2': {'bias': array([0.06]),\n",
              "   'weights': array([0.69, 0.83, 0.39, 0.18, 0.5 , 0.27, 0.56, 0.81, 0.27, 0.59])},\n",
              "  'node_3': {'bias': array([0.75]),\n",
              "   'weights': array([0.22, 0.07, 0.4 , 0.49, 0.31, 0.96, 0.18, 0.76, 0.52, 0.48])},\n",
              "  'node_4': {'bias': array([0.17]),\n",
              "   'weights': array([0.94, 0.13, 0.99, 0.99, 0.88, 0.11, 0.8 , 0.62, 0.28, 0.38])},\n",
              "  'node_5': {'bias': array([0.16]),\n",
              "   'weights': array([0.1 , 0.18, 0.73, 0.28, 0.92, 0.89, 0.89, 0.4 , 0.17, 0.59])},\n",
              "  'node_6': {'bias': array([0.96]),\n",
              "   'weights': array([0.33, 0.92, 0.28, 0.34, 0.6 , 0.78, 0.14, 0.9 , 0.42, 0.11])},\n",
              "  'node_7': {'bias': array([0.73]),\n",
              "   'weights': array([0.26, 0.1 , 0.89, 0.59, 0.65, 0.43, 0.87, 0.76, 0.39, 0.05])},\n",
              "  'node_8': {'bias': array([0.25]),\n",
              "   'weights': array([0.94, 0.17, 0.12, 0.81, 0.86, 0.14, 0.01, 0.32, 0.75, 0.13])},\n",
              "  'node_9': {'bias': array([0.94]),\n",
              "   'weights': array([0.71, 0.05, 0.03, 0.03, 0.66, 0.96, 0.13, 0.26, 0.87, 0.14])}},\n",
              " 'layer_4': {'node_1': {'bias': array([0.93]),\n",
              "   'weights': array([0.07, 0.04, 0.68, 0.2 , 0.05, 0.41, 0.63, 0.48, 0.01, 0.87])},\n",
              "  'node_10': {'bias': array([0.33]),\n",
              "   'weights': array([0.07, 0.72, 0.98, 0.04, 0.44, 0.9 , 0.  , 0.37, 0.92, 0.27])},\n",
              "  'node_2': {'bias': array([0.89]),\n",
              "   'weights': array([0.87, 0.92, 0.85, 0.1 , 0.  , 0.48, 0.96, 0.78, 0.47, 0.25])},\n",
              "  'node_3': {'bias': array([0.16]),\n",
              "   'weights': array([0.32, 0.36, 0.55, 0.84, 0.73, 0.38, 0.55, 0.66, 0.23, 0.05])},\n",
              "  'node_4': {'bias': array([0.57]),\n",
              "   'weights': array([0.13, 0.22, 0.41, 0.45, 0.18, 0.45, 0.82, 0.05, 0.53, 0.59])},\n",
              "  'node_5': {'bias': array([0.03]),\n",
              "   'weights': array([0.11, 0.65, 0.86, 0.2 , 0.28, 0.27, 0.52, 0.81, 0.42, 0.89])},\n",
              "  'node_6': {'bias': array([0.85]),\n",
              "   'weights': array([0.81, 0.9 , 0.6 , 0.68, 0.64, 0.47, 0.76, 0.8 , 0.88, 0.82])},\n",
              "  'node_7': {'bias': array([0.97]),\n",
              "   'weights': array([0.41, 0.42, 0.28, 0.2 , 0.6 , 0.05, 0.88, 0.95, 0.39, 0.35])},\n",
              "  'node_8': {'bias': array([0.07]),\n",
              "   'weights': array([0.31, 0.37, 0.38, 0.74, 0.77, 0.82, 0.63, 0.75, 0.51, 0.79])},\n",
              "  'node_9': {'bias': array([0.58]),\n",
              "   'weights': array([0.32, 0.31, 0.88, 0.69, 0.73, 0.86, 0.75, 0.31, 0.08, 0.24])}},\n",
              " 'layer_5': {'node_1': {'bias': array([0.16]),\n",
              "   'weights': array([0.19, 0.24, 0.3 , 0.36, 0.72, 0.37, 0.78, 0.89, 0.01, 0.85])},\n",
              "  'node_10': {'bias': array([0.98]),\n",
              "   'weights': array([0.29, 0.01, 0.09, 0.41, 0.37, 0.98, 0.47, 0.95, 0.42, 0.17])},\n",
              "  'node_2': {'bias': array([0.84]),\n",
              "   'weights': array([0.87, 0.5 , 0.87, 0.97, 0.09, 0.86, 0.44, 0.4 , 0.26, 0.06])},\n",
              "  'node_3': {'bias': array([0.79]),\n",
              "   'weights': array([0.89, 0.72, 0.74, 0.2 , 0.29, 0.41, 0.69, 0.63, 0.71, 0.09])},\n",
              "  'node_4': {'bias': array([0.03]),\n",
              "   'weights': array([0.1 , 0.5 , 0.32, 0.86, 0.74, 0.98, 0.88, 0.69, 0.19, 0.21])},\n",
              "  'node_5': {'bias': array([0.55]),\n",
              "   'weights': array([0.13, 0.96, 0.01, 0.06, 0.28, 0.54, 0.47, 0.68, 0.79, 0.73])},\n",
              "  'node_6': {'bias': array([0.73]),\n",
              "   'weights': array([0.26, 0.15, 0.4 , 0.92, 0.92, 0.16, 0.42, 0.73, 0.33, 0.82])},\n",
              "  'node_7': {'bias': array([0.52]),\n",
              "   'weights': array([0.8 , 0.18, 0.02, 0.53, 0.07, 0.34, 0.87, 0.84, 0.49, 0.37])},\n",
              "  'node_8': {'bias': array([0.51]),\n",
              "   'weights': array([0.69, 0.68, 0.03, 0.78, 0.42, 0.78, 0.64, 0.41, 0.88, 0.95])},\n",
              "  'node_9': {'bias': array([0.51]),\n",
              "   'weights': array([0.63, 0.33, 0.89, 0.3 , 0.07, 0.28, 0.99, 0.37, 0.16, 0.14])}},\n",
              " 'layer_6': {'node_1': {'bias': array([0.36]),\n",
              "   'weights': array([0.37, 0.39, 0.87, 0.1 , 1.  , 0.64, 0.24, 0.54, 0.78, 0.91])},\n",
              "  'node_10': {'bias': array([0.43]),\n",
              "   'weights': array([0.31, 0.22, 0.9 , 0.87, 0.49, 0.83, 0.37, 0.38, 0.87, 0.78])},\n",
              "  'node_2': {'bias': array([0.11]),\n",
              "   'weights': array([0.12, 0.6 , 0.43, 0.03, 0.77, 0.22, 0.92, 0.25, 0.25, 0.43])},\n",
              "  'node_3': {'bias': array([0.81]),\n",
              "   'weights': array([0.83, 0.63, 0.16, 0.6 , 0.22, 0.84, 0.53, 0.22, 0.77, 0.21])},\n",
              "  'node_4': {'bias': array([0.4]),\n",
              "   'weights': array([0.78, 0.68, 0.36, 0.37, 0.06, 0.86, 0.93, 0.62, 0.94, 0.01])},\n",
              "  'node_5': {'bias': array([0.24]),\n",
              "   'weights': array([0.8 , 0.34, 0.59, 0.72, 0.55, 0.43, 0.36, 0.41, 0.72, 0.26])},\n",
              "  'node_6': {'bias': array([0.59]),\n",
              "   'weights': array([0.72, 0.48, 0.39, 0.39, 0.99, 0.95, 0.49, 0.26, 0.81, 0.62])},\n",
              "  'node_7': {'bias': array([0.65]),\n",
              "   'weights': array([0.96, 0.07, 0.37, 0.66, 0.79, 0.64, 0.95, 0.01, 0.4 , 0.06])},\n",
              "  'node_8': {'bias': array([0.36]),\n",
              "   'weights': array([0.59, 0.88, 0.12, 0.26, 0.71, 0.44, 0.44, 0.67, 0.39, 0.74])},\n",
              "  'node_9': {'bias': array([0.99]),\n",
              "   'weights': array([1.  , 0.28, 1.  , 0.09, 0.6 , 0.74, 0.77, 0.51, 0.37, 0.44])}},\n",
              " 'layer_7': {'node_1': {'bias': array([0.86]),\n",
              "   'weights': array([0.11, 0.79, 0.43, 0.95, 0.3 , 0.88, 0.66, 0.36, 0.89, 0.85])},\n",
              "  'node_10': {'bias': array([0.62]),\n",
              "   'weights': array([0.2 , 0.2 , 0.19, 0.12, 0.7 , 0.64, 0.09, 0.67, 0.6 , 0.12])},\n",
              "  'node_2': {'bias': array([0.73]),\n",
              "   'weights': array([0.97, 0.7 , 0.79, 0.37, 0.59, 0.1 , 0.96, 0.38, 0.58, 0.34])},\n",
              "  'node_3': {'bias': array([0.92]),\n",
              "   'weights': array([0.57, 0.49, 0.74, 0.05, 0.85, 0.31, 0.83, 0.1 , 0.46, 0.52])},\n",
              "  'node_4': {'bias': array([0.65]),\n",
              "   'weights': array([0.18, 0.23, 0.02, 0.61, 0.14, 0.56, 0.44, 0.15, 0.01, 0.73])},\n",
              "  'node_5': {'bias': array([0.38]),\n",
              "   'weights': array([0.  , 0.69, 0.01, 0.52, 0.19, 0.91, 0.97, 0.87, 0.33, 0.14])},\n",
              "  'node_6': {'bias': array([0.66]),\n",
              "   'weights': array([0.65, 0.33, 0.53, 0.61, 0.24, 0.79, 0.44, 0.39, 0.22, 0.21])},\n",
              "  'node_7': {'bias': array([0.72]),\n",
              "   'weights': array([0.34, 0.  , 0.6 , 0.22, 0.43, 0.66, 0.22, 0.55, 0.8 , 0.1 ])},\n",
              "  'node_8': {'bias': array([0.95]),\n",
              "   'weights': array([0.51, 0.39, 0.15, 0.38, 0.14, 0.45, 0.46, 0.27, 0.24, 0.33])},\n",
              "  'node_9': {'bias': array([0.71]),\n",
              "   'weights': array([0.17, 0.75, 0.22, 0.56, 0.56, 0.39, 0.93, 0.37, 0.06, 0.78])}},\n",
              " 'layer_8': {'node_1': {'bias': array([0.91]),\n",
              "   'weights': array([0.8 , 0.51, 0.76, 0.36, 0.08, 0.  , 0.18, 0.3 , 0.47, 0.76])},\n",
              "  'node_10': {'bias': array([0.96]),\n",
              "   'weights': array([0.57, 0.83, 0.23, 0.23, 0.92, 0.7 , 0.98, 0.38, 0.46, 0.21])},\n",
              "  'node_2': {'bias': array([0.58]),\n",
              "   'weights': array([0.45, 0.61, 0.84, 0.64, 0.18, 0.41, 0.89, 0.04, 0.14, 0.75])},\n",
              "  'node_3': {'bias': array([0.53]),\n",
              "   'weights': array([0.93, 0.25, 0.07, 0.98, 0.1 , 0.59, 0.3 , 0.61, 0.95, 0.45])},\n",
              "  'node_4': {'bias': array([0.5]),\n",
              "   'weights': array([0.84, 0.73, 0.08, 0.27, 0.39, 0.96, 0.25, 0.72, 0.94, 0.44])},\n",
              "  'node_5': {'bias': array([0.46]),\n",
              "   'weights': array([0.98, 0.51, 0.63, 0.67, 0.97, 0.92, 0.2 , 0.97, 0.41, 0.05])},\n",
              "  'node_6': {'bias': array([0.81]),\n",
              "   'weights': array([0.52, 0.78, 0.  , 0.72, 0.23, 0.44, 0.82, 0.12, 0.17, 0.88])},\n",
              "  'node_7': {'bias': array([0.31]),\n",
              "   'weights': array([0.12, 0.09, 0.65, 0.68, 0.99, 0.1 , 0.53, 0.51, 0.38, 0.32])},\n",
              "  'node_8': {'bias': array([0.29]),\n",
              "   'weights': array([0.77, 0.96, 0.43, 0.88, 0.95, 0.69, 0.46, 0.54, 0.07, 0.47])},\n",
              "  'node_9': {'bias': array([0.4]),\n",
              "   'weights': array([0.41, 0.24, 0.76, 0.87, 0.8 , 0.98, 0.15, 0.05, 0.32, 0.55])}},\n",
              " 'layer_9': {'node_1': {'bias': array([0.22]),\n",
              "   'weights': array([0.4 , 0.8 , 0.68, 0.86, 0.85, 0.64, 0.94, 0.68, 0.97, 0.79])},\n",
              "  'node_10': {'bias': array([0.7]),\n",
              "   'weights': array([0.98, 0.36, 0.24, 0.07, 0.5 , 0.33, 0.46, 0.82, 0.54, 0.3 ])},\n",
              "  'node_2': {'bias': array([0.5]),\n",
              "   'weights': array([0.43, 0.52, 0.34, 0.  , 0.37, 0.29, 0.3 , 0.98, 0.96, 0.64])},\n",
              "  'node_3': {'bias': array([0.53]),\n",
              "   'weights': array([0.57, 0.94, 0.72, 0.87, 0.86, 0.09, 0.86, 0.95, 0.12, 0.41])},\n",
              "  'node_4': {'bias': array([0.71]),\n",
              "   'weights': array([0.33, 0.68, 0.25, 0.47, 0.27, 0.28, 0.13, 0.8 , 0.53, 0.05])},\n",
              "  'node_5': {'bias': array([0.73]),\n",
              "   'weights': array([0.82, 0.45, 0.87, 0.78, 0.42, 0.08, 0.89, 0.22, 0.6 , 0.54])},\n",
              "  'node_6': {'bias': array([0.78]),\n",
              "   'weights': array([0.12, 0.2 , 0.73, 0.33, 0.35, 0.01, 0.89, 0.99, 0.29, 0.29])},\n",
              "  'node_7': {'bias': array([0.72]),\n",
              "   'weights': array([0.81, 0.67, 0.53, 0.94, 0.13, 0.3 , 0.8 , 0.55, 0.41, 0.79])},\n",
              "  'node_8': {'bias': array([0.78]),\n",
              "   'weights': array([0.64, 0.38, 0.88, 0.87, 0.41, 0.18, 0.3 , 0.75, 0.82, 0.7 ])},\n",
              "  'node_9': {'bias': array([0.65]),\n",
              "   'weights': array([0.21, 0.14, 0.92, 0.5 , 0.37, 0.26, 0.11, 0.87, 0.72, 0.97])}},\n",
              " 'output': {'node_1': {'bias': array([0.69]),\n",
              "   'weights': array([0.48, 0.68, 0.06, 0.43, 0.89, 0.65, 0.59, 0.74, 0.55, 0.64])}}}"
            ]
          },
          "metadata": {
            "tags": []
          },
          "execution_count": 33
        }
      ]
    },
    {
      "cell_type": "code",
      "metadata": {
        "id": "ojKLjlB83M_T",
        "colab_type": "code",
        "outputId": "0732976f-4f62-43a1-d398-cece9b13f0c4",
        "colab": {
          "base_uri": "https://localhost:8080/",
          "height": 34
        }
      },
      "source": [
        "\n"
      ],
      "execution_count": 0,
      "outputs": [
        {
          "output_type": "stream",
          "text": [
            "[10 10 10 10 10 10 10 10 10 10]\n"
          ],
          "name": "stdout"
        }
      ]
    },
    {
      "cell_type": "code",
      "metadata": {
        "id": "MDIuIqW8CdM3",
        "colab_type": "code",
        "colab": {}
      },
      "source": [
        ""
      ],
      "execution_count": 0,
      "outputs": []
    },
    {
      "cell_type": "code",
      "metadata": {
        "id": "7aO8YlRbBzv8",
        "colab_type": "code",
        "outputId": "94d42e57-513b-4b63-f04b-1329c9610667",
        "colab": {
          "base_uri": "https://localhost:8080/",
          "height": 289
        }
      },
      "source": [
        "x= initialize_network(5, 3, 3, 1)\n",
        "x"
      ],
      "execution_count": 0,
      "outputs": [
        {
          "output_type": "execute_result",
          "data": {
            "text/plain": [
              "{'layer_1': {'node_1': {'bias': array([0.85]),\n",
              "   'weights': array([0.32, 0.5 , 0.36, 0.21, 0.52])},\n",
              "  'node_2': {'bias': array([0.68]),\n",
              "   'weights': array([0.65, 0.88, 0.32, 0.33, 1.  ])},\n",
              "  'node_3': {'bias': array([0.1]),\n",
              "   'weights': array([0.64, 0.08, 0.39, 0.13, 0.63])}},\n",
              " 'layer_2': {'node_1': {'bias': array([0.14]),\n",
              "   'weights': array([0.01, 0.18, 0.85])},\n",
              "  'node_2': {'bias': array([0.86]), 'weights': array([0.34, 0.5 , 0.75])},\n",
              "  'node_3': {'bias': array([1.]), 'weights': array([0.43, 0.7 , 0.96])}},\n",
              " 'layer_3': {'node_1': {'bias': array([0.75]),\n",
              "   'weights': array([0.6 , 0.6 , 0.36])},\n",
              "  'node_2': {'bias': array([0.55]), 'weights': array([0.56, 0.31, 0.95])},\n",
              "  'node_3': {'bias': array([0.77]), 'weights': array([0.18, 0.44, 0.69])}},\n",
              " 'output': {'node_1': {'bias': array([0.93]),\n",
              "   'weights': array([0.95, 0.28, 0.65])}}}"
            ]
          },
          "metadata": {
            "tags": []
          },
          "execution_count": 52
        }
      ]
    },
    {
      "cell_type": "markdown",
      "metadata": {
        "id": "8Sz3XuRmCd9n",
        "colab_type": "text"
      },
      "source": [
        "1. takes 5 inputs\n",
        "2. has three hidden layers\n",
        "3. has 3 nodes in the first layer, 2 nodes in the second layer, and 3 nodes in the third layer\n",
        "4. has 1 node in the output layer\n",
        "\n",
        "Call the network **small_network**."
      ]
    },
    {
      "cell_type": "code",
      "metadata": {
        "id": "DcxiPhz4Ce5J",
        "colab_type": "code",
        "colab": {}
      },
      "source": [
        "def initialize_network1(num_inputs, num_hidden_layers, num_nodes_hidden, num_nodes_output):\n",
        "    \n",
        "    num_nodes_previous = num_inputs # number of nodes in the previous layer\n",
        "    #m = np.full((num_nodes_hidden),num_nodes_hidden)\n",
        "    m= [3,2,3]\n",
        "    network = {}\n",
        "    \n",
        "    # loop through each layer and randomly initialize the weights and biases associated with each layer\n",
        "    for layer in range(num_hidden_layers + 1):\n",
        "        \n",
        "        if layer == num_hidden_layers:\n",
        "            layer_name = 'output' # name last layer in the network output\n",
        "            num_nodes = num_nodes_output\n",
        "        else:\n",
        "            layer_name = 'layer_{}'.format(layer + 1) # otherwise give the layer a number\n",
        "            num_nodes = m[layer] \n",
        "        \n",
        "        # initialize weights and bias for each node\n",
        "        network[layer_name] = {}\n",
        "        for node in range(num_nodes):\n",
        "            node_name = 'node_{}'.format(node+1)\n",
        "            network[layer_name][node_name] = {\n",
        "                'weights': np.around(np.random.uniform(size=num_nodes_previous), decimals=2),\n",
        "                'bias': np.around(np.random.uniform(size=1), decimals=2),\n",
        "            }\n",
        "    \n",
        "        num_nodes_previous = num_nodes\n",
        "\n",
        "    return network # return the network"
      ],
      "execution_count": 0,
      "outputs": []
    },
    {
      "cell_type": "code",
      "metadata": {
        "id": "X_z51s6kDV-f",
        "colab_type": "code",
        "outputId": "cd0a0e24-7d03-46ff-e874-91a967a4b3c3",
        "colab": {
          "base_uri": "https://localhost:8080/",
          "height": 255
        }
      },
      "source": [
        "small_network = initialize_network1(5,3,3,1)\n",
        "small_network "
      ],
      "execution_count": 0,
      "outputs": [
        {
          "output_type": "execute_result",
          "data": {
            "text/plain": [
              "{'layer_1': {'node_1': {'bias': array([0.13]),\n",
              "   'weights': array([0.71, 0.26, 0.66, 0.15, 0.55])},\n",
              "  'node_2': {'bias': array([0.9]),\n",
              "   'weights': array([0.86, 0.97, 0.75, 0.69, 0.89])},\n",
              "  'node_3': {'bias': array([0.83]),\n",
              "   'weights': array([0.6 , 0.22, 0.99, 0.82, 0.28])}},\n",
              " 'layer_2': {'node_1': {'bias': array([0.65]),\n",
              "   'weights': array([0.97, 0.21, 0.8 ])},\n",
              "  'node_2': {'bias': array([0.94]), 'weights': array([0.89, 0.29, 0.56])}},\n",
              " 'layer_3': {'node_1': {'bias': array([0.16]), 'weights': array([0.29, 0.19])},\n",
              "  'node_2': {'bias': array([0.05]), 'weights': array([0.68, 0.2 ])},\n",
              "  'node_3': {'bias': array([0.5]), 'weights': array([0.42, 0.05])}},\n",
              " 'output': {'node_1': {'bias': array([0.78]),\n",
              "   'weights': array([0.74, 0.95, 0.83])}}}"
            ]
          },
          "metadata": {
            "tags": []
          },
          "execution_count": 56
        }
      ]
    },
    {
      "cell_type": "code",
      "metadata": {
        "id": "dVmEu_5FG09l",
        "colab_type": "code",
        "colab": {}
      },
      "source": [
        "def initialize_network(num_inputs, num_hidden_layers, num_nodes_hidden, num_nodes_output):\n",
        "    \n",
        "    num_nodes_previous = num_inputs # number of nodes in the previous layer\n",
        "    m = np.full((num_nodes_hidden),num_nodes_hidden)\n",
        "    network = {}\n",
        "    \n",
        "    # loop through each layer and randomly initialize the weights and biases associated with each layer\n",
        "    for layer in range(num_hidden_layers + 1):\n",
        "        \n",
        "        if layer == num_hidden_layers:\n",
        "            layer_name = 'output' # name last layer in the network output\n",
        "            num_nodes = num_nodes_output\n",
        "        else:\n",
        "            layer_name = 'layer_{}'.format(layer + 1) # otherwise give the layer a number\n",
        "            num_nodes = m[layer] \n",
        "        \n",
        "        # initialize weights and bias for each node\n",
        "        network[layer_name] = {}\n",
        "        for node in range(num_nodes):\n",
        "            node_name = 'node_{}'.format(node+1)\n",
        "            network[layer_name][node_name] = {\n",
        "                'weights': np.around(np.random.uniform(size=num_nodes_previous), decimals=2),\n",
        "                'bias': np.around(np.random.uniform(size=1), decimals=2),\n",
        "            }\n",
        "    \n",
        "        num_nodes_previous = num_nodes\n",
        "\n",
        "    return network # return the network"
      ],
      "execution_count": 0,
      "outputs": []
    },
    {
      "cell_type": "code",
      "metadata": {
        "id": "uTSEStIIHB0M",
        "colab_type": "code",
        "outputId": "a3f8499c-b2a6-47c1-979a-eb4f1ea28036",
        "colab": {
          "base_uri": "https://localhost:8080/",
          "height": 255
        }
      },
      "source": [
        "small_network = initialize_network(5, 3, [3, 2, 3], 1)\n",
        "small_network"
      ],
      "execution_count": 0,
      "outputs": [
        {
          "output_type": "execute_result",
          "data": {
            "text/plain": [
              "{'layer_1': {'node_1': {'bias': array([0.28]),\n",
              "   'weights': array([0.92, 0.9 , 0.03, 0.96, 0.14])},\n",
              "  'node_2': {'bias': array([0.55]),\n",
              "   'weights': array([0.61, 0.94, 0.85, 0.  , 0.52])},\n",
              "  'node_3': {'bias': array([0.14]),\n",
              "   'weights': array([0.49, 0.77, 0.16, 0.76, 0.02])}},\n",
              " 'layer_2': {'node_1': {'bias': array([0.47]),\n",
              "   'weights': array([0.12, 0.31, 0.67])},\n",
              "  'node_2': {'bias': array([0.7]), 'weights': array([0.82, 0.29, 0.73])}},\n",
              " 'layer_3': {'node_1': {'bias': array([0.98]), 'weights': array([0.33, 0.33])},\n",
              "  'node_2': {'bias': array([0.77]), 'weights': array([0.62, 0.95])},\n",
              "  'node_3': {'bias': array([0.45]), 'weights': array([0.83, 0.41])}},\n",
              " 'output': {'node_1': {'bias': array([0.96]),\n",
              "   'weights': array([0.4 , 1.  , 0.18])}}}"
            ]
          },
          "metadata": {
            "tags": []
          },
          "execution_count": 69
        }
      ]
    },
    {
      "cell_type": "markdown",
      "metadata": {
        "id": "kovybq6ZHli2",
        "colab_type": "text"
      },
      "source": [
        "Compute Weighted Sum at Each Node\n",
        "The weighted sum at each node is computed as the dot product of the inputs and the weights plus the bias. So let's create a function called compute_weighted_sum that does just that."
      ]
    },
    {
      "cell_type": "code",
      "metadata": {
        "id": "9lxZ720PJ5y2",
        "colab_type": "code",
        "outputId": "c730ee55-9b0c-4e98-cce8-3dff57759a4b",
        "colab": {
          "base_uri": "https://localhost:8080/",
          "height": 34
        }
      },
      "source": [
        "small_network.keys()"
      ],
      "execution_count": 0,
      "outputs": [
        {
          "output_type": "execute_result",
          "data": {
            "text/plain": [
              "dict_keys(['layer_1', 'layer_2', 'layer_3', 'output'])"
            ]
          },
          "metadata": {
            "tags": []
          },
          "execution_count": 72
        }
      ]
    },
    {
      "cell_type": "code",
      "metadata": {
        "id": "IUeVy4HZKORX",
        "colab_type": "code",
        "outputId": "3dd86d25-ee44-4b39-fc18-07dafd89614b",
        "colab": {
          "base_uri": "https://localhost:8080/",
          "height": 34
        }
      },
      "source": [
        "small_network['layer_1']['node_1']['weights']"
      ],
      "execution_count": 0,
      "outputs": [
        {
          "output_type": "execute_result",
          "data": {
            "text/plain": [
              "array([0.92, 0.9 , 0.03, 0.96, 0.14])"
            ]
          },
          "metadata": {
            "tags": []
          },
          "execution_count": 75
        }
      ]
    },
    {
      "cell_type": "code",
      "metadata": {
        "id": "MkC-W_yEHh_J",
        "colab_type": "code",
        "colab": {}
      },
      "source": [
        "def compute_weighted_sum(inputs, weights, bias):\n",
        "    return np.sum(inputs * weights) + bias"
      ],
      "execution_count": 0,
      "outputs": []
    },
    {
      "cell_type": "markdown",
      "metadata": {
        "id": "pjbVgVtpHref",
        "colab_type": "text"
      },
      "source": [
        "Let's generate 5 inputs that we can feed to small_network."
      ]
    },
    {
      "cell_type": "code",
      "metadata": {
        "id": "8iidX6_QO6ct",
        "colab_type": "code",
        "colab": {}
      },
      "source": [
        ""
      ],
      "execution_count": 0,
      "outputs": []
    },
    {
      "cell_type": "code",
      "metadata": {
        "id": "By_UOyikHmbA",
        "colab_type": "code",
        "outputId": "9e9d36b1-8a6d-4085-c848-8b6a4f52b047",
        "colab": {
          "base_uri": "https://localhost:8080/",
          "height": 34
        }
      },
      "source": [
        "from random import seed\n",
        "import numpy as np\n",
        "\n",
        "np.random.seed(12)\n",
        "inputs = np.around(np.random.uniform(size=5), decimals=2)\n",
        "\n",
        "print('The inputs to the network are {}'.format(inputs))"
      ],
      "execution_count": 0,
      "outputs": [
        {
          "output_type": "stream",
          "text": [
            "The inputs to the network are [0.15 0.74 0.26 0.53 0.01]\n"
          ],
          "name": "stdout"
        }
      ]
    },
    {
      "cell_type": "markdown",
      "metadata": {
        "id": "RvvCdJsSH8Rd",
        "colab_type": "text"
      },
      "source": [
        "Use the compute_weighted_sum function to compute the weighted sum at the first node in the first hidden layer."
      ]
    },
    {
      "cell_type": "code",
      "metadata": {
        "id": "JI6QckFuOPfz",
        "colab_type": "code",
        "outputId": "ba4c4ab9-a9b0-40d4-c60a-943478ed1dc5",
        "colab": {
          "base_uri": "https://localhost:8080/",
          "height": 34
        }
      },
      "source": [
        "node_weights = small_network['layer_1']['node_1']['weights']\n",
        "node_bias = small_network['layer_1']['node_1']['bias']\n",
        "\n",
        "weighted_sum = compute_weighted_sum(inputs, node_weights, node_bias)\n",
        "print('The weighted sum at the first node in the hidden layer is {}'.format(np.around(weighted_sum[0], decimals=4)))"
      ],
      "execution_count": 0,
      "outputs": [
        {
          "output_type": "stream",
          "text": [
            "The weighted sum at the first node in the hidden layer is 1.602\n"
          ],
          "name": "stdout"
        }
      ]
    },
    {
      "cell_type": "code",
      "metadata": {
        "id": "ZN59hCqbH7Mg",
        "colab_type": "code",
        "outputId": "87ee655c-cf38-4490-f997-efad24204d2d",
        "colab": {
          "base_uri": "https://localhost:8080/",
          "height": 34
        }
      },
      "source": [
        "compute_weighted_sum(inputs,small_network['layer_1']['node_1']['weights'], small_network['layer_1']['node_1']['bias'] )"
      ],
      "execution_count": 0,
      "outputs": [
        {
          "output_type": "execute_result",
          "data": {
            "text/plain": [
              "array([1.602])"
            ]
          },
          "metadata": {
            "tags": []
          },
          "execution_count": 76
        }
      ]
    },
    {
      "cell_type": "markdown",
      "metadata": {
        "id": "rQs53J7fK_Ei",
        "colab_type": "text"
      },
      "source": [
        "Compute Node Activation\n",
        "Recall that the output of each node is simply a non-linear tranformation of the weighted sum. We use activation functions for this mapping. Let's use the sigmoid function as the activation function here. So let's define a function that takes a weighted sum as input and returns the non-linear transformation of the input using the sigmoid function."
      ]
    },
    {
      "cell_type": "code",
      "metadata": {
        "id": "0RiIFVsRK-dt",
        "colab_type": "code",
        "colab": {}
      },
      "source": [
        "def node_activation(weighted_sum):\n",
        "    return 1.0 / (1.0 + np.exp(-1 * weighted_sum))"
      ],
      "execution_count": 0,
      "outputs": []
    },
    {
      "cell_type": "markdown",
      "metadata": {
        "id": "XcGTW15uMZCn",
        "colab_type": "text"
      },
      "source": [
        "The above is a recursive function\n",
        "below created a normal function"
      ]
    },
    {
      "cell_type": "code",
      "metadata": {
        "id": "EJu-SmAsOSv0",
        "colab_type": "code",
        "outputId": "c18fa536-d0f3-4b41-fb75-a3c352a6d525",
        "colab": {
          "base_uri": "https://localhost:8080/",
          "height": 34
        }
      },
      "source": [
        "node_output  = node_activation(compute_weighted_sum(inputs, node_weights, node_bias))\n",
        "print('The output of the first node in the hidden layer is {}'.format(np.around(node_output[0], decimals=4)))"
      ],
      "execution_count": 0,
      "outputs": [
        {
          "output_type": "stream",
          "text": [
            "The output of the first node in the hidden layer is 0.8323\n"
          ],
          "name": "stdout"
        }
      ]
    },
    {
      "cell_type": "code",
      "metadata": {
        "id": "FITrJZZFLDn1",
        "colab_type": "code",
        "outputId": "c9ccfb67-6406-442a-b516-89f5689312b4",
        "colab": {
          "base_uri": "https://localhost:8080/",
          "height": 34
        }
      },
      "source": [
        "out_put = node_activation(compute_weighted_sum(inputs,small_network['layer_1']['node_1']['weights'], small_network['layer_1']['node_1']['bias'] ))\n",
        "out_put"
      ],
      "execution_count": 0,
      "outputs": [
        {
          "output_type": "execute_result",
          "data": {
            "text/plain": [
              "array([0.83229773])"
            ]
          },
          "metadata": {
            "tags": []
          },
          "execution_count": 97
        }
      ]
    },
    {
      "cell_type": "markdown",
      "metadata": {
        "id": "25cBigKDSUmo",
        "colab_type": "text"
      },
      "source": [
        "Forward Propagation¶\n",
        "The final piece of building a neural network that can perform predictions is to put everything together. So let's create a function that applies the compute_weighted_sum and node_activation functions to each node in the network and propagates the data all the way to the output layer and outputs a prediction for each node in the output layer.\n",
        "\n",
        "The way we are going to accomplish this is through the following procedure:\n",
        "\n",
        "Start with the input layer as the input to the first hidden layer.\n",
        "Compute the weighted sum at the nodes of the current layer.\n",
        "Compute the output of the nodes of the current layer.\n",
        "Set the output of the current layer to be the input to the next layer.\n",
        "Move to the next layer in the network.\n",
        "Repeat steps 2 - 4 until we compute the output of the output layer."
      ]
    },
    {
      "cell_type": "code",
      "metadata": {
        "id": "-B3J1YS2SVaB",
        "colab_type": "code",
        "colab": {}
      },
      "source": [
        "def forward_propagate(network, inputs):\n",
        "    \n",
        "    layer_inputs = list(inputs) # start with the input layer as the input to the first hidden layer\n",
        "    \n",
        "    for layer in network:\n",
        "        \n",
        "        layer_data = network[layer]\n",
        "        \n",
        "        layer_outputs = [] \n",
        "        for layer_node in layer_data:\n",
        "        \n",
        "            node_data = layer_data[layer_node]\n",
        "        \n",
        "            # compute the weighted sum and the output of each node at the same time \n",
        "            node_output = node_activation(compute_weighted_sum(layer_inputs, node_data['weights'], node_data['bias']))\n",
        "            layer_outputs.append(np.around(node_output[0], decimals=4))\n",
        "            \n",
        "        if layer != 'output':\n",
        "            print('The outputs of the nodes in hidden layer number {} is {}'.format(layer.split('_')[1], layer_outputs))\n",
        "    \n",
        "        layer_inputs = layer_outputs # set the output of this layer to be the input to next layer\n",
        "\n",
        "    network_predictions = layer_outputs\n",
        "    return network_predictions"
      ],
      "execution_count": 0,
      "outputs": []
    },
    {
      "cell_type": "code",
      "metadata": {
        "id": "qtbH82q1WLNc",
        "colab_type": "code",
        "outputId": "c8249bf6-1f15-48cd-dd8b-0050093f195e",
        "colab": {
          "base_uri": "https://localhost:8080/",
          "height": 85
        }
      },
      "source": [
        "forward_propagate (small_network, inputs)"
      ],
      "execution_count": 0,
      "outputs": [
        {
          "output_type": "stream",
          "text": [
            "The outputs of the nodes in hidden layer number 1 is [0.8323, 0.8268, 0.7735]\n",
            "The outputs of the nodes in hidden layer number 2 is [0.7932, 0.8991]\n",
            "The outputs of the nodes in hidden layer number 3 is [0.8232, 0.8924, 0.8141]\n"
          ],
          "name": "stdout"
        },
        {
          "output_type": "execute_result",
          "data": {
            "text/plain": [
              "[0.9112]"
            ]
          },
          "metadata": {
            "tags": []
          },
          "execution_count": 99
        }
      ]
    },
    {
      "cell_type": "code",
      "metadata": {
        "id": "ADxfb8MgbIFI",
        "colab_type": "code",
        "outputId": "452b609d-55af-464b-ba81-010faf656788",
        "colab": {
          "base_uri": "https://localhost:8080/",
          "height": 85
        }
      },
      "source": [
        "my_network = initialize_network(5, 3, [2, 3, 2], 3)\n",
        "inputs = np.around(np.random.uniform(size=5), decimals=2)\n",
        "predictions = forward_propagate(my_network, inputs)\n",
        "print('The predicted values by the network for the given input are {}'.format(predictions))"
      ],
      "execution_count": 0,
      "outputs": [
        {
          "output_type": "stream",
          "text": [
            "The outputs of the nodes in hidden layer number 1 is [0.7794, 0.8202, 0.8474]\n",
            "The outputs of the nodes in hidden layer number 2 is [0.7938, 0.8946]\n",
            "The outputs of the nodes in hidden layer number 3 is [0.7941, 0.8623, 0.6507]\n",
            "The predicted values by the network for the given input are [0.9298, 0.896, 0.8427]\n"
          ],
          "name": "stdout"
        }
      ]
    }
  ]
}