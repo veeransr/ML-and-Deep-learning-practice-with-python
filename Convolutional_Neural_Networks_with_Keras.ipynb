{
  "nbformat": 4,
  "nbformat_minor": 0,
  "metadata": {
    "colab": {
      "name": "Convolutional Neural Networks with Keras.ipynb",
      "provenance": [],
      "collapsed_sections": [],
      "authorship_tag": "ABX9TyMN/tVT7ozcfnQhx3Zrv2+y",
      "include_colab_link": true
    },
    "kernelspec": {
      "name": "python3",
      "display_name": "Python 3"
    }
  },
  "cells": [
    {
      "cell_type": "markdown",
      "metadata": {
        "id": "view-in-github",
        "colab_type": "text"
      },
      "source": [
        "<a href=\"https://colab.research.google.com/github/veeransr/ML-and-Deep-learning-practice-with-python/blob/master/Convolutional_Neural_Networks_with_Keras.ipynb\" target=\"_parent\"><img src=\"https://colab.research.google.com/assets/colab-badge.svg\" alt=\"Open In Colab\"/></a>"
      ]
    },
    {
      "cell_type": "code",
      "metadata": {
        "id": "e4IB5OQXbOma",
        "colab_type": "code",
        "outputId": "25161bad-e99d-4f42-ec0c-6345003c2fdf",
        "colab": {
          "base_uri": "https://localhost:8080/",
          "height": 34
        }
      },
      "source": [
        "import keras\n",
        "from keras.models import Sequential\n",
        "from keras.layers import Dense\n",
        "from keras.utils import to_categorical"
      ],
      "execution_count": 0,
      "outputs": [
        {
          "output_type": "stream",
          "text": [
            "Using TensorFlow backend.\n"
          ],
          "name": "stderr"
        }
      ]
    },
    {
      "cell_type": "markdown",
      "metadata": {
        "id": "vZRnHxkpbx00",
        "colab_type": "text"
      },
      "source": [
        "Flattening occurs when you reduce all Photoshop layers to one background layer. Layers can increase file size, thereby also tying up valuable processing resources. To keep down file size, you may choose to merge some layers or even flatten the entire image to one background layer."
      ]
    },
    {
      "cell_type": "code",
      "metadata": {
        "id": "Ib-myCrrbbfC",
        "colab_type": "code",
        "colab": {}
      },
      "source": [
        "from keras.layers.convolutional import Conv2D # to add convolutional layers\n",
        "from keras.layers.convolutional import MaxPooling2D # to add pooling layers\n",
        "from keras.layers import Flatten # to flatten data for fully connected layers"
      ],
      "execution_count": 0,
      "outputs": []
    },
    {
      "cell_type": "code",
      "metadata": {
        "id": "BCVUK1PRb4cC",
        "colab_type": "code",
        "outputId": "e25fe251-e85f-4a42-d136-20905e766725",
        "colab": {
          "base_uri": "https://localhost:8080/",
          "height": 51
        }
      },
      "source": [
        "# import data\n",
        "from keras.datasets import mnist\n",
        "\n",
        "# load data\n",
        "(X_train, y_train), (X_test, y_test) = mnist.load_data()\n",
        "\n",
        "# reshape to be [samples][pixels][width][height]\n",
        "X_train = X_train.reshape(X_train.shape[0], 28, 28, 1).astype('float32')\n",
        "X_test = X_test.reshape(X_test.shape[0], 28, 28, 1).astype('float32')"
      ],
      "execution_count": 0,
      "outputs": [
        {
          "output_type": "stream",
          "text": [
            "Downloading data from https://s3.amazonaws.com/img-datasets/mnist.npz\n",
            "11493376/11490434 [==============================] - 2s 0us/step\n"
          ],
          "name": "stdout"
        }
      ]
    },
    {
      "cell_type": "code",
      "metadata": {
        "id": "fJzfV9tTb-Bs",
        "colab_type": "code",
        "colab": {}
      },
      "source": [
        "X_train = X_train / 255 # normalize training data\n",
        "X_test = X_test / 255 # normalize test data"
      ],
      "execution_count": 0,
      "outputs": []
    },
    {
      "cell_type": "code",
      "metadata": {
        "id": "t8Z0WvpVcAUj",
        "colab_type": "code",
        "colab": {}
      },
      "source": [
        "y_train = to_categorical(y_train)\n",
        "y_test = to_categorical(y_test)\n",
        "\n",
        "num_classes = y_test.shape[1] # number of categories"
      ],
      "execution_count": 0,
      "outputs": []
    },
    {
      "cell_type": "code",
      "metadata": {
        "id": "qjK2vSbEcDzH",
        "colab_type": "code",
        "colab": {}
      },
      "source": [
        "def convolutional_model():\n",
        "    \n",
        "    # create model\n",
        "    model = Sequential()\n",
        "    model.add(Conv2D(16, (5, 5), strides=(1, 1), activation='relu', input_shape=(28, 28, 1)))\n",
        "    model.add(MaxPooling2D(pool_size=(2, 2), strides=(2, 2)))\n",
        "    \n",
        "    model.add(Flatten())\n",
        "    model.add(Dense(100, activation='relu'))\n",
        "    model.add(Dense(num_classes, activation='softmax'))\n",
        "    \n",
        "    # compile model\n",
        "    model.compile(optimizer='adam', loss='categorical_crossentropy',  metrics=['accuracy'])\n",
        "    return model"
      ],
      "execution_count": 0,
      "outputs": []
    },
    {
      "cell_type": "code",
      "metadata": {
        "id": "T9QlHG72cFID",
        "colab_type": "code",
        "outputId": "7686fdba-9b29-465d-9b6b-646bc20180b2",
        "colab": {
          "base_uri": "https://localhost:8080/",
          "height": 408
        }
      },
      "source": [
        "# build the model\n",
        "model = convolutional_model()\n",
        "\n",
        "# fit the model\n",
        "model.fit(X_train, y_train, validation_data=(X_test, y_test), epochs=10, batch_size=200, verbose=2)\n",
        "\n",
        "# evaluate the model\n",
        "scores = model.evaluate(X_test, y_test, verbose=0)\n",
        "print(\"Accuracy: {} \\n Error: {}\".format(scores[1], 100-scores[1]*100))"
      ],
      "execution_count": 0,
      "outputs": [
        {
          "output_type": "stream",
          "text": [
            "Train on 60000 samples, validate on 10000 samples\n",
            "Epoch 1/10\n",
            " - 18s - loss: 0.3038 - accuracy: 0.9144 - val_loss: 0.1097 - val_accuracy: 0.9692\n",
            "Epoch 2/10\n",
            " - 18s - loss: 0.0895 - accuracy: 0.9740 - val_loss: 0.0628 - val_accuracy: 0.9802\n",
            "Epoch 3/10\n",
            " - 18s - loss: 0.0589 - accuracy: 0.9825 - val_loss: 0.0475 - val_accuracy: 0.9863\n",
            "Epoch 4/10\n",
            " - 18s - loss: 0.0459 - accuracy: 0.9863 - val_loss: 0.0387 - val_accuracy: 0.9868\n",
            "Epoch 5/10\n",
            " - 18s - loss: 0.0366 - accuracy: 0.9892 - val_loss: 0.0426 - val_accuracy: 0.9872\n",
            "Epoch 6/10\n",
            " - 18s - loss: 0.0303 - accuracy: 0.9909 - val_loss: 0.0398 - val_accuracy: 0.9869\n",
            "Epoch 7/10\n",
            " - 18s - loss: 0.0264 - accuracy: 0.9916 - val_loss: 0.0390 - val_accuracy: 0.9869\n",
            "Epoch 8/10\n",
            " - 18s - loss: 0.0218 - accuracy: 0.9936 - val_loss: 0.0361 - val_accuracy: 0.9885\n",
            "Epoch 9/10\n",
            " - 18s - loss: 0.0180 - accuracy: 0.9945 - val_loss: 0.0399 - val_accuracy: 0.9875\n",
            "Epoch 10/10\n",
            " - 18s - loss: 0.0135 - accuracy: 0.9962 - val_loss: 0.0411 - val_accuracy: 0.9855\n",
            "Accuracy: 0.9854999780654907 \n",
            " Error: 1.4500021934509277\n"
          ],
          "name": "stdout"
        }
      ]
    },
    {
      "cell_type": "code",
      "metadata": {
        "id": "RQ8_9I_ecZIW",
        "colab_type": "code",
        "colab": {}
      },
      "source": [
        "def convolutional_model():\n",
        "    \n",
        "    # create model\n",
        "    model = Sequential()\n",
        "    model.add(Conv2D(16, (5, 5), activation='relu', input_shape=(28, 28, 1)))\n",
        "    model.add(MaxPooling2D(pool_size=(2, 2), strides=(2, 2)))\n",
        "    \n",
        "    model.add(Conv2D(8, (2, 2), activation='relu'))\n",
        "    model.add(MaxPooling2D(pool_size=(2, 2), strides=(2, 2)))\n",
        "    \n",
        "    model.add(Flatten())\n",
        "    model.add(Dense(100, activation='relu'))\n",
        "    model.add(Dense(num_classes, activation='softmax'))\n",
        "    \n",
        "    # Compile model\n",
        "    model.compile(optimizer='adam', loss='categorical_crossentropy',  metrics=['accuracy'])\n",
        "    return model"
      ],
      "execution_count": 0,
      "outputs": []
    },
    {
      "cell_type": "code",
      "metadata": {
        "id": "bXre7UKdccnO",
        "colab_type": "code",
        "outputId": "38855036-0bf8-409e-b531-852f78c3dbbe",
        "colab": {
          "base_uri": "https://localhost:8080/",
          "height": 408
        }
      },
      "source": [
        "# build the model\n",
        "model = convolutional_model()\n",
        "\n",
        "# fit the model\n",
        "model.fit(X_train, y_train, validation_data=(X_test, y_test), epochs=10, batch_size=200, verbose=2)\n",
        "\n",
        "# evaluate the model\n",
        "scores = model.evaluate(X_test, y_test, verbose=0)\n",
        "print(\"Accuracy: {} \\n Error: {}\".format(scores[1], 100-scores[1]*100))"
      ],
      "execution_count": 0,
      "outputs": [
        {
          "output_type": "stream",
          "text": [
            "Train on 60000 samples, validate on 10000 samples\n",
            "Epoch 1/10\n",
            " - 19s - loss: 0.4705 - accuracy: 0.8664 - val_loss: 0.1330 - val_accuracy: 0.9607\n",
            "Epoch 2/10\n",
            " - 19s - loss: 0.1170 - accuracy: 0.9644 - val_loss: 0.0866 - val_accuracy: 0.9751\n",
            "Epoch 3/10\n",
            " - 19s - loss: 0.0870 - accuracy: 0.9731 - val_loss: 0.0726 - val_accuracy: 0.9772\n",
            "Epoch 4/10\n",
            " - 19s - loss: 0.0720 - accuracy: 0.9778 - val_loss: 0.0658 - val_accuracy: 0.9797\n",
            "Epoch 5/10\n",
            " - 19s - loss: 0.0621 - accuracy: 0.9811 - val_loss: 0.0588 - val_accuracy: 0.9816\n",
            "Epoch 6/10\n",
            " - 19s - loss: 0.0564 - accuracy: 0.9823 - val_loss: 0.0522 - val_accuracy: 0.9831\n",
            "Epoch 7/10\n",
            " - 19s - loss: 0.0495 - accuracy: 0.9848 - val_loss: 0.0451 - val_accuracy: 0.9850\n",
            "Epoch 8/10\n",
            " - 19s - loss: 0.0451 - accuracy: 0.9859 - val_loss: 0.0448 - val_accuracy: 0.9849\n",
            "Epoch 9/10\n",
            " - 19s - loss: 0.0414 - accuracy: 0.9870 - val_loss: 0.0440 - val_accuracy: 0.9853\n",
            "Epoch 10/10\n",
            " - 19s - loss: 0.0386 - accuracy: 0.9882 - val_loss: 0.0423 - val_accuracy: 0.9869\n",
            "Accuracy: 0.9868999719619751 \n",
            " Error: 1.3100028038024902\n"
          ],
          "name": "stdout"
        }
      ]
    }
  ]
}