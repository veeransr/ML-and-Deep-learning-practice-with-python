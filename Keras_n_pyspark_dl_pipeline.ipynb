{
  "nbformat": 4,
  "nbformat_minor": 0,
  "metadata": {
    "kernelspec": {
      "display_name": "Python 3",
      "language": "python",
      "name": "python3"
    },
    "language_info": {
      "codemirror_mode": {
        "name": "ipython",
        "version": 3
      },
      "file_extension": ".py",
      "mimetype": "text/x-python",
      "name": "python",
      "nbconvert_exporter": "python",
      "pygments_lexer": "ipython3",
      "version": "3.7.3"
    },
    "colab": {
      "name": "Keras n pyspark_dl_pipeline.ipynb",
      "provenance": [],
      "collapsed_sections": [],
      "include_colab_link": true
    }
  },
  "cells": [
    {
      "cell_type": "markdown",
      "metadata": {
        "id": "view-in-github",
        "colab_type": "text"
      },
      "source": [
        "<a href=\"https://colab.research.google.com/github/veeransr/ML-and-Deep-learning-practice-with-python/blob/master/Keras_n_pyspark_dl_pipeline.ipynb\" target=\"_parent\"><img src=\"https://colab.research.google.com/assets/colab-badge.svg\" alt=\"Open In Colab\"/></a>"
      ]
    },
    {
      "cell_type": "markdown",
      "metadata": {
        "id": "UYl05us5088O",
        "colab_type": "text"
      },
      "source": [
        "## Introduction"
      ]
    },
    {
      "cell_type": "markdown",
      "metadata": {
        "id": "V2GsCoV3088P",
        "colab_type": "text"
      },
      "source": [
        "In this notebook I use PySpark, Keras, and Elephas python libraries to build an end-to-end deep learning pipeline that runs on Spark. Spark is an open-source distributed analytics engine that can process large amounts of data with tremendous speed. PySpark is simply the python API for Spark that allows you to use an easy programming language, like python, and leverage the power of Apache Spark.\n",
        "\n",
        "My interest in putting together this example was to learn and prototype. More specifically, learn more about PySpark pipelines as well as how I could integrate deep learning into the PySpark pipeline. I ran this entire project using Jupyter on my local machine to build a prototype for an upcoming data science project where the data will be massive. Since I work for IBM, I'll take this entire analytics project (Jupyter Notebook) and move it to IBM. This allows me to do my data ingestion, pipelining, training and deployment on a unified platform and on a much larger Spark cluster. Obviously, if you had a real and sizable project or using image data you would NOT do this on your local machine.\n",
        "\n",
        "Overall, I found it not too difficult to put together this prototype or working example so I hope others will find it useful."
      ]
    },
    {
      "cell_type": "markdown",
      "metadata": {
        "id": "xSC3y9QP088Q",
        "colab_type": "text"
      },
      "source": [
        "<div class=\"alert alert-block alert-info\">\n",
        "<b>Step 1:</b> Import Libraries\n",
        "</div>"
      ]
    },
    {
      "cell_type": "code",
      "metadata": {
        "id": "9o2l-6Pz088Q",
        "colab_type": "code",
        "outputId": "21bfc0ea-6d34-4b67-8c64-3b3934728ede",
        "colab": {}
      },
      "source": [
        "# Spark Session, Pipeline, Functions, and Metrics\n",
        "from pyspark import SparkContext, SparkConf\n",
        "from pyspark.sql import SQLContext\n",
        "from pyspark.ml.feature import OneHotEncoderEstimator, StringIndexer, StandardScaler, VectorAssembler\n",
        "from pyspark.ml import Pipeline\n",
        "from pyspark.sql.functions import rand\n",
        "from pyspark.mllib.evaluation import MulticlassMetrics\n",
        "\n",
        "# Keras / Deep Learning\n",
        "from keras.models import Sequential\n",
        "from keras.layers.core import Dense, Dropout, Activation\n",
        "from keras import optimizers, regularizers\n",
        "from keras.optimizers import Adam\n",
        "\n",
        "# Elephas for Deep Learning on Spark\n",
        "from elephas.ml_model import ElephasEstimator"
      ],
      "execution_count": 0,
      "outputs": [
        {
          "output_type": "stream",
          "text": [
            "Using TensorFlow backend.\n"
          ],
          "name": "stderr"
        },
        {
          "output_type": "stream",
          "text": [
            "WARNING\n"
          ],
          "name": "stdout"
        }
      ]
    },
    {
      "cell_type": "markdown",
      "metadata": {
        "id": "4tsUQRcy088U",
        "colab_type": "text"
      },
      "source": [
        "<div class=\"alert alert-block alert-info\">\n",
        "<b>Step 2:</b> Start Spark Session\n",
        "</div>"
      ]
    },
    {
      "cell_type": "markdown",
      "metadata": {
        "id": "wLw2b7OQ088U",
        "colab_type": "text"
      },
      "source": [
        "If you're using a version of Spark < 2.x your Spark session code may be slightly different"
      ]
    },
    {
      "cell_type": "code",
      "metadata": {
        "id": "I61Pmsok088V",
        "colab_type": "code",
        "colab": {}
      },
      "source": [
        "# Spark Session\n",
        "conf = SparkConf().setAppName('Spark DL Tabular Pipeline').setMaster('local[6]')\n",
        "sc = SparkContext(conf=conf)\n",
        "sql_context = SQLContext(sc)"
      ],
      "execution_count": 0,
      "outputs": []
    },
    {
      "cell_type": "code",
      "metadata": {
        "id": "yJrpCg87088X",
        "colab_type": "code",
        "outputId": "56759984-0e00-4981-95f6-cef0c883d10a",
        "colab": {}
      },
      "source": [
        "sc"
      ],
      "execution_count": 0,
      "outputs": [
        {
          "output_type": "execute_result",
          "data": {
            "text/html": [
              "\n",
              "        <div>\n",
              "            <p><b>SparkContext</b></p>\n",
              "\n",
              "            <p><a href=\"http://192.168.1.17:4040\">Spark UI</a></p>\n",
              "\n",
              "            <dl>\n",
              "              <dt>Version</dt>\n",
              "                <dd><code>v2.4.3</code></dd>\n",
              "              <dt>Master</dt>\n",
              "                <dd><code>local[6]</code></dd>\n",
              "              <dt>AppName</dt>\n",
              "                <dd><code>Spark DL Tabular Pipeline</code></dd>\n",
              "            </dl>\n",
              "        </div>\n",
              "        "
            ],
            "text/plain": [
              "<SparkContext master=local[6] appName=Spark DL Tabular Pipeline>"
            ]
          },
          "metadata": {
            "tags": []
          },
          "execution_count": 3
        }
      ]
    },
    {
      "cell_type": "markdown",
      "metadata": {
        "id": "jHudKsi7088a",
        "colab_type": "text"
      },
      "source": [
        "<div class=\"alert alert-block alert-info\">\n",
        "<b>Step 3:</b> Load and Preview Data\n",
        "</div>"
      ]
    },
    {
      "cell_type": "markdown",
      "metadata": {
        "id": "-h822mPM088a",
        "colab_type": "text"
      },
      "source": [
        "Here we'll load the data. The data we'll use comes from a [Kaggle competition](https://www.kaggle.com/janiobachmann/bank-marketing-dataset). It's a typical banking dataset. I use the `inferSchema` parameter here which helps to identify the feature types when loading in the data. Per the [PySpark documentation](https://spark.apache.org/docs/latest/api/python/pyspark.sql.html) this _\"requires one extra pass over the data\"_. Since the bank data I'm loading only has ~11k observations it doesnt take long at all, but it may be worth noting if you have a very large dataset.\n",
        "\n",
        "After we load the data we can see the schema and the various feature types. All our features are either `string` type or `integer`. We then preview the first 5 observations. I'm pretty familair with with Pandas python library so through this example you'll see me use `toPandas()` to convert the spark dataframe to a pandas dataframe and do some manipulations. Not right or wrong, just easier for me.\n",
        "\n",
        "Finally, we'll drop the 2 date columns since we won't be using those in our deep learning model. They could be possibly significant and featurized by I decided to just drop them all together."
      ]
    },
    {
      "cell_type": "code",
      "metadata": {
        "id": "oCLrZ677088c",
        "colab_type": "code",
        "colab": {}
      },
      "source": [
        "# Load Data to Spark Dataframe\n",
        "df = sql_context.read.csv('/bank.csv',\n",
        "                    header=True,\n",
        "                    inferSchema=True)"
      ],
      "execution_count": 0,
      "outputs": []
    },
    {
      "cell_type": "code",
      "metadata": {
        "id": "nMDBM68Y088e",
        "colab_type": "code",
        "outputId": "797e5290-84ad-4049-b630-510a58798901",
        "colab": {}
      },
      "source": [
        "# View Schema\n",
        "df.printSchema()"
      ],
      "execution_count": 0,
      "outputs": [
        {
          "output_type": "stream",
          "text": [
            "root\n",
            " |-- id: integer (nullable = true)\n",
            " |-- age: integer (nullable = true)\n",
            " |-- job: string (nullable = true)\n",
            " |-- marital: string (nullable = true)\n",
            " |-- education: string (nullable = true)\n",
            " |-- default: string (nullable = true)\n",
            " |-- balance: integer (nullable = true)\n",
            " |-- housing: string (nullable = true)\n",
            " |-- loan: string (nullable = true)\n",
            " |-- contact: string (nullable = true)\n",
            " |-- day: integer (nullable = true)\n",
            " |-- month: string (nullable = true)\n",
            " |-- duration: integer (nullable = true)\n",
            " |-- campaign: integer (nullable = true)\n",
            " |-- pdays: integer (nullable = true)\n",
            " |-- previous: integer (nullable = true)\n",
            " |-- poutcome: string (nullable = true)\n",
            " |-- deposit: string (nullable = true)\n",
            "\n"
          ],
          "name": "stdout"
        }
      ]
    },
    {
      "cell_type": "code",
      "metadata": {
        "id": "Ih01mcu3088g",
        "colab_type": "code",
        "outputId": "f4b4de39-cdc3-4d80-c952-a42062aee46f",
        "colab": {}
      },
      "source": [
        "# Preview Dataframe (Pandas Preview is Cleaner)\n",
        "df.limit(5).toPandas()"
      ],
      "execution_count": 0,
      "outputs": [
        {
          "output_type": "execute_result",
          "data": {
            "text/html": [
              "<div>\n",
              "<style scoped>\n",
              "    .dataframe tbody tr th:only-of-type {\n",
              "        vertical-align: middle;\n",
              "    }\n",
              "\n",
              "    .dataframe tbody tr th {\n",
              "        vertical-align: top;\n",
              "    }\n",
              "\n",
              "    .dataframe thead th {\n",
              "        text-align: right;\n",
              "    }\n",
              "</style>\n",
              "<table border=\"1\" class=\"dataframe\">\n",
              "  <thead>\n",
              "    <tr style=\"text-align: right;\">\n",
              "      <th></th>\n",
              "      <th>id</th>\n",
              "      <th>age</th>\n",
              "      <th>job</th>\n",
              "      <th>marital</th>\n",
              "      <th>education</th>\n",
              "      <th>default</th>\n",
              "      <th>balance</th>\n",
              "      <th>housing</th>\n",
              "      <th>loan</th>\n",
              "      <th>contact</th>\n",
              "      <th>day</th>\n",
              "      <th>month</th>\n",
              "      <th>duration</th>\n",
              "      <th>campaign</th>\n",
              "      <th>pdays</th>\n",
              "      <th>previous</th>\n",
              "      <th>poutcome</th>\n",
              "      <th>deposit</th>\n",
              "    </tr>\n",
              "  </thead>\n",
              "  <tbody>\n",
              "    <tr>\n",
              "      <th>0</th>\n",
              "      <td>1</td>\n",
              "      <td>59</td>\n",
              "      <td>admin.</td>\n",
              "      <td>married</td>\n",
              "      <td>secondary</td>\n",
              "      <td>no</td>\n",
              "      <td>2343</td>\n",
              "      <td>yes</td>\n",
              "      <td>no</td>\n",
              "      <td>unknown</td>\n",
              "      <td>5</td>\n",
              "      <td>may</td>\n",
              "      <td>1042</td>\n",
              "      <td>1</td>\n",
              "      <td>-1</td>\n",
              "      <td>0</td>\n",
              "      <td>unknown</td>\n",
              "      <td>yes</td>\n",
              "    </tr>\n",
              "    <tr>\n",
              "      <th>1</th>\n",
              "      <td>2</td>\n",
              "      <td>56</td>\n",
              "      <td>admin.</td>\n",
              "      <td>married</td>\n",
              "      <td>secondary</td>\n",
              "      <td>no</td>\n",
              "      <td>45</td>\n",
              "      <td>no</td>\n",
              "      <td>no</td>\n",
              "      <td>unknown</td>\n",
              "      <td>5</td>\n",
              "      <td>may</td>\n",
              "      <td>1467</td>\n",
              "      <td>1</td>\n",
              "      <td>-1</td>\n",
              "      <td>0</td>\n",
              "      <td>unknown</td>\n",
              "      <td>yes</td>\n",
              "    </tr>\n",
              "    <tr>\n",
              "      <th>2</th>\n",
              "      <td>3</td>\n",
              "      <td>41</td>\n",
              "      <td>technician</td>\n",
              "      <td>married</td>\n",
              "      <td>secondary</td>\n",
              "      <td>no</td>\n",
              "      <td>1270</td>\n",
              "      <td>yes</td>\n",
              "      <td>no</td>\n",
              "      <td>unknown</td>\n",
              "      <td>5</td>\n",
              "      <td>may</td>\n",
              "      <td>1389</td>\n",
              "      <td>1</td>\n",
              "      <td>-1</td>\n",
              "      <td>0</td>\n",
              "      <td>unknown</td>\n",
              "      <td>yes</td>\n",
              "    </tr>\n",
              "    <tr>\n",
              "      <th>3</th>\n",
              "      <td>4</td>\n",
              "      <td>55</td>\n",
              "      <td>services</td>\n",
              "      <td>married</td>\n",
              "      <td>secondary</td>\n",
              "      <td>no</td>\n",
              "      <td>2476</td>\n",
              "      <td>yes</td>\n",
              "      <td>no</td>\n",
              "      <td>unknown</td>\n",
              "      <td>5</td>\n",
              "      <td>may</td>\n",
              "      <td>579</td>\n",
              "      <td>1</td>\n",
              "      <td>-1</td>\n",
              "      <td>0</td>\n",
              "      <td>unknown</td>\n",
              "      <td>yes</td>\n",
              "    </tr>\n",
              "    <tr>\n",
              "      <th>4</th>\n",
              "      <td>5</td>\n",
              "      <td>54</td>\n",
              "      <td>admin.</td>\n",
              "      <td>married</td>\n",
              "      <td>tertiary</td>\n",
              "      <td>no</td>\n",
              "      <td>184</td>\n",
              "      <td>no</td>\n",
              "      <td>no</td>\n",
              "      <td>unknown</td>\n",
              "      <td>5</td>\n",
              "      <td>may</td>\n",
              "      <td>673</td>\n",
              "      <td>2</td>\n",
              "      <td>-1</td>\n",
              "      <td>0</td>\n",
              "      <td>unknown</td>\n",
              "      <td>yes</td>\n",
              "    </tr>\n",
              "  </tbody>\n",
              "</table>\n",
              "</div>"
            ],
            "text/plain": [
              "   id  age         job  marital  education default  balance housing loan  \\\n",
              "0   1   59      admin.  married  secondary      no     2343     yes   no   \n",
              "1   2   56      admin.  married  secondary      no       45      no   no   \n",
              "2   3   41  technician  married  secondary      no     1270     yes   no   \n",
              "3   4   55    services  married  secondary      no     2476     yes   no   \n",
              "4   5   54      admin.  married   tertiary      no      184      no   no   \n",
              "\n",
              "   contact  day month  duration  campaign  pdays  previous poutcome deposit  \n",
              "0  unknown    5   may      1042         1     -1         0  unknown     yes  \n",
              "1  unknown    5   may      1467         1     -1         0  unknown     yes  \n",
              "2  unknown    5   may      1389         1     -1         0  unknown     yes  \n",
              "3  unknown    5   may       579         1     -1         0  unknown     yes  \n",
              "4  unknown    5   may       673         2     -1         0  unknown     yes  "
            ]
          },
          "metadata": {
            "tags": []
          },
          "execution_count": 6
        }
      ]
    },
    {
      "cell_type": "code",
      "metadata": {
        "id": "cLyyWSvx088j",
        "colab_type": "code",
        "colab": {}
      },
      "source": [
        "# Drop Unnessary Features (Day and Month)\n",
        "df = df.drop('day', 'month')"
      ],
      "execution_count": 0,
      "outputs": []
    },
    {
      "cell_type": "code",
      "metadata": {
        "id": "JbECmX3b088l",
        "colab_type": "code",
        "outputId": "f589b756-b665-4d14-8ceb-01b3d4cbdada",
        "colab": {}
      },
      "source": [
        "# Preview Dataframe\n",
        "df.limit(5).toPandas()"
      ],
      "execution_count": 0,
      "outputs": [
        {
          "output_type": "execute_result",
          "data": {
            "text/html": [
              "<div>\n",
              "<style scoped>\n",
              "    .dataframe tbody tr th:only-of-type {\n",
              "        vertical-align: middle;\n",
              "    }\n",
              "\n",
              "    .dataframe tbody tr th {\n",
              "        vertical-align: top;\n",
              "    }\n",
              "\n",
              "    .dataframe thead th {\n",
              "        text-align: right;\n",
              "    }\n",
              "</style>\n",
              "<table border=\"1\" class=\"dataframe\">\n",
              "  <thead>\n",
              "    <tr style=\"text-align: right;\">\n",
              "      <th></th>\n",
              "      <th>id</th>\n",
              "      <th>age</th>\n",
              "      <th>job</th>\n",
              "      <th>marital</th>\n",
              "      <th>education</th>\n",
              "      <th>default</th>\n",
              "      <th>balance</th>\n",
              "      <th>housing</th>\n",
              "      <th>loan</th>\n",
              "      <th>contact</th>\n",
              "      <th>duration</th>\n",
              "      <th>campaign</th>\n",
              "      <th>pdays</th>\n",
              "      <th>previous</th>\n",
              "      <th>poutcome</th>\n",
              "      <th>deposit</th>\n",
              "    </tr>\n",
              "  </thead>\n",
              "  <tbody>\n",
              "    <tr>\n",
              "      <th>0</th>\n",
              "      <td>1</td>\n",
              "      <td>59</td>\n",
              "      <td>admin.</td>\n",
              "      <td>married</td>\n",
              "      <td>secondary</td>\n",
              "      <td>no</td>\n",
              "      <td>2343</td>\n",
              "      <td>yes</td>\n",
              "      <td>no</td>\n",
              "      <td>unknown</td>\n",
              "      <td>1042</td>\n",
              "      <td>1</td>\n",
              "      <td>-1</td>\n",
              "      <td>0</td>\n",
              "      <td>unknown</td>\n",
              "      <td>yes</td>\n",
              "    </tr>\n",
              "    <tr>\n",
              "      <th>1</th>\n",
              "      <td>2</td>\n",
              "      <td>56</td>\n",
              "      <td>admin.</td>\n",
              "      <td>married</td>\n",
              "      <td>secondary</td>\n",
              "      <td>no</td>\n",
              "      <td>45</td>\n",
              "      <td>no</td>\n",
              "      <td>no</td>\n",
              "      <td>unknown</td>\n",
              "      <td>1467</td>\n",
              "      <td>1</td>\n",
              "      <td>-1</td>\n",
              "      <td>0</td>\n",
              "      <td>unknown</td>\n",
              "      <td>yes</td>\n",
              "    </tr>\n",
              "    <tr>\n",
              "      <th>2</th>\n",
              "      <td>3</td>\n",
              "      <td>41</td>\n",
              "      <td>technician</td>\n",
              "      <td>married</td>\n",
              "      <td>secondary</td>\n",
              "      <td>no</td>\n",
              "      <td>1270</td>\n",
              "      <td>yes</td>\n",
              "      <td>no</td>\n",
              "      <td>unknown</td>\n",
              "      <td>1389</td>\n",
              "      <td>1</td>\n",
              "      <td>-1</td>\n",
              "      <td>0</td>\n",
              "      <td>unknown</td>\n",
              "      <td>yes</td>\n",
              "    </tr>\n",
              "    <tr>\n",
              "      <th>3</th>\n",
              "      <td>4</td>\n",
              "      <td>55</td>\n",
              "      <td>services</td>\n",
              "      <td>married</td>\n",
              "      <td>secondary</td>\n",
              "      <td>no</td>\n",
              "      <td>2476</td>\n",
              "      <td>yes</td>\n",
              "      <td>no</td>\n",
              "      <td>unknown</td>\n",
              "      <td>579</td>\n",
              "      <td>1</td>\n",
              "      <td>-1</td>\n",
              "      <td>0</td>\n",
              "      <td>unknown</td>\n",
              "      <td>yes</td>\n",
              "    </tr>\n",
              "    <tr>\n",
              "      <th>4</th>\n",
              "      <td>5</td>\n",
              "      <td>54</td>\n",
              "      <td>admin.</td>\n",
              "      <td>married</td>\n",
              "      <td>tertiary</td>\n",
              "      <td>no</td>\n",
              "      <td>184</td>\n",
              "      <td>no</td>\n",
              "      <td>no</td>\n",
              "      <td>unknown</td>\n",
              "      <td>673</td>\n",
              "      <td>2</td>\n",
              "      <td>-1</td>\n",
              "      <td>0</td>\n",
              "      <td>unknown</td>\n",
              "      <td>yes</td>\n",
              "    </tr>\n",
              "  </tbody>\n",
              "</table>\n",
              "</div>"
            ],
            "text/plain": [
              "   id  age         job  marital  education default  balance housing loan  \\\n",
              "0   1   59      admin.  married  secondary      no     2343     yes   no   \n",
              "1   2   56      admin.  married  secondary      no       45      no   no   \n",
              "2   3   41  technician  married  secondary      no     1270     yes   no   \n",
              "3   4   55    services  married  secondary      no     2476     yes   no   \n",
              "4   5   54      admin.  married   tertiary      no      184      no   no   \n",
              "\n",
              "   contact  duration  campaign  pdays  previous poutcome deposit  \n",
              "0  unknown      1042         1     -1         0  unknown     yes  \n",
              "1  unknown      1467         1     -1         0  unknown     yes  \n",
              "2  unknown      1389         1     -1         0  unknown     yes  \n",
              "3  unknown       579         1     -1         0  unknown     yes  \n",
              "4  unknown       673         2     -1         0  unknown     yes  "
            ]
          },
          "metadata": {
            "tags": []
          },
          "execution_count": 8
        }
      ]
    },
    {
      "cell_type": "markdown",
      "metadata": {
        "id": "MfbdQb_Y088n",
        "colab_type": "text"
      },
      "source": [
        "<div class=\"alert alert-block alert-info\">\n",
        "<b>Step 4:</b> Create the Spark Data Pipeline\n",
        "</div>"
      ]
    },
    {
      "cell_type": "markdown",
      "metadata": {
        "id": "gIrsI0fR088o",
        "colab_type": "text"
      },
      "source": [
        "Now we create the pipeline using PySpark. This essentially takes your data and, per the feature lists you pass, will do the transformations and vectorizing so it is ready for modeling. I referenced the [\"Extracting, transforming and selecting features\"](https://spark.apache.org/docs/latest/ml-features.html) Apache Spark documentation a lot for this pipeline and project."
      ]
    },
    {
      "cell_type": "markdown",
      "metadata": {
        "id": "ZOiJO6O0088o",
        "colab_type": "text"
      },
      "source": [
        "Below is a helper function to select from the numeric features which ones to standardize based on the kurtosis or skew of that feature. The current defaults for `upper_skew` and `lower_skew` are just general guidelines (depending where you read), but you can modify the upper and lower skew as desired."
      ]
    },
    {
      "cell_type": "code",
      "metadata": {
        "id": "dphH1CBb088p",
        "colab_type": "code",
        "colab": {}
      },
      "source": [
        "# Helper function to select features to scale given their skew\n",
        "def select_features_to_scale(df=df, lower_skew=-2, upper_skew=2, dtypes='int32', drop_cols=['']):\n",
        "    \n",
        "    # Empty Selected Feature List for Output\n",
        "    selected_features = []\n",
        "    \n",
        "    # Select Features to Scale based on Inputs ('in32' type, drop 'ID' columns or others, skew bounds)\n",
        "    feature_list = list(df.toPandas().select_dtypes(include=[dtypes]).columns.drop(drop_cols))\n",
        "    \n",
        "    # Loop through 'feature_list' to select features based on Kurtosis / Skew\n",
        "    for feature in feature_list:\n",
        "\n",
        "        if df.toPandas()[feature].kurtosis() < -2 or df.toPandas()[feature].kurtosis() > 2:\n",
        "            \n",
        "            selected_features.append(feature)\n",
        "    \n",
        "    # Return feature list to scale\n",
        "    return selected_features"
      ],
      "execution_count": 0,
      "outputs": []
    },
    {
      "cell_type": "markdown",
      "metadata": {
        "id": "R688BDo_088r",
        "colab_type": "text"
      },
      "source": [
        "Now we'll get into the actual data pipeline. The feature list selection part can be further enhanced to be more dynamic vs listing out each feature, but for this small dataset I just left it as is with `cat_features`, `num_features`, and `label`. Selecting features by type can be done similar to how I did it in the `select_features_to_scale` helper function using something like this `spark_df.toPandas().select_dtypes(include=['object']).columns)` which would return a list of all the columns in your spark dataframe that are object or string type.\n",
        "\n",
        "The first thing we want to do is create an empty list called `stages`. This will contain each step that the data pipeline needs to to complete all transformations within our pipeline. I print out each step of the stages after the pipeline so you can see the sequential steps from my code to a list.\n",
        "\n",
        "The second part is going to be a basic loop to go through each categorical feature from our list `cat_features` and then index and encode those features using one-hot encoding. `StringIndexer` encodes your categorical feature to a feature index with the highest frequency label (count) as feature index `0` and so on. I will preview the transformed data frame after the pipeline, Step 5, where you can see each feature index created from the categorical features. For more information and a basic example of StringIndexer check the [here](https://spark.apache.org/docs/latest/ml-features.html#stringindexer)\n",
        "\n",
        "Within the loop we also do some one-hot encoding (OHE) using the `OneHotEncoderEstimator`. This function only takes a label index so if you have categorical data (objects or strings) you have to use `StringIndexer` so you can pass a label index to the OHE estimator. One nice thing I found from looking at dozens of examples was that you can chain `StringIndexer` output right into the OHE estimator using `string_indexer.getOutputCol()`. If you have a lot of features to transform you'll want to do some thinking about the names, `OutputCol`, because you can't just overwrite feature names so get creative. We'll append all those pipeline steps within our loop into our pipeline list `stages`.\n",
        "\n",
        "Next we use `StringIndexer` again on our label feature or dependent variable. And then we'll move on to scaling the numeric variables using the `select_features_to_scale` helper function from above. Once that list is selected we'll vectorize those features using `VectorAssembler` and then standardize the features within that vector using `StandardScaler`. Then we append those steps to our ongoing pipeline list `stages`.\n",
        "\n",
        "The last step is just assembling all our features into a single vector. We'll find the numeric features from the list `num_features` that were not scaled by just using the difference between our `unscaled_features` (the name of the selected numeric feature TO scale) list and the original list of numeric features `num_features`. Then we assemble or vectorize all the categorical OHE features and numeric features and add that step to our pipeline `stages`. And finally, we add in the `scaled_features` to our `assembled_inputs` to get a final and single vector of features for our modeling."
      ]
    },
    {
      "cell_type": "code",
      "metadata": {
        "id": "74yl0aUh088r",
        "colab_type": "code",
        "colab": {}
      },
      "source": [
        "# Spark Pipeline\n",
        "cat_features = ['job', 'marital', 'education', 'default', 'housing', 'loan', 'contact', 'poutcome']\n",
        "num_features = ['age','balance','duration','campaign','pdays','previous']\n",
        "label = 'deposit'\n",
        "\n",
        "# Pipeline Stages List\n",
        "stages = []\n",
        "\n",
        "# Loop for StringIndexer and OHE for Categorical Variables\n",
        "for features in cat_features:\n",
        "    \n",
        "    # Index Categorical Features\n",
        "    string_indexer = StringIndexer(inputCol=features, outputCol=features + \"_index\")\n",
        "    \n",
        "    # One Hot Encode Categorical Features\n",
        "    encoder = OneHotEncoderEstimator(inputCols=[string_indexer.getOutputCol()],\n",
        "                                     outputCols=[features + \"_class_vec\"])\n",
        "    # Append Pipeline Stages\n",
        "    stages += [string_indexer, encoder]\n",
        "    \n",
        "# Index Label Feature\n",
        "label_str_index =  StringIndexer(inputCol=label, outputCol=\"label_index\")\n",
        "\n",
        "# Scale Feature: Select the Features to Scale using helper 'select_features_to_scale' function above and Standardize \n",
        "unscaled_features = select_features_to_scale(df=df, lower_skew=-2, upper_skew=2, dtypes='int32', drop_cols=['id'])\n",
        "\n",
        "unscaled_assembler = VectorAssembler(inputCols=unscaled_features, outputCol=\"unscaled_features\")\n",
        "scaler = StandardScaler(inputCol=\"unscaled_features\", outputCol=\"scaled_features\")\n",
        "\n",
        "stages += [unscaled_assembler, scaler]\n",
        "\n",
        "# Create list of Numeric Features that Are Not Being Scaled\n",
        "num_unscaled_diff_list = list(set(num_features) - set(unscaled_features))\n",
        "\n",
        "# Assemble or Concat the Categorical Features and Numeric Features\n",
        "assembler_inputs = [feature + \"_class_vec\" for feature in cat_features] + num_unscaled_diff_list\n",
        "\n",
        "assembler = VectorAssembler(inputCols=assembler_inputs, outputCol=\"assembled_inputs\") \n",
        "\n",
        "stages += [label_str_index, assembler]\n",
        "\n",
        "# Assemble Final Training Data of Scaled, Numeric, and Categorical Engineered Features\n",
        "assembler_final = VectorAssembler(inputCols=[\"scaled_features\",\"assembled_inputs\"], outputCol=\"features\")\n",
        "\n",
        "stages += [assembler_final]"
      ],
      "execution_count": 0,
      "outputs": []
    },
    {
      "cell_type": "markdown",
      "metadata": {
        "id": "es8ZHiA9088u",
        "colab_type": "text"
      },
      "source": [
        "We can see all the steps within our pipeline by looking at our `stages` list that we've been sequentially adding."
      ]
    },
    {
      "cell_type": "code",
      "metadata": {
        "id": "MlMS_Iv1088u",
        "colab_type": "code",
        "outputId": "733ed9ab-e17a-4ade-d9f7-1eb0446e13c3",
        "colab": {}
      },
      "source": [
        "stages"
      ],
      "execution_count": 0,
      "outputs": [
        {
          "output_type": "execute_result",
          "data": {
            "text/plain": [
              "[StringIndexer_094067e54ce9,\n",
              " OneHotEncoderEstimator_2436c1994f7c,\n",
              " StringIndexer_5b6e2446b098,\n",
              " OneHotEncoderEstimator_c6404cfb18fc,\n",
              " StringIndexer_782cc8169603,\n",
              " OneHotEncoderEstimator_d68cc47d8d68,\n",
              " StringIndexer_b31db2b93cd2,\n",
              " OneHotEncoderEstimator_5ba110426ddf,\n",
              " StringIndexer_ec3223ffa809,\n",
              " OneHotEncoderEstimator_498095e865f8,\n",
              " StringIndexer_2077c657d58d,\n",
              " OneHotEncoderEstimator_c4843c98f163,\n",
              " StringIndexer_fa9d3ae2f344,\n",
              " OneHotEncoderEstimator_ea6a9b0f7945,\n",
              " StringIndexer_74e25107e22a,\n",
              " OneHotEncoderEstimator_1c6939061717,\n",
              " VectorAssembler_97c5d441b4e7,\n",
              " StandardScaler_5f7c8626e226,\n",
              " StringIndexer_b8d0e70ab34d,\n",
              " VectorAssembler_f27f33bb8ed4,\n",
              " VectorAssembler_7088deb307b7]"
            ]
          },
          "metadata": {
            "tags": []
          },
          "execution_count": 11
        }
      ]
    },
    {
      "cell_type": "markdown",
      "metadata": {
        "id": "N-kj5Ns7088w",
        "colab_type": "text"
      },
      "source": [
        "<div class=\"alert alert-block alert-info\">\n",
        "<b>Step 5:</b> Run Data Through the Spark Pipeline\n",
        "</div>"
      ]
    },
    {
      "cell_type": "markdown",
      "metadata": {
        "id": "KiBtyODE088w",
        "colab_type": "text"
      },
      "source": [
        "Now that the _\"hard\"_ part is over we can simply pipeline the stages and fit our data to the pipeline by using `fit()`. Then we actually transform the data by using `transform`. We can now preview our newly transformed PySpark dataframe with all the original and transformed features."
      ]
    },
    {
      "cell_type": "code",
      "metadata": {
        "id": "e6aWc4et088x",
        "colab_type": "code",
        "colab": {}
      },
      "source": [
        "# Set Pipeline\n",
        "pipeline = Pipeline(stages=stages)\n",
        "\n",
        "# Fit Pipeline to Data\n",
        "pipeline_model = pipeline.fit(df)\n",
        "\n",
        "# Transform Data using Fitted Pipeline\n",
        "df_transform = pipeline_model.transform(df)"
      ],
      "execution_count": 0,
      "outputs": []
    },
    {
      "cell_type": "code",
      "metadata": {
        "id": "TnSe64xp0880",
        "colab_type": "code",
        "outputId": "1f4a69fb-2573-44da-fd3d-d9734263498c",
        "colab": {}
      },
      "source": [
        "# Preview Newly Transformed Data\n",
        "df_transform.limit(5).toPandas()"
      ],
      "execution_count": 0,
      "outputs": [
        {
          "output_type": "execute_result",
          "data": {
            "text/html": [
              "<div>\n",
              "<style scoped>\n",
              "    .dataframe tbody tr th:only-of-type {\n",
              "        vertical-align: middle;\n",
              "    }\n",
              "\n",
              "    .dataframe tbody tr th {\n",
              "        vertical-align: top;\n",
              "    }\n",
              "\n",
              "    .dataframe thead th {\n",
              "        text-align: right;\n",
              "    }\n",
              "</style>\n",
              "<table border=\"1\" class=\"dataframe\">\n",
              "  <thead>\n",
              "    <tr style=\"text-align: right;\">\n",
              "      <th></th>\n",
              "      <th>id</th>\n",
              "      <th>age</th>\n",
              "      <th>job</th>\n",
              "      <th>marital</th>\n",
              "      <th>education</th>\n",
              "      <th>default</th>\n",
              "      <th>balance</th>\n",
              "      <th>housing</th>\n",
              "      <th>loan</th>\n",
              "      <th>contact</th>\n",
              "      <th>...</th>\n",
              "      <th>loan_class_vec</th>\n",
              "      <th>contact_index</th>\n",
              "      <th>contact_class_vec</th>\n",
              "      <th>poutcome_index</th>\n",
              "      <th>poutcome_class_vec</th>\n",
              "      <th>unscaled_features</th>\n",
              "      <th>scaled_features</th>\n",
              "      <th>label_index</th>\n",
              "      <th>assembled_inputs</th>\n",
              "      <th>features</th>\n",
              "    </tr>\n",
              "  </thead>\n",
              "  <tbody>\n",
              "    <tr>\n",
              "      <th>0</th>\n",
              "      <td>1</td>\n",
              "      <td>59</td>\n",
              "      <td>admin.</td>\n",
              "      <td>married</td>\n",
              "      <td>secondary</td>\n",
              "      <td>no</td>\n",
              "      <td>2343</td>\n",
              "      <td>yes</td>\n",
              "      <td>no</td>\n",
              "      <td>unknown</td>\n",
              "      <td>...</td>\n",
              "      <td>(1.0)</td>\n",
              "      <td>1.0</td>\n",
              "      <td>(0.0, 1.0)</td>\n",
              "      <td>0.0</td>\n",
              "      <td>(1.0, 0.0, 0.0)</td>\n",
              "      <td>[2343.0, 1042.0, 1.0, -1.0, 0.0]</td>\n",
              "      <td>[0.7264185278681131, 3.0017712260834295, 0.367...</td>\n",
              "      <td>1.0</td>\n",
              "      <td>(0.0, 0.0, 0.0, 1.0, 0.0, 0.0, 0.0, 0.0, 0.0, ...</td>\n",
              "      <td>(0.7264185278681131, 3.0017712260834295, 0.367...</td>\n",
              "    </tr>\n",
              "    <tr>\n",
              "      <th>1</th>\n",
              "      <td>2</td>\n",
              "      <td>56</td>\n",
              "      <td>admin.</td>\n",
              "      <td>married</td>\n",
              "      <td>secondary</td>\n",
              "      <td>no</td>\n",
              "      <td>45</td>\n",
              "      <td>no</td>\n",
              "      <td>no</td>\n",
              "      <td>unknown</td>\n",
              "      <td>...</td>\n",
              "      <td>(1.0)</td>\n",
              "      <td>1.0</td>\n",
              "      <td>(0.0, 1.0)</td>\n",
              "      <td>0.0</td>\n",
              "      <td>(1.0, 0.0, 0.0)</td>\n",
              "      <td>[45.0, 1467.0, 1.0, -1.0, 0.0]</td>\n",
              "      <td>[0.013951700279157103, 4.226102100445672, 0.36...</td>\n",
              "      <td>1.0</td>\n",
              "      <td>(0.0, 0.0, 0.0, 1.0, 0.0, 0.0, 0.0, 0.0, 0.0, ...</td>\n",
              "      <td>(0.013951700279157103, 4.226102100445672, 0.36...</td>\n",
              "    </tr>\n",
              "    <tr>\n",
              "      <th>2</th>\n",
              "      <td>3</td>\n",
              "      <td>41</td>\n",
              "      <td>technician</td>\n",
              "      <td>married</td>\n",
              "      <td>secondary</td>\n",
              "      <td>no</td>\n",
              "      <td>1270</td>\n",
              "      <td>yes</td>\n",
              "      <td>no</td>\n",
              "      <td>unknown</td>\n",
              "      <td>...</td>\n",
              "      <td>(1.0)</td>\n",
              "      <td>1.0</td>\n",
              "      <td>(0.0, 1.0)</td>\n",
              "      <td>0.0</td>\n",
              "      <td>(1.0, 0.0, 0.0)</td>\n",
              "      <td>[1270.0, 1389.0, 1.0, -1.0, 0.0]</td>\n",
              "      <td>[0.39374798565621155, 4.001401375268602, 0.367...</td>\n",
              "      <td>1.0</td>\n",
              "      <td>(0.0, 0.0, 1.0, 0.0, 0.0, 0.0, 0.0, 0.0, 0.0, ...</td>\n",
              "      <td>(0.39374798565621155, 4.001401375268602, 0.367...</td>\n",
              "    </tr>\n",
              "    <tr>\n",
              "      <th>3</th>\n",
              "      <td>4</td>\n",
              "      <td>55</td>\n",
              "      <td>services</td>\n",
              "      <td>married</td>\n",
              "      <td>secondary</td>\n",
              "      <td>no</td>\n",
              "      <td>2476</td>\n",
              "      <td>yes</td>\n",
              "      <td>no</td>\n",
              "      <td>unknown</td>\n",
              "      <td>...</td>\n",
              "      <td>(1.0)</td>\n",
              "      <td>1.0</td>\n",
              "      <td>(0.0, 1.0)</td>\n",
              "      <td>0.0</td>\n",
              "      <td>(1.0, 0.0, 0.0)</td>\n",
              "      <td>[2476.0, 579.0, 1.0, -1.0, 0.0]</td>\n",
              "      <td>[0.7676535531376218, 1.667970767660562, 0.3673...</td>\n",
              "      <td>1.0</td>\n",
              "      <td>(0.0, 0.0, 0.0, 0.0, 1.0, 0.0, 0.0, 0.0, 0.0, ...</td>\n",
              "      <td>(0.7676535531376218, 1.667970767660562, 0.3673...</td>\n",
              "    </tr>\n",
              "    <tr>\n",
              "      <th>4</th>\n",
              "      <td>5</td>\n",
              "      <td>54</td>\n",
              "      <td>admin.</td>\n",
              "      <td>married</td>\n",
              "      <td>tertiary</td>\n",
              "      <td>no</td>\n",
              "      <td>184</td>\n",
              "      <td>no</td>\n",
              "      <td>no</td>\n",
              "      <td>unknown</td>\n",
              "      <td>...</td>\n",
              "      <td>(1.0)</td>\n",
              "      <td>1.0</td>\n",
              "      <td>(0.0, 1.0)</td>\n",
              "      <td>0.0</td>\n",
              "      <td>(1.0, 0.0, 0.0)</td>\n",
              "      <td>[184.0, 673.0, 2.0, -1.0, 0.0]</td>\n",
              "      <td>[0.05704695225255348, 1.938763949284211, 0.734...</td>\n",
              "      <td>1.0</td>\n",
              "      <td>(0.0, 0.0, 0.0, 1.0, 0.0, 0.0, 0.0, 0.0, 0.0, ...</td>\n",
              "      <td>(0.05704695225255348, 1.938763949284211, 0.734...</td>\n",
              "    </tr>\n",
              "  </tbody>\n",
              "</table>\n",
              "<p>5 rows × 37 columns</p>\n",
              "</div>"
            ],
            "text/plain": [
              "   id  age         job  marital  education default  balance housing loan  \\\n",
              "0   1   59      admin.  married  secondary      no     2343     yes   no   \n",
              "1   2   56      admin.  married  secondary      no       45      no   no   \n",
              "2   3   41  technician  married  secondary      no     1270     yes   no   \n",
              "3   4   55    services  married  secondary      no     2476     yes   no   \n",
              "4   5   54      admin.  married   tertiary      no      184      no   no   \n",
              "\n",
              "   contact  ...  loan_class_vec  contact_index  contact_class_vec  \\\n",
              "0  unknown  ...           (1.0)            1.0         (0.0, 1.0)   \n",
              "1  unknown  ...           (1.0)            1.0         (0.0, 1.0)   \n",
              "2  unknown  ...           (1.0)            1.0         (0.0, 1.0)   \n",
              "3  unknown  ...           (1.0)            1.0         (0.0, 1.0)   \n",
              "4  unknown  ...           (1.0)            1.0         (0.0, 1.0)   \n",
              "\n",
              "   poutcome_index poutcome_class_vec                 unscaled_features  \\\n",
              "0             0.0    (1.0, 0.0, 0.0)  [2343.0, 1042.0, 1.0, -1.0, 0.0]   \n",
              "1             0.0    (1.0, 0.0, 0.0)    [45.0, 1467.0, 1.0, -1.0, 0.0]   \n",
              "2             0.0    (1.0, 0.0, 0.0)  [1270.0, 1389.0, 1.0, -1.0, 0.0]   \n",
              "3             0.0    (1.0, 0.0, 0.0)   [2476.0, 579.0, 1.0, -1.0, 0.0]   \n",
              "4             0.0    (1.0, 0.0, 0.0)    [184.0, 673.0, 2.0, -1.0, 0.0]   \n",
              "\n",
              "                                     scaled_features label_index  \\\n",
              "0  [0.7264185278681131, 3.0017712260834295, 0.367...         1.0   \n",
              "1  [0.013951700279157103, 4.226102100445672, 0.36...         1.0   \n",
              "2  [0.39374798565621155, 4.001401375268602, 0.367...         1.0   \n",
              "3  [0.7676535531376218, 1.667970767660562, 0.3673...         1.0   \n",
              "4  [0.05704695225255348, 1.938763949284211, 0.734...         1.0   \n",
              "\n",
              "                                    assembled_inputs  \\\n",
              "0  (0.0, 0.0, 0.0, 1.0, 0.0, 0.0, 0.0, 0.0, 0.0, ...   \n",
              "1  (0.0, 0.0, 0.0, 1.0, 0.0, 0.0, 0.0, 0.0, 0.0, ...   \n",
              "2  (0.0, 0.0, 1.0, 0.0, 0.0, 0.0, 0.0, 0.0, 0.0, ...   \n",
              "3  (0.0, 0.0, 0.0, 0.0, 1.0, 0.0, 0.0, 0.0, 0.0, ...   \n",
              "4  (0.0, 0.0, 0.0, 1.0, 0.0, 0.0, 0.0, 0.0, 0.0, ...   \n",
              "\n",
              "                                            features  \n",
              "0  (0.7264185278681131, 3.0017712260834295, 0.367...  \n",
              "1  (0.013951700279157103, 4.226102100445672, 0.36...  \n",
              "2  (0.39374798565621155, 4.001401375268602, 0.367...  \n",
              "3  (0.7676535531376218, 1.667970767660562, 0.3673...  \n",
              "4  (0.05704695225255348, 1.938763949284211, 0.734...  \n",
              "\n",
              "[5 rows x 37 columns]"
            ]
          },
          "metadata": {
            "tags": []
          },
          "execution_count": 13
        }
      ]
    },
    {
      "cell_type": "code",
      "metadata": {
        "id": "NLUCch2t0882",
        "colab_type": "code",
        "outputId": "886ba9e5-8aa2-4e7c-ff49-73dcf40aa53d",
        "colab": {}
      },
      "source": [
        "# Data Structure Type is a PySpark Dataframe\n",
        "type(df_transform)"
      ],
      "execution_count": 0,
      "outputs": [
        {
          "output_type": "execute_result",
          "data": {
            "text/plain": [
              "pyspark.sql.dataframe.DataFrame"
            ]
          },
          "metadata": {
            "tags": []
          },
          "execution_count": 14
        }
      ]
    },
    {
      "cell_type": "markdown",
      "metadata": {
        "id": "rd7GCyIk0884",
        "colab_type": "text"
      },
      "source": [
        "<div class=\"alert alert-block alert-info\">\n",
        "<b>Step 6:</b> Final Data Prep before Deep Learning Model\n",
        "</div>"
      ]
    },
    {
      "cell_type": "markdown",
      "metadata": {
        "id": "oJVh0ESO0885",
        "colab_type": "text"
      },
      "source": [
        "There are couple last and quick things we need to do before modeling. First is to create a PySpark dataframe that only contains 2 vectors from the recently transformed dataframe. We only need the: `features` (X) and `label_index` (y) features for modeling. It's easy enough to do with PySpark with the simple `select` statement. Then, just cause, we preview the dataframe.\n",
        "\n",
        "Finally, we want to shuffle our dataframe and then split the data into train and test sets. You always want to shuffle the data prior to modeling to avoid any bias from how the data may be sorted or otherwise organized and specifically shuffling prior to splitting the data."
      ]
    },
    {
      "cell_type": "code",
      "metadata": {
        "id": "CHzw4vTy0885",
        "colab_type": "code",
        "outputId": "7242eb6a-b966-4d3a-8170-a1ed068de248",
        "colab": {}
      },
      "source": [
        "# Select only 'features' and 'label_index' for Final Dataframe\n",
        "df_transform_fin = df_transform.select('features','label_index')\n",
        "df_transform_fin.limit(5).toPandas()"
      ],
      "execution_count": 0,
      "outputs": [
        {
          "output_type": "execute_result",
          "data": {
            "text/html": [
              "<div>\n",
              "<style scoped>\n",
              "    .dataframe tbody tr th:only-of-type {\n",
              "        vertical-align: middle;\n",
              "    }\n",
              "\n",
              "    .dataframe tbody tr th {\n",
              "        vertical-align: top;\n",
              "    }\n",
              "\n",
              "    .dataframe thead th {\n",
              "        text-align: right;\n",
              "    }\n",
              "</style>\n",
              "<table border=\"1\" class=\"dataframe\">\n",
              "  <thead>\n",
              "    <tr style=\"text-align: right;\">\n",
              "      <th></th>\n",
              "      <th>features</th>\n",
              "      <th>label_index</th>\n",
              "    </tr>\n",
              "  </thead>\n",
              "  <tbody>\n",
              "    <tr>\n",
              "      <th>0</th>\n",
              "      <td>(0.7264185278681131, 3.0017712260834295, 0.367...</td>\n",
              "      <td>1.0</td>\n",
              "    </tr>\n",
              "    <tr>\n",
              "      <th>1</th>\n",
              "      <td>(0.013951700279157103, 4.226102100445672, 0.36...</td>\n",
              "      <td>1.0</td>\n",
              "    </tr>\n",
              "    <tr>\n",
              "      <th>2</th>\n",
              "      <td>(0.39374798565621155, 4.001401375268602, 0.367...</td>\n",
              "      <td>1.0</td>\n",
              "    </tr>\n",
              "    <tr>\n",
              "      <th>3</th>\n",
              "      <td>(0.7676535531376218, 1.667970767660562, 0.3673...</td>\n",
              "      <td>1.0</td>\n",
              "    </tr>\n",
              "    <tr>\n",
              "      <th>4</th>\n",
              "      <td>(0.05704695225255348, 1.938763949284211, 0.734...</td>\n",
              "      <td>1.0</td>\n",
              "    </tr>\n",
              "  </tbody>\n",
              "</table>\n",
              "</div>"
            ],
            "text/plain": [
              "                                            features  label_index\n",
              "0  (0.7264185278681131, 3.0017712260834295, 0.367...          1.0\n",
              "1  (0.013951700279157103, 4.226102100445672, 0.36...          1.0\n",
              "2  (0.39374798565621155, 4.001401375268602, 0.367...          1.0\n",
              "3  (0.7676535531376218, 1.667970767660562, 0.3673...          1.0\n",
              "4  (0.05704695225255348, 1.938763949284211, 0.734...          1.0"
            ]
          },
          "metadata": {
            "tags": []
          },
          "execution_count": 15
        }
      ]
    },
    {
      "cell_type": "code",
      "metadata": {
        "id": "756weWBH0887",
        "colab_type": "code",
        "colab": {}
      },
      "source": [
        "# Shuffle Data\n",
        "df_transform_fin = df_transform_fin.orderBy(rand())"
      ],
      "execution_count": 0,
      "outputs": []
    },
    {
      "cell_type": "code",
      "metadata": {
        "id": "9yH04h5O0889",
        "colab_type": "code",
        "colab": {}
      },
      "source": [
        "# Split Data into Train / Test Sets\n",
        "train_data, test_data = df_transform_fin.randomSplit([.8, .2],seed=1234)"
      ],
      "execution_count": 0,
      "outputs": []
    },
    {
      "cell_type": "markdown",
      "metadata": {
        "id": "VySruYe5088-",
        "colab_type": "text"
      },
      "source": [
        "<div class=\"alert alert-block alert-info\">\n",
        "<b>Step 7:</b> Build a Deep Learning Model\n",
        "</div>"
      ]
    },
    {
      "cell_type": "markdown",
      "metadata": {
        "id": "OoIpxKTi088-",
        "colab_type": "text"
      },
      "source": [
        "We'll now build a basic deep learning model using Keras. Keras is described as: _\"a high-level neural networks API, written in Python and capable of running on top of TensorFlow, CNTK, or Theano.\"_ in the [Keras documentation](https://keras.io/). I find Keras to be one of the easiest deep learning APIs for python. Also, I found an extension of Keras that allowed me to do easy distributed deep learning on Spark that could integrate with my PySpark pipeline."
      ]
    },
    {
      "cell_type": "markdown",
      "metadata": {
        "id": "rqsALML-088_",
        "colab_type": "text"
      },
      "source": [
        "First we need to determine the number of classes as well as the number of inputs from our data so we can plug those values into our Keras deep learning model."
      ]
    },
    {
      "cell_type": "code",
      "metadata": {
        "id": "MlmyUliT088_",
        "colab_type": "code",
        "colab": {}
      },
      "source": [
        "# Number of Classes\n",
        "nb_classes = train_data.select(\"label_index\").distinct().count()\n",
        "\n",
        "# Number of Inputs or Input Dimensions\n",
        "input_dim = len(train_data.select(\"features\").first()[0])"
      ],
      "execution_count": 0,
      "outputs": []
    },
    {
      "cell_type": "markdown",
      "metadata": {
        "id": "cs3EpWGg089A",
        "colab_type": "text"
      },
      "source": [
        "Next we create a basic deep learning model. Using the `model = Sequential()` feature from Keras, it's easy to simply add layers and build a deep learning model the all the desired settings (# of units, dropout %, regularization - l2, activation functions, etc.) I selected the common Adam optimizer and binary cross-entropy since out outcome label is binary."
      ]
    },
    {
      "cell_type": "code",
      "metadata": {
        "id": "2sqU8xeB089B",
        "colab_type": "code",
        "colab": {}
      },
      "source": [
        "# Set up Deep Learning Model / Architecture\n",
        "model = Sequential()\n",
        "model.add(Dense(256, input_shape=(input_dim,), activity_regularizer=regularizers.l2(0.01)))\n",
        "model.add(Activation('relu'))\n",
        "model.add(Dropout(rate=0.3))\n",
        "model.add(Dense(256, activity_regularizer=regularizers.l2(0.01)))\n",
        "model.add(Activation('relu'))\n",
        "model.add(Dropout(rate=0.3))\n",
        "model.add(Dense(nb_classes))\n",
        "model.add(Activation('sigmoid'))\n",
        "model.compile(loss='binary_crossentropy', optimizer='adam')"
      ],
      "execution_count": 0,
      "outputs": []
    },
    {
      "cell_type": "markdown",
      "metadata": {
        "id": "iBqv019C089C",
        "colab_type": "text"
      },
      "source": [
        "Once the model is built we can view the architecture. Notice that we went from 30 inputs/parameters to 74,242. The beauty (sometimes laziness :) ) of deep learning is the automatic feature engineering."
      ]
    },
    {
      "cell_type": "code",
      "metadata": {
        "id": "6IyXSagd089C",
        "colab_type": "code",
        "outputId": "92ad5d5a-e7be-4412-c040-81494cd8e242",
        "colab": {}
      },
      "source": [
        "# Model Summary\n",
        "model.summary()"
      ],
      "execution_count": 0,
      "outputs": [
        {
          "output_type": "stream",
          "text": [
            "_________________________________________________________________\n",
            "Layer (type)                 Output Shape              Param #   \n",
            "=================================================================\n",
            "dense_5 (Dense)              (None, 256)               7936      \n",
            "_________________________________________________________________\n",
            "activation_5 (Activation)    (None, 256)               0         \n",
            "_________________________________________________________________\n",
            "dropout_3 (Dropout)          (None, 256)               0         \n",
            "_________________________________________________________________\n",
            "dense_6 (Dense)              (None, 256)               65792     \n",
            "_________________________________________________________________\n",
            "activation_6 (Activation)    (None, 256)               0         \n",
            "_________________________________________________________________\n",
            "dropout_4 (Dropout)          (None, 256)               0         \n",
            "_________________________________________________________________\n",
            "dense_7 (Dense)              (None, 2)                 514       \n",
            "_________________________________________________________________\n",
            "activation_7 (Activation)    (None, 2)                 0         \n",
            "=================================================================\n",
            "Total params: 74,242\n",
            "Trainable params: 74,242\n",
            "Non-trainable params: 0\n",
            "_________________________________________________________________\n"
          ],
          "name": "stdout"
        }
      ]
    },
    {
      "cell_type": "markdown",
      "metadata": {
        "id": "Yp1j3izG089E",
        "colab_type": "text"
      },
      "source": [
        "<div class=\"alert alert-block alert-info\">\n",
        "<b>Step 8:</b> Distributed Deep Learning\n",
        "</div>"
      ]
    },
    {
      "cell_type": "markdown",
      "metadata": {
        "id": "r6HTtY6X089E",
        "colab_type": "text"
      },
      "source": [
        "Now that we have a model built, using Keras as our deep learning framework, we want to run that model on Spark to leverage its distributed analytic engine. We do that by using a python library and an extension to Keras called [Elephas](https://github.com/maxpumperla/elephas). Elephas makes it pretty easy to run your Keras models on Apache spark with few lines of configuration. I found Elephas to be easier and more stable to use than the several other libraries I read about and tried."
      ]
    },
    {
      "cell_type": "markdown",
      "metadata": {
        "id": "ofgKe_fn089F",
        "colab_type": "text"
      },
      "source": [
        "The first thing we do with Elephas is create an estimator similar to some of the PySpark pipeline items above. We can set the optimizer settings right from Keras optimizer function and then pass that to our Elephas estimator. I only explicitly use Adam optimizer with a set learning rate, but you can use any [Keras optimizer](https://keras.io/optimizers/) with their respective parameters (clipnorm, beta_1, beta_2, etc.).\n",
        "\n",
        "Then within the Elephas estimator you specify a variety of items: features column, label column, # of epochs, batch size for training, validation split of your training data, loss function, metric, etc. I just used the settings from an [Elephas example](https://github.com/maxpumperla/elephas/blob/master/examples/ml_pipeline_otto.py) and modified the code slightly.\n",
        "\n",
        "Notice that after we run the estimator the output, `ElephasEstimator_31afcd77fffd`, looks similar to one of our pipeline `stages` list items. This can be passed directly into our PySpark pipeline to fit and transform our data which we'll do in the next step!"
      ]
    },
    {
      "cell_type": "code",
      "metadata": {
        "id": "q6scpHK_089G",
        "colab_type": "code",
        "outputId": "5b96ffa5-d30f-432f-cf0e-5c1af1f64932",
        "colab": {}
      },
      "source": [
        "# Set and Serialize Optimizer\n",
        "optimizer_conf = optimizers.Adam(lr=0.01)\n",
        "opt_conf = optimizers.serialize(optimizer_conf)\n",
        "\n",
        "# Initialize SparkML Estimator and Get Settings\n",
        "estimator = ElephasEstimator()\n",
        "estimator.setFeaturesCol(\"features\")\n",
        "estimator.setLabelCol(\"label_index\")\n",
        "estimator.set_keras_model_config(model.to_yaml())\n",
        "estimator.set_categorical_labels(True)\n",
        "estimator.set_nb_classes(nb_classes)\n",
        "estimator.set_num_workers(1)\n",
        "estimator.set_epochs(25) \n",
        "estimator.set_batch_size(64)\n",
        "estimator.set_verbosity(1)\n",
        "estimator.set_validation_split(0.10)\n",
        "estimator.set_optimizer_config(opt_conf)\n",
        "estimator.set_mode(\"synchronous\")\n",
        "estimator.set_loss(\"binary_crossentropy\")\n",
        "estimator.set_metrics(['acc'])"
      ],
      "execution_count": 0,
      "outputs": [
        {
          "output_type": "execute_result",
          "data": {
            "text/plain": [
              "ElephasEstimator_31afcd77fffd"
            ]
          },
          "metadata": {
            "tags": []
          },
          "execution_count": 35
        }
      ]
    },
    {
      "cell_type": "markdown",
      "metadata": {
        "id": "KhUOAlck089H",
        "colab_type": "text"
      },
      "source": [
        "<div class=\"alert alert-block alert-info\">\n",
        "<b>Step 9:</b> Distributed Deep Learning Pipeline and Results\n",
        "</div>"
      ]
    },
    {
      "cell_type": "markdown",
      "metadata": {
        "id": "SVSEv9u5089H",
        "colab_type": "text"
      },
      "source": [
        "Now that are deep learning model is to be run on Spark, using Elephas, we can pipeline line it exactly how we did above using `Pipeline()`. You could append this to our `stages` list and do all of this with one pass with a new dataset now that it's all built out which would be super cool!\n",
        "\n",
        "I created another helper function below called `dl_pipeline_fit_score_results` that takes the deep learning pipeline `dl_pipeline` and then does all the fitting, transforming, and prediction on both the train and test data sets. It also outputs the accuracy for both data sets and their confusion matrices."
      ]
    },
    {
      "cell_type": "code",
      "metadata": {
        "id": "Hvyppvi6089I",
        "colab_type": "code",
        "colab": {}
      },
      "source": [
        "# Create Deep Learning Pipeline\n",
        "dl_pipeline = Pipeline(stages=[estimator])"
      ],
      "execution_count": 0,
      "outputs": []
    },
    {
      "cell_type": "code",
      "metadata": {
        "id": "w0kVv608089K",
        "colab_type": "code",
        "colab": {}
      },
      "source": [
        "def dl_pipeline_fit_score_results(dl_pipeline=dl_pipeline,\n",
        "                                  train_data=train_data,\n",
        "                                  test_data=test_data,\n",
        "                                  label='label_index'):\n",
        "    \n",
        "    fit_dl_pipeline = dl_pipeline.fit(train_data)\n",
        "    pred_train = fit_dl_pipeline.transform(train_data)\n",
        "    pred_test = fit_dl_pipeline.transform(test_data)\n",
        "    \n",
        "    pnl_train = pred_train.select(label, \"prediction\")\n",
        "    pnl_test = pred_test.select(label, \"prediction\")\n",
        "    \n",
        "    pred_and_label_train = pnl_train.rdd.map(lambda row: (row[label], row['prediction']))\n",
        "    pred_and_label_test = pnl_test.rdd.map(lambda row: (row[label], row['prediction']))\n",
        "    \n",
        "    metrics_train = MulticlassMetrics(pred_and_label_train)\n",
        "    metrics_test = MulticlassMetrics(pred_and_label_test)\n",
        "    \n",
        "    print(\"Training Data Accuracy: {}\".format(round(metrics_train.precision(),4)))\n",
        "    print(\"Training Data Confusion Matrix\")\n",
        "    display(pnl_train.crosstab('label_index', 'prediction').toPandas())\n",
        "    \n",
        "    print(\"\\nTest Data Accuracy: {}\".format(round(metrics_test.precision(),4)))\n",
        "    print(\"Test Data Confusion Matrix\")\n",
        "    display(pnl_test.crosstab('label_index', 'prediction').toPandas())"
      ],
      "execution_count": 0,
      "outputs": []
    },
    {
      "cell_type": "markdown",
      "metadata": {
        "id": "qXpMgBWT089M",
        "colab_type": "text"
      },
      "source": [
        "Let's use our new deep learning pipeline and helper function on both data sets and test our results!"
      ]
    },
    {
      "cell_type": "code",
      "metadata": {
        "id": "76IMlPLy089M",
        "colab_type": "code",
        "outputId": "13a9daf9-4b83-4431-e679-dea0c528d977",
        "colab": {}
      },
      "source": [
        "dl_pipeline_fit_score_results(dl_pipeline=dl_pipeline,\n",
        "                              train_data=train_data,\n",
        "                              test_data=test_data,\n",
        "                              label='label_index');"
      ],
      "execution_count": 0,
      "outputs": [
        {
          "output_type": "stream",
          "text": [
            ">>> Fit model\n",
            ">>> Synchronous training complete.\n",
            "Training Data Accuracy: 0.791\n",
            "Training Data Confusion Matrix\n"
          ],
          "name": "stdout"
        },
        {
          "output_type": "display_data",
          "data": {
            "text/html": [
              "<div>\n",
              "<style scoped>\n",
              "    .dataframe tbody tr th:only-of-type {\n",
              "        vertical-align: middle;\n",
              "    }\n",
              "\n",
              "    .dataframe tbody tr th {\n",
              "        vertical-align: top;\n",
              "    }\n",
              "\n",
              "    .dataframe thead th {\n",
              "        text-align: right;\n",
              "    }\n",
              "</style>\n",
              "<table border=\"1\" class=\"dataframe\">\n",
              "  <thead>\n",
              "    <tr style=\"text-align: right;\">\n",
              "      <th></th>\n",
              "      <th>label_index_prediction</th>\n",
              "      <th>0.0</th>\n",
              "      <th>1.0</th>\n",
              "    </tr>\n",
              "  </thead>\n",
              "  <tbody>\n",
              "    <tr>\n",
              "      <th>0</th>\n",
              "      <td>1.0</td>\n",
              "      <td>1047</td>\n",
              "      <td>3169</td>\n",
              "    </tr>\n",
              "    <tr>\n",
              "      <th>1</th>\n",
              "      <td>0.0</td>\n",
              "      <td>3899</td>\n",
              "      <td>821</td>\n",
              "    </tr>\n",
              "  </tbody>\n",
              "</table>\n",
              "</div>"
            ],
            "text/plain": [
              "  label_index_prediction   0.0   1.0\n",
              "0                    1.0  1047  3169\n",
              "1                    0.0  3899   821"
            ]
          },
          "metadata": {
            "tags": []
          }
        },
        {
          "output_type": "stream",
          "text": [
            "\n",
            "Test Data Accuracy: 0.7853\n",
            "Test Data Confusion Matrix\n"
          ],
          "name": "stdout"
        },
        {
          "output_type": "display_data",
          "data": {
            "text/html": [
              "<div>\n",
              "<style scoped>\n",
              "    .dataframe tbody tr th:only-of-type {\n",
              "        vertical-align: middle;\n",
              "    }\n",
              "\n",
              "    .dataframe tbody tr th {\n",
              "        vertical-align: top;\n",
              "    }\n",
              "\n",
              "    .dataframe thead th {\n",
              "        text-align: right;\n",
              "    }\n",
              "</style>\n",
              "<table border=\"1\" class=\"dataframe\">\n",
              "  <thead>\n",
              "    <tr style=\"text-align: right;\">\n",
              "      <th></th>\n",
              "      <th>label_index_prediction</th>\n",
              "      <th>0.0</th>\n",
              "      <th>1.0</th>\n",
              "    </tr>\n",
              "  </thead>\n",
              "  <tbody>\n",
              "    <tr>\n",
              "      <th>0</th>\n",
              "      <td>1.0</td>\n",
              "      <td>272</td>\n",
              "      <td>801</td>\n",
              "    </tr>\n",
              "    <tr>\n",
              "      <th>1</th>\n",
              "      <td>0.0</td>\n",
              "      <td>947</td>\n",
              "      <td>206</td>\n",
              "    </tr>\n",
              "  </tbody>\n",
              "</table>\n",
              "</div>"
            ],
            "text/plain": [
              "  label_index_prediction  0.0  1.0\n",
              "0                    1.0  272  801\n",
              "1                    0.0  947  206"
            ]
          },
          "metadata": {
            "tags": []
          }
        }
      ]
    },
    {
      "cell_type": "markdown",
      "metadata": {
        "id": "j6aFF9HO089N",
        "colab_type": "text"
      },
      "source": [
        "## Conclusion"
      ]
    },
    {
      "cell_type": "markdown",
      "metadata": {
        "id": "Ex5kdLqb089O",
        "colab_type": "text"
      },
      "source": [
        "I hope that this example has been helpful. I know it was for me in learning more about PySpark pipelines and doing deep learning on spark using an easy deep learning framework like Keras. Like I mentioned, I ran all this locally with little to no issue. My main objective was to prototype something for an upcoming project that will contain a massive dataset. Luckily working for IBM allows me to leverage Watson so I'll train and deploy on a large Spark cluster. My hope is that you (and myself) can use this as a template while making few changes to things like the spark session, data, feature selection, and maybe adding or removing some pipeline stages. As always, thanks for reading and good luck on your next project!"
      ]
    }
  ]
}