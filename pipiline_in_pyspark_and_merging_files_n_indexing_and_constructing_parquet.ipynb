{
  "nbformat": 4,
  "nbformat_minor": 0,
  "metadata": {
    "kernelspec": {
      "display_name": "Python 3.6 with Spark",
      "language": "python3",
      "name": "python36"
    },
    "language_info": {
      "codemirror_mode": {
        "name": "ipython",
        "version": 3
      },
      "file_extension": ".py",
      "mimetype": "text/x-python",
      "name": "python",
      "nbconvert_exporter": "python",
      "pygments_lexer": "ipython3",
      "version": "3.6.8"
    },
    "colab": {
      "name": "pipiline in pyspark and merging files n indexing and constructing parquet.ipynb",
      "provenance": [],
      "collapsed_sections": [],
      "include_colab_link": true
    }
  },
  "cells": [
    {
      "cell_type": "markdown",
      "metadata": {
        "id": "view-in-github",
        "colab_type": "text"
      },
      "source": [
        "<a href=\"https://colab.research.google.com/github/veeransr/ML-and-Deep-learning-practice-with-python/blob/master/pipiline_in_pyspark_and_merging_files_n_indexing_and_constructing_parquet.ipynb\" target=\"_parent\"><img src=\"https://colab.research.google.com/assets/colab-badge.svg\" alt=\"Open In Colab\"/></a>"
      ]
    },
    {
      "cell_type": "markdown",
      "metadata": {
        "id": "RO9Ca4qlA0oI",
        "colab_type": "text"
      },
      "source": [
        "This notebook is designed to run in a IBM Watson Studio default runtime (NOT the Watson Studio Apache Spark Runtime as the default runtime with 1 vCPU is free of charge). Therefore, we install Apache Spark in local mode for test purposes only. Please don't use it in production.\n",
        "\n",
        "In case you are facing issues, please read the following two documents first:\n",
        "\n",
        "https://github.com/IBM/skillsnetwork/wiki/Environment-Setup\n",
        "\n",
        "https://github.com/IBM/skillsnetwork/wiki/FAQ\n",
        "\n",
        "Then, please feel free to ask:\n",
        "\n",
        "https://coursera.org/learn/machine-learning-big-data-apache-spark/discussions/all\n",
        "\n",
        "Please make sure to follow the guidelines before asking a question:\n",
        "\n",
        "https://github.com/IBM/skillsnetwork/wiki/FAQ#im-feeling-lost-and-confused-please-help-me\n",
        "\n",
        "\n",
        "If running outside Watson Studio, this should work as well. In case you are running in an Apache Spark context outside Watson Studio, please remove the Apache Spark setup in the first notebook cells."
      ]
    },
    {
      "cell_type": "code",
      "metadata": {
        "id": "ntyjRr12BhS7",
        "colab_type": "code",
        "colab": {}
      },
      "source": [
        "!apt-get install openjdk-8-jdk-headless -qq > /dev/null\n",
        "!wget -q https://downloads.apache.org/spark/spark-2.4.5/spark-2.4.5-bin-hadoop2.7.tgz\n",
        "!tar xf spark-2.4.5-bin-hadoop2.7.tgz\n",
        "!pip install -q findspark"
      ],
      "execution_count": 0,
      "outputs": []
    },
    {
      "cell_type": "code",
      "metadata": {
        "id": "-AXC8fgeBtip",
        "colab_type": "code",
        "colab": {}
      },
      "source": [
        "import os\n",
        "os.environ[\"JAVA_HOME\"] = \"/usr/lib/jvm/java-8-openjdk-amd64\"\n",
        "os.environ[\"SPARK_HOME\"] = \"/content/spark-2.4.5-bin-hadoop2.7\""
      ],
      "execution_count": 0,
      "outputs": []
    },
    {
      "cell_type": "code",
      "metadata": {
        "id": "Oa1C_7YJB0Zp",
        "colab_type": "code",
        "colab": {}
      },
      "source": [
        "import findspark\n",
        "findspark.init()"
      ],
      "execution_count": 0,
      "outputs": []
    },
    {
      "cell_type": "code",
      "metadata": {
        "id": "Q4IQzSlDB43a",
        "colab_type": "code",
        "outputId": "17ea54d6-a67a-41f2-9ee1-81060ca38253",
        "colab": {
          "base_uri": "https://localhost:8080/",
          "height": 258
        }
      },
      "source": [
        "!pip install pyspark"
      ],
      "execution_count": 0,
      "outputs": [
        {
          "output_type": "stream",
          "text": [
            "Collecting pyspark\n",
            "\u001b[?25l  Downloading https://files.pythonhosted.org/packages/9a/5a/271c416c1c2185b6cb0151b29a91fff6fcaed80173c8584ff6d20e46b465/pyspark-2.4.5.tar.gz (217.8MB)\n",
            "\u001b[K     |████████████████████████████████| 217.8MB 63kB/s \n",
            "\u001b[?25hCollecting py4j==0.10.7\n",
            "\u001b[?25l  Downloading https://files.pythonhosted.org/packages/e3/53/c737818eb9a7dc32a7cd4f1396e787bd94200c3997c72c1dbe028587bd76/py4j-0.10.7-py2.py3-none-any.whl (197kB)\n",
            "\u001b[K     |████████████████████████████████| 204kB 44.5MB/s \n",
            "\u001b[?25hBuilding wheels for collected packages: pyspark\n",
            "  Building wheel for pyspark (setup.py) ... \u001b[?25l\u001b[?25hdone\n",
            "  Created wheel for pyspark: filename=pyspark-2.4.5-py2.py3-none-any.whl size=218257927 sha256=ac583cd88d3272c0a1563db223b4be2a13a31c7087f69ef847cb3adeb4ef81c2\n",
            "  Stored in directory: /root/.cache/pip/wheels/bf/db/04/61d66a5939364e756eb1c1be4ec5bdce6e04047fc7929a3c3c\n",
            "Successfully built pyspark\n",
            "Installing collected packages: py4j, pyspark\n",
            "Successfully installed py4j-0.10.7 pyspark-2.4.5\n"
          ],
          "name": "stdout"
        }
      ]
    },
    {
      "cell_type": "code",
      "metadata": {
        "id": "OXRgNep6B_G-",
        "colab_type": "code",
        "colab": {}
      },
      "source": [
        "from pyspark import SparkContext\n",
        "from pyspark.sql import SparkSession\n",
        "from pyspark.ml.feature import PCA\n",
        "from pyspark.ml.linalg import Vectors\n",
        "from pyspark.mllib.regression import LabeledPoint\n",
        "from pyspark.mllib.util import MLUtils\n",
        "import numpy as np\n",
        "from pyspark.ml.feature import StandardScaler\n",
        "import pyspark.sql.functions as f\n",
        "import pyspark.sql.types\n",
        "import pandas as pd\n",
        "from pyspark.sql import Row\n",
        "spark = SparkSession.builder.getOrCreate()\n",
        "sc = SparkContext.getOrCreate()\n",
        "from pyspark.ml.feature import VectorAssembler"
      ],
      "execution_count": 0,
      "outputs": []
    },
    {
      "cell_type": "markdown",
      "metadata": {
        "collapsed": true,
        "id": "bi3_mdMuA0oY",
        "colab_type": "text"
      },
      "source": [
        "Welcome to exercise one of week three of “Apache Spark for Scalable Machine Learning on BigData”. In this exercise we’ll use the HMP dataset again and perform some basic operations using Apache SparkML Pipeline components.\n",
        "\n",
        "Let’s create our DataFrame again:\n"
      ]
    },
    {
      "cell_type": "code",
      "metadata": {
        "id": "my5qsFW6A0oZ",
        "colab_type": "code",
        "outputId": "047460ab-1057-4cb0-9c0f-d3623e8eae61",
        "colab": {
          "base_uri": "https://localhost:8080/",
          "height": 357
        }
      },
      "source": [
        "# delete files from previous runs\n",
        "!rm -f hmp.parquet*\n",
        "\n",
        "# download the file containing the data in PARQUET format\n",
        "!wget https://github.com/IBM/coursera/raw/master/hmp.parquet\n",
        "x = pd.read_parquet('hmp.parquet')\n",
        "# create a dataframe out of it\n",
        "#df = spark.read('x')\n",
        "spark_df = spark.createDataFrame(x)\n",
        "# register a corresponding query table\n"
      ],
      "execution_count": 0,
      "outputs": [
        {
          "output_type": "stream",
          "text": [
            "--2020-05-27 16:53:37--  https://github.com/IBM/coursera/raw/master/hmp.parquet\n",
            "Resolving github.com (github.com)... 140.82.113.3\n",
            "Connecting to github.com (github.com)|140.82.113.3|:443... connected.\n",
            "HTTP request sent, awaiting response... 301 Moved Permanently\n",
            "Location: https://github.com/IBM/skillsnetwork/raw/master/hmp.parquet [following]\n",
            "--2020-05-27 16:53:37--  https://github.com/IBM/skillsnetwork/raw/master/hmp.parquet\n",
            "Reusing existing connection to github.com:443.\n",
            "HTTP request sent, awaiting response... 302 Found\n",
            "Location: https://raw.githubusercontent.com/IBM/skillsnetwork/master/hmp.parquet [following]\n",
            "--2020-05-27 16:53:37--  https://raw.githubusercontent.com/IBM/skillsnetwork/master/hmp.parquet\n",
            "Resolving raw.githubusercontent.com (raw.githubusercontent.com)... 151.101.0.133, 151.101.64.133, 151.101.128.133, ...\n",
            "Connecting to raw.githubusercontent.com (raw.githubusercontent.com)|151.101.0.133|:443... connected.\n",
            "HTTP request sent, awaiting response... 200 OK\n",
            "Length: 932997 (911K) [application/octet-stream]\n",
            "Saving to: ‘hmp.parquet’\n",
            "\n",
            "hmp.parquet         100%[===================>] 911.13K  --.-KB/s    in 0.07s   \n",
            "\n",
            "2020-05-27 16:53:37 (11.9 MB/s) - ‘hmp.parquet’ saved [932997/932997]\n",
            "\n"
          ],
          "name": "stdout"
        }
      ]
    },
    {
      "cell_type": "code",
      "metadata": {
        "id": "ez02SzUBDjk0",
        "colab_type": "code",
        "outputId": "e9a7b1aa-afc6-4d7a-d2f5-8e68e2a7e42a",
        "colab": {
          "base_uri": "https://localhost:8080/",
          "height": 34
        }
      },
      "source": [
        "spark_df.head()"
      ],
      "execution_count": 0,
      "outputs": [
        {
          "output_type": "execute_result",
          "data": {
            "text/plain": [
              "Row(x=22, y=49, z=35, source='Accelerometer-2011-04-11-13-28-18-brush_teeth-f1.txt', class='Brush_teeth')"
            ]
          },
          "metadata": {
            "tags": []
          },
          "execution_count": 11
        }
      ]
    },
    {
      "cell_type": "markdown",
      "metadata": {
        "id": "o9E_CmD2A0oc",
        "colab_type": "text"
      },
      "source": [
        "Given below is the feature engineering pipeline from the lecture. Please add a feature column called “features_minmax” using the MinMaxScaler.\n",
        "\n",
        "More information can be found here:\n",
        "http://spark.apache.org/docs/latest/ml-features.html#minmaxscaler"
      ]
    },
    {
      "cell_type": "code",
      "metadata": {
        "id": "_-aCZkthGVZs",
        "colab_type": "code",
        "outputId": "3b774755-bfe3-41d9-a71a-2e9e21fd4ba4",
        "colab": {
          "base_uri": "https://localhost:8080/",
          "height": 187
        }
      },
      "source": [
        "spark_df.describe().show()"
      ],
      "execution_count": 0,
      "outputs": [
        {
          "output_type": "stream",
          "text": [
            "+-------+------------------+-----------------+-----------------+--------------------+-----------+\n",
            "|summary|                 x|                y|                z|              source|      class|\n",
            "+-------+------------------+-----------------+-----------------+--------------------+-----------+\n",
            "|  count|            446529|           446529|           446529|              446529|     446529|\n",
            "|   mean|24.671555486877672|38.21949078335338|41.83984242904716|                null|       null|\n",
            "| stddev|12.157593006180992| 7.69068848723174| 8.30343589941348|                null|       null|\n",
            "|    min|                 0|                0|                0|Accelerometer-201...|Brush_teeth|\n",
            "|    max|                63|               63|               63|Accelerometer-201...|       Walk|\n",
            "+-------+------------------+-----------------+-----------------+--------------------+-----------+\n",
            "\n"
          ],
          "name": "stdout"
        }
      ]
    },
    {
      "cell_type": "code",
      "metadata": {
        "id": "z33zc2Q-ELBG",
        "colab_type": "code",
        "colab": {}
      },
      "source": [
        "from pyspark.ml.feature import OneHotEncoder, StringIndexer, VectorAssembler, Normalizer, MinMaxScaler\n",
        "from pyspark.ml.linalg import Vectors\n",
        "from pyspark.ml import Pipeline"
      ],
      "execution_count": 0,
      "outputs": []
    },
    {
      "cell_type": "code",
      "metadata": {
        "id": "Izxb6wjYEM6W",
        "colab_type": "code",
        "colab": {}
      },
      "source": [
        "indexer = StringIndexer(inputCol=\"class\", outputCol=\"classIndex\")\n",
        "encoder = OneHotEncoder(inputCol=\"classIndex\", outputCol=\"categoryVec\")\n",
        "vectorAssembler = VectorAssembler(inputCols=[\"x\",\"y\",\"z\"],\n",
        "                                  outputCol=\"features\")\n",
        "normalizer = Normalizer(inputCol=\"features\", outputCol=\"features_norm\", p=1.0)\n",
        "\n",
        "minmaxscaler = MinMaxScaler(inputCol=\"features_norm\", outputCol=\"scaledFeatures\")"
      ],
      "execution_count": 0,
      "outputs": []
    },
    {
      "cell_type": "code",
      "metadata": {
        "id": "QGUCc71kA0od",
        "colab_type": "code",
        "outputId": "43845fa9-0eea-4953-aedb-3bd69401cbdf",
        "colab": {
          "base_uri": "https://localhost:8080/",
          "height": 479
        }
      },
      "source": [
        "pipeline = Pipeline(stages=[indexer, encoder, vectorAssembler, normalizer, minmaxscaler])\n",
        "model = pipeline.fit(spark_df)\n",
        "prediction = model.transform(spark_df)\n",
        "prediction.show()"
      ],
      "execution_count": 0,
      "outputs": [
        {
          "output_type": "stream",
          "text": [
            "+---+---+---+--------------------+-----------+----------+--------------+----------------+--------------------+--------------------+\n",
            "|  x|  y|  z|              source|      class|classIndex|   categoryVec|        features|       features_norm|      scaledFeatures|\n",
            "+---+---+---+--------------------+-----------+----------+--------------+----------------+--------------------+--------------------+\n",
            "| 22| 49| 35|Accelerometer-201...|Brush_teeth|       6.0|(13,[6],[1.0])|[22.0,49.0,35.0]|[0.20754716981132...|[0.26684636118598...|\n",
            "| 22| 49| 35|Accelerometer-201...|Brush_teeth|       6.0|(13,[6],[1.0])|[22.0,49.0,35.0]|[0.20754716981132...|[0.26684636118598...|\n",
            "| 22| 52| 35|Accelerometer-201...|Brush_teeth|       6.0|(13,[6],[1.0])|[22.0,52.0,35.0]|[0.20183486238532...|[0.25950196592398...|\n",
            "| 22| 52| 35|Accelerometer-201...|Brush_teeth|       6.0|(13,[6],[1.0])|[22.0,52.0,35.0]|[0.20183486238532...|[0.25950196592398...|\n",
            "| 21| 52| 34|Accelerometer-201...|Brush_teeth|       6.0|(13,[6],[1.0])|[21.0,52.0,34.0]|[0.19626168224299...|[0.25233644859813...|\n",
            "| 22| 51| 34|Accelerometer-201...|Brush_teeth|       6.0|(13,[6],[1.0])|[22.0,51.0,34.0]|[0.20560747663551...|[0.26435246995994...|\n",
            "| 20| 50| 35|Accelerometer-201...|Brush_teeth|       6.0|(13,[6],[1.0])|[20.0,50.0,35.0]|[0.19047619047619...|[0.24489795918367...|\n",
            "| 22| 52| 34|Accelerometer-201...|Brush_teeth|       6.0|(13,[6],[1.0])|[22.0,52.0,34.0]|[0.20370370370370...|[0.26190476190476...|\n",
            "| 22| 50| 34|Accelerometer-201...|Brush_teeth|       6.0|(13,[6],[1.0])|[22.0,50.0,34.0]|[0.20754716981132...|[0.26684636118598...|\n",
            "| 22| 51| 35|Accelerometer-201...|Brush_teeth|       6.0|(13,[6],[1.0])|[22.0,51.0,35.0]|[0.20370370370370...|[0.26190476190476...|\n",
            "| 21| 51| 33|Accelerometer-201...|Brush_teeth|       6.0|(13,[6],[1.0])|[21.0,51.0,33.0]|[0.2,0.4857142857...|[0.25714285714285...|\n",
            "| 20| 50| 34|Accelerometer-201...|Brush_teeth|       6.0|(13,[6],[1.0])|[20.0,50.0,34.0]|[0.19230769230769...|[0.24725274725274...|\n",
            "| 21| 49| 33|Accelerometer-201...|Brush_teeth|       6.0|(13,[6],[1.0])|[21.0,49.0,33.0]|[0.20388349514563...|[0.26213592233009...|\n",
            "| 21| 49| 33|Accelerometer-201...|Brush_teeth|       6.0|(13,[6],[1.0])|[21.0,49.0,33.0]|[0.20388349514563...|[0.26213592233009...|\n",
            "| 20| 51| 35|Accelerometer-201...|Brush_teeth|       6.0|(13,[6],[1.0])|[20.0,51.0,35.0]|[0.18867924528301...|[0.24258760107816...|\n",
            "| 18| 49| 34|Accelerometer-201...|Brush_teeth|       6.0|(13,[6],[1.0])|[18.0,49.0,34.0]|[0.17821782178217...|[0.22913719943422...|\n",
            "| 19| 48| 34|Accelerometer-201...|Brush_teeth|       6.0|(13,[6],[1.0])|[19.0,48.0,34.0]|[0.18811881188118...|[0.24186704384724...|\n",
            "| 16| 53| 34|Accelerometer-201...|Brush_teeth|       6.0|(13,[6],[1.0])|[16.0,53.0,34.0]|[0.15533980582524...|[0.19972260748959...|\n",
            "| 18| 52| 35|Accelerometer-201...|Brush_teeth|       6.0|(13,[6],[1.0])|[18.0,52.0,35.0]|[0.17142857142857...|[0.22040816326530...|\n",
            "| 18| 51| 32|Accelerometer-201...|Brush_teeth|       6.0|(13,[6],[1.0])|[18.0,51.0,32.0]|[0.17821782178217...|[0.22913719943422...|\n",
            "+---+---+---+--------------------+-----------+----------+--------------+----------------+--------------------+--------------------+\n",
            "only showing top 20 rows\n",
            "\n"
          ],
          "name": "stdout"
        }
      ]
    },
    {
      "cell_type": "markdown",
      "metadata": {
        "id": "tLOg2AEcA0oh",
        "colab_type": "text"
      },
      "source": [
        "The difference between a transformer and an estimator is state. A transformer is stateless whereas an estimator keeps state. Therefore “VectorAsselmbler” is a transformer since it only need to read row by row. Normalizer, on the other hand need to compute statistics on the dataset before, therefore it is an estimator. An estimator has an additional “fit” function. “OneHotEncoder” has been deprecated in Spark 2.3, therefore please change the code below to use the OneHotEstimator instead of the “OneHotEncoder”.\n",
        "\n",
        "More information can be found here:\n",
        "http://spark.apache.org/docs/latest/ml-features.html#onehotencoderestimator\n",
        "\n",
        "\n",
        "\n"
      ]
    },
    {
      "cell_type": "code",
      "metadata": {
        "id": "2ZCxhF1zGsF7",
        "colab_type": "code",
        "colab": {}
      },
      "source": [
        "from pyspark.ml.feature import OneHotEncoder, StringIndexer, VectorAssembler, Normalizer, MinMaxScaler, OneHotEncoderEstimator\n",
        "from pyspark.ml.linalg import Vectors\n",
        "from pyspark.ml import Pipeline"
      ],
      "execution_count": 0,
      "outputs": []
    },
    {
      "cell_type": "code",
      "metadata": {
        "id": "2xkCneQhGuhL",
        "colab_type": "code",
        "colab": {}
      },
      "source": [
        "indexer = StringIndexer(inputCol=\"class\", outputCol=\"classIndex\")\n",
        "encoder = OneHotEncoderEstimator (inputCols=[\"classIndex\"], outputCols=[\"categoryVec\"])"
      ],
      "execution_count": 0,
      "outputs": []
    },
    {
      "cell_type": "code",
      "metadata": {
        "id": "zeKIoRZ0A0oh",
        "colab_type": "code",
        "outputId": "4eebe526-a49f-4ead-ce8e-f7822786eb2a",
        "colab": {
          "base_uri": "https://localhost:8080/",
          "height": 479
        }
      },
      "source": [
        "vectorAssembler = VectorAssembler(inputCols=[\"x\",\"y\",\"z\"],\n",
        "                                  outputCol=\"features\")\n",
        "normalizer = Normalizer(inputCol=\"features\", outputCol=\"features_norm\", p=1.0)\n",
        "\n",
        "\n",
        "pipeline = Pipeline(stages=[indexer, encoder, vectorAssembler, normalizer])\n",
        "model = pipeline.fit(spark_df)\n",
        "prediction1 = model.transform(spark_df)\n",
        "prediction.show()"
      ],
      "execution_count": 0,
      "outputs": [
        {
          "output_type": "stream",
          "text": [
            "+---+---+---+--------------------+-----------+----------+--------------+----------------+--------------------+--------------------+\n",
            "|  x|  y|  z|              source|      class|classIndex|   categoryVec|        features|       features_norm|      scaledFeatures|\n",
            "+---+---+---+--------------------+-----------+----------+--------------+----------------+--------------------+--------------------+\n",
            "| 22| 49| 35|Accelerometer-201...|Brush_teeth|       6.0|(13,[6],[1.0])|[22.0,49.0,35.0]|[0.20754716981132...|[0.26684636118598...|\n",
            "| 22| 49| 35|Accelerometer-201...|Brush_teeth|       6.0|(13,[6],[1.0])|[22.0,49.0,35.0]|[0.20754716981132...|[0.26684636118598...|\n",
            "| 22| 52| 35|Accelerometer-201...|Brush_teeth|       6.0|(13,[6],[1.0])|[22.0,52.0,35.0]|[0.20183486238532...|[0.25950196592398...|\n",
            "| 22| 52| 35|Accelerometer-201...|Brush_teeth|       6.0|(13,[6],[1.0])|[22.0,52.0,35.0]|[0.20183486238532...|[0.25950196592398...|\n",
            "| 21| 52| 34|Accelerometer-201...|Brush_teeth|       6.0|(13,[6],[1.0])|[21.0,52.0,34.0]|[0.19626168224299...|[0.25233644859813...|\n",
            "| 22| 51| 34|Accelerometer-201...|Brush_teeth|       6.0|(13,[6],[1.0])|[22.0,51.0,34.0]|[0.20560747663551...|[0.26435246995994...|\n",
            "| 20| 50| 35|Accelerometer-201...|Brush_teeth|       6.0|(13,[6],[1.0])|[20.0,50.0,35.0]|[0.19047619047619...|[0.24489795918367...|\n",
            "| 22| 52| 34|Accelerometer-201...|Brush_teeth|       6.0|(13,[6],[1.0])|[22.0,52.0,34.0]|[0.20370370370370...|[0.26190476190476...|\n",
            "| 22| 50| 34|Accelerometer-201...|Brush_teeth|       6.0|(13,[6],[1.0])|[22.0,50.0,34.0]|[0.20754716981132...|[0.26684636118598...|\n",
            "| 22| 51| 35|Accelerometer-201...|Brush_teeth|       6.0|(13,[6],[1.0])|[22.0,51.0,35.0]|[0.20370370370370...|[0.26190476190476...|\n",
            "| 21| 51| 33|Accelerometer-201...|Brush_teeth|       6.0|(13,[6],[1.0])|[21.0,51.0,33.0]|[0.2,0.4857142857...|[0.25714285714285...|\n",
            "| 20| 50| 34|Accelerometer-201...|Brush_teeth|       6.0|(13,[6],[1.0])|[20.0,50.0,34.0]|[0.19230769230769...|[0.24725274725274...|\n",
            "| 21| 49| 33|Accelerometer-201...|Brush_teeth|       6.0|(13,[6],[1.0])|[21.0,49.0,33.0]|[0.20388349514563...|[0.26213592233009...|\n",
            "| 21| 49| 33|Accelerometer-201...|Brush_teeth|       6.0|(13,[6],[1.0])|[21.0,49.0,33.0]|[0.20388349514563...|[0.26213592233009...|\n",
            "| 20| 51| 35|Accelerometer-201...|Brush_teeth|       6.0|(13,[6],[1.0])|[20.0,51.0,35.0]|[0.18867924528301...|[0.24258760107816...|\n",
            "| 18| 49| 34|Accelerometer-201...|Brush_teeth|       6.0|(13,[6],[1.0])|[18.0,49.0,34.0]|[0.17821782178217...|[0.22913719943422...|\n",
            "| 19| 48| 34|Accelerometer-201...|Brush_teeth|       6.0|(13,[6],[1.0])|[19.0,48.0,34.0]|[0.18811881188118...|[0.24186704384724...|\n",
            "| 16| 53| 34|Accelerometer-201...|Brush_teeth|       6.0|(13,[6],[1.0])|[16.0,53.0,34.0]|[0.15533980582524...|[0.19972260748959...|\n",
            "| 18| 52| 35|Accelerometer-201...|Brush_teeth|       6.0|(13,[6],[1.0])|[18.0,52.0,35.0]|[0.17142857142857...|[0.22040816326530...|\n",
            "| 18| 51| 32|Accelerometer-201...|Brush_teeth|       6.0|(13,[6],[1.0])|[18.0,51.0,32.0]|[0.17821782178217...|[0.22913719943422...|\n",
            "+---+---+---+--------------------+-----------+----------+--------------+----------------+--------------------+--------------------+\n",
            "only showing top 20 rows\n",
            "\n"
          ],
          "name": "stdout"
        }
      ]
    },
    {
      "cell_type": "code",
      "metadata": {
        "id": "C5N2I9HAH4o9",
        "colab_type": "code",
        "colab": {}
      },
      "source": [
        "pca = PCA(k=3, inputCol = 'scaledFeatures', outputCol=\"pcaFeatures\")\n",
        "model = pca.fit(prediction)\n",
        "transformed_feature = model.transform(prediction)"
      ],
      "execution_count": 0,
      "outputs": []
    },
    {
      "cell_type": "code",
      "metadata": {
        "id": "7O3uIU86I9l0",
        "colab_type": "code",
        "outputId": "e20e434c-0782-4ddf-a43b-4febf0f08d2f",
        "colab": {
          "base_uri": "https://localhost:8080/",
          "height": 459
        }
      },
      "source": [
        "transformed_feature.select('pcaFeatures').rdd.map(lambda x: Row(pcaFeatures = str([x for x in list(np.round(x[0].\\\n",
        "                                                    toArray(),4))]))).toDF().show(truncate = False)"
      ],
      "execution_count": 0,
      "outputs": [
        {
          "output_type": "stream",
          "text": [
            "+-------------------------+\n",
            "|pcaFeatures              |\n",
            "+-------------------------+\n",
            "|[0.1096, 0.0034, 0.6742] |\n",
            "|[0.1096, 0.0034, 0.6742] |\n",
            "|[0.1249, -0.0102, 0.6742]|\n",
            "|[0.1249, -0.0102, 0.6742]|\n",
            "|[0.1364, -0.0153, 0.6742]|\n",
            "|[0.1208, -0.0149, 0.6742]|\n",
            "|[0.1361, 0.0071, 0.6742] |\n",
            "|[0.1258, -0.0193, 0.6742]|\n",
            "|[0.1156, -0.0104, 0.6742]|\n",
            "|[0.1199, -0.0057, 0.6742]|\n",
            "|[0.1323, -0.0202, 0.6742]|\n",
            "|[0.1371, -0.0022, 0.6742]|\n",
            "|[0.122, -0.0111, 0.6742] |\n",
            "|[0.122, -0.0111, 0.6742] |\n",
            "|[0.1411, 0.0024, 0.6742] |\n",
            "|[0.1545, 0.0113, 0.6742] |\n",
            "|[0.138, 0.0118, 0.6742]  |\n",
            "|[0.1969, 0.0005, 0.6742] |\n",
            "|[0.1679, 0.0061, 0.6742] |\n",
            "|[0.1671, -0.0176, 0.6742]|\n",
            "+-------------------------+\n",
            "only showing top 20 rows\n",
            "\n"
          ],
          "name": "stdout"
        }
      ]
    },
    {
      "cell_type": "code",
      "metadata": {
        "id": "T7w0DkANJIjL",
        "colab_type": "code",
        "outputId": "8def344a-1f95-4baa-a74e-98d7dfe300c1",
        "colab": {
          "base_uri": "https://localhost:8080/",
          "height": 34
        }
      },
      "source": [
        "transformed_feature .count()"
      ],
      "execution_count": 0,
      "outputs": [
        {
          "output_type": "execute_result",
          "data": {
            "text/plain": [
              "446529"
            ]
          },
          "metadata": {
            "tags": []
          },
          "execution_count": 36
        }
      ]
    },
    {
      "cell_type": "code",
      "metadata": {
        "id": "8_Iyzae6JKQb",
        "colab_type": "code",
        "colab": {}
      },
      "source": [
        "rdd = transformed_feature.rdd.sample(False,0.01)"
      ],
      "execution_count": 0,
      "outputs": []
    },
    {
      "cell_type": "code",
      "metadata": {
        "id": "z9isdAIIJPh7",
        "colab_type": "code",
        "colab": {}
      },
      "source": [
        "x = rdd.map(lambda a : a.pcaFeatures).map(lambda a : a[0]).collect()"
      ],
      "execution_count": 0,
      "outputs": []
    },
    {
      "cell_type": "code",
      "metadata": {
        "id": "jMziHopZJdIn",
        "colab_type": "code",
        "colab": {}
      },
      "source": [
        "y = rdd.map(lambda a : a.pcaFeatures).map(lambda a : a[1]).collect()"
      ],
      "execution_count": 0,
      "outputs": []
    },
    {
      "cell_type": "code",
      "metadata": {
        "id": "LbUOVkLjJi5N",
        "colab_type": "code",
        "colab": {}
      },
      "source": [
        "z = rdd.map(lambda a : a.pcaFeatures).map(lambda a : a[2]).collect()"
      ],
      "execution_count": 0,
      "outputs": []
    },
    {
      "cell_type": "code",
      "metadata": {
        "id": "Q13HJiOjKqGA",
        "colab_type": "code",
        "outputId": "037c98bb-7100-4ef7-c292-26c583bb745c",
        "colab": {
          "base_uri": "https://localhost:8080/",
          "height": 248
        }
      },
      "source": [
        "%matplotlib inline\n",
        "import matplotlib.pyplot as plt\n",
        "from mpl_toolkits.mplot3d import Axes3D\n",
        "\n",
        "\n",
        "fig = plt.figure()\n",
        "ax = fig.add_subplot(111, projection='3d')\n",
        "\n",
        "\n",
        "\n",
        "\n",
        "ax.scatter(x,y,z, c='r', marker='o')\n",
        "\n",
        "ax.set_xlabel('dimension1')\n",
        "ax.set_ylabel('dimension2')\n",
        "ax.set_zlabel('dimension3')\n",
        "\n",
        "plt.show()"
      ],
      "execution_count": 0,
      "outputs": [
        {
          "output_type": "display_data",
          "data": {
            "image/png": "[encoded data removed]",
            "text/plain": [
              "<Figure size 432x288 with 1 Axes>"
            ]
          },
          "metadata": {
            "tags": [],
            "needs_background": "light"
          }
        }
      ]
    },
    {
      "cell_type": "markdown",
      "metadata": {
        "id": "aRu0p5JuKnWs",
        "colab_type": "text"
      },
      "source": [
        "Sampled with 0.2"
      ]
    },
    {
      "cell_type": "code",
      "metadata": {
        "id": "6mJhyo5kKI7S",
        "colab_type": "code",
        "outputId": "499fcaac-9d87-4527-b979-f2df5c0bf144",
        "colab": {
          "base_uri": "https://localhost:8080/",
          "height": 248
        }
      },
      "source": [
        "%matplotlib inline\n",
        "import matplotlib.pyplot as plt\n",
        "from mpl_toolkits.mplot3d import Axes3D\n",
        "\n",
        "\n",
        "fig = plt.figure()\n",
        "ax = fig.add_subplot(111, projection='3d')\n",
        "\n",
        "\n",
        "\n",
        "\n",
        "ax.scatter(x,y,z, c='r', marker='o')\n",
        "\n",
        "ax.set_xlabel('dimension1')\n",
        "ax.set_ylabel('dimension2')\n",
        "ax.set_zlabel('dimension3')\n",
        "\n",
        "plt.show()"
      ],
      "execution_count": 0,
      "outputs": [
        {
          "output_type": "display_data",
          "data": {
            "image/png": "[encoded data removed]",
            "text/plain": [
              "<Figure size 432x288 with 1 Axes>"
            ]
          },
          "metadata": {
            "tags": [],
            "needs_background": "light"
          }
        }
      ]
    },
    {
      "cell_type": "markdown",
      "metadata": {
        "id": "DpbuWwlkKE5K",
        "colab_type": "text"
      },
      "source": [
        "The below is sampled with 0.8"
      ]
    },
    {
      "cell_type": "code",
      "metadata": {
        "id": "AEUoJYHoJslm",
        "colab_type": "code",
        "outputId": "7db01002-6a6e-4a4c-b81d-578cc22c15ed",
        "colab": {
          "base_uri": "https://localhost:8080/",
          "height": 248
        }
      },
      "source": [
        "%matplotlib inline\n",
        "import matplotlib.pyplot as plt\n",
        "from mpl_toolkits.mplot3d import Axes3D\n",
        "\n",
        "\n",
        "fig = plt.figure()\n",
        "ax = fig.add_subplot(111, projection='3d')\n",
        "\n",
        "\n",
        "\n",
        "\n",
        "ax.scatter(x,y,z, c='r', marker='o')\n",
        "\n",
        "ax.set_xlabel('dimension1')\n",
        "ax.set_ylabel('dimension2')\n",
        "ax.set_zlabel('dimension3')\n",
        "\n",
        "plt.show()"
      ],
      "execution_count": 0,
      "outputs": [
        {
          "output_type": "display_data",
          "data": {
            "image/png": "[encoded data removed]",
            "text/plain": [
              "<Figure size 432x288 with 1 Axes>"
            ]
          },
          "metadata": {
            "tags": [],
            "needs_background": "light"
          }
        }
      ]
    },
    {
      "cell_type": "code",
      "metadata": {
        "id": "UdDoFel7RgBB",
        "colab_type": "code",
        "outputId": "c8e14159-09a8-4c8c-cb32-7058eab01a46",
        "colab": {
          "base_uri": "https://localhost:8080/",
          "height": 51
        }
      },
      "source": [
        "!git clone htpps://github.com/wchill/HMP_Dataset.git"
      ],
      "execution_count": 0,
      "outputs": [
        {
          "output_type": "stream",
          "text": [
            "Cloning into 'HMP_Dataset'...\n",
            "fatal: Unable to find remote helper for 'htpps'\n"
          ],
          "name": "stdout"
        }
      ]
    },
    {
      "cell_type": "code",
      "metadata": {
        "id": "iIT_RBW1RwIJ",
        "colab_type": "code",
        "outputId": "1244d645-32d6-4fbc-a635-e6cc6227a36d",
        "colab": {
          "base_uri": "https://localhost:8080/",
          "height": 85
        }
      },
      "source": [
        "!git clone https://github.com/wchill/HMP_Dataset.git"
      ],
      "execution_count": 0,
      "outputs": [
        {
          "output_type": "stream",
          "text": [
            "Cloning into 'HMP_Dataset'...\n",
            "remote: Enumerating objects: 865, done.\u001b[K\n",
            "remote: Total 865 (delta 0), reused 0 (delta 0), pack-reused 865\u001b[K\n",
            "Receiving objects: 100% (865/865), 1010.96 KiB | 11.75 MiB/s, done.\n"
          ],
          "name": "stdout"
        }
      ]
    },
    {
      "cell_type": "code",
      "metadata": {
        "id": "mqOqjB6JSTHW",
        "colab_type": "code",
        "outputId": "17879a24-bfac-470c-e23b-f2f5d509b955",
        "colab": {
          "base_uri": "https://localhost:8080/",
          "height": 85
        }
      },
      "source": [
        "!ls HMP_Dataset"
      ],
      "execution_count": 0,
      "outputs": [
        {
          "output_type": "stream",
          "text": [
            "Brush_teeth\tDrink_glass  Getup_bed\t  Pour_water\t Use_telephone\n",
            "Climb_stairs\tEat_meat     impdata.py   README.txt\t Walk\n",
            "Comb_hair\tEat_soup     Liedown_bed  Sitdown_chair\n",
            "Descend_stairs\tfinal.py     MANUAL.txt   Standup_chair\n"
          ],
          "name": "stdout"
        }
      ]
    },
    {
      "cell_type": "code",
      "metadata": {
        "id": "vbeggvZ_Se7n",
        "colab_type": "code",
        "outputId": "1dcbc0e2-fc76-4543-e41b-bb0e7601ff6c",
        "colab": {
          "base_uri": "https://localhost:8080/",
          "height": 221
        }
      },
      "source": [
        "!ls HMP_Dataset/Brush_teeth"
      ],
      "execution_count": 0,
      "outputs": [
        {
          "output_type": "stream",
          "text": [
            "Accelerometer-2011-04-11-13-28-18-brush_teeth-f1.txt\n",
            "Accelerometer-2011-04-11-13-29-54-brush_teeth-f1.txt\n",
            "Accelerometer-2011-05-30-08-35-11-brush_teeth-f1.txt\n",
            "Accelerometer-2011-05-30-09-36-50-brush_teeth-f1.txt\n",
            "Accelerometer-2011-05-30-10-34-16-brush_teeth-m1.txt\n",
            "Accelerometer-2011-05-30-21-10-57-brush_teeth-f1.txt\n",
            "Accelerometer-2011-05-30-21-55-04-brush_teeth-m2.txt\n",
            "Accelerometer-2011-05-31-15-16-47-brush_teeth-f1.txt\n",
            "Accelerometer-2011-06-02-10-42-22-brush_teeth-f1.txt\n",
            "Accelerometer-2011-06-02-10-45-50-brush_teeth-f1.txt\n",
            "Accelerometer-2011-06-06-10-45-27-brush_teeth-f1.txt\n",
            "Accelerometer-2011-06-06-10-48-05-brush_teeth-f1.txt\n"
          ],
          "name": "stdout"
        }
      ]
    },
    {
      "cell_type": "code",
      "metadata": {
        "id": "0cDHu6PXTZ91",
        "colab_type": "code",
        "colab": {}
      },
      "source": [
        "from pyspark.sql.types import StructType, StructField, IntegerType\n",
        "schema = StructType([StructField('x', IntegerType(), True),\n",
        "                     StructField('y', IntegerType(), True), \n",
        "                     StructField('z', IntegerType(), True)])"
      ],
      "execution_count": 0,
      "outputs": []
    },
    {
      "cell_type": "code",
      "metadata": {
        "id": "DSR8lTSEVoN6",
        "colab_type": "code",
        "outputId": "8ad6d462-1ceb-4583-a451-0e09c29e725b",
        "colab": {
          "base_uri": "https://localhost:8080/",
          "height": 34
        }
      },
      "source": [
        "import os\n",
        "!pwd\n"
      ],
      "execution_count": 0,
      "outputs": [
        {
          "output_type": "stream",
          "text": [
            "/content\n"
          ],
          "name": "stdout"
        }
      ]
    },
    {
      "cell_type": "code",
      "metadata": {
        "id": "bV7FTlS0WXtk",
        "colab_type": "code",
        "outputId": "b0999ceb-3835-4e65-d7d2-34e85c024f00",
        "colab": {
          "base_uri": "https://localhost:8080/",
          "height": 85
        }
      },
      "source": [
        "!ls '/content/HMP_Dataset/'"
      ],
      "execution_count": 0,
      "outputs": [
        {
          "output_type": "stream",
          "text": [
            "Brush_teeth\tDrink_glass  Getup_bed\t  Pour_water\t Use_telephone\n",
            "Climb_stairs\tEat_meat     impdata.py   README.txt\t Walk\n",
            "Comb_hair\tEat_soup     Liedown_bed  Sitdown_chair\n",
            "Descend_stairs\tfinal.py     MANUAL.txt   Standup_chair\n"
          ],
          "name": "stdout"
        }
      ]
    },
    {
      "cell_type": "code",
      "metadata": {
        "id": "CayNe8_yXF2i",
        "colab_type": "code",
        "outputId": "84425fda-4a71-4b00-fbef-b9de17bd968e",
        "colab": {
          "base_uri": "https://localhost:8080/",
          "height": 54
        }
      },
      "source": [
        "file_list = os.listdir ('/content/HMP_Dataset')\n",
        "print(file_list)"
      ],
      "execution_count": 0,
      "outputs": [
        {
          "output_type": "stream",
          "text": [
            "['MANUAL.txt', 'Descend_stairs', 'Brush_teeth', 'Getup_bed', 'Pour_water', 'Climb_stairs', 'Use_telephone', '.git', 'Eat_meat', 'Drink_glass', 'Standup_chair', 'Sitdown_chair', 'impdata.py', '.idea', 'Liedown_bed', 'Eat_soup', 'final.py', 'Walk', 'Comb_hair', 'README.txt']\n"
          ],
          "name": "stdout"
        }
      ]
    },
    {
      "cell_type": "code",
      "metadata": {
        "id": "Y7Eskt0UWryw",
        "colab_type": "code",
        "outputId": "0aec3173-1f0a-4860-fd65-296e2d4d755c",
        "colab": {
          "base_uri": "https://localhost:8080/",
          "height": 238
        }
      },
      "source": [
        "file_list_filtered = [s for s in file_list if '_' in s]\n",
        "file_list_filtered"
      ],
      "execution_count": 0,
      "outputs": [
        {
          "output_type": "execute_result",
          "data": {
            "text/plain": [
              "['Descend_stairs',\n",
              " 'Brush_teeth',\n",
              " 'Getup_bed',\n",
              " 'Pour_water',\n",
              " 'Climb_stairs',\n",
              " 'Use_telephone',\n",
              " 'Eat_meat',\n",
              " 'Drink_glass',\n",
              " 'Standup_chair',\n",
              " 'Sitdown_chair',\n",
              " 'Liedown_bed',\n",
              " 'Eat_soup',\n",
              " 'Comb_hair']"
            ]
          },
          "metadata": {
            "tags": []
          },
          "execution_count": 81
        }
      ]
    },
    {
      "cell_type": "code",
      "metadata": {
        "id": "eCm8NWAxZJ_N",
        "colab_type": "code",
        "outputId": "3cf0a4d0-5919-4e5b-9996-f640dc2f7796",
        "colab": {
          "base_uri": "https://localhost:8080/",
          "height": 1000
        }
      },
      "source": [
        "df1 = None\n",
        "from pyspark.sql.functions import lit\n",
        "for category in file_list_filtered:\n",
        "  data_file = os.listdir ('HMP_Dataset/'+ category)\n",
        "  for data in data_file:\n",
        "    print(data)\n",
        "    temp_df = spark.read.option ('header', 'false').option ('delimiter', ' ').csv('/content/HMP_Dataset/'+ category + '/'+ data, schema = schema)\n",
        "    temp_df = temp_df.withColumn ('class', lit(category))\n",
        "    temp_df = temp_df.withColumn ('source', lit(data))\n",
        "    if df1 == None:\n",
        "      df1 = temp_df\n",
        "    else:\n",
        "        df1 = df1.union(temp_df)"
      ],
      "execution_count": 0,
      "outputs": [
        {
          "output_type": "stream",
          "text": [
            "Accelerometer-2011-05-30-10-24-51-descend_stairs-m1.txt\n",
            "Accelerometer-2011-06-06-11-01-54-descend_stairs-f1.txt\n",
            "Accelerometer-2011-05-30-21-09-46-descend_stairs-f1.txt\n",
            "Accelerometer-2011-06-06-10-59-38-descend_stairs-f1.txt\n",
            "Accelerometer-2011-05-30-21-53-35-descend_stairs-m2.txt\n",
            "Accelerometer-2011-06-06-10-56-55-descend_stairs-f1.txt\n",
            "Accelerometer-2011-05-31-16-28-22-descend_stairs-f1.txt\n",
            "Accelerometer-2011-05-30-08-20-55-descend_stairs-f1.txt\n",
            "Accelerometer-2011-05-30-09-29-15-descend_stairs-f1.txt\n",
            "Accelerometer-2011-04-05-18-26-06-descend_stairs-f1.txt\n",
            "Accelerometer-2011-03-24-10-24-02-descend_stairs-f1.txt\n",
            "Accelerometer-2011-06-06-10-56-23-descend_stairs-f1.txt\n",
            "Accelerometer-2011-03-29-16-17-50-descend_stairs-f1.txt\n",
            "Accelerometer-2011-04-11-11-51-27-descend_stairs-f1.txt\n",
            "Accelerometer-2011-03-29-16-18-14-descend_stairs-f1.txt\n",
            "Accelerometer-2011-06-02-10-36-42-descend_stairs-f1.txt\n",
            "Accelerometer-2011-06-06-10-58-40-descend_stairs-f1.txt\n",
            "Accelerometer-2011-05-31-15-15-48-descend_stairs-f1.txt\n",
            "Accelerometer-2011-05-30-10-19-56-descend_stairs-m1.txt\n",
            "Accelerometer-2011-05-30-08-24-58-descend_stairs-f1.txt\n",
            "Accelerometer-2011-03-24-11-20-43-descend_stairs-f1.txt\n",
            "Accelerometer-2011-03-29-16-16-34-descend_stairs-f1.txt\n",
            "Accelerometer-2011-03-29-09-15-58-descend_stairs-f1.txt\n",
            "Accelerometer-2011-05-31-14-52-31-descend_stairs-f1.txt\n",
            "Accelerometer-2011-06-02-10-38-15-descend_stairs-f1.txt\n",
            "Accelerometer-2011-05-30-10-37-30-descend_stairs-m1.txt\n",
            "Accelerometer-2011-05-30-20-48-10-descend_stairs-f1.txt\n",
            "Accelerometer-2011-05-30-20-56-43-descend_stairs-f1.txt\n",
            "Accelerometer-2011-05-30-09-40-50-descend_stairs-f1.txt\n",
            "Accelerometer-2011-06-06-10-58-14-descend_stairs-f1.txt\n",
            "Accelerometer-2011-06-06-11-00-26-descend_stairs-f1.txt\n",
            "Accelerometer-2011-03-29-16-17-18-descend_stairs-f1.txt\n",
            "Accelerometer-2011-05-30-08-34-06-descend_stairs-f1.txt\n",
            "Accelerometer-2011-06-02-10-36-04-descend_stairs-f1.txt\n",
            "Accelerometer-2011-05-30-09-31-43-descend_stairs-f1.txt\n",
            "Accelerometer-2011-06-02-10-38-52-descend_stairs-f1.txt\n",
            "Accelerometer-2011-05-31-15-00-30-descend_stairs-f1.txt\n",
            "Accelerometer-2011-05-31-16-21-49-descend_stairs-f1.txt\n",
            "Accelerometer-2011-04-11-13-32-24-descend_stairs-f1.txt\n",
            "Accelerometer-2011-05-30-21-39-11-descend_stairs-m2.txt\n",
            "Accelerometer-2011-03-24-10-25-11-descend_stairs-f1.txt\n",
            "Accelerometer-2011-05-30-21-32-18-descend_stairs-m2.txt\n",
            "Accelerometer-2011-06-06-10-48-05-brush_teeth-f1.txt\n",
            "Accelerometer-2011-05-30-21-10-57-brush_teeth-f1.txt\n",
            "Accelerometer-2011-06-06-10-45-27-brush_teeth-f1.txt\n",
            "Accelerometer-2011-05-30-10-34-16-brush_teeth-m1.txt\n",
            "Accelerometer-2011-05-31-15-16-47-brush_teeth-f1.txt\n",
            "Accelerometer-2011-05-30-09-36-50-brush_teeth-f1.txt\n",
            "Accelerometer-2011-06-02-10-45-50-brush_teeth-f1.txt\n",
            "Accelerometer-2011-05-30-21-55-04-brush_teeth-m2.txt\n",
            "Accelerometer-2011-06-02-10-42-22-brush_teeth-f1.txt\n",
            "Accelerometer-2011-05-30-08-35-11-brush_teeth-f1.txt\n",
            "Accelerometer-2011-04-11-13-28-18-brush_teeth-f1.txt\n",
            "Accelerometer-2011-04-11-13-29-54-brush_teeth-f1.txt\n",
            "Accelerometer-2011-05-31-16-30-18-getup_bed-f1.txt\n",
            "Accelerometer-2012-06-07-22-24-33-getup_bed-f4.txt\n",
            "Accelerometer-2011-03-29-09-49-03-getup_bed-f1.txt\n",
            "Accelerometer-2012-06-07-22-20-59-getup_bed-f4.txt\n",
            "Accelerometer-2012-06-07-22-23-46-getup_bed-f4.txt\n",
            "Accelerometer-2012-06-12-18-52-06-getup_bed-m3.txt\n",
            "Accelerometer-2012-06-20-21-53-06-getup_bed-m10.txt\n",
            "Accelerometer-2012-06-12-15-54-33-getup_bed-f3.txt\n",
            "Accelerometer-2011-05-30-21-59-46-getup_bed-m2.txt\n",
            "Accelerometer-2012-06-12-15-36-02-getup_bed-m4.txt\n",
            "Accelerometer-2012-05-28-17-54-04-getup_bed-m1.txt\n",
            "Accelerometer-2012-06-20-22-00-55-getup_bed-m10.txt\n",
            "Accelerometer-2012-06-12-15-52-46-getup_bed-f3.txt\n",
            "Accelerometer-2012-06-12-15-51-25-getup_bed-f3.txt\n",
            "Accelerometer-2012-05-28-17-53-29-getup_bed-m1.txt\n",
            "Accelerometer-2012-06-07-22-31-18-getup_bed-f4.txt\n",
            "Accelerometer-2011-05-30-21-13-57-getup_bed-f1.txt\n",
            "Accelerometer-2012-06-12-18-50-50-getup_bed-m3.txt\n",
            "Accelerometer-2012-06-20-21-58-13-getup_bed-m10.txt\n",
            "Accelerometer-2012-06-20-20-31-40-getup_bed-f5.txt\n",
            "Accelerometer-2011-03-29-09-24-50-getup_bed-f1.txt\n",
            "Accelerometer-2012-06-07-22-16-42-getup_bed-f4.txt\n",
            "Accelerometer-2011-05-30-08-38-15-getup_bed-f1.txt\n",
            "Accelerometer-2012-06-12-18-44-53-getup_bed-f2.txt\n",
            "Accelerometer-2011-03-29-09-21-17-getup_bed-f1.txt\n",
            "Accelerometer-2012-05-30-21-52-18-getup_bed-m2.txt\n",
            "Accelerometer-2012-06-12-15-34-40-getup_bed-m4.txt\n",
            "Accelerometer-2012-06-20-21-56-36-getup_bed-m10.txt\n",
            "Accelerometer-2012-06-12-15-31-01-getup_bed-m4.txt\n",
            "Accelerometer-2012-06-12-18-42-44-getup_bed-f2.txt\n",
            "Accelerometer-2012-06-12-15-58-01-getup_bed-f3.txt\n",
            "Accelerometer-2012-05-30-21-51-41-getup_bed-m2.txt\n",
            "Accelerometer-2011-05-30-10-27-01-getup_bed-m1.txt\n",
            "Accelerometer-2012-06-12-18-49-31-getup_bed-m3.txt\n",
            "Accelerometer-2012-06-07-22-30-31-getup_bed-f4.txt\n",
            "Accelerometer-2012-05-28-17-54-37-getup_bed-m1.txt\n",
            "Accelerometer-2012-06-12-18-52-37-getup_bed-m3.txt\n",
            "Accelerometer-2011-04-11-11-53-01-getup_bed-f1.txt\n",
            "Accelerometer-2012-06-20-21-57-33-getup_bed-m10.txt\n",
            "Accelerometer-2012-05-30-21-54-12-getup_bed-m2.txt\n",
            "Accelerometer-2012-06-07-22-16-05-getup_bed-f4.txt\n",
            "Accelerometer-2011-05-31-15-19-41-getup_bed-f1.txt\n",
            "Accelerometer-2011-05-30-08-26-56-getup_bed-f1.txt\n",
            "Accelerometer-2011-05-30-21-42-30-getup_bed-m2.txt\n",
            "Accelerometer-2012-05-28-17-55-04-getup_bed-m1.txt\n",
            "Accelerometer-2012-06-20-20-30-45-getup_bed-f5.txt\n",
            "Accelerometer-2012-06-12-18-41-40-getup_bed-f2.txt\n",
            "Accelerometer-2011-05-30-10-39-27-getup_bed-m1.txt\n",
            "Accelerometer-2012-06-20-21-52-24-getup_bed-m10.txt\n",
            "Accelerometer-2011-06-02-16-57-57-getup_bed-f4.txt\n",
            "Accelerometer-2012-06-07-22-19-25-getup_bed-f4.txt\n",
            "Accelerometer-2011-06-02-17-00-08-getup_bed-f4.txt\n",
            "Accelerometer-2012-06-12-18-40-26-getup_bed-f2.txt\n",
            "Accelerometer-2012-06-12-18-43-26-getup_bed-f2.txt\n",
            "Accelerometer-2012-06-12-15-52-04-getup_bed-f3.txt\n",
            "Accelerometer-2012-06-12-18-39-37-getup_bed-f2.txt\n",
            "Accelerometer-2012-06-12-18-51-33-getup_bed-m3.txt\n",
            "Accelerometer-2012-06-20-20-29-11-getup_bed-f5.txt\n",
            "Accelerometer-2011-06-02-17-22-34-getup_bed-m1.txt\n",
            "Accelerometer-2012-06-07-22-26-32-getup_bed-f4.txt\n",
            "Accelerometer-2012-06-12-18-44-04-getup_bed-f2.txt\n",
            "Accelerometer-2012-06-20-21-53-40-getup_bed-m10.txt\n",
            "Accelerometer-2011-05-30-20-59-57-getup_bed-f1.txt\n",
            "Accelerometer-2012-05-30-21-53-05-getup_bed-m2.txt\n",
            "Accelerometer-2012-06-12-15-30-07-getup_bed-m4.txt\n",
            "Accelerometer-2012-06-12-15-50-48-getup_bed-f3.txt\n",
            "Accelerometer-2012-06-12-15-56-41-getup_bed-f3.txt\n",
            "Accelerometer-2012-06-12-15-32-38-getup_bed-m4.txt\n",
            "Accelerometer-2012-06-20-20-27-19-getup_bed-f5.txt\n",
            "Accelerometer-2011-05-31-14-57-24-getup_bed-f1.txt\n",
            "Accelerometer-2011-05-30-21-36-01-getup_bed-m2.txt\n",
            "Accelerometer-2012-05-30-21-53-38-getup_bed-m2.txt\n",
            "Accelerometer-2012-06-12-15-28-34-getup_bed-m4.txt\n",
            "Accelerometer-2012-06-07-22-28-50-getup_bed-f4.txt\n",
            "Accelerometer-2011-05-30-09-42-46-getup_bed-f1.txt\n",
            "Accelerometer-2012-06-20-20-29-49-getup_bed-f5.txt\n",
            "Accelerometer-2012-06-20-20-28-27-getup_bed-f5.txt\n",
            "Accelerometer-2012-06-12-18-48-47-getup_bed-m3.txt\n",
            "Accelerometer-2011-06-02-16-58-46-getup_bed-f4.txt\n",
            "Accelerometer-2011-04-05-18-28-21-getup_bed-f1.txt\n",
            "Accelerometer-2012-06-12-15-29-15-getup_bed-m4.txt\n",
            "Accelerometer-2011-05-31-16-25-09-getup_bed-f1.txt\n",
            "Accelerometer-2012-06-12-15-57-21-getup_bed-f3.txt\n",
            "Accelerometer-2011-04-11-13-34-05-getup_bed-f1.txt\n",
            "Accelerometer-2012-06-20-21-59-57-getup_bed-m10.txt\n",
            "Accelerometer-2012-06-12-18-50-08-getup_bed-m3.txt\n",
            "Accelerometer-2012-06-20-20-33-22-getup_bed-f5.txt\n",
            "Accelerometer-2012-06-12-15-54-03-getup_bed-f3.txt\n",
            "Accelerometer-2012-06-07-22-17-45-getup_bed-f4.txt\n",
            "Accelerometer-2011-05-31-15-02-55-getup_bed-f1.txt\n",
            "Accelerometer-2012-06-20-21-55-30-getup_bed-m10.txt\n",
            "Accelerometer-2011-05-30-20-53-40-getup_bed-f1.txt\n",
            "Accelerometer-2012-06-07-22-15-16-getup_bed-f4.txt\n",
            "Accelerometer-2012-06-20-20-32-40-getup_bed-f5.txt\n",
            "Accelerometer-2011-05-30-09-33-26-getup_bed-f1.txt\n",
            "Accelerometer-2012-06-12-15-34-01-getup_bed-m4.txt\n",
            "Accelerometer-2012-06-12-15-35-29-getup_bed-m4.txt\n",
            "Accelerometer-2012-06-20-20-34-30-getup_bed-f5.txt\n",
            "Accelerometer-2012-06-12-15-53-20-getup_bed-f3.txt\n",
            "Accelerometer-2012-06-12-15-31-56-getup_bed-m4.txt\n",
            "Accelerometer-2012-05-28-17-52-54-getup_bed-m1.txt\n",
            "Accelerometer-2012-06-07-21-32-37-pour_water-f4.txt\n",
            "Accelerometer-2012-06-09-22-58-08-pour_water-m11.txt\n",
            "Accelerometer-2012-06-07-21-27-46-pour_water-f4.txt\n",
            "Accelerometer-2012-06-09-22-55-08-pour_water-m11.txt\n",
            "Accelerometer-2012-05-30-19-54-24-pour_water-f2.txt\n",
            "Accelerometer-2012-06-07-21-33-21-pour_water-f4.txt\n",
            "Accelerometer-2012-05-30-19-52-29-pour_water-f2.txt\n",
            "Accelerometer-2012-06-07-21-31-48-pour_water-f4.txt\n",
            "Accelerometer-2011-06-06-09-45-45-pour_water-f1.txt\n",
            "Accelerometer-2012-06-07-21-29-48-pour_water-f4.txt\n",
            "Accelerometer-2011-06-06-09-48-59-pour_water-f1.txt\n",
            "Accelerometer-2011-06-02-17-28-27-pour_water-m1.txt\n",
            "Accelerometer-2011-06-06-09-44-12-pour_water-f1.txt\n",
            "Accelerometer-2012-05-28-17-49-34-pour_water-m1.txt\n",
            "Accelerometer-2012-03-23-03-55-46-pour_water-m9.txt\n",
            "Accelerometer-2012-05-30-19-56-40-pour_water-m3.txt\n",
            "Accelerometer-2012-06-09-22-56-17-pour_water-m11.txt\n",
            "Accelerometer-2012-05-28-17-46-43-pour_water-m1.txt\n",
            "Accelerometer-2011-06-06-09-51-53-pour_water-f1.txt\n",
            "Accelerometer-2012-06-09-22-58-28-pour_water-m11.txt\n",
            "Accelerometer-2012-03-23-03-46-21-pour_water-m9.txt\n",
            "Accelerometer-2012-05-30-19-50-42-pour_water-f2.txt\n",
            "Accelerometer-2012-06-07-21-34-47-pour_water-f4.txt\n",
            "Accelerometer-2012-06-07-21-33-47-pour_water-f4.txt\n",
            "Accelerometer-2011-06-01-14-27-40-pour_water-f1.txt\n",
            "Accelerometer-2011-04-11-12-55-26-pour_water-f1.txt\n",
            "Accelerometer-2011-06-01-14-12-53-pour_water-f1.txt\n",
            "Accelerometer-2011-03-24-13-30-01-pour_water-f1.txt\n",
            "Accelerometer-2011-06-06-09-42-11-pour_water-f1.txt\n",
            "Accelerometer-2011-06-01-14-18-36-pour_water-f1.txt\n",
            "Accelerometer-2011-06-02-17-23-16-pour_water-m1.txt\n",
            "Accelerometer-2012-05-29-17-12-07-pour_water-m3.txt\n",
            "Accelerometer-2012-06-09-22-55-42-pour_water-m11.txt\n",
            "Accelerometer-2012-06-09-22-56-53-pour_water-m11.txt\n",
            "Accelerometer-2011-06-06-09-47-48-pour_water-f1.txt\n",
            "Accelerometer-2012-05-25-18-34-46-pour_water-f4.txt\n",
            "Accelerometer-2011-05-31-15-11-25-pour_water-f1.txt\n",
            "Accelerometer-2012-05-30-19-07-14-pour_water-m4.txt\n",
            "Accelerometer-2012-06-07-21-31-24-pour_water-f4.txt\n",
            "Accelerometer-2012-05-25-18-31-58-pour_water-f4.txt\n",
            "Accelerometer-2012-05-29-17-19-55-pour_water-m3.txt\n",
            "Accelerometer-2011-03-24-10-51-12-pour_water-f1.txt\n",
            "Accelerometer-2012-06-07-21-34-22-pour_water-f4.txt\n",
            "Accelerometer-2012-06-07-21-35-28-pour_water-f4.txt\n",
            "Accelerometer-2012-06-07-21-28-23-pour_water-f4.txt\n",
            "Accelerometer-2012-06-07-21-35-50-pour_water-f4.txt\n",
            "Accelerometer-2012-05-30-18-27-15-pour_water-f3.txt\n",
            "Accelerometer-2012-06-07-21-29-09-pour_water-f4.txt\n",
            "Accelerometer-2012-05-28-17-43-20-pour_water-m1.txt\n",
            "Accelerometer-2012-05-25-18-37-06-pour_water-f4.txt\n",
            "Accelerometer-2011-06-02-17-04-09-pour_water-f4.txt\n",
            "Accelerometer-2012-03-26-05-03-27-pour_water-m3.txt\n",
            "Accelerometer-2011-06-02-16-50-40-pour_water-f4.txt\n",
            "Accelerometer-2011-05-30-21-05-39-pour_water-f1.txt\n",
            "Accelerometer-2011-06-02-17-45-45-pour_water-m1.txt\n",
            "Accelerometer-2011-06-01-14-16-35-pour_water-f1.txt\n",
            "Accelerometer-2012-05-30-19-57-40-pour_water-m3.txt\n",
            "Accelerometer-2012-05-30-19-08-20-pour_water-m4.txt\n",
            "Accelerometer-2011-06-01-14-17-02-pour_water-f1.txt\n",
            "Accelerometer-2012-05-28-17-41-55-pour_water-m1.txt\n",
            "Accelerometer-2012-05-29-16-43-41-pour_water-f2.txt\n",
            "Accelerometer-2012-06-07-21-31-05-pour_water-f4.txt\n",
            "Accelerometer-2012-05-29-17-10-30-pour_water-m3.txt\n",
            "Accelerometer-2011-04-05-18-54-14-pour_water-f1.txt\n",
            "Accelerometer-2012-06-07-21-28-48-pour_water-f4.txt\n",
            "Accelerometer-2011-06-02-17-06-44-pour_water-f4.txt\n",
            "Accelerometer-2012-03-23-03-54-26-pour_water-m9.txt\n",
            "Accelerometer-2012-05-30-18-27-41-pour_water-f3.txt\n",
            "Accelerometer-2011-06-01-14-25-16-pour_water-f1.txt\n",
            "Accelerometer-2011-06-06-09-40-34-pour_water-f1.txt\n",
            "Accelerometer-2012-03-26-04-53-59-pour_water-f2.txt\n",
            "Accelerometer-2011-06-06-09-46-20-pour_water-f1.txt\n",
            "Accelerometer-2012-06-07-21-30-16-pour_water-f4.txt\n",
            "Accelerometer-2011-06-01-14-13-29-pour_water-f1.txt\n",
            "Accelerometer-2012-05-29-16-49-00-pour_water-f2.txt\n",
            "Accelerometer-2011-06-02-17-06-15-pour_water-f4.txt\n",
            "Accelerometer-2012-06-09-22-54-40-pour_water-m11.txt\n",
            "Accelerometer-2011-06-02-16-52-30-pour_water-f4.txt\n",
            "Accelerometer-2011-06-06-09-55-25-pour_water-f1.txt\n",
            "Accelerometer-2011-06-01-16-46-50-pour_water-f1.txt\n",
            "Accelerometer-2012-05-30-19-08-50-pour_water-m4.txt\n",
            "Accelerometer-2012-06-07-21-30-37-pour_water-f4.txt\n",
            "Accelerometer-2011-05-30-21-51-05-pour_water-m2.txt\n",
            "Accelerometer-2012-05-30-18-26-49-pour_water-f3.txt\n",
            "Accelerometer-2012-05-30-19-59-17-pour_water-m3.txt\n",
            "Accelerometer-2012-05-30-19-07-43-pour_water-m4.txt\n",
            "Accelerometer-2011-03-24-10-04-32-pour_water-f1.txt\n",
            "Accelerometer-2012-03-26-04-55-40-pour_water-f2.txt\n",
            "Accelerometer-2012-05-25-18-29-48-pour_water-f4.txt\n",
            "Accelerometer-2011-06-02-17-33-30-pour_water-m1.txt\n",
            "Accelerometer-2011-06-06-09-39-30-pour_water-f1.txt\n",
            "Accelerometer-2012-05-30-18-26-02-pour_water-f3.txt\n",
            "Accelerometer-2011-06-06-09-50-17-pour_water-f1.txt\n",
            "Accelerometer-2011-06-06-09-49-51-pour_water-f1.txt\n",
            "Accelerometer-2011-05-31-16-34-32-pour_water-f1.txt\n",
            "Accelerometer-2011-06-06-09-56-28-pour_water-f1.txt\n",
            "Accelerometer-2012-06-09-22-57-12-pour_water-m11.txt\n",
            "Accelerometer-2012-06-07-21-32-12-pour_water-f4.txt\n",
            "Accelerometer-2012-03-26-05-01-39-pour_water-m3.txt\n",
            "Accelerometer-2011-06-01-14-32-38-pour_water-f1.txt\n",
            "Accelerometer-2012-06-06-14-13-20-climb_stairs-m7.txt\n",
            "Accelerometer-2011-05-30-08-21-38-climb_stairs-f1.txt\n",
            "Accelerometer-2012-05-30-22-07-44-climb_stairs-m2.txt\n",
            "Accelerometer-2011-05-30-21-14-55-climb_stairs-f1.txt\n",
            "Accelerometer-2012-06-06-09-32-04-climb_stairs-m6.txt\n",
            "Accelerometer-2011-04-11-11-58-30-climb_stairs-f1.txt\n",
            "Accelerometer-2011-06-06-11-00-50-climb_stairs-f1.txt\n",
            "Accelerometer-2012-05-30-18-32-56-climb_stairs-f3.txt\n",
            "Accelerometer-2012-05-30-22-07-15-climb_stairs-m2.txt\n",
            "Accelerometer-2012-06-06-09-06-28-climb_stairs-m5.txt\n",
            "Accelerometer-2012-06-06-09-00-51-climb_stairs-m5.txt\n",
            "Accelerometer-2012-06-06-09-33-15-climb_stairs-m6.txt\n",
            "Accelerometer-2012-06-06-14-08-57-climb_stairs-m7.txt\n",
            "Accelerometer-2011-05-31-16-26-09-climb_stairs-f1.txt\n",
            "Accelerometer-2012-05-30-19-12-57-climb_stairs-m4.txt\n",
            "Accelerometer-2011-05-30-09-38-52-climb_stairs-f1.txt\n",
            "Accelerometer-2012-05-30-22-08-15-climb_stairs-m2.txt\n",
            "Accelerometer-2011-06-02-10-37-44-climb_stairs-f1.txt\n",
            "Accelerometer-2012-06-06-09-37-23-climb_stairs-m6.txt\n",
            "Accelerometer-2011-06-06-10-59-08-climb_stairs-f1.txt\n",
            "Accelerometer-2012-06-06-14-09-12-climb_stairs-m7.txt\n",
            "Accelerometer-2012-06-06-14-05-05-climb_stairs-m7.txt\n",
            "Accelerometer-2011-05-30-08-39-09-climb_stairs-f1.txt\n",
            "Accelerometer-2011-05-30-21-36-58-climb_stairs-m2.txt\n",
            "Accelerometer-2012-05-30-19-12-19-climb_stairs-m4.txt\n",
            "Accelerometer-2012-06-07-10-54-12-climb_stairs-f1.txt\n",
            "Accelerometer-2011-05-31-16-32-44-climb_stairs-f1.txt\n",
            "Accelerometer-2011-06-02-10-39-21-climb_stairs-f1.txt\n",
            "Accelerometer-2012-05-29-16-54-38-climb_stairs-f2.txt\n",
            "Accelerometer-2012-06-07-10-48-24-climb_stairs-f1.txt\n",
            "Accelerometer-2012-06-06-14-04-18-climb_stairs-m7.txt\n",
            "Accelerometer-2012-06-06-14-12-49-climb_stairs-m7.txt\n",
            "Accelerometer-2012-05-30-19-14-51-climb_stairs-m4.txt\n",
            "Accelerometer-2012-06-06-08-59-53-climb_stairs-m5.txt\n",
            "Accelerometer-2011-06-06-10-57-19-climb_stairs-f1.txt\n",
            "Accelerometer-2011-06-06-10-57-43-climb_stairs-f1.txt\n",
            "Accelerometer-2012-06-06-09-32-58-climb_stairs-m6.txt\n",
            "Accelerometer-2011-06-06-11-02-24-climb_stairs-f1.txt\n",
            "Accelerometer-2012-05-28-17-56-03-climb_stairs-m1.txt\n",
            "Accelerometer-2011-04-05-18-32-29-climb_stairs-f1.txt\n",
            "Accelerometer-2011-05-30-09-43-37-climb_stairs-f1.txt\n",
            "Accelerometer-2011-05-30-10-41-10-climb_stairs-m1.txt\n",
            "Accelerometer-2011-06-02-10-40-10-climb_stairs-f1.txt\n",
            "Accelerometer-2012-06-06-09-43-14-climb_stairs-m6.txt\n",
            "Accelerometer-2012-05-30-18-33-57-climb_stairs-f3.txt\n",
            "Accelerometer-2012-06-07-10-49-17-climb_stairs-f1.txt\n",
            "Accelerometer-2012-05-30-18-31-08-climb_stairs-f3.txt\n",
            "Accelerometer-2012-06-06-09-00-24-climb_stairs-m5.txt\n",
            "Accelerometer-2011-05-30-09-29-58-climb_stairs-f1.txt\n",
            "Accelerometer-2011-05-30-08-30-37-climb_stairs-f1.txt\n",
            "Accelerometer-2011-03-24-10-25-44-climb_stairs-f1.txt\n",
            "Accelerometer-2011-03-29-09-55-46-climb_stairs-f1.txt\n",
            "Accelerometer-2012-05-30-19-13-50-climb_stairs-m4.txt\n",
            "Accelerometer-2012-06-06-14-08-44-climb_stairs-m7.txt\n",
            "Accelerometer-2011-03-24-10-24-39-climb_stairs-f1.txt\n",
            "Accelerometer-2012-06-06-09-05-28-climb_stairs-m5.txt\n",
            "Accelerometer-2012-06-06-14-04-51-climb_stairs-m7.txt\n",
            "Accelerometer-2011-04-11-11-57-50-climb_stairs-f1.txt\n",
            "Accelerometer-2011-04-11-11-44-35-climb_stairs-f1.txt\n",
            "Accelerometer-2011-06-02-10-37-15-climb_stairs-f1.txt\n",
            "Accelerometer-2012-06-06-08-54-08-climb_stairs-m5.txt\n",
            "Accelerometer-2012-06-06-14-13-05-climb_stairs-m7.txt\n",
            "Accelerometer-2012-05-29-17-17-05-climb_stairs-m3.txt\n",
            "Accelerometer-2011-05-30-21-46-05-climb_stairs-m2.txt\n",
            "Accelerometer-2012-06-07-10-49-35-climb_stairs-f1.txt\n",
            "Accelerometer-2011-05-31-15-20-50-climb_stairs-f1.txt\n",
            "Accelerometer-2011-05-31-15-06-32-climb_stairs-f1.txt\n",
            "Accelerometer-2012-06-06-09-06-49-climb_stairs-m5.txt\n",
            "Accelerometer-2011-06-06-10-59-58-climb_stairs-f1.txt\n",
            "Accelerometer-2012-06-06-09-37-58-climb_stairs-m6.txt\n",
            "Accelerometer-2012-06-06-09-01-08-climb_stairs-m5.txt\n",
            "Accelerometer-2012-06-06-14-09-24-climb_stairs-m7.txt\n",
            "Accelerometer-2012-06-07-10-48-08-climb_stairs-f1.txt\n",
            "Accelerometer-2011-04-05-18-21-22-climb_stairs-f1.txt\n",
            "Accelerometer-2011-05-30-10-32-53-climb_stairs-m1.txt\n",
            "Accelerometer-2011-05-30-20-54-39-climb_stairs-f1.txt\n",
            "Accelerometer-2011-06-06-11-01-27-climb_stairs-f1.txt\n",
            "Accelerometer-2012-06-06-09-43-47-climb_stairs-m6.txt\n",
            "Accelerometer-2012-06-07-10-53-53-climb_stairs-f1.txt\n",
            "Accelerometer-2012-05-30-22-06-47-climb_stairs-m2.txt\n",
            "Accelerometer-2012-06-06-09-42-55-climb_stairs-m6.txt\n",
            "Accelerometer-2012-06-06-08-54-29-climb_stairs-m5.txt\n",
            "Accelerometer-2012-06-06-08-53-47-climb_stairs-m5.txt\n",
            "Accelerometer-2012-06-06-09-32-36-climb_stairs-m6.txt\n",
            "Accelerometer-2012-05-30-22-06-17-climb_stairs-m2.txt\n",
            "Accelerometer-2012-05-29-17-17-51-climb_stairs-m3.txt\n",
            "Accelerometer-2012-06-06-14-12-35-climb_stairs-m7.txt\n",
            "Accelerometer-2012-06-06-09-06-03-climb_stairs-m5.txt\n",
            "Accelerometer-2012-06-06-08-53-29-climb_stairs-m5.txt\n",
            "Accelerometer-2011-05-30-10-20-47-climb_stairs-m1.txt\n",
            "Accelerometer-2012-05-29-16-53-12-climb_stairs-f2.txt\n",
            "Accelerometer-2012-05-28-17-56-40-climb_stairs-m1.txt\n",
            "Accelerometer-2011-05-31-14-58-41-climb_stairs-f1.txt\n",
            "Accelerometer-2012-06-06-09-38-43-climb_stairs-m6.txt\n",
            "Accelerometer-2012-06-07-10-53-34-climb_stairs-f1.txt\n",
            "Accelerometer-2012-05-30-18-31-52-climb_stairs-f3.txt\n",
            "Accelerometer-2012-06-07-10-54-29-climb_stairs-f1.txt\n",
            "Accelerometer-2012-06-06-09-38-17-climb_stairs-m6.txt\n",
            "Accelerometer-2012-06-06-14-05-18-climb_stairs-m7.txt\n",
            "Accelerometer-2012-06-06-09-44-02-climb_stairs-m6.txt\n",
            "Accelerometer-2011-05-30-22-00-32-climb_stairs-m2.txt\n",
            "Accelerometer-2011-05-30-21-02-43-climb_stairs-f1.txt\n",
            "Accelerometer-2011-03-29-09-30-56-use_telephone-f1.txt\n",
            "Accelerometer-2011-04-11-11-53-34-use_telephone-f1.txt\n",
            "Accelerometer-2011-03-29-09-52-41-use_telephone-f1.txt\n",
            "Accelerometer-2011-05-30-21-00-40-use_telephone-f1.txt\n",
            "Accelerometer-2011-05-30-08-27-44-use_telephone-f1.txt\n",
            "Accelerometer-2011-05-30-10-28-13-use_telephone-m1.txt\n",
            "Accelerometer-2011-03-29-09-32-59-use_telephone-f1.txt\n",
            "Accelerometer-2011-05-31-15-03-53-use_telephone-f1.txt\n",
            "Accelerometer-2011-04-05-18-29-19-use_telephone-f1.txt\n",
            "Accelerometer-2011-04-11-11-54-10-use_telephone-f1.txt\n",
            "Accelerometer-2011-05-30-21-43-16-use_telephone-m2.txt\n",
            "Accelerometer-2011-05-31-16-31-11-use_telephone-f1.txt\n",
            "Accelerometer-2011-05-30-09-34-12-use_telephone-f1.txt\n",
            "Accelerometer-2011-03-24-13-06-15-eat_meat-f1.txt\n",
            "Accelerometer-2011-03-24-13-10-14-eat_meat-f1.txt\n",
            "Accelerometer-2011-03-24-13-17-42-eat_meat-f1.txt\n",
            "Accelerometer-2011-03-24-13-12-52-eat_meat-f1.txt\n",
            "Accelerometer-2011-03-24-13-21-39-eat_meat-f1.txt\n",
            "Accelerometer-2012-05-30-19-53-19-drink_glass-f2.txt\n",
            "Accelerometer-2011-06-01-14-15-19-drink_glass-f1.txt\n",
            "Accelerometer-2011-06-01-15-04-40-drink_glass-f1.txt\n",
            "Accelerometer-2011-06-01-16-49-14-drink_glass-f1.txt\n",
            "Accelerometer-2012-05-28-17-44-02-drink_glass-m1.txt\n",
            "Accelerometer-2011-06-01-16-47-29-drink_glass-f1.txt\n",
            "Accelerometer-2012-05-30-22-10-16-drink_glass-m2.txt\n",
            "Accelerometer-2011-05-30-21-52-25-drink_glass-m2.txt\n",
            "Accelerometer-2012-05-25-18-30-30-drink_glass-f4.txt\n",
            "Accelerometer-2011-06-01-14-14-49-drink_glass-f1.txt\n",
            "Accelerometer-2011-04-05-18-55-33-drink_glass-f1.txt\n",
            "Accelerometer-2011-06-01-16-45-39-drink_glass-f1.txt\n",
            "Accelerometer-2012-05-29-16-44-12-drink_glass-f2.txt\n",
            "Accelerometer-2012-03-23-03-54-54-drink_glass-m9.txt\n",
            "Accelerometer-2011-06-02-17-24-39-drink_glass-m1.txt\n",
            "Accelerometer-2012-05-30-19-59-40-drink_glass-m3.txt\n",
            "Accelerometer-2012-05-25-18-36-27-drink_glass-f4.txt\n",
            "Accelerometer-2011-04-11-13-17-55-drink_glass-f1.txt\n",
            "Accelerometer-2011-06-01-14-21-52-drink_glass-f1.txt\n",
            "Accelerometer-2012-05-30-22-10-40-drink_glass-m2.txt\n",
            "Accelerometer-2011-06-02-17-20-17-drink_glass-m1.txt\n",
            "Accelerometer-2011-06-02-16-51-58-drink_glass-f4.txt\n",
            "Accelerometer-2011-04-12-21-44-55-drink_glass-m8.txt\n",
            "Accelerometer-2011-06-02-17-20-47-drink_glass-m1.txt\n",
            "Accelerometer-2011-06-01-14-23-15-drink_glass-f1.txt\n",
            "Accelerometer-2012-05-25-18-32-32-drink_glass-f4.txt\n",
            "Accelerometer-2012-05-29-16-42-17-drink_glass-f2.txt\n",
            "Accelerometer-2012-05-30-19-58-10-drink_glass-m3.txt\n",
            "Accelerometer-2011-06-02-17-29-13-drink_glass-m1.txt\n",
            "Accelerometer-2011-06-01-15-25-43-drink_glass-f1.txt\n",
            "Accelerometer-2011-03-24-10-16-02-drink_glass-f1.txt\n",
            "Accelerometer-2011-05-31-15-13-09-drink_glass-f1.txt\n",
            "Accelerometer-2012-05-29-17-20-28-drink_glass-m3.txt\n",
            "Accelerometer-2012-05-30-19-53-49-drink_glass-f2.txt\n",
            "Accelerometer-2011-05-30-21-51-59-drink_glass-m2.txt\n",
            "Accelerometer-2011-05-30-21-06-42-drink_glass-f1.txt\n",
            "Accelerometer-2011-05-30-21-06-15-drink_glass-f1.txt\n",
            "Accelerometer-2011-03-24-16-08-10-drink_glass-f2.txt\n",
            "Accelerometer-2012-03-26-04-56-11-drink_glass-f2.txt\n",
            "Accelerometer-2011-05-31-16-37-39-drink_glass-f1.txt\n",
            "Accelerometer-2012-05-29-17-11-01-drink_glass-m3.txt\n",
            "Accelerometer-2012-05-30-21-48-45-drink_glass-m2.txt\n",
            "Accelerometer-2011-06-01-14-33-59-drink_glass-f1.txt\n",
            "Accelerometer-2011-05-31-15-12-05-drink_glass-f1.txt\n",
            "Accelerometer-2011-03-24-10-46-25-drink_glass-f1.txt\n",
            "Accelerometer-2011-06-02-17-19-56-drink_glass-m1.txt\n",
            "Accelerometer-2012-05-28-17-50-04-drink_glass-m1.txt\n",
            "Accelerometer-2011-04-08-18-10-09-drink_glass-m4.txt\n",
            "Accelerometer-2012-05-25-18-33-57-drink_glass-f4.txt\n",
            "Accelerometer-2011-05-31-16-35-41-drink_glass-f1.txt\n",
            "Accelerometer-2011-06-01-14-24-51-drink_glass-f1.txt\n",
            "Accelerometer-2012-03-26-04-53-07-drink_glass-f2.txt\n",
            "Accelerometer-2012-05-28-17-47-49-drink_glass-m1.txt\n",
            "Accelerometer-2011-06-01-14-28-50-drink_glass-f1.txt\n",
            "Accelerometer-2011-06-01-14-30-43-drink_glass-f1.txt\n",
            "Accelerometer-2011-06-02-16-52-53-drink_glass-f4.txt\n",
            "Accelerometer-2011-06-01-14-20-46-drink_glass-f1.txt\n",
            "Accelerometer-2011-06-02-17-23-53-drink_glass-m1.txt\n",
            "Accelerometer-2012-03-23-03-47-02-drink_glass-m9.txt\n",
            "Accelerometer-2011-03-24-16-08-29-drink_glass-f2.txt\n",
            "Accelerometer-2012-05-30-21-48-13-drink_glass-m2.txt\n",
            "Accelerometer-2012-05-30-19-57-08-drink_glass-m3.txt\n",
            "Accelerometer-2011-06-01-14-15-49-drink_glass-f1.txt\n",
            "Accelerometer-2011-06-01-14-14-22-drink_glass-f1.txt\n",
            "Accelerometer-2011-06-02-17-52-26-drink_glass-m1.txt\n",
            "Accelerometer-2011-04-12-21-43-48-drink_glass-m8.txt\n",
            "Accelerometer-2012-05-28-17-42-29-drink_glass-m1.txt\n",
            "Accelerometer-2011-06-02-16-51-25-drink_glass-f4.txt\n",
            "Accelerometer-2011-06-01-16-53-24-drink_glass-f1.txt\n",
            "Accelerometer-2011-03-24-10-07-02-drink_glass-f1.txt\n",
            "Accelerometer-2012-05-25-18-31-18-drink_glass-f4.txt\n",
            "Accelerometer-2011-06-02-17-32-31-drink_glass-m1.txt\n",
            "Accelerometer-2012-05-30-19-51-49-drink_glass-f2.txt\n",
            "Accelerometer-2012-05-28-17-47-23-drink_glass-m1.txt\n",
            "Accelerometer-2012-03-26-05-03-53-drink_glass-m3.txt\n",
            "Accelerometer-2011-05-30-21-07-10-drink_glass-f1.txt\n",
            "Accelerometer-2012-05-30-19-58-44-drink_glass-m3.txt\n",
            "Accelerometer-2011-06-01-16-57-10-drink_glass-f1.txt\n",
            "Accelerometer-2011-03-24-11-14-00-drink_glass-f1.txt\n",
            "Accelerometer-2011-06-01-15-14-42-drink_glass-f1.txt\n",
            "Accelerometer-2011-03-24-13-09-29-drink_glass-f1.txt\n",
            "Accelerometer-2011-03-24-13-31-22-drink_glass-f1.txt\n",
            "Accelerometer-2011-05-30-21-51-35-drink_glass-m2.txt\n",
            "Accelerometer-2011-05-31-16-35-12-drink_glass-f1.txt\n",
            "Accelerometer-2012-05-29-16-48-07-drink_glass-f2.txt\n",
            "Accelerometer-2011-06-01-15-09-37-drink_glass-f1.txt\n",
            "Accelerometer-2011-06-02-17-29-50-drink_glass-m1.txt\n",
            "Accelerometer-2012-05-28-17-44-31-drink_glass-m1.txt\n",
            "Accelerometer-2012-03-23-03-47-36-drink_glass-m9.txt\n",
            "Accelerometer-2012-05-30-19-54-48-drink_glass-f2.txt\n",
            "Accelerometer-2011-05-31-15-12-36-drink_glass-f1.txt\n",
            "Accelerometer-2011-04-08-17-35-00-drink_glass-f3.txt\n",
            "Accelerometer-2011-06-01-16-44-44-drink_glass-f1.txt\n",
            "Accelerometer-2011-06-02-17-40-40-drink_glass-m1.txt\n",
            "Accelerometer-2011-04-08-17-33-35-drink_glass-f3.txt\n",
            "Accelerometer-2011-06-01-14-13-57-drink_glass-f1.txt\n",
            "Accelerometer-2011-04-11-12-55-39-drink_glass-f1.txt\n",
            "Accelerometer-2011-06-02-17-30-51-drink_glass-m1.txt\n",
            "Accelerometer-2012-03-26-05-02-06-drink_glass-m3.txt\n",
            "Accelerometer-2011-03-24-13-17-06-drink_glass-f1.txt\n",
            "Accelerometer-2011-05-30-09-24-04-standup_chair-f1.txt\n",
            "Accelerometer-2011-03-23-10-47-59-standup_chair-f1.txt\n",
            "Accelerometer-2012-03-23-03-48-20-standup_chair-m9.txt\n",
            "Accelerometer-2011-03-23-10-45-51-standup_chair-f1.txt\n",
            "Accelerometer-2011-12-05-09-50-23-standup_chair-f1.txt\n",
            "Accelerometer-2011-05-30-20-50-30-standup_chair-f1.txt\n",
            "Accelerometer-2011-06-02-16-44-59-standup_chair-f4.txt\n",
            "Accelerometer-2011-06-02-17-44-52-standup_chair-m1.txt\n",
            "Accelerometer-2011-03-23-10-42-01-standup_chair-f1.txt\n",
            "Accelerometer-2011-05-31-16-38-19-standup_chair-f1.txt\n",
            "Accelerometer-2011-06-01-14-52-02-standup_chair-f1.txt\n",
            "Accelerometer-2011-06-02-17-05-17-standup_chair-f4.txt\n",
            "Accelerometer-2012-03-23-03-44-39-standup_chair-m9.txt\n",
            "Accelerometer-2011-05-30-21-07-51-standup_chair-f1.txt\n",
            "Accelerometer-2011-05-30-08-24-19-standup_chair-f1.txt\n",
            "Accelerometer-2011-12-11-08-23-15-standup_chair-m2.txt\n",
            "Accelerometer-2011-12-11-08-20-56-standup_chair-m2.txt\n",
            "Accelerometer-2011-06-02-17-25-13-standup_chair-m1.txt\n",
            "Accelerometer-2012-03-26-04-58-13-standup_chair-f2.txt\n",
            "Accelerometer-2011-06-02-17-26-02-standup_chair-m1.txt\n",
            "Accelerometer-2011-12-05-09-45-47-standup_chair-f1.txt\n",
            "Accelerometer-2011-03-29-09-10-24-standup_chair-f1.txt\n",
            "Accelerometer-2011-12-11-08-11-36-standup_chair-f4.txt\n",
            "Accelerometer-2011-05-30-08-32-03-standup_chair-f1.txt\n",
            "Accelerometer-2011-04-08-17-32-45-standup_chair-f3.txt\n",
            "Accelerometer-2012-05-29-17-14-27-standup_chair-m3.txt\n",
            "Accelerometer-2011-05-31-14-54-09-standup_chair-f1.txt\n",
            "Accelerometer-2012-05-29-17-12-51-standup_chair-m3.txt\n",
            "Accelerometer-2012-03-26-04-54-30-standup_chair-f2.txt\n",
            "Accelerometer-2011-05-30-21-38-19-standup_chair-m2.txt\n",
            "Accelerometer-2011-06-01-14-38-03-standup_chair-f1.txt\n",
            "Accelerometer-2011-06-01-14-43-42-standup_chair-f1.txt\n",
            "Accelerometer-2012-05-28-17-40-45-standup_chair-m1.txt\n",
            "Accelerometer-2011-06-01-14-51-21-standup_chair-f1.txt\n",
            "Accelerometer-2011-04-12-21-45-21-standup_chair-m8.txt\n",
            "Accelerometer-2012-05-28-17-50-40-standup_chair-m1.txt\n",
            "Accelerometer-2011-06-02-16-46-25-standup_chair-f4.txt\n",
            "Accelerometer-2011-06-02-17-04-40-standup_chair-f4.txt\n",
            "Accelerometer-2012-05-28-17-45-43-standup_chair-m1.txt\n",
            "Accelerometer-2011-12-05-09-38-00-standup_chair-f1.txt\n",
            "Accelerometer-2011-12-05-09-52-58-standup_chair-f1.txt\n",
            "Accelerometer-2012-05-29-16-47-10-standup_chair-f2.txt\n",
            "Accelerometer-2011-04-11-11-48-09-standup_chair-f1.txt\n",
            "Accelerometer-2011-05-31-16-27-45-standup_chair-f1.txt\n",
            "Accelerometer-2011-03-24-09-49-36-standup_chair-f1.txt\n",
            "Accelerometer-2012-05-25-18-35-48-standup_chair-f4.txt\n",
            "Accelerometer-2011-03-29-09-04-40-standup_chair-f1.txt\n",
            "Accelerometer-2011-06-02-16-55-12-standup_chair-f4.txt\n",
            "Accelerometer-2011-06-02-16-44-18-standup_chair-f4.txt\n",
            "Accelerometer-2011-03-24-10-38-17-standup_chair-f1.txt\n",
            "Accelerometer-2011-05-30-10-23-55-standup_chair-m1.txt\n",
            "Accelerometer-2011-06-02-17-41-11-standup_chair-m1.txt\n",
            "Accelerometer-2011-12-11-08-15-55-standup_chair-f4.txt\n",
            "Accelerometer-2011-06-01-14-39-38-standup_chair-f1.txt\n",
            "Accelerometer-2011-12-11-08-24-09-standup_chair-m2.txt\n",
            "Accelerometer-2012-05-29-16-43-05-standup_chair-f2.txt\n",
            "Accelerometer-2011-05-30-09-25-14-standup_chair-f1.txt\n",
            "Accelerometer-2011-06-02-16-53-39-standup_chair-f4.txt\n",
            "Accelerometer-2011-06-02-16-45-48-standup_chair-f4.txt\n",
            "Accelerometer-2011-06-02-17-43-41-standup_chair-m1.txt\n",
            "Accelerometer-2011-05-30-10-31-41-standup_chair-m1.txt\n",
            "Accelerometer-2012-05-28-17-39-31-standup_chair-m1.txt\n",
            "Accelerometer-2012-05-25-18-27-29-standup_chair-f4.txt\n",
            "Accelerometer-2011-06-01-14-41-32-standup_chair-f1.txt\n",
            "Accelerometer-2011-06-02-17-26-55-standup_chair-m1.txt\n",
            "Accelerometer-2011-05-30-21-52-55-standup_chair-m2.txt\n",
            "Accelerometer-2011-12-11-08-12-46-standup_chair-f4.txt\n",
            "Accelerometer-2011-12-05-09-40-57-standup_chair-f1.txt\n",
            "Accelerometer-2012-03-26-05-04-33-standup_chair-m3.txt\n",
            "Accelerometer-2011-12-11-08-09-59-standup_chair-f4.txt\n",
            "Accelerometer-2011-12-11-08-22-05-standup_chair-m2.txt\n",
            "Accelerometer-2011-04-08-18-09-06-standup_chair-m4.txt\n",
            "Accelerometer-2011-12-05-09-48-17-standup_chair-f1.txt\n",
            "Accelerometer-2011-04-08-17-34-10-standup_chair-f3.txt\n",
            "Accelerometer-2011-12-11-08-13-41-standup_chair-f4.txt\n",
            "Accelerometer-2012-03-26-05-02-40-standup_chair-m3.txt\n",
            "Accelerometer-2012-05-25-18-28-24-standup_chair-f4.txt\n",
            "Accelerometer-2011-05-30-20-56-05-standup_chair-f1.txt\n",
            "Accelerometer-2011-04-12-21-42-53-standup_chair-m8.txt\n",
            "Accelerometer-2011-06-02-16-43-22-standup_chair-f4.txt\n",
            "Accelerometer-2011-03-24-16-09-19-standup_chair-f2.txt\n",
            "Accelerometer-2011-05-31-15-13-49-standup_chair-f1.txt\n",
            "Accelerometer-2011-04-11-13-24-10-standup_chair-f1.txt\n",
            "Accelerometer-2011-06-01-14-45-33-standup_chair-f1.txt\n",
            "Accelerometer-2011-05-30-20-50-04-standup_chair-f1.txt\n",
            "Accelerometer-2011-03-23-10-39-18-standup_chair-f1.txt\n",
            "Accelerometer-2011-06-02-17-42-24-standup_chair-m1.txt\n",
            "Accelerometer-2012-05-25-18-33-08-standup_chair-f4.txt\n",
            "Accelerometer-2011-12-11-08-14-55-standup_chair-f4.txt\n",
            "Accelerometer-2011-12-05-09-55-36-standup_chair-f1.txt\n",
            "Accelerometer-2011-05-31-14-59-53-standup_chair-f1.txt\n",
            "Accelerometer-2011-06-01-14-40-19-standup_chair-f1.txt\n",
            "Accelerometer-2011-12-11-08-19-58-standup_chair-m2.txt\n",
            "Accelerometer-2011-06-02-17-31-39-standup_chair-m1.txt\n",
            "Accelerometer-2011-04-05-18-25-12-standup_chair-f1.txt\n",
            "Accelerometer-2011-03-24-11-19-29-standup_chair-f1.txt\n",
            "Accelerometer-2011-06-02-16-54-15-standup_chair-f4.txt\n",
            "Accelerometer-2011-06-01-14-50-10-standup_chair-f1.txt\n",
            "Accelerometer-2011-05-31-16-23-03-standup_chair-f1.txt\n",
            "Accelerometer-2011-05-30-21-33-37-standup_chair-m2.txt\n",
            "Accelerometer-2011-12-11-08-19-06-standup_chair-m2.txt\n",
            "Accelerometer-2011-06-01-14-46-35-standup_chair-f1.txt\n",
            "Accelerometer-2011-05-31-16-33-27-sitdown_chair-f1.txt\n",
            "Accelerometer-2011-05-30-20-49-32-sitdown_chair-f1.txt\n",
            "Accelerometer-2011-05-30-20-55-28-sitdown_chair-f1.txt\n",
            "Accelerometer-2012-05-25-18-33-29-sitdown_chair-f4.txt\n",
            "Accelerometer-2011-06-02-16-53-58-sitdown_chair-f4.txt\n",
            "Accelerometer-2011-06-02-17-32-07-sitdown_chair-m1.txt\n",
            "Accelerometer-2011-06-02-17-04-59-sitdown_chair-f4.txt\n",
            "Accelerometer-2011-12-11-08-12-14-sitdown_chair-f4.txt\n",
            "Accelerometer-2011-06-01-14-43-55-sitdown_chair-f1.txt\n",
            "Accelerometer-2011-06-02-16-21-01-sitdown_chair-f1.txt\n",
            "Accelerometer-2011-05-30-10-21-50-sitdown_chair-m1.txt\n",
            "Accelerometer-2012-05-28-17-40-02-sitdown_chair-m1.txt\n",
            "Accelerometer-2011-12-05-09-58-23-sitdown_chair-f1.txt\n",
            "Accelerometer-2011-05-31-15-07-32-sitdown_chair-f1.txt\n",
            "Accelerometer-2011-06-01-14-40-31-sitdown_chair-f1.txt\n",
            "Accelerometer-2011-04-05-18-22-14-sitdown_chair-f1.txt\n",
            "Accelerometer-2011-06-02-16-44-37-sitdown_chair-f4.txt\n",
            "Accelerometer-2011-05-31-14-53-37-sitdown_chair-f1.txt\n",
            "Accelerometer-2011-06-02-16-46-43-sitdown_chair-f4.txt\n",
            "Accelerometer-2011-04-08-18-09-40-sitdown_chair-m4.txt\n",
            "Accelerometer-2011-05-30-21-48-01-sitdown_chair-m2.txt\n",
            "Accelerometer-2011-06-02-17-44-20-sitdown_chair-m1.txt\n",
            "Accelerometer-2011-04-11-11-45-28-sitdown_chair-f1.txt\n",
            "Accelerometer-2011-04-08-17-33-10-sitdown_chair-f3.txt\n",
            "Accelerometer-2011-06-02-16-54-34-sitdown_chair-f4.txt\n",
            "Accelerometer-2011-03-24-16-09-29-sitdown_chair-f2.txt\n",
            "Accelerometer-2011-06-02-17-42-45-sitdown_chair-m1.txt\n",
            "Accelerometer-2011-06-01-14-39-48-sitdown_chair-f1.txt\n",
            "Accelerometer-2011-05-30-21-04-13-sitdown_chair-f1.txt\n",
            "Accelerometer-2011-12-11-08-23-42-sitdown_chair-m2.txt\n",
            "Accelerometer-2012-03-23-03-48-40-sitdown_chair-m9.txt\n",
            "Accelerometer-2011-06-02-17-26-23-sitdown_chair-m1.txt\n",
            "Accelerometer-2011-12-11-08-21-20-sitdown_chair-m2.txt\n",
            "Accelerometer-2011-12-05-09-46-34-sitdown_chair-f1.txt\n",
            "Accelerometer-2011-05-31-16-27-00-sitdown_chair-f1.txt\n",
            "Accelerometer-2011-06-02-16-55-35-sitdown_chair-f4.txt\n",
            "Accelerometer-2011-12-05-09-44-08-sitdown_chair-f1.txt\n",
            "Accelerometer-2012-03-26-04-58-33-sitdown_chair-f2.txt\n",
            "Accelerometer-2011-06-02-16-15-55-sitdown_chair-f1.txt\n",
            "Accelerometer-2011-06-02-16-17-10-sitdown_chair-f1.txt\n",
            "Accelerometer-2011-12-11-08-24-32-sitdown_chair-m2.txt\n",
            "Accelerometer-2011-03-29-09-12-27-sitdown_chair-f1.txt\n",
            "Accelerometer-2011-04-12-21-43-15-sitdown_chair-m8.txt\n",
            "Accelerometer-2011-06-02-17-05-36-sitdown_chair-f4.txt\n",
            "Accelerometer-2011-06-06-09-34-12-sitdown_chair-f1.txt\n",
            "Accelerometer-2011-06-01-14-51-28-sitdown_chair-f1.txt\n",
            "Accelerometer-2011-06-02-17-25-34-sitdown_chair-m1.txt\n",
            "Accelerometer-2011-03-24-10-27-33-sitdown_chair-f1.txt\n",
            "Accelerometer-2011-05-31-16-22-37-sitdown_chair-f1.txt\n",
            "Accelerometer-2011-12-05-09-53-32-sitdown_chair-f1.txt\n",
            "Accelerometer-2012-03-23-03-45-26-sitdown_chair-m9.txt\n",
            "Accelerometer-2011-06-01-14-50-18-sitdown_chair-f1.txt\n",
            "Accelerometer-2011-05-30-08-31-30-sitdown_chair-f1.txt\n",
            "Accelerometer-2011-05-31-14-59-27-sitdown_chair-f1.txt\n",
            "Accelerometer-2012-05-25-18-28-46-sitdown_chair-f4.txt\n",
            "Accelerometer-2011-06-02-16-45-19-sitdown_chair-f4.txt\n",
            "Accelerometer-2011-06-01-14-37-35-sitdown_chair-f1.txt\n",
            "Accelerometer-2011-06-06-09-35-43-sitdown_chair-f1.txt\n",
            "Accelerometer-2011-06-02-17-41-43-sitdown_chair-m1.txt\n",
            "Accelerometer-2011-04-08-17-34-35-sitdown_chair-f3.txt\n",
            "Accelerometer-2012-03-26-05-02-58-sitdown_chair-m3.txt\n",
            "Accelerometer-2011-12-05-09-50-54-sitdown_chair-f1.txt\n",
            "Accelerometer-2011-12-11-08-19-32-sitdown_chair-m2.txt\n",
            "Accelerometer-2011-05-30-21-37-52-sitdown_chair-m2.txt\n",
            "Accelerometer-2011-06-06-09-36-06-sitdown_chair-f1.txt\n",
            "Accelerometer-2011-03-29-09-06-48-sitdown_chair-f1.txt\n",
            "Accelerometer-2012-05-28-17-46-13-sitdown_chair-m1.txt\n",
            "Accelerometer-2011-06-01-14-38-38-sitdown_chair-f1.txt\n",
            "Accelerometer-2011-03-24-09-50-16-sitdown_chair-f1.txt\n",
            "Accelerometer-2011-12-11-08-13-16-sitdown_chair-f4.txt\n",
            "Accelerometer-2011-12-11-08-16-20-sitdown_chair-f4.txt\n",
            "Accelerometer-2011-06-02-17-45-12-sitdown_chair-m1.txt\n",
            "Accelerometer-2011-12-11-08-15-21-sitdown_chair-f4.txt\n",
            "Accelerometer-2011-05-30-21-33-15-sitdown_chair-m2.txt\n",
            "Accelerometer-2012-05-25-18-27-57-sitdown_chair-f4.txt\n",
            "Accelerometer-2011-05-30-10-31-12-sitdown_chair-m1.txt\n",
            "Accelerometer-2011-06-06-09-35-11-sitdown_chair-f1.txt\n",
            "Accelerometer-2011-06-01-14-45-42-sitdown_chair-f1.txt\n",
            "Accelerometer-2011-05-30-20-48-57-sitdown_chair-f1.txt\n",
            "Accelerometer-2011-05-30-09-23-12-sitdown_chair-f1.txt\n",
            "Accelerometer-2012-05-28-17-41-12-sitdown_chair-m1.txt\n",
            "Accelerometer-2011-06-01-14-46-43-sitdown_chair-f1.txt\n",
            "Accelerometer-2011-12-11-08-14-09-sitdown_chair-f4.txt\n",
            "Accelerometer-2012-03-26-04-54-57-sitdown_chair-f2.txt\n",
            "Accelerometer-2011-06-01-14-41-42-sitdown_chair-f1.txt\n",
            "Accelerometer-2011-06-02-16-21-36-sitdown_chair-f1.txt\n",
            "Accelerometer-2011-12-11-08-20-24-sitdown_chair-m2.txt\n",
            "Accelerometer-2011-06-02-16-43-56-sitdown_chair-f4.txt\n",
            "Accelerometer-2011-12-11-08-11-11-sitdown_chair-f4.txt\n",
            "Accelerometer-2011-04-05-18-47-38-sitdown_chair-f1.txt\n",
            "Accelerometer-2012-05-25-18-36-06-sitdown_chair-f4.txt\n",
            "Accelerometer-2011-04-12-21-42-24-sitdown_chair-m8.txt\n",
            "Accelerometer-2011-06-02-17-27-18-sitdown_chair-m1.txt\n",
            "Accelerometer-2011-12-05-09-39-34-sitdown_chair-f1.txt\n",
            "Accelerometer-2011-05-30-08-22-28-sitdown_chair-f1.txt\n",
            "Accelerometer-2012-03-26-05-04-48-sitdown_chair-m3.txt\n",
            "Accelerometer-2011-06-02-16-46-07-sitdown_chair-f4.txt\n",
            "Accelerometer-2011-12-11-08-22-36-sitdown_chair-m2.txt\n",
            "Accelerometer-2011-05-30-09-24-48-sitdown_chair-f1.txt\n",
            "Accelerometer-2011-12-05-09-48-48-sitdown_chair-f1.txt\n",
            "Accelerometer-2011-05-30-09-41-49-liedown_bed-f1.txt\n",
            "Accelerometer-2011-03-29-09-23-22-liedown_bed-f1.txt\n",
            "Accelerometer-2011-05-31-15-02-19-liedown_bed-f1.txt\n",
            "Accelerometer-2011-06-02-16-58-20-liedown_bed-f4.txt\n",
            "Accelerometer-2011-05-30-21-41-32-liedown_bed-m2.txt\n",
            "Accelerometer-2011-05-31-16-24-36-liedown_bed-f1.txt\n",
            "Accelerometer-2011-05-30-20-52-31-liedown_bed-f1.txt\n",
            "Accelerometer-2011-05-30-21-59-16-liedown_bed-m2.txt\n",
            "Accelerometer-2011-04-11-13-33-26-liedown_bed-f1.txt\n",
            "Accelerometer-2011-05-30-10-38-41-liedown_bed-m1.txt\n",
            "Accelerometer-2011-06-02-16-59-13-liedown_bed-f4.txt\n",
            "Accelerometer-2011-03-29-09-45-46-liedown_bed-f1.txt\n",
            "Accelerometer-2011-05-30-10-26-14-liedown_bed-m1.txt\n",
            "Accelerometer-2011-05-31-16-29-43-liedown_bed-f1.txt\n",
            "Accelerometer-2011-05-30-08-37-27-liedown_bed-f1.txt\n",
            "Accelerometer-2011-06-02-16-57-35-liedown_bed-f4.txt\n",
            "Accelerometer-2011-04-11-11-52-20-liedown_bed-f1.txt\n",
            "Accelerometer-2011-05-30-20-59-04-liedown_bed-f1.txt\n",
            "Accelerometer-2011-05-31-15-18-50-liedown_bed-f1.txt\n",
            "Accelerometer-2011-04-05-18-27-12-liedown_bed-f1.txt\n",
            "Accelerometer-2011-05-31-14-56-04-liedown_bed-f1.txt\n",
            "Accelerometer-2011-06-02-17-00-38-liedown_bed-f4.txt\n",
            "Accelerometer-2011-05-30-09-32-42-liedown_bed-f1.txt\n",
            "Accelerometer-2011-05-30-08-25-59-liedown_bed-f1.txt\n",
            "Accelerometer-2011-03-29-09-19-22-liedown_bed-f1.txt\n",
            "Accelerometer-2011-05-30-21-13-15-liedown_bed-f1.txt\n",
            "Accelerometer-2011-05-30-21-35-19-liedown_bed-m2.txt\n",
            "Accelerometer-2011-06-02-17-21-57-liedown_bed-m1.txt\n",
            "Accelerometer-2011-03-24-13-44-18-eat_soup-f1.txt\n",
            "Accelerometer-2011-03-24-13-56-42-eat_soup-f1.txt\n",
            "Accelerometer-2011-03-24-13-33-22-eat_soup-f1.txt\n",
            "Accelerometer-2011-03-29-08-57-24-comb_hair-f1.txt\n",
            "Accelerometer-2011-05-30-08-32-58-comb_hair-f1.txt\n",
            "Accelerometer-2011-06-02-16-49-27-comb_hair-f4.txt\n",
            "Accelerometer-2011-05-30-21-08-40-comb_hair-f1.txt\n",
            "Accelerometer-2011-03-24-09-44-34-comb_hair-f1.txt\n",
            "Accelerometer-2011-03-24-10-26-33-comb_hair-f1.txt\n",
            "Accelerometer-2011-06-02-16-18-54-comb_hair-f1.txt\n",
            "Accelerometer-2011-03-24-10-57-40-comb_hair-f1.txt\n",
            "Accelerometer-2011-06-02-16-14-07-comb_hair-f1.txt\n",
            "Accelerometer-2011-05-30-09-39-49-comb_hair-f1.txt\n",
            "Accelerometer-2011-06-02-16-20-04-comb_hair-f1.txt\n",
            "Accelerometer-2011-06-02-17-18-58-comb_hair-m1.txt\n",
            "Accelerometer-2011-06-02-16-48-41-comb_hair-f4.txt\n",
            "Accelerometer-2011-05-30-21-57-03-comb_hair-m2.txt\n",
            "Accelerometer-2011-06-06-10-10-30-comb_hair-f1.txt\n",
            "Accelerometer-2011-06-02-10-41-33-comb_hair-f1.txt\n",
            "Accelerometer-2011-03-24-16-10-36-comb_hair-f2.txt\n",
            "Accelerometer-2011-05-30-10-36-26-comb_hair-m1.txt\n",
            "Accelerometer-2011-06-02-17-02-50-comb_hair-f4.txt\n",
            "Accelerometer-2011-06-02-10-44-17-comb_hair-f1.txt\n",
            "Accelerometer-2011-04-11-13-31-24-comb_hair-f1.txt\n",
            "Accelerometer-2011-05-31-15-14-55-comb_hair-f1.txt\n",
            "Accelerometer-2011-06-06-10-05-40-comb_hair-f1.txt\n",
            "Accelerometer-2011-06-06-10-08-56-comb_hair-f1.txt\n",
            "Accelerometer-2011-06-02-17-39-02-comb_hair-m1.txt\n",
            "Accelerometer-2011-06-02-17-32-57-comb_hair-m1.txt\n",
            "Accelerometer-2011-06-02-16-12-44-comb_hair-f1.txt\n",
            "Accelerometer-2011-06-06-10-03-47-comb_hair-f1.txt\n",
            "Accelerometer-2011-06-02-17-03-33-comb_hair-f4.txt\n",
            "Accelerometer-2011-06-02-16-56-03-comb_hair-f4.txt\n",
            "Accelerometer-2011-06-02-17-39-54-comb_hair-m1.txt\n"
          ],
          "name": "stdout"
        }
      ]
    },
    {
      "cell_type": "code",
      "metadata": {
        "id": "IsGlnQm_f9AT",
        "colab_type": "code",
        "outputId": "822f7741-e6fe-4acf-c32f-7142d0b6ed91",
        "colab": {
          "base_uri": "https://localhost:8080/",
          "height": 459
        }
      },
      "source": [
        "df1.show()"
      ],
      "execution_count": 0,
      "outputs": [
        {
          "output_type": "stream",
          "text": [
            "+---+---+---+--------------+--------------------+\n",
            "|  x|  y|  z|         class|              source|\n",
            "+---+---+---+--------------+--------------------+\n",
            "| 12| 38| 35|Descend_stairs|Accelerometer-201...|\n",
            "| 12| 38| 35|Descend_stairs|Accelerometer-201...|\n",
            "| 13| 40| 35|Descend_stairs|Accelerometer-201...|\n",
            "| 13| 40| 36|Descend_stairs|Accelerometer-201...|\n",
            "| 12| 40| 34|Descend_stairs|Accelerometer-201...|\n",
            "| 14| 39| 35|Descend_stairs|Accelerometer-201...|\n",
            "| 13| 40| 35|Descend_stairs|Accelerometer-201...|\n",
            "| 12| 39| 35|Descend_stairs|Accelerometer-201...|\n",
            "| 12| 40| 35|Descend_stairs|Accelerometer-201...|\n",
            "| 12| 40| 35|Descend_stairs|Accelerometer-201...|\n",
            "| 13| 37| 37|Descend_stairs|Accelerometer-201...|\n",
            "| 12| 40| 35|Descend_stairs|Accelerometer-201...|\n",
            "| 13| 39| 36|Descend_stairs|Accelerometer-201...|\n",
            "| 13| 40| 36|Descend_stairs|Accelerometer-201...|\n",
            "| 13| 39| 37|Descend_stairs|Accelerometer-201...|\n",
            "| 12| 41| 36|Descend_stairs|Accelerometer-201...|\n",
            "| 13| 41| 36|Descend_stairs|Accelerometer-201...|\n",
            "| 12| 41| 38|Descend_stairs|Accelerometer-201...|\n",
            "| 13| 42| 37|Descend_stairs|Accelerometer-201...|\n",
            "| 14| 41| 38|Descend_stairs|Accelerometer-201...|\n",
            "+---+---+---+--------------+--------------------+\n",
            "only showing top 20 rows\n",
            "\n"
          ],
          "name": "stdout"
        }
      ]
    },
    {
      "cell_type": "code",
      "metadata": {
        "id": "CaFSiMULg040",
        "colab_type": "code",
        "outputId": "da0e389f-43be-4206-ca77-055207613c22",
        "colab": {
          "base_uri": "https://localhost:8080/",
          "height": 459
        }
      },
      "source": [
        "from pyspark.ml.feature import StringIndexer\n",
        "indexer = StringIndexer (inputCol= 'class', outputCol= 'calssIndex')\n",
        "df1_indexed = indexer.fit (df1).transform (df1)\n",
        "df1_indexed.show()"
      ],
      "execution_count": 0,
      "outputs": [
        {
          "output_type": "stream",
          "text": [
            "+---+---+---+--------------+--------------------+----------+\n",
            "|  x|  y|  z|         class|              source|calssIndex|\n",
            "+---+---+---+--------------+--------------------+----------+\n",
            "| 12| 38| 35|Descend_stairs|Accelerometer-201...|       9.0|\n",
            "| 12| 38| 35|Descend_stairs|Accelerometer-201...|       9.0|\n",
            "| 13| 40| 35|Descend_stairs|Accelerometer-201...|       9.0|\n",
            "| 13| 40| 36|Descend_stairs|Accelerometer-201...|       9.0|\n",
            "| 12| 40| 34|Descend_stairs|Accelerometer-201...|       9.0|\n",
            "| 14| 39| 35|Descend_stairs|Accelerometer-201...|       9.0|\n",
            "| 13| 40| 35|Descend_stairs|Accelerometer-201...|       9.0|\n",
            "| 12| 39| 35|Descend_stairs|Accelerometer-201...|       9.0|\n",
            "| 12| 40| 35|Descend_stairs|Accelerometer-201...|       9.0|\n",
            "| 12| 40| 35|Descend_stairs|Accelerometer-201...|       9.0|\n",
            "| 13| 37| 37|Descend_stairs|Accelerometer-201...|       9.0|\n",
            "| 12| 40| 35|Descend_stairs|Accelerometer-201...|       9.0|\n",
            "| 13| 39| 36|Descend_stairs|Accelerometer-201...|       9.0|\n",
            "| 13| 40| 36|Descend_stairs|Accelerometer-201...|       9.0|\n",
            "| 13| 39| 37|Descend_stairs|Accelerometer-201...|       9.0|\n",
            "| 12| 41| 36|Descend_stairs|Accelerometer-201...|       9.0|\n",
            "| 13| 41| 36|Descend_stairs|Accelerometer-201...|       9.0|\n",
            "| 12| 41| 38|Descend_stairs|Accelerometer-201...|       9.0|\n",
            "| 13| 42| 37|Descend_stairs|Accelerometer-201...|       9.0|\n",
            "| 14| 41| 38|Descend_stairs|Accelerometer-201...|       9.0|\n",
            "+---+---+---+--------------+--------------------+----------+\n",
            "only showing top 20 rows\n",
            "\n"
          ],
          "name": "stdout"
        }
      ]
    },
    {
      "cell_type": "code",
      "metadata": {
        "id": "nXgGMV-frjdV",
        "colab_type": "code",
        "colab": {}
      },
      "source": [
        ""
      ],
      "execution_count": 0,
      "outputs": []
    }
  ]
}