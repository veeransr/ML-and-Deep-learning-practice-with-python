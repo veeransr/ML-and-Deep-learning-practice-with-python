{
  "nbformat": 4,
  "nbformat_minor": 0,
  "metadata": {
    "colab": {
      "name": "pyspark-g1 very important",
      "provenance": [],
      "collapsed_sections": [],
      "authorship_tag": "ABX9TyNrrPWCK0AaQOmg4ZTSgi9v",
      "include_colab_link": true
    },
    "kernelspec": {
      "name": "python3",
      "display_name": "Python 3"
    }
  },
  "cells": [
    {
      "cell_type": "markdown",
      "metadata": {
        "id": "view-in-github",
        "colab_type": "text"
      },
      "source": [
        "<a href=\"https://colab.research.google.com/github/veeransr/ML-and-Deep-learning-practice-with-python/blob/master/pyspark_g1_very_important.ipynb\" target=\"_parent\"><img src=\"https://colab.research.google.com/assets/colab-badge.svg\" alt=\"Open In Colab\"/></a>"
      ]
    },
    {
      "cell_type": "code",
      "metadata": {
        "id": "lYSVWjCXI_dB",
        "colab_type": "code",
        "colab": {}
      },
      "source": [
        "!apt-get install openjdk-8-jdk-headless -qq > /dev/null\n",
        "!wget -q https://downloads.apache.org/spark/spark-2.4.5/spark-2.4.5-bin-hadoop2.7.tgz\n",
        "!tar xf spark-2.4.5-bin-hadoop2.7.tgz\n",
        "!pip install -q findspark"
      ],
      "execution_count": 0,
      "outputs": []
    },
    {
      "cell_type": "code",
      "metadata": {
        "id": "MxPAFrGqKKoo",
        "colab_type": "code",
        "outputId": "8d675dfb-5a8d-457f-c1e8-c08a6d12e593",
        "colab": {
          "base_uri": "https://localhost:8080/",
          "height": 276
        }
      },
      "source": [
        "!pip install -U pyarrow"
      ],
      "execution_count": 0,
      "outputs": [
        {
          "output_type": "stream",
          "text": [
            "Collecting pyarrow\n",
            "\u001b[?25l  Downloading https://files.pythonhosted.org/packages/ba/3f/6cac1714fff444664603f92cb9fbe91c7ae25375880158b9e9691c4584c8/pyarrow-0.17.1-cp36-cp36m-manylinux2014_x86_64.whl (63.8MB)\n",
            "\u001b[K     |████████████████████████████████| 63.8MB 61kB/s \n",
            "\u001b[?25hRequirement already satisfied, skipping upgrade: numpy>=1.14 in /usr/local/lib/python3.6/dist-packages (from pyarrow) (1.18.4)\n",
            "Installing collected packages: pyarrow\n",
            "  Found existing installation: pyarrow 0.14.1\n",
            "    Uninstalling pyarrow-0.14.1:\n",
            "      Successfully uninstalled pyarrow-0.14.1\n",
            "Successfully installed pyarrow-0.17.1\n"
          ],
          "name": "stdout"
        },
        {
          "output_type": "display_data",
          "data": {
            "application/vnd.colab-display-data+json": {
              "pip_warning": {
                "packages": [
                  "pyarrow"
                ]
              }
            }
          },
          "metadata": {
            "tags": []
          }
        }
      ]
    },
    {
      "cell_type": "code",
      "metadata": {
        "id": "37NqxbnsJrp3",
        "colab_type": "code",
        "colab": {}
      },
      "source": [
        "import os\n",
        "os.environ[\"JAVA_HOME\"] = \"/usr/lib/jvm/java-8-openjdk-amd64\"\n",
        "os.environ[\"SPARK_HOME\"] = \"/content/spark-2.4.5-bin-hadoop2.7\""
      ],
      "execution_count": 0,
      "outputs": []
    },
    {
      "cell_type": "code",
      "metadata": {
        "id": "ZwlgyPusJ1jd",
        "colab_type": "code",
        "colab": {}
      },
      "source": [
        "import findspark\n",
        "findspark.init()"
      ],
      "execution_count": 0,
      "outputs": []
    },
    {
      "cell_type": "code",
      "metadata": {
        "id": "-jl1HgRWJ2xm",
        "colab_type": "code",
        "colab": {}
      },
      "source": [
        "from pyspark.sql import SparkSession\n",
        "spark = SparkSession.builder.master(\"local[*]\").getOrCreate()\n",
        "spark.conf.set('spark.executor.memory', '4g')\n",
        "spark.conf.set('spark.driver.memory', '4g')\n",
        "spark.conf.set('spark.memory.fraction', '0.9')"
      ],
      "execution_count": 0,
      "outputs": []
    },
    {
      "cell_type": "code",
      "metadata": {
        "id": "4wjNTklBLU4Z",
        "colab_type": "code",
        "colab": {}
      },
      "source": [
        "import sys, urllib, tempfile "
      ],
      "execution_count": 0,
      "outputs": []
    },
    {
      "cell_type": "code",
      "metadata": {
        "id": "27glzNjwLZNi",
        "colab_type": "code",
        "outputId": "3570f105-3e91-4383-c0ef-63c8191a2e95",
        "colab": {
          "base_uri": "https://localhost:8080/",
          "height": 85
        }
      },
      "source": [
        "!ls /tmp"
      ],
      "execution_count": 0,
      "outputs": [
        {
          "output_type": "stream",
          "text": [
            "blockmgr-74fa8818-3387-495c-a73f-7929501032be\n",
            "hsperfdata_root\n",
            "spark-799ad84a-07f0-424e-b233-c65b2e36c2c5\n",
            "spark-91c099f7-8b53-4701-91a1-dd436e976047\n"
          ],
          "name": "stdout"
        }
      ]
    },
    {
      "cell_type": "code",
      "metadata": {
        "id": "iRRvWPj5LhAK",
        "colab_type": "code",
        "colab": {}
      },
      "source": [
        "Base_DIR = '/tmp'\n",
        "OUTPUT_FILE=os.path.join(Base_DIR, 'credit_data.csv')"
      ],
      "execution_count": 0,
      "outputs": []
    },
    {
      "cell_type": "code",
      "metadata": {
        "id": "92WCVTwkL_Gb",
        "colab_type": "code",
        "colab": {}
      },
      "source": [
        "credit_data=urllib.request.urlretrieve('https://archive.ics.uci.edu/ml/machine-learning-databases/credit-screening/crx.data', OUTPUT_FILE)"
      ],
      "execution_count": 0,
      "outputs": []
    },
    {
      "cell_type": "code",
      "metadata": {
        "id": "GlBXb-TBMC1L",
        "colab_type": "code",
        "outputId": "f8bb27e4-b23b-435d-b94b-19b822be3e79",
        "colab": {
          "base_uri": "https://localhost:8080/",
          "height": 102
        }
      },
      "source": [
        "!ls /tmp"
      ],
      "execution_count": 0,
      "outputs": [
        {
          "output_type": "stream",
          "text": [
            "blockmgr-74fa8818-3387-495c-a73f-7929501032be\n",
            "credit_data.csv\n",
            "hsperfdata_root\n",
            "spark-799ad84a-07f0-424e-b233-c65b2e36c2c5\n",
            "spark-91c099f7-8b53-4701-91a1-dd436e976047\n"
          ],
          "name": "stdout"
        }
      ]
    },
    {
      "cell_type": "code",
      "metadata": {
        "id": "RFX-Om3HMHKk",
        "colab_type": "code",
        "colab": {}
      },
      "source": [
        "credit_df=spark.read.option('inferSchema', 'true').csv ('/tmp/credit_data.csv', header=False)"
      ],
      "execution_count": 0,
      "outputs": []
    },
    {
      "cell_type": "code",
      "metadata": {
        "id": "SbZxuylOMODU",
        "colab_type": "code",
        "outputId": "bbc6d40b-3636-4621-8e37-e851cb2ea125",
        "colab": {
          "base_uri": "https://localhost:8080/",
          "height": 459
        }
      },
      "source": [
        "credit_df.show()"
      ],
      "execution_count": 0,
      "outputs": [
        {
          "output_type": "stream",
          "text": [
            "+---+-----+------+---+---+---+---+-----+---+---+----+----+----+-----+-----+----+\n",
            "|_c0|  _c1|   _c2|_c3|_c4|_c5|_c6|  _c7|_c8|_c9|_c10|_c11|_c12| _c13| _c14|_c15|\n",
            "+---+-----+------+---+---+---+---+-----+---+---+----+----+----+-----+-----+----+\n",
            "|  b|30.83|   0.0|  u|  g|  w|  v| 1.25|  t|  t|   1|   f|   g|00202|    0|   +|\n",
            "|  a|58.67|  4.46|  u|  g|  q|  h| 3.04|  t|  t|   6|   f|   g|00043|  560|   +|\n",
            "|  a|24.50|   0.5|  u|  g|  q|  h|  1.5|  t|  f|   0|   f|   g|00280|  824|   +|\n",
            "|  b|27.83|  1.54|  u|  g|  w|  v| 3.75|  t|  t|   5|   t|   g|00100|    3|   +|\n",
            "|  b|20.17| 5.625|  u|  g|  w|  v| 1.71|  t|  f|   0|   f|   s|00120|    0|   +|\n",
            "|  b|32.08|   4.0|  u|  g|  m|  v|  2.5|  t|  f|   0|   t|   g|00360|    0|   +|\n",
            "|  b|33.17|  1.04|  u|  g|  r|  h|  6.5|  t|  f|   0|   t|   g|00164|31285|   +|\n",
            "|  a|22.92|11.585|  u|  g| cc|  v| 0.04|  t|  f|   0|   f|   g|00080| 1349|   +|\n",
            "|  b|54.42|   0.5|  y|  p|  k|  h| 3.96|  t|  f|   0|   f|   g|00180|  314|   +|\n",
            "|  b|42.50| 4.915|  y|  p|  w|  v|3.165|  t|  f|   0|   t|   g|00052| 1442|   +|\n",
            "|  b|22.08|  0.83|  u|  g|  c|  h|2.165|  f|  f|   0|   t|   g|00128|    0|   +|\n",
            "|  b|29.92| 1.835|  u|  g|  c|  h|4.335|  t|  f|   0|   f|   g|00260|  200|   +|\n",
            "|  a|38.25|   6.0|  u|  g|  k|  v|  1.0|  t|  f|   0|   t|   g|00000|    0|   +|\n",
            "|  b|48.08|  6.04|  u|  g|  k|  v| 0.04|  f|  f|   0|   f|   g|00000| 2690|   +|\n",
            "|  a|45.83|  10.5|  u|  g|  q|  v|  5.0|  t|  t|   7|   t|   g|00000|    0|   +|\n",
            "|  b|36.67| 4.415|  y|  p|  k|  v| 0.25|  t|  t|  10|   t|   g|00320|    0|   +|\n",
            "|  b|28.25| 0.875|  u|  g|  m|  v| 0.96|  t|  t|   3|   t|   g|00396|    0|   +|\n",
            "|  a|23.25| 5.875|  u|  g|  q|  v| 3.17|  t|  t|  10|   f|   g|00120|  245|   +|\n",
            "|  b|21.83|  0.25|  u|  g|  d|  h|0.665|  t|  f|   0|   t|   g|00000|    0|   +|\n",
            "|  a|19.17| 8.585|  u|  g| cc|  h| 0.75|  t|  t|   7|   f|   g|00096|    0|   +|\n",
            "+---+-----+------+---+---+---+---+-----+---+---+----+----+----+-----+-----+----+\n",
            "only showing top 20 rows\n",
            "\n"
          ],
          "name": "stdout"
        }
      ]
    },
    {
      "cell_type": "code",
      "metadata": {
        "id": "LRIiKmyhMPZk",
        "colab_type": "code",
        "outputId": "a445992b-6f32-455c-e73d-e27adf6dce70",
        "colab": {
          "base_uri": "https://localhost:8080/",
          "height": 34
        }
      },
      "source": [
        "credit_df.count()"
      ],
      "execution_count": 0,
      "outputs": [
        {
          "output_type": "execute_result",
          "data": {
            "text/plain": [
              "690"
            ]
          },
          "metadata": {
            "tags": []
          },
          "execution_count": 13
        }
      ]
    },
    {
      "cell_type": "code",
      "metadata": {
        "id": "R91AWLE4MiHV",
        "colab_type": "code",
        "outputId": "88e79cf0-b69c-4c49-c0dd-08bb4c5152bd",
        "colab": {
          "base_uri": "https://localhost:8080/",
          "height": 283
        }
      },
      "source": [
        "credit_df.max()"
      ],
      "execution_count": 0,
      "outputs": [
        {
          "output_type": "error",
          "ename": "AttributeError",
          "evalue": "ignored",
          "traceback": [
            "\u001b[0;31m---------------------------------------------------------------------------\u001b[0m",
            "\u001b[0;31mAttributeError\u001b[0m                            Traceback (most recent call last)",
            "\u001b[0;32m<ipython-input-15-8362de5308e4>\u001b[0m in \u001b[0;36m<module>\u001b[0;34m()\u001b[0m\n\u001b[0;32m----> 1\u001b[0;31m \u001b[0mcredit_df\u001b[0m\u001b[0;34m.\u001b[0m\u001b[0mmax\u001b[0m\u001b[0;34m(\u001b[0m\u001b[0;34m)\u001b[0m\u001b[0;34m\u001b[0m\u001b[0;34m\u001b[0m\u001b[0m\n\u001b[0m",
            "\u001b[0;32m/content/spark-2.4.5-bin-hadoop2.7/python/pyspark/sql/dataframe.py\u001b[0m in \u001b[0;36m__getattr__\u001b[0;34m(self, name)\u001b[0m\n\u001b[1;32m   1302\u001b[0m         \u001b[0;32mif\u001b[0m \u001b[0mname\u001b[0m \u001b[0;32mnot\u001b[0m \u001b[0;32min\u001b[0m \u001b[0mself\u001b[0m\u001b[0;34m.\u001b[0m\u001b[0mcolumns\u001b[0m\u001b[0;34m:\u001b[0m\u001b[0;34m\u001b[0m\u001b[0;34m\u001b[0m\u001b[0m\n\u001b[1;32m   1303\u001b[0m             raise AttributeError(\n\u001b[0;32m-> 1304\u001b[0;31m                 \"'%s' object has no attribute '%s'\" % (self.__class__.__name__, name))\n\u001b[0m\u001b[1;32m   1305\u001b[0m         \u001b[0mjc\u001b[0m \u001b[0;34m=\u001b[0m \u001b[0mself\u001b[0m\u001b[0;34m.\u001b[0m\u001b[0m_jdf\u001b[0m\u001b[0;34m.\u001b[0m\u001b[0mapply\u001b[0m\u001b[0;34m(\u001b[0m\u001b[0mname\u001b[0m\u001b[0;34m)\u001b[0m\u001b[0;34m\u001b[0m\u001b[0;34m\u001b[0m\u001b[0m\n\u001b[1;32m   1306\u001b[0m         \u001b[0;32mreturn\u001b[0m \u001b[0mColumn\u001b[0m\u001b[0;34m(\u001b[0m\u001b[0mjc\u001b[0m\u001b[0;34m)\u001b[0m\u001b[0;34m\u001b[0m\u001b[0;34m\u001b[0m\u001b[0m\n",
            "\u001b[0;31mAttributeError\u001b[0m: 'DataFrame' object has no attribute 'max'"
          ]
        }
      ]
    },
    {
      "cell_type": "code",
      "metadata": {
        "id": "zFLgxd0cM3X-",
        "colab_type": "code",
        "outputId": "7b1a53f2-3cd1-49b7-aa5f-a74f4e643918",
        "colab": {
          "base_uri": "https://localhost:8080/",
          "height": 283
        }
      },
      "source": [
        "credit_df.sum()\n"
      ],
      "execution_count": 0,
      "outputs": [
        {
          "output_type": "error",
          "ename": "AttributeError",
          "evalue": "ignored",
          "traceback": [
            "\u001b[0;31m---------------------------------------------------------------------------\u001b[0m",
            "\u001b[0;31mAttributeError\u001b[0m                            Traceback (most recent call last)",
            "\u001b[0;32m<ipython-input-16-c1ac55b36ff5>\u001b[0m in \u001b[0;36m<module>\u001b[0;34m()\u001b[0m\n\u001b[0;32m----> 1\u001b[0;31m \u001b[0mcredit_df\u001b[0m\u001b[0;34m.\u001b[0m\u001b[0msum\u001b[0m\u001b[0;34m(\u001b[0m\u001b[0;34m)\u001b[0m\u001b[0;34m\u001b[0m\u001b[0;34m\u001b[0m\u001b[0m\n\u001b[0m",
            "\u001b[0;32m/content/spark-2.4.5-bin-hadoop2.7/python/pyspark/sql/dataframe.py\u001b[0m in \u001b[0;36m__getattr__\u001b[0;34m(self, name)\u001b[0m\n\u001b[1;32m   1302\u001b[0m         \u001b[0;32mif\u001b[0m \u001b[0mname\u001b[0m \u001b[0;32mnot\u001b[0m \u001b[0;32min\u001b[0m \u001b[0mself\u001b[0m\u001b[0;34m.\u001b[0m\u001b[0mcolumns\u001b[0m\u001b[0;34m:\u001b[0m\u001b[0;34m\u001b[0m\u001b[0;34m\u001b[0m\u001b[0m\n\u001b[1;32m   1303\u001b[0m             raise AttributeError(\n\u001b[0;32m-> 1304\u001b[0;31m                 \"'%s' object has no attribute '%s'\" % (self.__class__.__name__, name))\n\u001b[0m\u001b[1;32m   1305\u001b[0m         \u001b[0mjc\u001b[0m \u001b[0;34m=\u001b[0m \u001b[0mself\u001b[0m\u001b[0;34m.\u001b[0m\u001b[0m_jdf\u001b[0m\u001b[0;34m.\u001b[0m\u001b[0mapply\u001b[0m\u001b[0;34m(\u001b[0m\u001b[0mname\u001b[0m\u001b[0;34m)\u001b[0m\u001b[0;34m\u001b[0m\u001b[0;34m\u001b[0m\u001b[0m\n\u001b[1;32m   1306\u001b[0m         \u001b[0;32mreturn\u001b[0m \u001b[0mColumn\u001b[0m\u001b[0;34m(\u001b[0m\u001b[0mjc\u001b[0m\u001b[0;34m)\u001b[0m\u001b[0;34m\u001b[0m\u001b[0;34m\u001b[0m\u001b[0m\n",
            "\u001b[0;31mAttributeError\u001b[0m: 'DataFrame' object has no attribute 'sum'"
          ]
        }
      ]
    },
    {
      "cell_type": "code",
      "metadata": {
        "id": "jCgHQtjvM7zu",
        "colab_type": "code",
        "outputId": "8127b9f4-28d0-4cd0-e8fe-ed1dd5215d1b",
        "colab": {
          "base_uri": "https://localhost:8080/",
          "height": 54
        }
      },
      "source": [
        "credit_df.summary()"
      ],
      "execution_count": 0,
      "outputs": [
        {
          "output_type": "execute_result",
          "data": {
            "text/plain": [
              "DataFrame[summary: string, _c0: string, _c1: string, _c2: string, _c3: string, _c4: string, _c5: string, _c6: string, _c7: string, _c8: string, _c9: string, _c10: string, _c11: string, _c12: string, _c13: string, _c14: string, _c15: string]"
            ]
          },
          "metadata": {
            "tags": []
          },
          "execution_count": 18
        }
      ]
    },
    {
      "cell_type": "markdown",
      "metadata": {
        "id": "pfcbUWqwPgfW",
        "colab_type": "text"
      },
      "source": [
        "The above problem is solved by sc = SparkContext.getOrCreate();"
      ]
    },
    {
      "cell_type": "code",
      "metadata": {
        "id": "9s1MRHtFOtRM",
        "colab_type": "code",
        "outputId": "1249d00d-0319-4685-9a54-557df9fe2c26",
        "colab": {
          "base_uri": "https://localhost:8080/",
          "height": 34
        }
      },
      "source": [
        "from pyspark import SparkContext\n",
        "sc = SparkContext.getOrCreate();\n",
        "rdd = sc.parallelize(range(100))\n",
        "rdd"
      ],
      "execution_count": 0,
      "outputs": [
        {
          "output_type": "execute_result",
          "data": {
            "text/plain": [
              "PythonRDD[1] at RDD at PythonRDD.scala:53"
            ]
          },
          "metadata": {
            "tags": []
          },
          "execution_count": 7
        }
      ]
    },
    {
      "cell_type": "code",
      "metadata": {
        "id": "MOftf_z-Ovqz",
        "colab_type": "code",
        "outputId": "3fa72e6d-9f4c-4830-87ae-33152170d26a",
        "colab": {
          "base_uri": "https://localhost:8080/",
          "height": 34
        }
      },
      "source": [
        "rdd.count()"
      ],
      "execution_count": 0,
      "outputs": [
        {
          "output_type": "execute_result",
          "data": {
            "text/plain": [
              "100"
            ]
          },
          "metadata": {
            "tags": []
          },
          "execution_count": 25
        }
      ]
    },
    {
      "cell_type": "code",
      "metadata": {
        "id": "RERxy-uePX78",
        "colab_type": "code",
        "outputId": "0bb13926-1d26-46c3-82ea-6361c804b8af",
        "colab": {
          "base_uri": "https://localhost:8080/",
          "height": 34
        }
      },
      "source": [
        "rdd.take(10)"
      ],
      "execution_count": 0,
      "outputs": [
        {
          "output_type": "execute_result",
          "data": {
            "text/plain": [
              "[0, 1, 2, 3, 4, 5, 6, 7, 8, 9]"
            ]
          },
          "metadata": {
            "tags": []
          },
          "execution_count": 26
        }
      ]
    },
    {
      "cell_type": "code",
      "metadata": {
        "id": "VolHtuMZPv8G",
        "colab_type": "code",
        "outputId": "0fb8460b-a697-48e4-d1b9-b2252da6ef1d",
        "colab": {
          "base_uri": "https://localhost:8080/",
          "height": 1000
        }
      },
      "source": [
        "rdd.collect()"
      ],
      "execution_count": 0,
      "outputs": [
        {
          "output_type": "execute_result",
          "data": {
            "text/plain": [
              "[0,\n",
              " 1,\n",
              " 2,\n",
              " 3,\n",
              " 4,\n",
              " 5,\n",
              " 6,\n",
              " 7,\n",
              " 8,\n",
              " 9,\n",
              " 10,\n",
              " 11,\n",
              " 12,\n",
              " 13,\n",
              " 14,\n",
              " 15,\n",
              " 16,\n",
              " 17,\n",
              " 18,\n",
              " 19,\n",
              " 20,\n",
              " 21,\n",
              " 22,\n",
              " 23,\n",
              " 24,\n",
              " 25,\n",
              " 26,\n",
              " 27,\n",
              " 28,\n",
              " 29,\n",
              " 30,\n",
              " 31,\n",
              " 32,\n",
              " 33,\n",
              " 34,\n",
              " 35,\n",
              " 36,\n",
              " 37,\n",
              " 38,\n",
              " 39,\n",
              " 40,\n",
              " 41,\n",
              " 42,\n",
              " 43,\n",
              " 44,\n",
              " 45,\n",
              " 46,\n",
              " 47,\n",
              " 48,\n",
              " 49,\n",
              " 50,\n",
              " 51,\n",
              " 52,\n",
              " 53,\n",
              " 54,\n",
              " 55,\n",
              " 56,\n",
              " 57,\n",
              " 58,\n",
              " 59,\n",
              " 60,\n",
              " 61,\n",
              " 62,\n",
              " 63,\n",
              " 64,\n",
              " 65,\n",
              " 66,\n",
              " 67,\n",
              " 68,\n",
              " 69,\n",
              " 70,\n",
              " 71,\n",
              " 72,\n",
              " 73,\n",
              " 74,\n",
              " 75,\n",
              " 76,\n",
              " 77,\n",
              " 78,\n",
              " 79,\n",
              " 80,\n",
              " 81,\n",
              " 82,\n",
              " 83,\n",
              " 84,\n",
              " 85,\n",
              " 86,\n",
              " 87,\n",
              " 88,\n",
              " 89,\n",
              " 90,\n",
              " 91,\n",
              " 92,\n",
              " 93,\n",
              " 94,\n",
              " 95,\n",
              " 96,\n",
              " 97,\n",
              " 98,\n",
              " 99]"
            ]
          },
          "metadata": {
            "tags": []
          },
          "execution_count": 27
        }
      ]
    },
    {
      "cell_type": "markdown",
      "metadata": {
        "id": "lVSNwtl7QJF2",
        "colab_type": "text"
      },
      "source": [
        "Note that you should do this only for very small RDDs, otherwise your driver JVM will crash with an out of memory error."
      ]
    },
    {
      "cell_type": "code",
      "metadata": {
        "id": "om6wg_qPQK1W",
        "colab_type": "code",
        "outputId": "a013059d-7950-407f-d13b-ede9217aa050",
        "colab": {
          "base_uri": "https://localhost:8080/",
          "height": 119
        }
      },
      "source": [
        "!ls /tmp/"
      ],
      "execution_count": 0,
      "outputs": [
        {
          "output_type": "stream",
          "text": [
            "blockmgr-74fa8818-3387-495c-a73f-7929501032be\n",
            "credit_data.csv\n",
            "hsperfdata_root\n",
            "liblz4-java4528805753571842890.so\n",
            "spark-799ad84a-07f0-424e-b233-c65b2e36c2c5\n",
            "spark-91c099f7-8b53-4701-91a1-dd436e976047\n"
          ],
          "name": "stdout"
        }
      ]
    },
    {
      "cell_type": "markdown",
      "metadata": {
        "id": "psTQCp74VNiR",
        "colab_type": "text"
      },
      "source": [
        "Creat a new python in data science experience in IBM."
      ]
    },
    {
      "cell_type": "code",
      "metadata": {
        "id": "K4L93opoVClp",
        "colab_type": "code",
        "outputId": "5069ab51-6d0b-479c-efde-d37e944984e4",
        "colab": {
          "base_uri": "https://localhost:8080/",
          "height": 34
        }
      },
      "source": [
        "rdd.map(lambda x: x+10).take(10)"
      ],
      "execution_count": 0,
      "outputs": [
        {
          "output_type": "execute_result",
          "data": {
            "text/plain": [
              "[10, 11, 12, 13, 14, 15, 16, 17, 18, 19]"
            ]
          },
          "metadata": {
            "tags": []
          },
          "execution_count": 32
        }
      ]
    },
    {
      "cell_type": "code",
      "metadata": {
        "id": "L1IVv-IYXOxU",
        "colab_type": "code",
        "outputId": "8c421920-52d1-4824-a1ef-b0d26db5f21a",
        "colab": {
          "base_uri": "https://localhost:8080/",
          "height": 34
        }
      },
      "source": [
        "sc.parallelize(range(1,101)).reduce(lambda a,b: a+b)"
      ],
      "execution_count": 0,
      "outputs": [
        {
          "output_type": "execute_result",
          "data": {
            "text/plain": [
              "5050"
            ]
          },
          "metadata": {
            "tags": []
          },
          "execution_count": 33
        }
      ]
    },
    {
      "cell_type": "code",
      "metadata": {
        "id": "fRHsisGsk6XR",
        "colab_type": "code",
        "outputId": "49de2cf4-8c5e-43eb-e723-193133acf6de",
        "colab": {
          "base_uri": "https://localhost:8080/",
          "height": 34
        }
      },
      "source": [
        "def gt(i):\n",
        "  return i>50\n",
        "\n",
        "gt(51)"
      ],
      "execution_count": 0,
      "outputs": [
        {
          "output_type": "execute_result",
          "data": {
            "text/plain": [
              "True"
            ]
          },
          "metadata": {
            "tags": []
          },
          "execution_count": 35
        }
      ]
    },
    {
      "cell_type": "code",
      "metadata": {
        "id": "hcmvPqb5lqqj",
        "colab_type": "code",
        "outputId": "7138ca62-55cb-4892-d335-e6758cda111a",
        "colab": {
          "base_uri": "https://localhost:8080/",
          "height": 34
        }
      },
      "source": [
        "gt(4)"
      ],
      "execution_count": 0,
      "outputs": [
        {
          "output_type": "execute_result",
          "data": {
            "text/plain": [
              "False"
            ]
          },
          "metadata": {
            "tags": []
          },
          "execution_count": 36
        }
      ]
    },
    {
      "cell_type": "code",
      "metadata": {
        "id": "oRFrug0JlyVc",
        "colab_type": "code",
        "outputId": "d59697c1-bb71-4d54-b4e4-0e0c73bbd42d",
        "colab": {
          "base_uri": "https://localhost:8080/",
          "height": 34
        }
      },
      "source": [
        "gt1=lambda i: i>50\n",
        "gt1(3)"
      ],
      "execution_count": 0,
      "outputs": [
        {
          "output_type": "execute_result",
          "data": {
            "text/plain": [
              "False"
            ]
          },
          "metadata": {
            "tags": []
          },
          "execution_count": 38
        }
      ]
    },
    {
      "cell_type": "code",
      "metadata": {
        "id": "tXi05XWCl8mW",
        "colab_type": "code",
        "outputId": "cf05e5f8-fd7a-4f9a-f59e-40a39ac191a2",
        "colab": {
          "base_uri": "https://localhost:8080/",
          "height": 34
        }
      },
      "source": [
        "gt(150)"
      ],
      "execution_count": 0,
      "outputs": [
        {
          "output_type": "execute_result",
          "data": {
            "text/plain": [
              "True"
            ]
          },
          "metadata": {
            "tags": []
          },
          "execution_count": 39
        }
      ]
    },
    {
      "cell_type": "code",
      "metadata": {
        "id": "zjEFv-4zmM5X",
        "colab_type": "code",
        "outputId": "71aa272b-5459-432b-dfac-675baa650087",
        "colab": {
          "base_uri": "https://localhost:8080/",
          "height": 34
        }
      },
      "source": [
        "from random import shuffle\n",
        "l = list(range(10))\n",
        "shuffle(l)\n",
        "l"
      ],
      "execution_count": 0,
      "outputs": [
        {
          "output_type": "execute_result",
          "data": {
            "text/plain": [
              "[7, 3, 5, 0, 9, 2, 1, 4, 6, 8]"
            ]
          },
          "metadata": {
            "tags": []
          },
          "execution_count": 41
        }
      ]
    },
    {
      "cell_type": "code",
      "metadata": {
        "id": "uzzrD-uQmLtn",
        "colab_type": "code",
        "colab": {}
      },
      "source": [
        "#let's shuffle our list to make it a bit more interesting\n",
        "from random import shuffle\n",
        "l = list(range(100))\n",
        "shuffle(l)\n",
        "rdd = sc.parallelize(l)"
      ],
      "execution_count": 0,
      "outputs": []
    },
    {
      "cell_type": "code",
      "metadata": {
        "id": "3PNaIrQJmxZV",
        "colab_type": "code",
        "outputId": "3a54c274-cbdb-4a5d-ac4a-6381d7436f54",
        "colab": {
          "base_uri": "https://localhost:8080/",
          "height": 850
        }
      },
      "source": [
        "rdd.filter(gt1).collect()"
      ],
      "execution_count": 0,
      "outputs": [
        {
          "output_type": "execute_result",
          "data": {
            "text/plain": [
              "[83,\n",
              " 61,\n",
              " 63,\n",
              " 90,\n",
              " 92,\n",
              " 54,\n",
              " 79,\n",
              " 52,\n",
              " 88,\n",
              " 87,\n",
              " 68,\n",
              " 78,\n",
              " 67,\n",
              " 56,\n",
              " 82,\n",
              " 65,\n",
              " 77,\n",
              " 97,\n",
              " 84,\n",
              " 62,\n",
              " 80,\n",
              " 53,\n",
              " 60,\n",
              " 81,\n",
              " 75,\n",
              " 94,\n",
              " 98,\n",
              " 59,\n",
              " 76,\n",
              " 58,\n",
              " 66,\n",
              " 55,\n",
              " 72,\n",
              " 89,\n",
              " 73,\n",
              " 74,\n",
              " 57,\n",
              " 71,\n",
              " 99,\n",
              " 86,\n",
              " 51,\n",
              " 70,\n",
              " 95,\n",
              " 93,\n",
              " 85,\n",
              " 91,\n",
              " 96,\n",
              " 64,\n",
              " 69]"
            ]
          },
          "metadata": {
            "tags": []
          },
          "execution_count": 43
        }
      ]
    },
    {
      "cell_type": "code",
      "metadata": {
        "id": "4HEpv2hpnCpO",
        "colab_type": "code",
        "outputId": "7c08916f-ecac-4e54-b83d-e580c48f141e",
        "colab": {
          "base_uri": "https://localhost:8080/",
          "height": 34
        }
      },
      "source": [
        "x=0\n",
        "rdd.filter(lambda x: x>50).filter(lambda x: x<75).sum()"
      ],
      "execution_count": 0,
      "outputs": [
        {
          "output_type": "execute_result",
          "data": {
            "text/plain": [
              "1500"
            ]
          },
          "metadata": {
            "tags": []
          },
          "execution_count": 44
        }
      ]
    },
    {
      "cell_type": "code",
      "metadata": {
        "id": "8ObQzzZP4Scq",
        "colab_type": "code",
        "outputId": "58935404-8f86-4857-c5b7-ac9d7ccfc9f4",
        "colab": {
          "base_uri": "https://localhost:8080/",
          "height": 34
        }
      },
      "source": [
        "x=0\n",
        "y=0\n",
        "rdd.filter(lambda x: x>50).filter(lambda x: x<75).sum()"
      ],
      "execution_count": 0,
      "outputs": [
        {
          "output_type": "execute_result",
          "data": {
            "text/plain": [
              "1500"
            ]
          },
          "metadata": {
            "tags": []
          },
          "execution_count": 45
        }
      ]
    },
    {
      "cell_type": "code",
      "metadata": {
        "id": "WKnwZKJg5t2h",
        "colab_type": "code",
        "outputId": "19c24aec-c183-493d-ed57-143b861a5aaa",
        "colab": {
          "base_uri": "https://localhost:8080/",
          "height": 34
        }
      },
      "source": [
        "from IPython.display import Markdown, display\n",
        "def printmd(string):\n",
        "    display(Markdown('# <span style=\"color:red\">'+string+'</span>'))\n",
        "\n",
        "\n",
        "if ('sc' in locals() or 'sc' in globals()):\n",
        "    printmd('<<<<<!!!!! It seems that you are running in a IBM Watson Studio Apache Spark Notebook. Please run it in an IBM Watson Studio Default Runtime (without Apache Spark) !!!!!>>>>>')\n"
      ],
      "execution_count": 0,
      "outputs": [
        {
          "output_type": "display_data",
          "data": {
            "text/markdown": "# <span style=\"color:red\"><<<<<!!!!! It seems that you are running in a IBM Watson Studio Apache Spark Notebook. Please run it in an IBM Watson Studio Default Runtime (without Apache Spark) !!!!!>>>>></span>",
            "text/plain": [
              "<IPython.core.display.Markdown object>"
            ]
          },
          "metadata": {
            "tags": []
          }
        }
      ]
    },
    {
      "cell_type": "code",
      "metadata": {
        "id": "8_CMbBAi5v4h",
        "colab_type": "code",
        "colab": {}
      },
      "source": [
        "try:\n",
        "    from pyspark import SparkContext, SparkConf\n",
        "    from pyspark.sql import SparkSession\n",
        "except ImportError as e:\n",
        "    printmd('<<<<<!!!!! Please restart your kernel after installing Apache Spark !!!!!>>>>>')"
      ],
      "execution_count": 0,
      "outputs": []
    },
    {
      "cell_type": "code",
      "metadata": {
        "id": "-eBCfLDA50hv",
        "colab_type": "code",
        "colab": {}
      },
      "source": [
        "sc = SparkContext.getOrCreate(SparkConf().setMaster(\"local[*]\"))\n",
        "\n",
        "spark = SparkSession \\\n",
        "    .builder \\\n",
        "    .getOrCreate()"
      ],
      "execution_count": 0,
      "outputs": []
    },
    {
      "cell_type": "code",
      "metadata": {
        "id": "iqKye5Cp7a6f",
        "colab_type": "code",
        "outputId": "392e9673-55c4-4406-c74c-fd5d332bb986",
        "colab": {
          "base_uri": "https://localhost:8080/",
          "height": 204
        }
      },
      "source": [
        "from pyspark.sql import Row\n",
        "\n",
        "df = spark.createDataFrame([Row(id=1, value='value1'),Row(id=2, value='value2')])\n",
        "\n",
        "# let's have a look what's inside\n",
        "df.show()\n",
        "\n",
        "# let's print the schema\n",
        "df.printSchema()"
      ],
      "execution_count": 0,
      "outputs": [
        {
          "output_type": "stream",
          "text": [
            "+---+------+\n",
            "| id| value|\n",
            "+---+------+\n",
            "|  1|value1|\n",
            "|  2|value2|\n",
            "+---+------+\n",
            "\n",
            "root\n",
            " |-- id: long (nullable = true)\n",
            " |-- value: string (nullable = true)\n",
            "\n"
          ],
          "name": "stdout"
        }
      ]
    },
    {
      "cell_type": "markdown",
      "metadata": {
        "id": "563NTlBD8j4h",
        "colab_type": "text"
      },
      "source": [
        "Now we register this DataFrame as query table and issue an SQL statement against it. Please note that the result of the SQL execution returns a new DataFrame we can work with."
      ]
    },
    {
      "cell_type": "code",
      "metadata": {
        "id": "J8rD9_1K8kv4",
        "colab_type": "code",
        "outputId": "713bba27-560a-4f18-f759-ef8d8a22685d",
        "colab": {
          "base_uri": "https://localhost:8080/",
          "height": 136
        }
      },
      "source": [
        "# register dataframe as query table\n",
        "df.createOrReplaceTempView('df_view')\n",
        "\n",
        "# execute SQL query\n",
        "df_result = spark.sql('select value from df_view where id=2')\n",
        "\n",
        "# examine contents of result\n",
        "df_result.show()\n",
        "\n",
        "# get result as string\n",
        "df_result.first().value"
      ],
      "execution_count": 0,
      "outputs": [
        {
          "output_type": "stream",
          "text": [
            "+------+\n",
            "| value|\n",
            "+------+\n",
            "|value2|\n",
            "+------+\n",
            "\n"
          ],
          "name": "stdout"
        },
        {
          "output_type": "execute_result",
          "data": {
            "text/plain": [
              "'value2'"
            ]
          },
          "metadata": {
            "tags": []
          },
          "execution_count": 50
        }
      ]
    },
    {
      "cell_type": "code",
      "metadata": {
        "id": "iqR7-6fd8wDY",
        "colab_type": "code",
        "outputId": "dd98e480-a1f8-49f2-d24d-a93aaea7e00c",
        "colab": {
          "base_uri": "https://localhost:8080/",
          "height": 34
        }
      },
      "source": [
        "df.count()"
      ],
      "execution_count": 0,
      "outputs": [
        {
          "output_type": "execute_result",
          "data": {
            "text/plain": [
              "2"
            ]
          },
          "metadata": {
            "tags": []
          },
          "execution_count": 51
        }
      ]
    },
    {
      "cell_type": "code",
      "metadata": {
        "id": "gn1XJfiO-p_O",
        "colab_type": "code",
        "outputId": "14f11f15-db96-43c0-8d92-5c97244c9b1f",
        "colab": {
          "base_uri": "https://localhost:8080/",
          "height": 221
        }
      },
      "source": [
        "from pyspark.sql import Row\n",
        "\n",
        "df = spark.createDataFrame([Row(id=1, value='value1'),Row(id=2, value='value2'), Row(id=3, value='1000')])\n",
        "\n",
        "# let's have a look what's inside\n",
        "df.show()\n",
        "\n",
        "# let's print the schema\n",
        "df.printSchema()"
      ],
      "execution_count": 0,
      "outputs": [
        {
          "output_type": "stream",
          "text": [
            "+---+------+\n",
            "| id| value|\n",
            "+---+------+\n",
            "|  1|value1|\n",
            "|  2|value2|\n",
            "|  3|  1000|\n",
            "+---+------+\n",
            "\n",
            "root\n",
            " |-- id: long (nullable = true)\n",
            " |-- value: string (nullable = true)\n",
            "\n"
          ],
          "name": "stdout"
        }
      ]
    },
    {
      "cell_type": "code",
      "metadata": {
        "id": "2UNTIj62-7Qf",
        "colab_type": "code",
        "outputId": "0cd2086a-326a-45c4-e555-bc88fa2aeaef",
        "colab": {
          "base_uri": "https://localhost:8080/",
          "height": 34
        }
      },
      "source": [
        "df.count()"
      ],
      "execution_count": 0,
      "outputs": [
        {
          "output_type": "execute_result",
          "data": {
            "text/plain": [
              "3"
            ]
          },
          "metadata": {
            "tags": []
          },
          "execution_count": 81
        }
      ]
    },
    {
      "cell_type": "code",
      "metadata": {
        "id": "wv1N7rKzLJet",
        "colab_type": "code",
        "outputId": "a09de182-1d41-4111-c027-12ea5572d75b",
        "colab": {
          "base_uri": "https://localhost:8080/",
          "height": 34
        }
      },
      "source": [
        "sum=rdd.sum()\n",
        "n=rdd.count()\n",
        "rdd.mean()"
      ],
      "execution_count": 0,
      "outputs": [
        {
          "output_type": "execute_result",
          "data": {
            "text/plain": [
              "49.5"
            ]
          },
          "metadata": {
            "tags": []
          },
          "execution_count": 79
        }
      ]
    },
    {
      "cell_type": "code",
      "metadata": {
        "id": "jRBM_7zPL9xL",
        "colab_type": "code",
        "outputId": "3573c79d-db4c-43b4-93bf-219ae72e0b86",
        "colab": {
          "base_uri": "https://localhost:8080/",
          "height": 34
        }
      },
      "source": [
        "mean=sum/n\n",
        "print (mean)"
      ],
      "execution_count": 0,
      "outputs": [
        {
          "output_type": "stream",
          "text": [
            "49.5\n"
          ],
          "name": "stdout"
        }
      ]
    },
    {
      "cell_type": "code",
      "metadata": {
        "id": "4WeQFuQZMqRm",
        "colab_type": "code",
        "outputId": "c34c527f-b4d6-4394-a338-91dd88622827",
        "colab": {
          "base_uri": "https://localhost:8080/",
          "height": 34
        }
      },
      "source": [
        "rdd.stats()"
      ],
      "execution_count": 0,
      "outputs": [
        {
          "output_type": "execute_result",
          "data": {
            "text/plain": [
              "(count: 100, mean: 49.5, stdev: 28.86607004772212, max: 99.0, min: 0.0)"
            ]
          },
          "metadata": {
            "tags": []
          },
          "execution_count": 57
        }
      ]
    },
    {
      "cell_type": "code",
      "metadata": {
        "id": "dRAqFZ03Tmri",
        "colab_type": "code",
        "outputId": "7f7e7e45-9853-41d0-8b50-7cb0d522783f",
        "colab": {
          "base_uri": "https://localhost:8080/",
          "height": 1000
        }
      },
      "source": [
        "rdd.sortBy(lambda x:x).zipWithIndex()\n",
        "rdd.collect()"
      ],
      "execution_count": 0,
      "outputs": [
        {
          "output_type": "execute_result",
          "data": {
            "text/plain": [
              "[43,\n",
              " 83,\n",
              " 61,\n",
              " 4,\n",
              " 23,\n",
              " 63,\n",
              " 90,\n",
              " 26,\n",
              " 92,\n",
              " 54,\n",
              " 11,\n",
              " 8,\n",
              " 79,\n",
              " 52,\n",
              " 39,\n",
              " 88,\n",
              " 12,\n",
              " 6,\n",
              " 87,\n",
              " 68,\n",
              " 78,\n",
              " 67,\n",
              " 40,\n",
              " 15,\n",
              " 45,\n",
              " 34,\n",
              " 56,\n",
              " 82,\n",
              " 7,\n",
              " 65,\n",
              " 77,\n",
              " 97,\n",
              " 48,\n",
              " 33,\n",
              " 84,\n",
              " 24,\n",
              " 62,\n",
              " 25,\n",
              " 80,\n",
              " 38,\n",
              " 53,\n",
              " 60,\n",
              " 81,\n",
              " 29,\n",
              " 75,\n",
              " 94,\n",
              " 98,\n",
              " 35,\n",
              " 37,\n",
              " 50,\n",
              " 14,\n",
              " 0,\n",
              " 1,\n",
              " 20,\n",
              " 59,\n",
              " 76,\n",
              " 58,\n",
              " 17,\n",
              " 31,\n",
              " 66,\n",
              " 21,\n",
              " 55,\n",
              " 41,\n",
              " 72,\n",
              " 18,\n",
              " 36,\n",
              " 89,\n",
              " 3,\n",
              " 9,\n",
              " 42,\n",
              " 27,\n",
              " 73,\n",
              " 16,\n",
              " 19,\n",
              " 46,\n",
              " 74,\n",
              " 22,\n",
              " 57,\n",
              " 71,\n",
              " 49,\n",
              " 99,\n",
              " 86,\n",
              " 51,\n",
              " 28,\n",
              " 70,\n",
              " 13,\n",
              " 30,\n",
              " 95,\n",
              " 2,\n",
              " 93,\n",
              " 47,\n",
              " 10,\n",
              " 85,\n",
              " 32,\n",
              " 91,\n",
              " 96,\n",
              " 5,\n",
              " 64,\n",
              " 69,\n",
              " 44]"
            ]
          },
          "metadata": {
            "tags": []
          },
          "execution_count": 72
        }
      ]
    },
    {
      "cell_type": "code",
      "metadata": {
        "id": "Np6UyjPXMxlC",
        "colab_type": "code",
        "outputId": "a318b4d6-30be-4f36-b735-4b72fc0d042a",
        "colab": {
          "base_uri": "https://localhost:8080/",
          "height": 130
        }
      },
      "source": [
        "rdd.sortBy(lambda x:x).zipWithIndex().map(lambda (value, key) : (key, value)).collect()"
      ],
      "execution_count": 0,
      "outputs": [
        {
          "output_type": "error",
          "ename": "SyntaxError",
          "evalue": "ignored",
          "traceback": [
            "\u001b[0;36m  File \u001b[0;32m\"<ipython-input-63-4a3e77e3663c>\"\u001b[0;36m, line \u001b[0;32m1\u001b[0m\n\u001b[0;31m    rdd.sortBy(lambda x:x).zipWithIndex().map(lambda (value, key) : (key, value)).collect()\u001b[0m\n\u001b[0m                                                     ^\u001b[0m\n\u001b[0;31mSyntaxError\u001b[0m\u001b[0;31m:\u001b[0m invalid syntax\n"
          ]
        }
      ]
    },
    {
      "cell_type": "code",
      "metadata": {
        "id": "4XRU30XUQsi0",
        "colab_type": "code",
        "outputId": "000a3ec0-3937-435c-af00-b08460113ab2",
        "colab": {
          "base_uri": "https://localhost:8080/",
          "height": 164
        }
      },
      "source": [
        "rdd.sortBy(lambda x:x).zipWithIndex().map(lambda b, a : a, b).collect()"
      ],
      "execution_count": 0,
      "outputs": [
        {
          "output_type": "error",
          "ename": "NameError",
          "evalue": "ignored",
          "traceback": [
            "\u001b[0;31m---------------------------------------------------------------------------\u001b[0m",
            "\u001b[0;31mNameError\u001b[0m                                 Traceback (most recent call last)",
            "\u001b[0;32m<ipython-input-66-172df9048b0f>\u001b[0m in \u001b[0;36m<module>\u001b[0;34m()\u001b[0m\n\u001b[0;32m----> 1\u001b[0;31m \u001b[0mrdd\u001b[0m\u001b[0;34m.\u001b[0m\u001b[0msortBy\u001b[0m\u001b[0;34m(\u001b[0m\u001b[0;32mlambda\u001b[0m \u001b[0mx\u001b[0m\u001b[0;34m:\u001b[0m\u001b[0mx\u001b[0m\u001b[0;34m)\u001b[0m\u001b[0;34m.\u001b[0m\u001b[0mzipWithIndex\u001b[0m\u001b[0;34m(\u001b[0m\u001b[0;34m)\u001b[0m\u001b[0;34m.\u001b[0m\u001b[0mmap\u001b[0m\u001b[0;34m(\u001b[0m\u001b[0;32mlambda\u001b[0m \u001b[0mb\u001b[0m\u001b[0;34m,\u001b[0m \u001b[0ma\u001b[0m \u001b[0;34m:\u001b[0m \u001b[0ma\u001b[0m\u001b[0;34m,\u001b[0m \u001b[0mb\u001b[0m\u001b[0;34m)\u001b[0m\u001b[0;34m.\u001b[0m\u001b[0mcollect\u001b[0m\u001b[0;34m(\u001b[0m\u001b[0;34m)\u001b[0m\u001b[0;34m\u001b[0m\u001b[0;34m\u001b[0m\u001b[0m\n\u001b[0m",
            "\u001b[0;31mNameError\u001b[0m: name 'b' is not defined"
          ]
        }
      ]
    },
    {
      "cell_type": "code",
      "metadata": {
        "id": "hVTL4VL4R_UY",
        "colab_type": "code",
        "outputId": "9e5e0087-679f-4eee-8a62-77927ebecf9c",
        "colab": {
          "base_uri": "https://localhost:8080/",
          "height": 130
        }
      },
      "source": [
        "def appendabc(somedict):\n",
        "    return dict(map(lambda (key, value): (str(key)+\"abc\", value), somedict.items()))\n",
        "x={1:1, 2:2}\n",
        "appendabc(x)"
      ],
      "execution_count": 0,
      "outputs": [
        {
          "output_type": "error",
          "ename": "SyntaxError",
          "evalue": "ignored",
          "traceback": [
            "\u001b[0;36m  File \u001b[0;32m\"<ipython-input-67-37b679ae04bd>\"\u001b[0;36m, line \u001b[0;32m2\u001b[0m\n\u001b[0;31m    return dict(map(lambda (key, value): (str(key)+\"abc\", value), somedict.items()))\u001b[0m\n\u001b[0m                           ^\u001b[0m\n\u001b[0;31mSyntaxError\u001b[0m\u001b[0;31m:\u001b[0m invalid syntax\n"
          ]
        }
      ]
    },
    {
      "cell_type": "code",
      "metadata": {
        "id": "DhCU70KcSk3t",
        "colab_type": "code",
        "outputId": "be3f6cd1-1997-43b1-9ff1-8765be8db43a",
        "colab": {
          "base_uri": "https://localhost:8080/",
          "height": 130
        }
      },
      "source": [
        " new_dict = dict(map(lambda (key, value): (new_key.replace('#key#', str(key)), value), new_dict.items()))"
      ],
      "execution_count": 0,
      "outputs": [
        {
          "output_type": "error",
          "ename": "SyntaxError",
          "evalue": "ignored",
          "traceback": [
            "\u001b[0;36m  File \u001b[0;32m\"<ipython-input-68-568c1eabf083>\"\u001b[0;36m, line \u001b[0;32m1\u001b[0m\n\u001b[0;31m    new_dict = dict(map(lambda (key, value): (new_key.replace('#key#', str(key)), value), new_dict.items()))\u001b[0m\n\u001b[0m                               ^\u001b[0m\n\u001b[0;31mSyntaxError\u001b[0m\u001b[0;31m:\u001b[0m invalid syntax\n"
          ]
        }
      ]
    },
    {
      "cell_type": "code",
      "metadata": {
        "id": "Od83swt5UJPl",
        "colab_type": "code",
        "outputId": "9d6edf7d-014e-4d86-a3ce-56f30600caac",
        "colab": {
          "base_uri": "https://localhost:8080/",
          "height": 198
        }
      },
      "source": [
        "sc = SparkContext.getOrCreate();\n",
        "rdd = sc.parallelize(range(100))\n",
        "rdd"
      ],
      "execution_count": 0,
      "outputs": [
        {
          "output_type": "error",
          "ename": "NameError",
          "evalue": "ignored",
          "traceback": [
            "\u001b[0;31m---------------------------------------------------------------------------\u001b[0m",
            "\u001b[0;31mNameError\u001b[0m                                 Traceback (most recent call last)",
            "\u001b[0;32m<ipython-input-2-623bd2158333>\u001b[0m in \u001b[0;36m<module>\u001b[0;34m()\u001b[0m\n\u001b[0;32m----> 1\u001b[0;31m \u001b[0msc\u001b[0m \u001b[0;34m=\u001b[0m \u001b[0mSparkContext\u001b[0m\u001b[0;34m.\u001b[0m\u001b[0mgetOrCreate\u001b[0m\u001b[0;34m(\u001b[0m\u001b[0;34m)\u001b[0m\u001b[0;34m;\u001b[0m\u001b[0;34m\u001b[0m\u001b[0;34m\u001b[0m\u001b[0m\n\u001b[0m\u001b[1;32m      2\u001b[0m \u001b[0mrdd\u001b[0m \u001b[0;34m=\u001b[0m \u001b[0msc\u001b[0m\u001b[0;34m.\u001b[0m\u001b[0mparallelize\u001b[0m\u001b[0;34m(\u001b[0m\u001b[0mrange\u001b[0m\u001b[0;34m(\u001b[0m\u001b[0;36m100\u001b[0m\u001b[0;34m)\u001b[0m\u001b[0;34m)\u001b[0m\u001b[0;34m\u001b[0m\u001b[0;34m\u001b[0m\u001b[0m\n\u001b[1;32m      3\u001b[0m \u001b[0mrdd\u001b[0m\u001b[0;34m\u001b[0m\u001b[0;34m\u001b[0m\u001b[0m\n",
            "\u001b[0;31mNameError\u001b[0m: name 'SparkContext' is not defined"
          ]
        }
      ]
    },
    {
      "cell_type": "code",
      "metadata": {
        "id": "deC7C_Y6UL-p",
        "colab_type": "code",
        "outputId": "69cb3d36-1756-4893-b2ab-d37bad959461",
        "colab": {
          "base_uri": "https://localhost:8080/",
          "height": 1000
        }
      },
      "source": [
        "rdd.sortBy(lambda x:x).zipWithIndex().collect()\n"
      ],
      "execution_count": 0,
      "outputs": [
        {
          "output_type": "execute_result",
          "data": {
            "text/plain": [
              "[(0, 0),\n",
              " (1, 1),\n",
              " (2, 2),\n",
              " (3, 3),\n",
              " (4, 4),\n",
              " (5, 5),\n",
              " (6, 6),\n",
              " (7, 7),\n",
              " (8, 8),\n",
              " (9, 9),\n",
              " (10, 10),\n",
              " (11, 11),\n",
              " (12, 12),\n",
              " (13, 13),\n",
              " (14, 14),\n",
              " (15, 15),\n",
              " (16, 16),\n",
              " (17, 17),\n",
              " (18, 18),\n",
              " (19, 19),\n",
              " (20, 20),\n",
              " (21, 21),\n",
              " (22, 22),\n",
              " (23, 23),\n",
              " (24, 24),\n",
              " (25, 25),\n",
              " (26, 26),\n",
              " (27, 27),\n",
              " (28, 28),\n",
              " (29, 29),\n",
              " (30, 30),\n",
              " (31, 31),\n",
              " (32, 32),\n",
              " (33, 33),\n",
              " (34, 34),\n",
              " (35, 35),\n",
              " (36, 36),\n",
              " (37, 37),\n",
              " (38, 38),\n",
              " (39, 39),\n",
              " (40, 40),\n",
              " (41, 41),\n",
              " (42, 42),\n",
              " (43, 43),\n",
              " (44, 44),\n",
              " (45, 45),\n",
              " (46, 46),\n",
              " (47, 47),\n",
              " (48, 48),\n",
              " (49, 49),\n",
              " (50, 50),\n",
              " (51, 51),\n",
              " (52, 52),\n",
              " (53, 53),\n",
              " (54, 54),\n",
              " (55, 55),\n",
              " (56, 56),\n",
              " (57, 57),\n",
              " (58, 58),\n",
              " (59, 59),\n",
              " (60, 60),\n",
              " (61, 61),\n",
              " (62, 62),\n",
              " (63, 63),\n",
              " (64, 64),\n",
              " (65, 65),\n",
              " (66, 66),\n",
              " (67, 67),\n",
              " (68, 68),\n",
              " (69, 69),\n",
              " (70, 70),\n",
              " (71, 71),\n",
              " (72, 72),\n",
              " (73, 73),\n",
              " (74, 74),\n",
              " (75, 75),\n",
              " (76, 76),\n",
              " (77, 77),\n",
              " (78, 78),\n",
              " (79, 79),\n",
              " (80, 80),\n",
              " (81, 81),\n",
              " (82, 82),\n",
              " (83, 83),\n",
              " (84, 84),\n",
              " (85, 85),\n",
              " (86, 86),\n",
              " (87, 87),\n",
              " (88, 88),\n",
              " (89, 89),\n",
              " (90, 90),\n",
              " (91, 91),\n",
              " (92, 92),\n",
              " (93, 93),\n",
              " (94, 94),\n",
              " (95, 95),\n",
              " (96, 96),\n",
              " (97, 97),\n",
              " (98, 98),\n",
              " (99, 99)]"
            ]
          },
          "metadata": {
            "tags": []
          },
          "execution_count": 76
        }
      ]
    },
    {
      "cell_type": "code",
      "metadata": {
        "id": "teQc-Es0Ui5w",
        "colab_type": "code",
        "outputId": "37dc35dd-616b-4244-b622-732402b43871",
        "colab": {
          "base_uri": "https://localhost:8080/",
          "height": 130
        }
      },
      "source": [
        "rdd.sortBy(lambda x:x).zipWithIndex().map(lambda (value, key) : (key, value)). collect()"
      ],
      "execution_count": 0,
      "outputs": [
        {
          "output_type": "error",
          "ename": "SyntaxError",
          "evalue": "ignored",
          "traceback": [
            "\u001b[0;36m  File \u001b[0;32m\"<ipython-input-77-0a91a8a12275>\"\u001b[0;36m, line \u001b[0;32m1\u001b[0m\n\u001b[0;31m    rdd.sortBy(lambda x:x).zipWithIndex().map(lambda (value, key) : (key, value)). collect()\u001b[0m\n\u001b[0m                                                     ^\u001b[0m\n\u001b[0;31mSyntaxError\u001b[0m\u001b[0;31m:\u001b[0m invalid syntax\n"
          ]
        }
      ]
    },
    {
      "cell_type": "code",
      "metadata": {
        "id": "1slQMnYmaI1D",
        "colab_type": "code",
        "colab": {}
      },
      "source": [
        "try:\n",
        "    from pyspark import SparkContext, SparkConf\n",
        "    from pyspark.sql import SparkSession\n",
        "except ImportError as e:\n",
        "    printmd('<<<<<!!!!! Please restart your kernel after installing Apache Spark !!!!!>>>>>')"
      ],
      "execution_count": 0,
      "outputs": []
    },
    {
      "cell_type": "code",
      "metadata": {
        "id": "BPsvaRuIaKTd",
        "colab_type": "code",
        "outputId": "506afb4d-9c07-4f07-f74f-4a8f1605067b",
        "colab": {
          "base_uri": "https://localhost:8080/",
          "height": 34
        }
      },
      "source": [
        "rdd=sc.parallelize(range(100))\n",
        "c=rdd.count()\n",
        "s=rdd.sum()\n",
        "m=s/c\n",
        "print (m)"
      ],
      "execution_count": 0,
      "outputs": [
        {
          "output_type": "stream",
          "text": [
            "49.5\n"
          ],
          "name": "stdout"
        }
      ]
    },
    {
      "cell_type": "code",
      "metadata": {
        "id": "yd_pVtLmc_ZI",
        "colab_type": "code",
        "outputId": "1f162667-b92a-41b1-828a-ff127178565a",
        "colab": {
          "base_uri": "https://localhost:8080/",
          "height": 34
        }
      },
      "source": [
        "from math import sqrt\n",
        "sd= sqrt(rdd.map(lambda x: pow(x-m, 2)).sum()/c)\n",
        "print (sd)"
      ],
      "execution_count": 0,
      "outputs": [
        {
          "output_type": "stream",
          "text": [
            "28.86607004772212\n"
          ],
          "name": "stdout"
        }
      ]
    },
    {
      "cell_type": "code",
      "metadata": {
        "id": "t6Dq_8zxit-F",
        "colab_type": "code",
        "outputId": "a7f5c70d-5700-4be5-a1a4-c0e7126247cc",
        "colab": {
          "base_uri": "https://localhost:8080/",
          "height": 34
        }
      },
      "source": [
        "rdd=sc.parallelize([49]*100+[100])\n",
        "c=rdd.count()\n",
        "s=rdd.sum()\n",
        "m=s/c\n",
        "print (m)"
      ],
      "execution_count": 0,
      "outputs": [
        {
          "output_type": "stream",
          "text": [
            "49.504950495049506\n"
          ],
          "name": "stdout"
        }
      ]
    },
    {
      "cell_type": "code",
      "metadata": {
        "id": "SYicS-YQi9_K",
        "colab_type": "code",
        "outputId": "63543cd4-97ce-4f2e-b3dc-f7800f1451da",
        "colab": {
          "base_uri": "https://localhost:8080/",
          "height": 34
        }
      },
      "source": [
        "from math import sqrt\n",
        "sqrt(rdd.map(lambda x: pow(x-m, 2)).sum()/c)"
      ],
      "execution_count": 0,
      "outputs": [
        {
          "output_type": "execute_result",
          "data": {
            "text/plain": [
              "5.049504950495049"
            ]
          },
          "metadata": {
            "tags": []
          },
          "execution_count": 118
        }
      ]
    },
    {
      "cell_type": "code",
      "metadata": {
        "id": "5BMdwBJ4nAKL",
        "colab_type": "code",
        "outputId": "807aba66-f086-4b3b-c6eb-2d2e7e92f680",
        "colab": {
          "base_uri": "https://localhost:8080/",
          "height": 34
        }
      },
      "source": [
        "rdd=sc.parallelize(range(100))\n",
        "c=rdd.count()\n",
        "s=rdd.sum()\n",
        "m=s/c\n",
        "print (m)"
      ],
      "execution_count": 0,
      "outputs": [
        {
          "output_type": "stream",
          "text": [
            "49.5\n"
          ],
          "name": "stdout"
        }
      ]
    },
    {
      "cell_type": "code",
      "metadata": {
        "id": "KwB0kns8nEZl",
        "colab_type": "code",
        "outputId": "31a2bb2d-54fc-4752-8ba5-61b007907eb0",
        "colab": {
          "base_uri": "https://localhost:8080/",
          "height": 34
        }
      },
      "source": [
        "from math import sqrt\n",
        "sd= sqrt(rdd.map(lambda x: pow(x-m, 2)).sum()/c)\n",
        "print (sd)"
      ],
      "execution_count": 0,
      "outputs": [
        {
          "output_type": "stream",
          "text": [
            "28.86607004772212\n"
          ],
          "name": "stdout"
        }
      ]
    },
    {
      "cell_type": "code",
      "metadata": {
        "id": "0Q5w8du2kcgu",
        "colab_type": "code",
        "colab": {}
      },
      "source": [
        "c=float(c)"
      ],
      "execution_count": 0,
      "outputs": []
    },
    {
      "cell_type": "code",
      "metadata": {
        "id": "PQ_cGYbCkvv7",
        "colab_type": "code",
        "outputId": "c5ee90a0-68b4-45c4-ea61-f52762229fa8",
        "colab": {
          "base_uri": "https://localhost:8080/",
          "height": 34
        }
      },
      "source": [
        "skewness= c/((c-1)*(c-2))*rdd.map(lambda x: pow(x-m, 3)/pow(sd, 3)).sum()\n",
        "print (skewness)"
      ],
      "execution_count": 0,
      "outputs": [
        {
          "output_type": "stream",
          "text": [
            "2.929469122902907e-16\n"
          ],
          "name": "stdout"
        }
      ]
    },
    {
      "cell_type": "code",
      "metadata": {
        "id": "DpsNI-uKm4lK",
        "colab_type": "code",
        "outputId": "fae8edbf-4201-404f-a8e5-0f1c1e1b943a",
        "colab": {
          "base_uri": "https://localhost:8080/",
          "height": 34
        }
      },
      "source": [
        "rdd=sc.parallelize(list(range(100))+[1000]*10000)\n",
        "c=rdd.count()\n",
        "s=rdd.sum()\n",
        "m=s/c\n",
        "print (m)"
      ],
      "execution_count": 0,
      "outputs": [
        {
          "output_type": "stream",
          "text": [
            "990.5891089108911\n"
          ],
          "name": "stdout"
        }
      ]
    },
    {
      "cell_type": "code",
      "metadata": {
        "id": "sWaF7D8tnxVJ",
        "colab_type": "code",
        "outputId": "a62574e7-deb4-45f5-ab7f-2607c8dfffbc",
        "colab": {
          "base_uri": "https://localhost:8080/",
          "height": 34
        }
      },
      "source": [
        "from math import sqrt\n",
        "sd= sqrt(rdd.map(lambda x: pow(x-m, 2)).sum()/c)\n",
        "print (sd)"
      ],
      "execution_count": 0,
      "outputs": [
        {
          "output_type": "stream",
          "text": [
            "94.15273288176641\n"
          ],
          "name": "stdout"
        }
      ]
    },
    {
      "cell_type": "code",
      "metadata": {
        "id": "g6j9ON2Yn2zJ",
        "colab_type": "code",
        "outputId": "f070c3e4-1dd3-4f64-8013-5fe4632bcf0b",
        "colab": {
          "base_uri": "https://localhost:8080/",
          "height": 34
        }
      },
      "source": [
        "skewness= c/((c-1)*(c-2))*rdd.map(lambda x: pow(x-m, 3)/pow(sd, 3)).sum()\n",
        "print (skewness)"
      ],
      "execution_count": 0,
      "outputs": [
        {
          "output_type": "stream",
          "text": [
            "-9.917035083631724\n"
          ],
          "name": "stdout"
        }
      ]
    },
    {
      "cell_type": "code",
      "metadata": {
        "id": "NDyj0ZG3n-qT",
        "colab_type": "code",
        "outputId": "bb351540-37f7-47b2-b751-c2356acf6551",
        "colab": {
          "base_uri": "https://localhost:8080/",
          "height": 34
        }
      },
      "source": [
        "rdd=sc.parallelize(list(range(100))+[-1000]*10000)\n",
        "c=rdd.count()\n",
        "s=rdd.sum()\n",
        "m=s/c\n",
        "print (m)"
      ],
      "execution_count": 0,
      "outputs": [
        {
          "output_type": "stream",
          "text": [
            "-989.6089108910891\n"
          ],
          "name": "stdout"
        }
      ]
    },
    {
      "cell_type": "code",
      "metadata": {
        "id": "mXi4eibEoD1S",
        "colab_type": "code",
        "outputId": "26fe02c4-5f13-42dd-b4a6-f20ea587c826",
        "colab": {
          "base_uri": "https://localhost:8080/",
          "height": 34
        }
      },
      "source": [
        "from math import sqrt\n",
        "sd= sqrt(rdd.map(lambda x: pow(x-m, 2)).sum()/c)\n",
        "print (sd)"
      ],
      "execution_count": 0,
      "outputs": [
        {
          "output_type": "stream",
          "text": [
            "103.95058098411899\n"
          ],
          "name": "stdout"
        }
      ]
    },
    {
      "cell_type": "code",
      "metadata": {
        "id": "r3j2KUujoGS0",
        "colab_type": "code",
        "outputId": "46499f4e-374a-48bd-c43b-9feffd4316e8",
        "colab": {
          "base_uri": "https://localhost:8080/",
          "height": 34
        }
      },
      "source": [
        "skewness= c/((c-1)*(c-2))*rdd.map(lambda x: pow(x-m, 3)/pow(sd, 3)).sum()\n",
        "print (skewness)"
      ],
      "execution_count": 0,
      "outputs": [
        {
          "output_type": "stream",
          "text": [
            "9.914504914127274\n"
          ],
          "name": "stdout"
        }
      ]
    },
    {
      "cell_type": "code",
      "metadata": {
        "id": "uECB1Xzno9dI",
        "colab_type": "code",
        "outputId": "c70bf5ce-70ee-4911-ac51-4720be023321",
        "colab": {
          "base_uri": "https://localhost:8080/",
          "height": 34
        }
      },
      "source": [
        "rdd = sc.parallelize(list(range(100)))\n",
        "c = rdd.count()\n",
        "s=rdd.sum()\n",
        "m=s/c\n",
        "print (m)"
      ],
      "execution_count": 0,
      "outputs": [
        {
          "output_type": "stream",
          "text": [
            "49.5\n"
          ],
          "name": "stdout"
        }
      ]
    },
    {
      "cell_type": "code",
      "metadata": {
        "id": "DihjhENupWzF",
        "colab_type": "code",
        "outputId": "e670325a-453c-4491-b688-95fbb675869a",
        "colab": {
          "base_uri": "https://localhost:8080/",
          "height": 34
        }
      },
      "source": [
        "from math import sqrt\n",
        "sd= sqrt(rdd.map(lambda x: pow(x-m, 2)).sum()/c)\n",
        "print (sd)"
      ],
      "execution_count": 0,
      "outputs": [
        {
          "output_type": "stream",
          "text": [
            "28.86607004772212\n"
          ],
          "name": "stdout"
        }
      ]
    },
    {
      "cell_type": "markdown",
      "metadata": {
        "id": "En2OL_GOpyJ-",
        "colab_type": "text"
      },
      "source": [
        "Chek the formula below to the above , the guy is really confusing the skewness fomulae, the results are similar though."
      ]
    },
    {
      "cell_type": "code",
      "metadata": {
        "id": "qSidlr5zpkG_",
        "colab_type": "code",
        "outputId": "fa670b5b-29c7-43b9-b4b1-fd00600f9c3b",
        "colab": {
          "base_uri": "https://localhost:8080/",
          "height": 34
        }
      },
      "source": [
        "skewness= rdd.map(lambda x: pow(x-m, 3)/pow(sd, 3)).sum()/c\n",
        "print (skewness)"
      ],
      "execution_count": 0,
      "outputs": [
        {
          "output_type": "stream",
          "text": [
            "2.842170943040401e-16\n"
          ],
          "name": "stdout"
        }
      ]
    },
    {
      "cell_type": "code",
      "metadata": {
        "id": "2l1aMGZzqCd5",
        "colab_type": "code",
        "colab": {}
      },
      "source": [
        ""
      ],
      "execution_count": 0,
      "outputs": []
    },
    {
      "cell_type": "code",
      "metadata": {
        "id": "q14m9Mj9pcOd",
        "colab_type": "code",
        "outputId": "1c233b90-c7b7-4ac1-b586-cf42cc096aaa",
        "colab": {
          "base_uri": "https://localhost:8080/",
          "height": 34
        }
      },
      "source": [
        "kurtosis = rdd.map(lambda x: pow(x-m, 4)/pow(sd, 4)).sum()/c\n",
        "print (kurtosis)"
      ],
      "execution_count": 0,
      "outputs": [
        {
          "output_type": "stream",
          "text": [
            "1.7997599759975997\n"
          ],
          "name": "stdout"
        }
      ]
    },
    {
      "cell_type": "code",
      "metadata": {
        "id": "rT6uYWj3qHO7",
        "colab_type": "code",
        "outputId": "bf598832-bb3e-444f-bc96-af28e9ac4cd9",
        "colab": {
          "base_uri": "https://localhost:8080/",
          "height": 34
        }
      },
      "source": [
        "rdd = sc.parallelize(list(range(100))+[1000]*10000)\n",
        "c = rdd.count()\n",
        "s=rdd.sum()\n",
        "m=s/c\n",
        "print (m)"
      ],
      "execution_count": 0,
      "outputs": [
        {
          "output_type": "stream",
          "text": [
            "990.5891089108911\n"
          ],
          "name": "stdout"
        }
      ]
    },
    {
      "cell_type": "code",
      "metadata": {
        "id": "-yCbgXXDqWic",
        "colab_type": "code",
        "outputId": "61ccbc43-07d3-423c-a629-1350f7d1ea0d",
        "colab": {
          "base_uri": "https://localhost:8080/",
          "height": 34
        }
      },
      "source": [
        "from math import sqrt\n",
        "sd= sqrt(rdd.map(lambda x: pow(x-m, 2)).sum()/c)\n",
        "print (sd)"
      ],
      "execution_count": 0,
      "outputs": [
        {
          "output_type": "stream",
          "text": [
            "94.15273288176641\n"
          ],
          "name": "stdout"
        }
      ]
    },
    {
      "cell_type": "code",
      "metadata": {
        "id": "jaGc_lLQqcCy",
        "colab_type": "code",
        "outputId": "5f4862df-a38d-443e-c584-f62b7f869774",
        "colab": {
          "base_uri": "https://localhost:8080/",
          "height": 34
        }
      },
      "source": [
        "kurtosis = rdd.map(lambda x: pow(x-m, 4)/pow(sd, 4)).sum()/c\n",
        "print (kurtosis)"
      ],
      "execution_count": 0,
      "outputs": [
        {
          "output_type": "stream",
          "text": [
            "99.3838276800179\n"
          ],
          "name": "stdout"
        }
      ]
    },
    {
      "cell_type": "code",
      "metadata": {
        "id": "iSI5Wgeiq4KV",
        "colab_type": "code",
        "outputId": "8485333d-b78e-4575-957c-3654723960cc",
        "colab": {
          "base_uri": "https://localhost:8080/",
          "height": 34
        }
      },
      "source": [
        "rdd = sc.parallelize(list(range(100))+[-1000]*10000)\n",
        "c = rdd.count()\n",
        "s=rdd.sum()\n",
        "m=s/c\n",
        "print (m)"
      ],
      "execution_count": 0,
      "outputs": [
        {
          "output_type": "stream",
          "text": [
            "-989.6089108910891\n"
          ],
          "name": "stdout"
        }
      ]
    },
    {
      "cell_type": "code",
      "metadata": {
        "id": "4xAHMl_Tq_Xg",
        "colab_type": "code",
        "outputId": "8835128f-f542-4f70-fc0f-9440345c0036",
        "colab": {
          "base_uri": "https://localhost:8080/",
          "height": 34
        }
      },
      "source": [
        "from math import sqrt\n",
        "sd= sqrt(rdd.map(lambda x: pow(x-m, 2)).sum()/c)\n",
        "print (sd)"
      ],
      "execution_count": 0,
      "outputs": [
        {
          "output_type": "stream",
          "text": [
            "103.95058098411899\n"
          ],
          "name": "stdout"
        }
      ]
    },
    {
      "cell_type": "code",
      "metadata": {
        "id": "J0N3eK_XrEjm",
        "colab_type": "code",
        "outputId": "18b7b4fb-251d-4e13-c2e2-886cb8f7b199",
        "colab": {
          "base_uri": "https://localhost:8080/",
          "height": 34
        }
      },
      "source": [
        "kurtosis = rdd.map(lambda x: pow(x-m, 4)/pow(sd, 4)).sum()/c\n",
        "print (kurtosis)"
      ],
      "execution_count": 0,
      "outputs": [
        {
          "output_type": "stream",
          "text": [
            "99.31671934325138\n"
          ],
          "name": "stdout"
        }
      ]
    },
    {
      "cell_type": "markdown",
      "metadata": {
        "id": "PVkMvZ2prPei",
        "colab_type": "text"
      },
      "source": [
        "Compare the formulaes of kurtosis, they are little different. c vs (1-c)."
      ]
    },
    {
      "cell_type": "code",
      "metadata": {
        "id": "mmUZ94FwrHkh",
        "colab_type": "code",
        "outputId": "f4fa9ecf-6606-487c-9ff5-ac596d56e35f",
        "colab": {
          "base_uri": "https://localhost:8080/",
          "height": 34
        }
      },
      "source": [
        "kurtosis = rdd.map(lambda x: pow(x-m, 4)/pow(sd, 4)).sum()/(1-c)\n",
        "print (kurtosis)"
      ],
      "execution_count": 0,
      "outputs": [
        {
          "output_type": "stream",
          "text": [
            "-99.3265536554945\n"
          ],
          "name": "stdout"
        }
      ]
    },
    {
      "cell_type": "code",
      "metadata": {
        "id": "pwxDqs71tHzc",
        "colab_type": "code",
        "outputId": "ffd08755-ee30-4815-ade9-b70391df753b",
        "colab": {
          "base_uri": "https://localhost:8080/",
          "height": 34
        }
      },
      "source": [
        "rddx = sc.parallelize(list(range(100)))\n",
        "rddy = sc.parallelize(list(range(100)))\n",
        "mx = rddx.sum()/rddx.count()\n",
        "my = rddy.sum()/rddy.count()\n",
        "print (mx, my)\n",
        "c=rddx.count()"
      ],
      "execution_count": 0,
      "outputs": [
        {
          "output_type": "stream",
          "text": [
            "49.5 49.5\n"
          ],
          "name": "stdout"
        }
      ]
    },
    {
      "cell_type": "code",
      "metadata": {
        "id": "rdT_GDfYtrVv",
        "colab_type": "code",
        "colab": {}
      },
      "source": [
        "#covarience = ((rddx.map(lambda x: (x-mx)))*(rddy.map(lambda y: (y-my)))).sum()/ float(c)"
      ],
      "execution_count": 0,
      "outputs": []
    },
    {
      "cell_type": "code",
      "metadata": {
        "id": "xrddWPJNwOTm",
        "colab_type": "code",
        "colab": {}
      },
      "source": [
        "#cx = rddx.map(lambda x: (x-mx))\n",
        "#cy = rddy.map(lambda y: (y-my))\n",
        "#covarience = cx*cy.sum()/float(c)\n"
      ],
      "execution_count": 0,
      "outputs": []
    },
    {
      "cell_type": "code",
      "metadata": {
        "id": "xsfIA_UAw8CK",
        "colab_type": "code",
        "outputId": "b9632438-d185-4b5e-ac65-8c7a0fa19370",
        "colab": {
          "base_uri": "https://localhost:8080/",
          "height": 34
        }
      },
      "source": [
        "xy=rddx.zip(rddy)\n",
        "xy.take(5)"
      ],
      "execution_count": 0,
      "outputs": [
        {
          "output_type": "execute_result",
          "data": {
            "text/plain": [
              "[(0, 0), (1, 1), (2, 2), (3, 3), (4, 4)]"
            ]
          },
          "metadata": {
            "tags": []
          },
          "execution_count": 207
        }
      ]
    },
    {
      "cell_type": "code",
      "metadata": {
        "id": "Oqg6CeetyNDI",
        "colab_type": "code",
        "outputId": "8c891ddd-bf47-4f3d-8fb1-3bcdceba181e",
        "colab": {
          "base_uri": "https://localhost:8080/",
          "height": 130
        }
      },
      "source": [
        "xy.map(lambda (x, y) : (x-49)*(y-49)).sum()"
      ],
      "execution_count": 0,
      "outputs": [
        {
          "output_type": "error",
          "ename": "SyntaxError",
          "evalue": "ignored",
          "traceback": [
            "\u001b[0;36m  File \u001b[0;32m\"<ipython-input-213-856f32671fb4>\"\u001b[0;36m, line \u001b[0;32m1\u001b[0m\n\u001b[0;31m    xy.map(lambda [x, y] : (x-49)*(y-49)).sum()\u001b[0m\n\u001b[0m                  ^\u001b[0m\n\u001b[0;31mSyntaxError\u001b[0m\u001b[0;31m:\u001b[0m invalid syntax\n"
          ]
        }
      ]
    },
    {
      "cell_type": "code",
      "metadata": {
        "id": "KIEfiXKXxVYE",
        "colab_type": "code",
        "colab": {}
      },
      "source": [
        "#covarience = xy.map(lambda x,y: (x-mx)*(y-my)).sum()/float(c)"
      ],
      "execution_count": 0,
      "outputs": []
    },
    {
      "cell_type": "code",
      "metadata": {
        "id": "aCRqDANk4T_l",
        "colab_type": "code",
        "outputId": "53be3126-d7cc-4acb-b31b-11fd1fdfe322",
        "colab": {
          "base_uri": "https://localhost:8080/",
          "height": 164
        }
      },
      "source": [
        "sum((x - mx) * (y - my) for (x,y) in rddx. zip(rddy)) / rddx.count()"
      ],
      "execution_count": 0,
      "outputs": [
        {
          "output_type": "error",
          "ename": "TypeError",
          "evalue": "ignored",
          "traceback": [
            "\u001b[0;31m---------------------------------------------------------------------------\u001b[0m",
            "\u001b[0;31mTypeError\u001b[0m                                 Traceback (most recent call last)",
            "\u001b[0;32m<ipython-input-216-dc4dcee57c35>\u001b[0m in \u001b[0;36m<module>\u001b[0;34m()\u001b[0m\n\u001b[0;32m----> 1\u001b[0;31m \u001b[0msum\u001b[0m\u001b[0;34m(\u001b[0m\u001b[0;34m(\u001b[0m\u001b[0mx\u001b[0m \u001b[0;34m-\u001b[0m \u001b[0mmx\u001b[0m\u001b[0;34m)\u001b[0m \u001b[0;34m*\u001b[0m \u001b[0;34m(\u001b[0m\u001b[0my\u001b[0m \u001b[0;34m-\u001b[0m \u001b[0mmy\u001b[0m\u001b[0;34m)\u001b[0m \u001b[0;32mfor\u001b[0m \u001b[0;34m(\u001b[0m\u001b[0mx\u001b[0m\u001b[0;34m,\u001b[0m\u001b[0my\u001b[0m\u001b[0;34m)\u001b[0m \u001b[0;32min\u001b[0m \u001b[0mrddx\u001b[0m\u001b[0;34m.\u001b[0m \u001b[0mzip\u001b[0m\u001b[0;34m(\u001b[0m\u001b[0mrddy\u001b[0m\u001b[0;34m)\u001b[0m\u001b[0;34m)\u001b[0m \u001b[0;34m/\u001b[0m \u001b[0mrddx\u001b[0m\u001b[0;34m.\u001b[0m\u001b[0mcount\u001b[0m\u001b[0;34m(\u001b[0m\u001b[0;34m)\u001b[0m\u001b[0;34m\u001b[0m\u001b[0;34m\u001b[0m\u001b[0m\n\u001b[0m",
            "\u001b[0;31mTypeError\u001b[0m: 'RDD' object is not iterable"
          ]
        }
      ]
    },
    {
      "cell_type": "code",
      "metadata": {
        "id": "EMT4Sl3K5JiZ",
        "colab_type": "code",
        "colab": {}
      },
      "source": [
        "#xysum = xy.map(lambda x, y : (x-mx)*(y-my)).sum()\n"
      ],
      "execution_count": 0,
      "outputs": []
    },
    {
      "cell_type": "code",
      "metadata": {
        "id": "PIyU4vpV8SnB",
        "colab_type": "code",
        "outputId": "ca5c3e94-a744-4a75-b087-b6f53652e850",
        "colab": {
          "base_uri": "https://localhost:8080/",
          "height": 34
        }
      },
      "source": [
        "x = [1, 2, 3, 4, 5]\n",
        "\n",
        "y = [1, 2, 3, 4, 5]\n",
        "#a =list(sum(map(x)))\n",
        "#mean_x = sum(x) / len(x)\n",
        "#mean_y = sum(y) / len(y)\n",
        "#mx=x.map(lambda x: (x+x))/len(x)\n",
        "#sum((a - mean_x) * (b - mean_y) for (a,b) in zip(x,y)) / len(x)\n",
        "c=0\n",
        "mx=0\n",
        "my=0\n",
        "for i in range (len(x)):\n",
        "  mx=mx+x[i]/len(x)\n",
        "  my=my+y[i]/len(y)\n",
        "  c=c+(x[i]-mx)*(y[i]-my)\n",
        "print(c, mx, my)  "
      ],
      "execution_count": 0,
      "outputs": [
        {
          "output_type": "stream",
          "text": [
            "13.84 3.0 3.0\n"
          ],
          "name": "stdout"
        }
      ]
    },
    {
      "cell_type": "code",
      "metadata": {
        "id": "karYP3h0BtYE",
        "colab_type": "code",
        "outputId": "ea57c274-a1c2-4e3d-f06b-9991d3a5feb7",
        "colab": {
          "base_uri": "https://localhost:8080/",
          "height": 34
        }
      },
      "source": [
        "rddx = sc.parallelize(list(range(100)))\n",
        "rddy = sc.parallelize(list(range(100)))\n",
        "mx = rddx.sum()/rddx.count()\n",
        "my = rddy.sum()/rddy.count()\n",
        "print (mx, my)\n",
        "c=rddx.count()"
      ],
      "execution_count": 0,
      "outputs": [
        {
          "output_type": "stream",
          "text": [
            "49.5 49.5\n"
          ],
          "name": "stdout"
        }
      ]
    },
    {
      "cell_type": "code",
      "metadata": {
        "id": "eptNY9QHBvM0",
        "colab_type": "code",
        "outputId": "043f4fef-b3ee-4ce3-b8cf-18e83f65ddff",
        "colab": {
          "base_uri": "https://localhost:8080/",
          "height": 232
        }
      },
      "source": [
        "\n",
        "cv=0\n",
        "for i in range (rddx.count()):\n",
        "  cv=cv+(rddx[i]-mx)*(rddy[i]-my)\n",
        "\n",
        "print(cv)  "
      ],
      "execution_count": 0,
      "outputs": [
        {
          "output_type": "error",
          "ename": "TypeError",
          "evalue": "ignored",
          "traceback": [
            "\u001b[0;31m---------------------------------------------------------------------------\u001b[0m",
            "\u001b[0;31mTypeError\u001b[0m                                 Traceback (most recent call last)",
            "\u001b[0;32m<ipython-input-245-6c94958423cb>\u001b[0m in \u001b[0;36m<module>\u001b[0;34m()\u001b[0m\n\u001b[1;32m      2\u001b[0m \u001b[0mcv\u001b[0m\u001b[0;34m=\u001b[0m\u001b[0;36m0\u001b[0m\u001b[0;34m\u001b[0m\u001b[0;34m\u001b[0m\u001b[0m\n\u001b[1;32m      3\u001b[0m \u001b[0;32mfor\u001b[0m \u001b[0mi\u001b[0m \u001b[0;32min\u001b[0m \u001b[0mrange\u001b[0m \u001b[0;34m(\u001b[0m\u001b[0mrddx\u001b[0m\u001b[0;34m.\u001b[0m\u001b[0mcount\u001b[0m\u001b[0;34m(\u001b[0m\u001b[0;34m)\u001b[0m\u001b[0;34m)\u001b[0m\u001b[0;34m:\u001b[0m\u001b[0;34m\u001b[0m\u001b[0;34m\u001b[0m\u001b[0m\n\u001b[0;32m----> 4\u001b[0;31m   \u001b[0mcv\u001b[0m\u001b[0;34m=\u001b[0m\u001b[0mcv\u001b[0m\u001b[0;34m+\u001b[0m\u001b[0;34m(\u001b[0m\u001b[0mrddx\u001b[0m\u001b[0;34m[\u001b[0m\u001b[0mi\u001b[0m\u001b[0;34m]\u001b[0m\u001b[0;34m-\u001b[0m\u001b[0mmx\u001b[0m\u001b[0;34m)\u001b[0m\u001b[0;34m*\u001b[0m\u001b[0;34m(\u001b[0m\u001b[0mrddy\u001b[0m\u001b[0;34m[\u001b[0m\u001b[0mi\u001b[0m\u001b[0;34m]\u001b[0m\u001b[0;34m-\u001b[0m\u001b[0mmy\u001b[0m\u001b[0;34m)\u001b[0m\u001b[0;34m\u001b[0m\u001b[0;34m\u001b[0m\u001b[0m\n\u001b[0m\u001b[1;32m      5\u001b[0m \u001b[0;34m\u001b[0m\u001b[0m\n\u001b[1;32m      6\u001b[0m \u001b[0mprint\u001b[0m\u001b[0;34m(\u001b[0m\u001b[0mcv\u001b[0m\u001b[0;34m)\u001b[0m\u001b[0;34m\u001b[0m\u001b[0;34m\u001b[0m\u001b[0m\n",
            "\u001b[0;31mTypeError\u001b[0m: 'RDD' object does not support indexing"
          ]
        }
      ]
    },
    {
      "cell_type": "code",
      "metadata": {
        "id": "ag15mZoV9gK9",
        "colab_type": "code",
        "colab": {}
      },
      "source": [
        "from pyspark.ml.linalg import Vectors\n",
        "from pyspark.ml.stat import Correlation"
      ],
      "execution_count": 0,
      "outputs": []
    },
    {
      "cell_type": "code",
      "metadata": {
        "id": "BSBpejYY9uY3",
        "colab_type": "code",
        "outputId": "c0e07e28-6f11-4a23-f760-768a164fc161",
        "colab": {
          "base_uri": "https://localhost:8080/",
          "height": 198
        }
      },
      "source": [
        "(rddx.map(lambda x: x-mx)* rddy.map(lambda y: y-my)).sum()\n",
        "#yv=rddy.map(lambda x: x-mx).sum()\n",
        "#print (xv, xy)"
      ],
      "execution_count": 0,
      "outputs": [
        {
          "output_type": "error",
          "ename": "TypeError",
          "evalue": "ignored",
          "traceback": [
            "\u001b[0;31m---------------------------------------------------------------------------\u001b[0m",
            "\u001b[0;31mTypeError\u001b[0m                                 Traceback (most recent call last)",
            "\u001b[0;32m<ipython-input-253-8b72a64db61c>\u001b[0m in \u001b[0;36m<module>\u001b[0;34m()\u001b[0m\n\u001b[0;32m----> 1\u001b[0;31m \u001b[0;34m(\u001b[0m\u001b[0mrddx\u001b[0m\u001b[0;34m.\u001b[0m\u001b[0mmap\u001b[0m\u001b[0;34m(\u001b[0m\u001b[0;32mlambda\u001b[0m \u001b[0mx\u001b[0m\u001b[0;34m:\u001b[0m \u001b[0mx\u001b[0m\u001b[0;34m-\u001b[0m\u001b[0mmx\u001b[0m\u001b[0;34m)\u001b[0m\u001b[0;34m*\u001b[0m \u001b[0mrddy\u001b[0m\u001b[0;34m.\u001b[0m\u001b[0mmap\u001b[0m\u001b[0;34m(\u001b[0m\u001b[0;32mlambda\u001b[0m \u001b[0my\u001b[0m\u001b[0;34m:\u001b[0m \u001b[0my\u001b[0m\u001b[0;34m-\u001b[0m\u001b[0mmy\u001b[0m\u001b[0;34m)\u001b[0m\u001b[0;34m)\u001b[0m\u001b[0;34m.\u001b[0m\u001b[0msum\u001b[0m\u001b[0;34m(\u001b[0m\u001b[0;34m)\u001b[0m\u001b[0;34m\u001b[0m\u001b[0;34m\u001b[0m\u001b[0m\n\u001b[0m\u001b[1;32m      2\u001b[0m \u001b[0;31m#yv=rddy.map(lambda x: x-mx).sum()\u001b[0m\u001b[0;34m\u001b[0m\u001b[0;34m\u001b[0m\u001b[0;34m\u001b[0m\u001b[0m\n\u001b[1;32m      3\u001b[0m \u001b[0;31m#print (xv, xy)\u001b[0m\u001b[0;34m\u001b[0m\u001b[0;34m\u001b[0m\u001b[0;34m\u001b[0m\u001b[0m\n",
            "\u001b[0;31mTypeError\u001b[0m: unsupported operand type(s) for *: 'PipelinedRDD' and 'PipelinedRDD'"
          ]
        }
      ]
    },
    {
      "cell_type": "code",
      "metadata": {
        "id": "CkwBEgyi9hfS",
        "colab_type": "code",
        "colab": {}
      },
      "source": [
        ""
      ],
      "execution_count": 0,
      "outputs": []
    },
    {
      "cell_type": "code",
      "metadata": {
        "id": "ApVRtxLLFTx7",
        "colab_type": "code",
        "colab": {}
      },
      "source": [
        "data = [(10, {3: 3.616726727464709, 4: 2.9996439803387602, 5: 1.6767412921625855}),\n",
        "        (1, {3: 2.016527311459324, 4: -1.5271512313750577, 5: 1.9665475696370045}),\n",
        "        (2, {3: 6.230272144805092, 4: 4.033642544526678, 5: 3.1517805604906313}),\n",
        "        (3, {3: -0.3924680103722977, 4: 2.9757316477407443, 5: -1.5689126834176417})]"
      ],
      "execution_count": 0,
      "outputs": []
    },
    {
      "cell_type": "code",
      "metadata": {
        "id": "4viOwnl4FVM9",
        "colab_type": "code",
        "colab": {}
      },
      "source": [
        "rdd = sc.parallelize(data)"
      ],
      "execution_count": 0,
      "outputs": []
    },
    {
      "cell_type": "code",
      "metadata": {
        "id": "wTb4tE5eFcQO",
        "colab_type": "code",
        "colab": {}
      },
      "source": [
        "df = rdd.toDF([\"CId\", \"Values\"])"
      ],
      "execution_count": 0,
      "outputs": []
    },
    {
      "cell_type": "code",
      "metadata": {
        "id": "h1LfJ-YYFhIi",
        "colab_type": "code",
        "outputId": "686022e0-4e71-4ef1-f294-80fc623557da",
        "colab": {
          "base_uri": "https://localhost:8080/",
          "height": 306
        }
      },
      "source": [
        "from pyspark.sql.functions import explode\n",
        "df.select(\"CId\", explode(\"Values\").alias(\"IID\", \"Score\")).show()"
      ],
      "execution_count": 0,
      "outputs": [
        {
          "output_type": "stream",
          "text": [
            "+---+---+-------------------+\n",
            "|CId|IID|              Score|\n",
            "+---+---+-------------------+\n",
            "| 10|  3|  3.616726727464709|\n",
            "| 10|  4| 2.9996439803387602|\n",
            "| 10|  5| 1.6767412921625855|\n",
            "|  1|  3|  2.016527311459324|\n",
            "|  1|  4|-1.5271512313750577|\n",
            "|  1|  5| 1.9665475696370045|\n",
            "|  2|  3|  6.230272144805092|\n",
            "|  2|  4|  4.033642544526678|\n",
            "|  2|  5| 3.1517805604906313|\n",
            "|  3|  3|-0.3924680103722977|\n",
            "|  3|  4| 2.9757316477407443|\n",
            "|  3|  5|-1.5689126834176417|\n",
            "+---+---+-------------------+\n",
            "\n"
          ],
          "name": "stdout"
        }
      ]
    },
    {
      "cell_type": "code",
      "metadata": {
        "id": "De72qa_rJ8hQ",
        "colab_type": "code",
        "outputId": "5078a2bd-4c3a-4fd0-c380-1b160c8ef3bd",
        "colab": {
          "base_uri": "https://localhost:8080/",
          "height": 187
        }
      },
      "source": [
        "from pyspark.ml.linalg import Vectors\n",
        "from pyspark.ml.stat import Correlation\n",
        "\n",
        "data = [(Vectors.sparse(4, [(0, 1.0), (3, -2.0)]),),\n",
        "        (Vectors.dense([4.0, 5.0, 0.0, 3.0]),),\n",
        "        (Vectors.dense([6.0, 7.0, 0.0, 8.0]),),\n",
        "        (Vectors.sparse(4, [(0, 9.0), (3, 1.0)]),)]\n",
        "df = spark.createDataFrame(data, [\"features\"])\n",
        "\n",
        "r1 = Correlation.corr(df, \"features\").head()\n",
        "print(\"Pearson correlation matrix:\\n\" + str(r1[0]))\n",
        "\n",
        "r2 = Correlation.corr(df, \"features\", \"spearman\").head()\n",
        "print(\"Spearman correlation matrix:\\n\" + str(r2[0]))"
      ],
      "execution_count": 0,
      "outputs": [
        {
          "output_type": "stream",
          "text": [
            "Pearson correlation matrix:\n",
            "DenseMatrix([[1.        , 0.05564149,        nan, 0.40047142],\n",
            "             [0.05564149, 1.        ,        nan, 0.91359586],\n",
            "             [       nan,        nan, 1.        ,        nan],\n",
            "             [0.40047142, 0.91359586,        nan, 1.        ]])\n",
            "Spearman correlation matrix:\n",
            "DenseMatrix([[1.        , 0.10540926,        nan, 0.4       ],\n",
            "             [0.10540926, 1.        ,        nan, 0.9486833 ],\n",
            "             [       nan,        nan, 1.        ,        nan],\n",
            "             [0.4       , 0.9486833 ,        nan, 1.        ]])\n"
          ],
          "name": "stdout"
        }
      ]
    },
    {
      "cell_type": "code",
      "metadata": {
        "id": "9shrl9PAKF3a",
        "colab_type": "code",
        "outputId": "504346fb-0ee6-49f2-dbf1-ce6a1ea9a6a7",
        "colab": {
          "base_uri": "https://localhost:8080/",
          "height": 34
        }
      },
      "source": [
        "rddx = sc.parallelize(list(range(100)))\n",
        "rddy = sc.parallelize(list(range(100)))\n",
        "mx = rddx.sum()/rddx.count()\n",
        "my = rddy.sum()/rddy.count()\n",
        "print (mx, my)\n",
        "c=rddx.count()"
      ],
      "execution_count": 0,
      "outputs": [
        {
          "output_type": "stream",
          "text": [
            "49.5 49.5\n"
          ],
          "name": "stdout"
        }
      ]
    },
    {
      "cell_type": "code",
      "metadata": {
        "id": "BNGpHdVuKKJR",
        "colab_type": "code",
        "outputId": "455b2647-6cb5-47a2-e9e7-9df6f82c3df7",
        "colab": {
          "base_uri": "https://localhost:8080/",
          "height": 34
        }
      },
      "source": [
        "xy=rddx.zip(rddy)\n",
        "xy.take(5)"
      ],
      "execution_count": 0,
      "outputs": [
        {
          "output_type": "execute_result",
          "data": {
            "text/plain": [
              "[(0, 0), (1, 1), (2, 2), (3, 3), (4, 4)]"
            ]
          },
          "metadata": {
            "tags": []
          },
          "execution_count": 267
        }
      ]
    },
    {
      "cell_type": "code",
      "metadata": {
        "id": "m3KxVnblKpxp",
        "colab_type": "code",
        "outputId": "b8f0364a-6f58-48ac-b0da-42ea1905ee7d",
        "colab": {
          "base_uri": "https://localhost:8080/",
          "height": 459
        }
      },
      "source": [
        "df3 = spark.createDataFrame(xy, ['x', 'y'])\n",
        "df3.show()"
      ],
      "execution_count": 0,
      "outputs": [
        {
          "output_type": "stream",
          "text": [
            "+---+---+\n",
            "|  x|  y|\n",
            "+---+---+\n",
            "|  0|  0|\n",
            "|  1|  1|\n",
            "|  2|  2|\n",
            "|  3|  3|\n",
            "|  4|  4|\n",
            "|  5|  5|\n",
            "|  6|  6|\n",
            "|  7|  7|\n",
            "|  8|  8|\n",
            "|  9|  9|\n",
            "| 10| 10|\n",
            "| 11| 11|\n",
            "| 12| 12|\n",
            "| 13| 13|\n",
            "| 14| 14|\n",
            "| 15| 15|\n",
            "| 16| 16|\n",
            "| 17| 17|\n",
            "| 18| 18|\n",
            "| 19| 19|\n",
            "+---+---+\n",
            "only showing top 20 rows\n",
            "\n"
          ],
          "name": "stdout"
        }
      ]
    },
    {
      "cell_type": "code",
      "metadata": {
        "id": "-bkcEWqcM7tb",
        "colab_type": "code",
        "colab": {}
      },
      "source": [
        "##df1r1 = Correlation.corr(df3, 'y').head()\n",
        "#print(\"Pearson correlation matrix:\\n\" + str(r1[0]))"
      ],
      "execution_count": 0,
      "outputs": []
    },
    {
      "cell_type": "code",
      "metadata": {
        "id": "FW8swfG6OKyk",
        "colab_type": "code",
        "outputId": "3605d7f0-ea33-4690-a0b7-3f885540a6bf",
        "colab": {
          "base_uri": "https://localhost:8080/",
          "height": 459
        }
      },
      "source": [
        "from pyspark.sql.functions import monotonically_increasing_id \n",
        "\n",
        "df3_index = df3.select(\"*\").withColumn(\"id\", monotonically_increasing_id())\n",
        "df3_index.show()"
      ],
      "execution_count": 0,
      "outputs": [
        {
          "output_type": "stream",
          "text": [
            "+---+---+---+\n",
            "|  x|  y| id|\n",
            "+---+---+---+\n",
            "|  0|  0|  0|\n",
            "|  1|  1|  1|\n",
            "|  2|  2|  2|\n",
            "|  3|  3|  3|\n",
            "|  4|  4|  4|\n",
            "|  5|  5|  5|\n",
            "|  6|  6|  6|\n",
            "|  7|  7|  7|\n",
            "|  8|  8|  8|\n",
            "|  9|  9|  9|\n",
            "| 10| 10| 10|\n",
            "| 11| 11| 11|\n",
            "| 12| 12| 12|\n",
            "| 13| 13| 13|\n",
            "| 14| 14| 14|\n",
            "| 15| 15| 15|\n",
            "| 16| 16| 16|\n",
            "| 17| 17| 17|\n",
            "| 18| 18| 18|\n",
            "| 19| 19| 19|\n",
            "+---+---+---+\n",
            "only showing top 20 rows\n",
            "\n"
          ],
          "name": "stdout"
        }
      ]
    },
    {
      "cell_type": "code",
      "metadata": {
        "id": "EHHbHnqvPn15",
        "colab_type": "code",
        "colab": {}
      },
      "source": [
        "#df3_index.select('id', 'x', 'y')\n",
        "#df3_index.show()"
      ],
      "execution_count": 0,
      "outputs": []
    },
    {
      "cell_type": "code",
      "metadata": {
        "id": "l5U-hdJxQOVj",
        "colab_type": "code",
        "colab": {}
      },
      "source": [
        "#df3_index.select([\"id\", \"x\", \"y\"])\n",
        "#df3_index.show()"
      ],
      "execution_count": 0,
      "outputs": []
    },
    {
      "cell_type": "code",
      "metadata": {
        "id": "wNH29cEYQ5z4",
        "colab_type": "code",
        "outputId": "b24eadaa-aae0-44e7-da31-00cf0bec2c74",
        "colab": {
          "base_uri": "https://localhost:8080/",
          "height": 187
        }
      },
      "source": [
        "df3.describe().show()"
      ],
      "execution_count": 0,
      "outputs": [
        {
          "output_type": "stream",
          "text": [
            "+-------+------------------+------------------+\n",
            "|summary|                 x|                 y|\n",
            "+-------+------------------+------------------+\n",
            "|  count|               100|               100|\n",
            "|   mean|              49.5|              49.5|\n",
            "| stddev|29.011491975882016|29.011491975882016|\n",
            "|    min|                 0|                 0|\n",
            "|    max|                99|                99|\n",
            "+-------+------------------+------------------+\n",
            "\n"
          ],
          "name": "stdout"
        }
      ]
    },
    {
      "cell_type": "code",
      "metadata": {
        "id": "Qcvxm4kURB2a",
        "colab_type": "code",
        "outputId": "869390c6-73ef-4d2d-eb7b-a071c9df636a",
        "colab": {
          "base_uri": "https://localhost:8080/",
          "height": 187
        }
      },
      "source": [
        "df3_index.describe().show()"
      ],
      "execution_count": 0,
      "outputs": [
        {
          "output_type": "stream",
          "text": [
            "+-------+------------------+------------------+-------------------+\n",
            "|summary|                 x|                 y|                 id|\n",
            "+-------+------------------+------------------+-------------------+\n",
            "|  count|               100|               100|                100|\n",
            "|   mean|              49.5|              49.5|     4.2949673205E9|\n",
            "| stddev|29.011491975882016|29.011491975882016|4.316604547781606E9|\n",
            "|    min|                 0|                 0|                  0|\n",
            "|    max|                99|                99|         8589934641|\n",
            "+-------+------------------+------------------+-------------------+\n",
            "\n"
          ],
          "name": "stdout"
        }
      ]
    },
    {
      "cell_type": "code",
      "metadata": {
        "id": "hvk526pOROkT",
        "colab_type": "code",
        "outputId": "d2b03bfa-9d83-42d7-d096-9a9db83599a8",
        "colab": {
          "base_uri": "https://localhost:8080/",
          "height": 187
        }
      },
      "source": [
        "df3_index.describe('x', 'y').show()"
      ],
      "execution_count": 0,
      "outputs": [
        {
          "output_type": "stream",
          "text": [
            "+-------+------------------+------------------+\n",
            "|summary|                 x|                 y|\n",
            "+-------+------------------+------------------+\n",
            "|  count|               100|               100|\n",
            "|   mean|              49.5|              49.5|\n",
            "| stddev|29.011491975882016|29.011491975882016|\n",
            "|    min|                 0|                 0|\n",
            "|    max|                99|                99|\n",
            "+-------+------------------+------------------+\n",
            "\n"
          ],
          "name": "stdout"
        }
      ]
    },
    {
      "cell_type": "code",
      "metadata": {
        "id": "Nyrlgp3TRowA",
        "colab_type": "code",
        "outputId": "ea50efdd-5bb8-4e1f-ec57-144bb6200c9f",
        "colab": {
          "base_uri": "https://localhost:8080/",
          "height": 34
        }
      },
      "source": [
        "df3_index.stat.cov('x', 'y')\n"
      ],
      "execution_count": 0,
      "outputs": [
        {
          "output_type": "execute_result",
          "data": {
            "text/plain": [
              "841.6666666666666"
            ]
          },
          "metadata": {
            "tags": []
          },
          "execution_count": 296
        }
      ]
    },
    {
      "cell_type": "code",
      "metadata": {
        "id": "VCAU-g_dR3wh",
        "colab_type": "code",
        "outputId": "e208a599-a8b8-4256-9bfd-11ef02040db3",
        "colab": {
          "base_uri": "https://localhost:8080/",
          "height": 34
        }
      },
      "source": [
        "df3_index.stat.corr('x', 'y')"
      ],
      "execution_count": 0,
      "outputs": [
        {
          "output_type": "execute_result",
          "data": {
            "text/plain": [
              "1.0"
            ]
          },
          "metadata": {
            "tags": []
          },
          "execution_count": 297
        }
      ]
    },
    {
      "cell_type": "code",
      "metadata": {
        "id": "EUrKDRe2SPQJ",
        "colab_type": "code",
        "outputId": "2c3ad1bb-36f4-4b91-9e25-9ca42fb3531b",
        "colab": {
          "base_uri": "https://localhost:8080/",
          "height": 289
        }
      },
      "source": [
        "from pyspark.sql import SQLContext\n",
        "sqlContext = SQLContext(sc)\n",
        "names = [\"Alice\", \"Bob\", \"Mike\"]\n",
        "items = [\"milk\", \"bread\", \"butter\", \"apples\", \"oranges\"]\n",
        "df4 = sqlContext.createDataFrame([(names[i % 3], items[i % 5]) for i in range(100)], [\"name\", \"item\"])\n",
        "df4.show(10)"
      ],
      "execution_count": 0,
      "outputs": [
        {
          "output_type": "stream",
          "text": [
            "+-----+-------+\n",
            "| name|   item|\n",
            "+-----+-------+\n",
            "|Alice|   milk|\n",
            "|  Bob|  bread|\n",
            "| Mike| butter|\n",
            "|Alice| apples|\n",
            "|  Bob|oranges|\n",
            "| Mike|   milk|\n",
            "|Alice|  bread|\n",
            "|  Bob| butter|\n",
            "| Mike| apples|\n",
            "|Alice|oranges|\n",
            "+-----+-------+\n",
            "only showing top 10 rows\n",
            "\n"
          ],
          "name": "stdout"
        }
      ]
    },
    {
      "cell_type": "code",
      "metadata": {
        "id": "msKDn7_hTn5e",
        "colab_type": "code",
        "outputId": "fdec3069-32bb-4beb-f69c-917da9352efc",
        "colab": {
          "base_uri": "https://localhost:8080/",
          "height": 153
        }
      },
      "source": [
        "df5=df4.stat.crosstab(\"name\", \"item\")\n",
        "df5.show()"
      ],
      "execution_count": 0,
      "outputs": [
        {
          "output_type": "stream",
          "text": [
            "+---------+------+-----+------+----+-------+\n",
            "|name_item|apples|bread|butter|milk|oranges|\n",
            "+---------+------+-----+------+----+-------+\n",
            "|      Bob|     6|    7|     7|   6|      7|\n",
            "|     Mike|     7|    6|     7|   7|      6|\n",
            "|    Alice|     7|    7|     6|   7|      7|\n",
            "+---------+------+-----+------+----+-------+\n",
            "\n"
          ],
          "name": "stdout"
        }
      ]
    },
    {
      "cell_type": "code",
      "metadata": {
        "id": "BNsbDz_YT6_n",
        "colab_type": "code",
        "outputId": "755b0b0b-d942-4396-c0d8-da59eb0d3b98",
        "colab": {
          "base_uri": "https://localhost:8080/",
          "height": 34
        }
      },
      "source": [
        "df5.describe()"
      ],
      "execution_count": 0,
      "outputs": [
        {
          "output_type": "execute_result",
          "data": {
            "text/plain": [
              "DataFrame[summary: string, name_item: string, apples: string, bread: string, butter: string, milk: string, oranges: string]"
            ]
          },
          "metadata": {
            "tags": []
          },
          "execution_count": 306
        }
      ]
    },
    {
      "cell_type": "code",
      "metadata": {
        "id": "5WrE_0OMT-3A",
        "colab_type": "code",
        "outputId": "7168d444-04d2-4a5b-8fda-e0ca4eab8e93",
        "colab": {
          "base_uri": "https://localhost:8080/",
          "height": 187
        }
      },
      "source": [
        "df5.describe('apples', 'bread').show()"
      ],
      "execution_count": 0,
      "outputs": [
        {
          "output_type": "stream",
          "text": [
            "+-------+------------------+------------------+\n",
            "|summary|            apples|             bread|\n",
            "+-------+------------------+------------------+\n",
            "|  count|                 3|                 3|\n",
            "|   mean| 6.666666666666667| 6.666666666666667|\n",
            "| stddev|0.5773502691896257|0.5773502691896257|\n",
            "|    min|                 6|                 6|\n",
            "|    max|                 7|                 7|\n",
            "+-------+------------------+------------------+\n",
            "\n"
          ],
          "name": "stdout"
        }
      ]
    },
    {
      "cell_type": "code",
      "metadata": {
        "id": "dAOGndJOUXRT",
        "colab_type": "code",
        "outputId": "e58bec7b-ced1-4cd7-d433-95a4ba8423b3",
        "colab": {
          "base_uri": "https://localhost:8080/",
          "height": 34
        }
      },
      "source": [
        "df5.stat.cov('apples', 'bread')"
      ],
      "execution_count": 0,
      "outputs": [
        {
          "output_type": "execute_result",
          "data": {
            "text/plain": [
              "-0.16666666666666666"
            ]
          },
          "metadata": {
            "tags": []
          },
          "execution_count": 308
        }
      ]
    },
    {
      "cell_type": "code",
      "metadata": {
        "id": "N6qSdiC4UhBz",
        "colab_type": "code",
        "colab": {}
      },
      "source": [
        "#df5.stat.cov('apples', 'bread', 'butter')"
      ],
      "execution_count": 0,
      "outputs": []
    },
    {
      "cell_type": "code",
      "metadata": {
        "id": "1LNZ7CRhUrEw",
        "colab_type": "code",
        "outputId": "f442f857-ba39-4161-eb85-deadc24ed9d3",
        "colab": {
          "base_uri": "https://localhost:8080/",
          "height": 34
        }
      },
      "source": [
        "df5.stat.corr('apples', 'bread')"
      ],
      "execution_count": 0,
      "outputs": [
        {
          "output_type": "execute_result",
          "data": {
            "text/plain": [
              "-0.5"
            ]
          },
          "metadata": {
            "tags": []
          },
          "execution_count": 311
        }
      ]
    },
    {
      "cell_type": "code",
      "metadata": {
        "id": "J3s45DOQVZRJ",
        "colab_type": "code",
        "colab": {}
      },
      "source": [
        " from pyspark.sql.functions import rand, randn\n",
        " #df = sqlContext.range(0, 10).withColumn('uniform', rand(seed=10)).withColumn('normal', randn(seed=27))\n",
        "#df6=sqlContext.createDataFrame([range(100), reversed(range(100))], ['x','y'])\n",
        "#df6= sqlContext.withColumn('x', range(100)).withColumn ('y', reversed(range(100)))"
      ],
      "execution_count": 0,
      "outputs": []
    },
    {
      "cell_type": "code",
      "metadata": {
        "id": "7__BKlKGYKb5",
        "colab_type": "code",
        "outputId": "cfe7debd-41ad-41b8-d01a-a40bed351429",
        "colab": {
          "base_uri": "https://localhost:8080/",
          "height": 34
        }
      },
      "source": [
        "x = sc.parallelize(range(100))\n",
        "y = sc.parallelize(reversed(range(100)))\n",
        "xy=x.zip(y)\n",
        "xy.take(5)"
      ],
      "execution_count": 0,
      "outputs": [
        {
          "output_type": "execute_result",
          "data": {
            "text/plain": [
              "[(0, 99), (1, 98), (2, 97), (3, 96), (4, 95)]"
            ]
          },
          "metadata": {
            "tags": []
          },
          "execution_count": 317
        }
      ]
    },
    {
      "cell_type": "code",
      "metadata": {
        "id": "hvXw8dl6Y2u0",
        "colab_type": "code",
        "outputId": "b7c8697c-e923-4365-fcd1-0e80ce5b3bbc",
        "colab": {
          "base_uri": "https://localhost:8080/",
          "height": 459
        }
      },
      "source": [
        "df6 = spark.createDataFrame(xy, ['x', 'y'])\n",
        "df6.show()"
      ],
      "execution_count": 0,
      "outputs": [
        {
          "output_type": "stream",
          "text": [
            "+---+---+\n",
            "|  x|  y|\n",
            "+---+---+\n",
            "|  0| 99|\n",
            "|  1| 98|\n",
            "|  2| 97|\n",
            "|  3| 96|\n",
            "|  4| 95|\n",
            "|  5| 94|\n",
            "|  6| 93|\n",
            "|  7| 92|\n",
            "|  8| 91|\n",
            "|  9| 90|\n",
            "| 10| 89|\n",
            "| 11| 88|\n",
            "| 12| 87|\n",
            "| 13| 86|\n",
            "| 14| 85|\n",
            "| 15| 84|\n",
            "| 16| 83|\n",
            "| 17| 82|\n",
            "| 18| 81|\n",
            "| 19| 80|\n",
            "+---+---+\n",
            "only showing top 20 rows\n",
            "\n"
          ],
          "name": "stdout"
        }
      ]
    },
    {
      "cell_type": "code",
      "metadata": {
        "id": "C08UXbrZZHw2",
        "colab_type": "code",
        "outputId": "6afe85b1-98e5-4ea9-cb60-f9dbee08be82",
        "colab": {
          "base_uri": "https://localhost:8080/",
          "height": 34
        }
      },
      "source": [
        "df6.stat.cov('x', 'y')"
      ],
      "execution_count": 0,
      "outputs": [
        {
          "output_type": "execute_result",
          "data": {
            "text/plain": [
              "-841.6666666666666"
            ]
          },
          "metadata": {
            "tags": []
          },
          "execution_count": 319
        }
      ]
    },
    {
      "cell_type": "code",
      "metadata": {
        "id": "ew3gZEu-ZM88",
        "colab_type": "code",
        "outputId": "f93c7c87-a502-4d69-9c0a-e0d64ae7b31e",
        "colab": {
          "base_uri": "https://localhost:8080/",
          "height": 34
        }
      },
      "source": [
        "df6.stat.corr('x', 'y')"
      ],
      "execution_count": 0,
      "outputs": [
        {
          "output_type": "execute_result",
          "data": {
            "text/plain": [
              "-1.0"
            ]
          },
          "metadata": {
            "tags": []
          },
          "execution_count": 320
        }
      ]
    },
    {
      "cell_type": "code",
      "metadata": {
        "id": "HLCuZLxhZSXe",
        "colab_type": "code",
        "outputId": "33bbb91e-7e4e-4a01-cb57-30dcb87efa41",
        "colab": {
          "base_uri": "https://localhost:8080/",
          "height": 187
        }
      },
      "source": [
        "df6.describe().show()"
      ],
      "execution_count": 0,
      "outputs": [
        {
          "output_type": "stream",
          "text": [
            "+-------+------------------+------------------+\n",
            "|summary|                 x|                 y|\n",
            "+-------+------------------+------------------+\n",
            "|  count|               100|               100|\n",
            "|   mean|              49.5|              49.5|\n",
            "| stddev|29.011491975882016|29.011491975882016|\n",
            "|    min|                 0|                 0|\n",
            "|    max|                99|                99|\n",
            "+-------+------------------+------------------+\n",
            "\n"
          ],
          "name": "stdout"
        }
      ]
    },
    {
      "cell_type": "code",
      "metadata": {
        "id": "oisY9DLsZpY9",
        "colab_type": "code",
        "outputId": "d02827be-2da9-4e31-b66e-8d20b53a420c",
        "colab": {
          "base_uri": "https://localhost:8080/",
          "height": 34
        }
      },
      "source": [
        "import random\n",
        "x = sc.parallelize(random.sample(range(100),100))\n",
        "y = sc.parallelize(random.sample(range(100),100))\n",
        "xy=x.zip(y)\n",
        "xy.take(5)"
      ],
      "execution_count": 0,
      "outputs": [
        {
          "output_type": "execute_result",
          "data": {
            "text/plain": [
              "[(14, 46), (31, 8), (27, 66), (72, 83), (41, 97)]"
            ]
          },
          "metadata": {
            "tags": []
          },
          "execution_count": 324
        }
      ]
    },
    {
      "cell_type": "code",
      "metadata": {
        "id": "z12388kPaL5l",
        "colab_type": "code",
        "outputId": "b0a7f1ff-ab84-4138-c5dd-55b404861328",
        "colab": {
          "base_uri": "https://localhost:8080/",
          "height": 459
        }
      },
      "source": [
        "df7 = spark.createDataFrame(xy, ['x', 'y'])\n",
        "df7.show()"
      ],
      "execution_count": 0,
      "outputs": [
        {
          "output_type": "stream",
          "text": [
            "+---+---+\n",
            "|  x|  y|\n",
            "+---+---+\n",
            "| 14| 46|\n",
            "| 31|  8|\n",
            "| 27| 66|\n",
            "| 72| 83|\n",
            "| 41| 97|\n",
            "| 58| 13|\n",
            "| 76| 88|\n",
            "| 57| 43|\n",
            "| 47| 55|\n",
            "| 22| 62|\n",
            "| 35| 49|\n",
            "| 12| 31|\n",
            "|  7| 41|\n",
            "| 68|  4|\n",
            "| 23| 37|\n",
            "| 50| 92|\n",
            "| 85| 17|\n",
            "| 64| 70|\n",
            "| 26| 18|\n",
            "| 34| 89|\n",
            "+---+---+\n",
            "only showing top 20 rows\n",
            "\n"
          ],
          "name": "stdout"
        }
      ]
    },
    {
      "cell_type": "code",
      "metadata": {
        "id": "tgo1MT1ra1XR",
        "colab_type": "code",
        "outputId": "40cc6825-ad6e-4785-a7ab-ec684771d4c4",
        "colab": {
          "base_uri": "https://localhost:8080/",
          "height": 187
        }
      },
      "source": [
        "df7.describe().show()"
      ],
      "execution_count": 0,
      "outputs": [
        {
          "output_type": "stream",
          "text": [
            "+-------+------------------+------------------+\n",
            "|summary|                 x|                 y|\n",
            "+-------+------------------+------------------+\n",
            "|  count|               100|               100|\n",
            "|   mean|              49.5|              49.5|\n",
            "| stddev|29.011491975882024|29.011491975882016|\n",
            "|    min|                 0|                 0|\n",
            "|    max|                99|                99|\n",
            "+-------+------------------+------------------+\n",
            "\n"
          ],
          "name": "stdout"
        }
      ]
    },
    {
      "cell_type": "code",
      "metadata": {
        "id": "oFL2e8gna-FF",
        "colab_type": "code",
        "outputId": "b8848a43-57f4-414c-aaae-179bfe3b7f4a",
        "colab": {
          "base_uri": "https://localhost:8080/",
          "height": 34
        }
      },
      "source": [
        "df7.stat.cov('x', 'y')"
      ],
      "execution_count": 0,
      "outputs": [
        {
          "output_type": "execute_result",
          "data": {
            "text/plain": [
              "102.02020202020202"
            ]
          },
          "metadata": {
            "tags": []
          },
          "execution_count": 327
        }
      ]
    },
    {
      "cell_type": "code",
      "metadata": {
        "id": "or5nNlJHbFrT",
        "colab_type": "code",
        "outputId": "e0ba23f4-b44b-4a95-9655-0822c1f437b5",
        "colab": {
          "base_uri": "https://localhost:8080/",
          "height": 34
        }
      },
      "source": [
        "df7.stat.corr('x', 'y')"
      ],
      "execution_count": 0,
      "outputs": [
        {
          "output_type": "execute_result",
          "data": {
            "text/plain": [
              "0.12121212121212119"
            ]
          },
          "metadata": {
            "tags": []
          },
          "execution_count": 328
        }
      ]
    },
    {
      "cell_type": "code",
      "metadata": {
        "id": "3hapxNPbbYhH",
        "colab_type": "code",
        "outputId": "0350e34b-733d-4746-fce3-1e6e895c4ad1",
        "colab": {
          "base_uri": "https://localhost:8080/",
          "height": 102
        }
      },
      "source": [
        "import random\n",
        "c1=sc.parallelize(range(100))\n",
        "c2=sc.parallelize(range(100, 200))\n",
        "c3=sc.parallelize(list(reversed(range(100))))\n",
        "c4=sc.parallelize(random.sample(range(100),100))\n",
        "ac=c1.zip(c2).zip(c3).zip(c4)#.map(lambda (((a,b),c),d) : (a,b,c,d))\n",
        "ac.take(5)"
      ],
      "execution_count": 0,
      "outputs": [
        {
          "output_type": "execute_result",
          "data": {
            "text/plain": [
              "[(((0, 100), 99), 57),\n",
              " (((1, 101), 98), 23),\n",
              " (((2, 102), 97), 65),\n",
              " (((3, 103), 96), 82),\n",
              " (((4, 104), 95), 46)]"
            ]
          },
          "metadata": {
            "tags": []
          },
          "execution_count": 10
        }
      ]
    },
    {
      "cell_type": "code",
      "metadata": {
        "id": "FEDobnV2Krye",
        "colab_type": "code",
        "outputId": "f39e6194-a19a-4b1d-8352-7965ae769953",
        "colab": {
          "base_uri": "https://localhost:8080/",
          "height": 102
        }
      },
      "source": [
        "df8=sc.parallelize(ac.collect())\n",
        "df8.take(5)"
      ],
      "execution_count": 0,
      "outputs": [
        {
          "output_type": "execute_result",
          "data": {
            "text/plain": [
              "[(((0, 100), 99), 57),\n",
              " (((1, 101), 98), 23),\n",
              " (((2, 102), 97), 65),\n",
              " (((3, 103), 96), 82),\n",
              " (((4, 104), 95), 46)]"
            ]
          },
          "metadata": {
            "tags": []
          },
          "execution_count": 17
        }
      ]
    },
    {
      "cell_type": "code",
      "metadata": {
        "id": "FxoS1CqiL6Q0",
        "colab_type": "code",
        "colab": {}
      },
      "source": [
        "#df8[0]"
      ],
      "execution_count": 0,
      "outputs": []
    },
    {
      "cell_type": "markdown",
      "metadata": {
        "id": "dr7uZa81Oc93",
        "colab_type": "text"
      },
      "source": [
        "very important only lambda function can be used to solve the nested tuples. Indexing of RDD is possible only in lambda function but not outside"
      ]
    },
    {
      "cell_type": "code",
      "metadata": {
        "id": "4b5_w86oLzF9",
        "colab_type": "code",
        "outputId": "e673b674-270e-47a3-f197-27f14e39fe76",
        "colab": {
          "base_uri": "https://localhost:8080/",
          "height": 34
        }
      },
      "source": [
        "cdf8=df8.map(lambda x : (x[0][0][0], x[0][0][1], x[0][1], x[1]))\n",
        "cdf8.take(4)"
      ],
      "execution_count": 0,
      "outputs": [
        {
          "output_type": "execute_result",
          "data": {
            "text/plain": [
              "[(0, 100, 99, 57), (1, 101, 98, 23), (2, 102, 97, 65), (3, 103, 96, 82)]"
            ]
          },
          "metadata": {
            "tags": []
          },
          "execution_count": 31
        }
      ]
    },
    {
      "cell_type": "code",
      "metadata": {
        "id": "QNh58RWYQ0sP",
        "colab_type": "code",
        "outputId": "50313bd6-c30c-478f-8468-cf03ed53f79e",
        "colab": {
          "base_uri": "https://localhost:8080/",
          "height": 187
        }
      },
      "source": [
        "cdf88 = cdf8.map(lambda x : [x[0], x[1], x[2], x[3]])\n",
        "cdf88.take(10)"
      ],
      "execution_count": 0,
      "outputs": [
        {
          "output_type": "execute_result",
          "data": {
            "text/plain": [
              "[[0, 100, 99, 57],\n",
              " [1, 101, 98, 23],\n",
              " [2, 102, 97, 65],\n",
              " [3, 103, 96, 82],\n",
              " [4, 104, 95, 46],\n",
              " [5, 105, 94, 33],\n",
              " [6, 106, 93, 32],\n",
              " [7, 107, 92, 16],\n",
              " [8, 108, 91, 8],\n",
              " [9, 109, 90, 67]]"
            ]
          },
          "metadata": {
            "tags": []
          },
          "execution_count": 40
        }
      ]
    },
    {
      "cell_type": "markdown",
      "metadata": {
        "id": "uZkwj2qXRlhl",
        "colab_type": "text"
      },
      "source": [
        "you can combine the top two into single code as shown below"
      ]
    },
    {
      "cell_type": "code",
      "metadata": {
        "id": "ybyJogVYRXPw",
        "colab_type": "code",
        "outputId": "08f36ad0-5ad1-4058-c5e0-334d7e391f17",
        "colab": {
          "base_uri": "https://localhost:8080/",
          "height": 187
        }
      },
      "source": [
        "cdf888=df8.map(lambda x : (x[0][0][0], x[0][0][1], x[0][1], x[1])).map(lambda x : [x[0], x[1], x[2], x[3]])\n",
        "cdf888.take(10)"
      ],
      "execution_count": 0,
      "outputs": [
        {
          "output_type": "execute_result",
          "data": {
            "text/plain": [
              "[[0, 100, 99, 57],\n",
              " [1, 101, 98, 23],\n",
              " [2, 102, 97, 65],\n",
              " [3, 103, 96, 82],\n",
              " [4, 104, 95, 46],\n",
              " [5, 105, 94, 33],\n",
              " [6, 106, 93, 32],\n",
              " [7, 107, 92, 16],\n",
              " [8, 108, 91, 8],\n",
              " [9, 109, 90, 67]]"
            ]
          },
          "metadata": {
            "tags": []
          },
          "execution_count": 41
        }
      ]
    },
    {
      "cell_type": "markdown",
      "metadata": {
        "id": "xr66TfVoSEkK",
        "colab_type": "text"
      },
      "source": [
        "You can make lists and use statistics function as shown below that is option one. or convert into data frame from the list of tuples like df9"
      ]
    },
    {
      "cell_type": "code",
      "metadata": {
        "id": "Y0QlpCjgePzP",
        "colab_type": "code",
        "outputId": "b48707fc-f8ad-4383-db3c-1df337f099ec",
        "colab": {
          "base_uri": "https://localhost:8080/",
          "height": 85
        }
      },
      "source": [
        "from pyspark.ml.linalg import Vectors\n",
        "from pyspark.mllib.stat import Statistics\n",
        "Statistics.corr(cdf888)"
      ],
      "execution_count": 0,
      "outputs": [
        {
          "output_type": "execute_result",
          "data": {
            "text/plain": [
              "array([[ 1.        ,  1.        , -1.        , -0.07480348],\n",
              "       [ 1.        ,  1.        , -1.        , -0.07480348],\n",
              "       [-1.        , -1.        ,  1.        ,  0.07480348],\n",
              "       [-0.07480348, -0.07480348,  0.07480348,  1.        ]])"
            ]
          },
          "metadata": {
            "tags": []
          },
          "execution_count": 44
        }
      ]
    },
    {
      "cell_type": "code",
      "metadata": {
        "id": "QuiQuki0RuLC",
        "colab_type": "code",
        "colab": {}
      },
      "source": [
        ""
      ],
      "execution_count": 0,
      "outputs": []
    },
    {
      "cell_type": "code",
      "metadata": {
        "id": "AbOwlRzqOung",
        "colab_type": "code",
        "outputId": "0889a215-f1b3-4a29-837a-3dc303a53be3",
        "colab": {
          "base_uri": "https://localhost:8080/",
          "height": 459
        }
      },
      "source": [
        "df9 = spark.createDataFrame(cdf8, ['a', 'b', 'c', 'd'])\n",
        "df9.show()"
      ],
      "execution_count": 0,
      "outputs": [
        {
          "output_type": "stream",
          "text": [
            "+---+---+---+---+\n",
            "|  a|  b|  c|  d|\n",
            "+---+---+---+---+\n",
            "|  0|100| 99| 57|\n",
            "|  1|101| 98| 23|\n",
            "|  2|102| 97| 65|\n",
            "|  3|103| 96| 82|\n",
            "|  4|104| 95| 46|\n",
            "|  5|105| 94| 33|\n",
            "|  6|106| 93| 32|\n",
            "|  7|107| 92| 16|\n",
            "|  8|108| 91|  8|\n",
            "|  9|109| 90| 67|\n",
            "| 10|110| 89| 45|\n",
            "| 11|111| 88| 53|\n",
            "| 12|112| 87| 27|\n",
            "| 13|113| 86| 51|\n",
            "| 14|114| 85| 34|\n",
            "| 15|115| 84| 86|\n",
            "| 16|116| 83| 59|\n",
            "| 17|117| 82| 72|\n",
            "| 18|118| 81|  6|\n",
            "| 19|119| 80| 69|\n",
            "+---+---+---+---+\n",
            "only showing top 20 rows\n",
            "\n"
          ],
          "name": "stdout"
        }
      ]
    },
    {
      "cell_type": "code",
      "metadata": {
        "id": "4qdkvBSwTAHa",
        "colab_type": "code",
        "outputId": "aeaa8b6f-5f07-460e-de20-3d2564745eae",
        "colab": {
          "base_uri": "https://localhost:8080/",
          "height": 187
        }
      },
      "source": [
        "df9.describe().show()"
      ],
      "execution_count": 0,
      "outputs": [
        {
          "output_type": "stream",
          "text": [
            "+-------+------------------+------------------+------------------+-----------------+\n",
            "|summary|                 a|                 b|                 c|                d|\n",
            "+-------+------------------+------------------+------------------+-----------------+\n",
            "|  count|               100|               100|               100|              100|\n",
            "|   mean|              49.5|             149.5|              49.5|             49.5|\n",
            "| stddev|29.011491975882016|29.011491975882013|29.011491975882016|29.01149197588202|\n",
            "|    min|                 0|               100|                 0|                0|\n",
            "|    max|                99|               199|                99|               99|\n",
            "+-------+------------------+------------------+------------------+-----------------+\n",
            "\n"
          ],
          "name": "stdout"
        }
      ]
    },
    {
      "cell_type": "code",
      "metadata": {
        "id": "AVAPFvkHScEr",
        "colab_type": "code",
        "outputId": "7f188b62-a15b-481d-8c9b-f849f48cb078",
        "colab": {
          "base_uri": "https://localhost:8080/",
          "height": 528
        }
      },
      "source": [
        "#from pyspark.ml.linalg import Vectors\n",
        "#from pyspark.ml.stat import Correlation\n",
        "#rr1 = Correlation.corr(df9, ['a', 'b', 'c', 'd']).head()\n",
        "#rr1 = Correlation.corr(df9, ['a']).head()\n",
        "#print(\"Pearson correlation matrix:\\n\" + str(rr1[0]))\n",
        " "
      ],
      "execution_count": 0,
      "outputs": [
        {
          "output_type": "error",
          "ename": "Py4JError",
          "evalue": "ignored",
          "traceback": [
            "\u001b[0;31m---------------------------------------------------------------------------\u001b[0m",
            "\u001b[0;31mPy4JError\u001b[0m                                 Traceback (most recent call last)",
            "\u001b[0;32m<ipython-input-76-7a3e13f9d77c>\u001b[0m in \u001b[0;36m<module>\u001b[0;34m()\u001b[0m\n\u001b[1;32m      2\u001b[0m \u001b[0;31m#from pyspark.ml.stat import Correlation\u001b[0m\u001b[0;34m\u001b[0m\u001b[0;34m\u001b[0m\u001b[0;34m\u001b[0m\u001b[0m\n\u001b[1;32m      3\u001b[0m \u001b[0;31m#rr1 = Correlation.corr(df9, ['a', 'b', 'c', 'd']).head()\u001b[0m\u001b[0;34m\u001b[0m\u001b[0;34m\u001b[0m\u001b[0;34m\u001b[0m\u001b[0m\n\u001b[0;32m----> 4\u001b[0;31m \u001b[0mrr1\u001b[0m \u001b[0;34m=\u001b[0m \u001b[0mCorrelation\u001b[0m\u001b[0;34m.\u001b[0m\u001b[0mcorr\u001b[0m\u001b[0;34m(\u001b[0m\u001b[0mdf9\u001b[0m\u001b[0;34m,\u001b[0m \u001b[0;34m[\u001b[0m\u001b[0;34m'a'\u001b[0m\u001b[0;34m]\u001b[0m\u001b[0;34m)\u001b[0m\u001b[0;34m.\u001b[0m\u001b[0mhead\u001b[0m\u001b[0;34m(\u001b[0m\u001b[0;34m)\u001b[0m\u001b[0;34m\u001b[0m\u001b[0;34m\u001b[0m\u001b[0m\n\u001b[0m\u001b[1;32m      5\u001b[0m \u001b[0;31m#print(\"Pearson correlation matrix:\\n\" + str(rr1[0]))\u001b[0m\u001b[0;34m\u001b[0m\u001b[0;34m\u001b[0m\u001b[0;34m\u001b[0m\u001b[0m\n\u001b[1;32m      6\u001b[0m \u001b[0;34m\u001b[0m\u001b[0m\n",
            "\u001b[0;32m/content/spark-2.4.5-bin-hadoop2.7/python/pyspark/ml/stat.py\u001b[0m in \u001b[0;36mcorr\u001b[0;34m(dataset, column, method)\u001b[0m\n\u001b[1;32m    134\u001b[0m         \u001b[0mjavaCorrObj\u001b[0m \u001b[0;34m=\u001b[0m \u001b[0m_jvm\u001b[0m\u001b[0;34m(\u001b[0m\u001b[0;34m)\u001b[0m\u001b[0;34m.\u001b[0m\u001b[0morg\u001b[0m\u001b[0;34m.\u001b[0m\u001b[0mapache\u001b[0m\u001b[0;34m.\u001b[0m\u001b[0mspark\u001b[0m\u001b[0;34m.\u001b[0m\u001b[0mml\u001b[0m\u001b[0;34m.\u001b[0m\u001b[0mstat\u001b[0m\u001b[0;34m.\u001b[0m\u001b[0mCorrelation\u001b[0m\u001b[0;34m\u001b[0m\u001b[0;34m\u001b[0m\u001b[0m\n\u001b[1;32m    135\u001b[0m         \u001b[0margs\u001b[0m \u001b[0;34m=\u001b[0m \u001b[0;34m[\u001b[0m\u001b[0m_py2java\u001b[0m\u001b[0;34m(\u001b[0m\u001b[0msc\u001b[0m\u001b[0;34m,\u001b[0m \u001b[0marg\u001b[0m\u001b[0;34m)\u001b[0m \u001b[0;32mfor\u001b[0m \u001b[0marg\u001b[0m \u001b[0;32min\u001b[0m \u001b[0;34m(\u001b[0m\u001b[0mdataset\u001b[0m\u001b[0;34m,\u001b[0m \u001b[0mcolumn\u001b[0m\u001b[0;34m,\u001b[0m \u001b[0mmethod\u001b[0m\u001b[0;34m)\u001b[0m\u001b[0;34m]\u001b[0m\u001b[0;34m\u001b[0m\u001b[0;34m\u001b[0m\u001b[0m\n\u001b[0;32m--> 136\u001b[0;31m         \u001b[0;32mreturn\u001b[0m \u001b[0m_java2py\u001b[0m\u001b[0;34m(\u001b[0m\u001b[0msc\u001b[0m\u001b[0;34m,\u001b[0m \u001b[0mjavaCorrObj\u001b[0m\u001b[0;34m.\u001b[0m\u001b[0mcorr\u001b[0m\u001b[0;34m(\u001b[0m\u001b[0;34m*\u001b[0m\u001b[0margs\u001b[0m\u001b[0;34m)\u001b[0m\u001b[0;34m)\u001b[0m\u001b[0;34m\u001b[0m\u001b[0;34m\u001b[0m\u001b[0m\n\u001b[0m\u001b[1;32m    137\u001b[0m \u001b[0;34m\u001b[0m\u001b[0m\n\u001b[1;32m    138\u001b[0m \u001b[0;34m\u001b[0m\u001b[0m\n",
            "\u001b[0;32m/content/spark-2.4.5-bin-hadoop2.7/python/lib/py4j-0.10.7-src.zip/py4j/java_gateway.py\u001b[0m in \u001b[0;36m__call__\u001b[0;34m(self, *args)\u001b[0m\n\u001b[1;32m   1255\u001b[0m         \u001b[0manswer\u001b[0m \u001b[0;34m=\u001b[0m \u001b[0mself\u001b[0m\u001b[0;34m.\u001b[0m\u001b[0mgateway_client\u001b[0m\u001b[0;34m.\u001b[0m\u001b[0msend_command\u001b[0m\u001b[0;34m(\u001b[0m\u001b[0mcommand\u001b[0m\u001b[0;34m)\u001b[0m\u001b[0;34m\u001b[0m\u001b[0;34m\u001b[0m\u001b[0m\n\u001b[1;32m   1256\u001b[0m         return_value = get_return_value(\n\u001b[0;32m-> 1257\u001b[0;31m             answer, self.gateway_client, self.target_id, self.name)\n\u001b[0m\u001b[1;32m   1258\u001b[0m \u001b[0;34m\u001b[0m\u001b[0m\n\u001b[1;32m   1259\u001b[0m         \u001b[0;32mfor\u001b[0m \u001b[0mtemp_arg\u001b[0m \u001b[0;32min\u001b[0m \u001b[0mtemp_args\u001b[0m\u001b[0;34m:\u001b[0m\u001b[0;34m\u001b[0m\u001b[0;34m\u001b[0m\u001b[0m\n",
            "\u001b[0;32m/content/spark-2.4.5-bin-hadoop2.7/python/pyspark/sql/utils.py\u001b[0m in \u001b[0;36mdeco\u001b[0;34m(*a, **kw)\u001b[0m\n\u001b[1;32m     61\u001b[0m     \u001b[0;32mdef\u001b[0m \u001b[0mdeco\u001b[0m\u001b[0;34m(\u001b[0m\u001b[0;34m*\u001b[0m\u001b[0ma\u001b[0m\u001b[0;34m,\u001b[0m \u001b[0;34m**\u001b[0m\u001b[0mkw\u001b[0m\u001b[0;34m)\u001b[0m\u001b[0;34m:\u001b[0m\u001b[0;34m\u001b[0m\u001b[0;34m\u001b[0m\u001b[0m\n\u001b[1;32m     62\u001b[0m         \u001b[0;32mtry\u001b[0m\u001b[0;34m:\u001b[0m\u001b[0;34m\u001b[0m\u001b[0;34m\u001b[0m\u001b[0m\n\u001b[0;32m---> 63\u001b[0;31m             \u001b[0;32mreturn\u001b[0m \u001b[0mf\u001b[0m\u001b[0;34m(\u001b[0m\u001b[0;34m*\u001b[0m\u001b[0ma\u001b[0m\u001b[0;34m,\u001b[0m \u001b[0;34m**\u001b[0m\u001b[0mkw\u001b[0m\u001b[0;34m)\u001b[0m\u001b[0;34m\u001b[0m\u001b[0;34m\u001b[0m\u001b[0m\n\u001b[0m\u001b[1;32m     64\u001b[0m         \u001b[0;32mexcept\u001b[0m \u001b[0mpy4j\u001b[0m\u001b[0;34m.\u001b[0m\u001b[0mprotocol\u001b[0m\u001b[0;34m.\u001b[0m\u001b[0mPy4JJavaError\u001b[0m \u001b[0;32mas\u001b[0m \u001b[0me\u001b[0m\u001b[0;34m:\u001b[0m\u001b[0;34m\u001b[0m\u001b[0;34m\u001b[0m\u001b[0m\n\u001b[1;32m     65\u001b[0m             \u001b[0ms\u001b[0m \u001b[0;34m=\u001b[0m \u001b[0me\u001b[0m\u001b[0;34m.\u001b[0m\u001b[0mjava_exception\u001b[0m\u001b[0;34m.\u001b[0m\u001b[0mtoString\u001b[0m\u001b[0;34m(\u001b[0m\u001b[0;34m)\u001b[0m\u001b[0;34m\u001b[0m\u001b[0;34m\u001b[0m\u001b[0m\n",
            "\u001b[0;32m/content/spark-2.4.5-bin-hadoop2.7/python/lib/py4j-0.10.7-src.zip/py4j/protocol.py\u001b[0m in \u001b[0;36mget_return_value\u001b[0;34m(answer, gateway_client, target_id, name)\u001b[0m\n\u001b[1;32m    330\u001b[0m                 raise Py4JError(\n\u001b[1;32m    331\u001b[0m                     \u001b[0;34m\"An error occurred while calling {0}{1}{2}. Trace:\\n{3}\\n\"\u001b[0m\u001b[0;34m.\u001b[0m\u001b[0;34m\u001b[0m\u001b[0;34m\u001b[0m\u001b[0m\n\u001b[0;32m--> 332\u001b[0;31m                     format(target_id, \".\", name, value))\n\u001b[0m\u001b[1;32m    333\u001b[0m         \u001b[0;32melse\u001b[0m\u001b[0;34m:\u001b[0m\u001b[0;34m\u001b[0m\u001b[0;34m\u001b[0m\u001b[0m\n\u001b[1;32m    334\u001b[0m             raise Py4JError(\n",
            "\u001b[0;31mPy4JError\u001b[0m: An error occurred while calling z:org.apache.spark.ml.stat.Correlation.corr. Trace:\npy4j.Py4JException: Method corr([class org.apache.spark.sql.Dataset, class java.util.ArrayList, class java.lang.String]) does not exist\n\tat py4j.reflection.ReflectionEngine.getMethod(ReflectionEngine.java:318)\n\tat py4j.reflection.ReflectionEngine.getMethod(ReflectionEngine.java:339)\n\tat py4j.Gateway.invoke(Gateway.java:276)\n\tat py4j.commands.AbstractCommand.invokeMethod(AbstractCommand.java:132)\n\tat py4j.commands.CallCommand.execute(CallCommand.java:79)\n\tat py4j.GatewayConnection.run(GatewayConnection.java:238)\n\tat java.lang.Thread.run(Thread.java:748)\n\n"
          ]
        }
      ]
    },
    {
      "cell_type": "code",
      "metadata": {
        "id": "5EG1ENstPYYr",
        "colab_type": "code",
        "outputId": "6ce7909c-cd1c-40ea-a87a-4610ae4c71ab",
        "colab": {
          "base_uri": "https://localhost:8080/",
          "height": 170
        }
      },
      "source": [
        "from pyspark.ml.linalg import Vectors\n",
        "from pyspark.ml.stat import Correlation\n",
        "\n",
        "data = [(Vectors.sparse(4, [(0, 1.0), (3, -2.0)]),),\n",
        "        (Vectors.dense([4.0, 5.0, 0.0, 3.0]),),\n",
        "        (Vectors.dense([6.0, 7.0, 0.0, 8.0]),),\n",
        "        (Vectors.sparse(4, [(0, 9.0), (3, 1.0)]),)]\n",
        "df11 = spark.createDataFrame(data, [\"features\"])\n",
        "df11.show()\n",
        "\n"
      ],
      "execution_count": 0,
      "outputs": [
        {
          "output_type": "stream",
          "text": [
            "+--------------------+\n",
            "|            features|\n",
            "+--------------------+\n",
            "|(4,[0,3],[1.0,-2.0])|\n",
            "|   [4.0,5.0,0.0,3.0]|\n",
            "|   [6.0,7.0,0.0,8.0]|\n",
            "| (4,[0,3],[9.0,1.0])|\n",
            "+--------------------+\n",
            "\n"
          ],
          "name": "stdout"
        }
      ]
    },
    {
      "cell_type": "code",
      "metadata": {
        "id": "FQTTQAshSmca",
        "colab_type": "code",
        "outputId": "6c9ca36a-fded-439f-8d28-4e24f5c91942",
        "colab": {
          "base_uri": "https://localhost:8080/",
          "height": 187
        }
      },
      "source": [
        "r1 = Correlation.corr(df11, \"features\").head()\n",
        "print(\"Pearson correlation matrix:\\n\" + str(r1[0]))\n",
        "\n",
        "r2 = Correlation.corr(df11, \"features\", \"spearman\").head()\n",
        "print(\"Spearman correlation matrix:\\n\" + str(r2[0]))"
      ],
      "execution_count": 0,
      "outputs": [
        {
          "output_type": "stream",
          "text": [
            "Pearson correlation matrix:\n",
            "DenseMatrix([[1.        , 0.05564149,        nan, 0.40047142],\n",
            "             [0.05564149, 1.        ,        nan, 0.91359586],\n",
            "             [       nan,        nan, 1.        ,        nan],\n",
            "             [0.40047142, 0.91359586,        nan, 1.        ]])\n",
            "Spearman correlation matrix:\n",
            "DenseMatrix([[1.        , 0.10540926,        nan, 0.4       ],\n",
            "             [0.10540926, 1.        ,        nan, 0.9486833 ],\n",
            "             [       nan,        nan, 1.        ,        nan],\n",
            "             [0.4       , 0.9486833 ,        nan, 1.        ]])\n"
          ],
          "name": "stdout"
        }
      ]
    },
    {
      "cell_type": "code",
      "metadata": {
        "id": "bwn1htODVvk5",
        "colab_type": "code",
        "outputId": "0b8213e0-01c9-42e7-834c-af8c43640123",
        "colab": {
          "base_uri": "https://localhost:8080/",
          "height": 272
        }
      },
      "source": [
        "import pandas as pd\n",
        "import numpy as np\n",
        "from pyspark.ml.stat import Correlation\n",
        "from pyspark.ml.feature import VectorAssembler\n",
        "\n",
        "data = pd.DataFrame(np.random.random((10, 5)), \n",
        "                   columns=[\"x{}\".format(x) for x in range(5)])\n",
        "df10 = spark.createDataFrame(data)\n",
        "\n",
        "df10.show()"
      ],
      "execution_count": 0,
      "outputs": [
        {
          "output_type": "stream",
          "text": [
            "+-------------------+--------------------+-------------------+--------------------+-------------------+\n",
            "|                 x0|                  x1|                 x2|                  x3|                 x4|\n",
            "+-------------------+--------------------+-------------------+--------------------+-------------------+\n",
            "| 0.1952988878483758|  0.7787190760939708| 0.4964086482468574|0.017757584846285646|0.23205145270012917|\n",
            "| 0.9734894712857163|0.014763526963609386| 0.5012087935167012|0.038300796487239275| 0.7895062408669744|\n",
            "|0.25805754613690934|   0.671221799811966| 0.2270012474844022| 0.22017508805065322|0.07663242097828948|\n",
            "|  0.596854072727563|  0.5682005457388201| 0.3456860360621338|  0.8041920496039693| 0.8402887314598311|\n",
            "|0.04848617710202885| 0.09047581335063493| 0.3815649733560007|  0.7611562717396135| 0.9155487684222161|\n",
            "| 0.5774955606404177| 0.22699202504569593| 0.2993922062701777| 0.08226220571133303| 0.7885679369729096|\n",
            "|0.12354975556830428|  0.7284525611526673| 0.4487521000696927|  0.5428783968944402| 0.4209507259163101|\n",
            "| 0.8956213550445146| 0.27706232728083546|  0.635777365197277|  0.5733356932691821| 0.7233329003078887|\n",
            "|0.01223643197411095|  0.2122982649737678|0.04935928523125166|   0.654831622147496|0.29368355723119854|\n",
            "|0.34477499537688516|  0.6246432378369177|  0.940373756553767| 0.07272639583876961| 0.7310496178900538|\n",
            "+-------------------+--------------------+-------------------+--------------------+-------------------+\n",
            "\n"
          ],
          "name": "stdout"
        }
      ]
    },
    {
      "cell_type": "code",
      "metadata": {
        "id": "KcPi4-CuWHsO",
        "colab_type": "code",
        "outputId": "3d415486-468b-4b7c-8536-b2bccfa62934",
        "colab": {
          "base_uri": "https://localhost:8080/",
          "height": 102
        }
      },
      "source": [
        "# convert to vector column first\n",
        "vector_col = \"corr_features\"\n",
        "assembler = VectorAssembler(inputCols=df10.columns, outputCol=vector_col)\n",
        "df_vector = assembler.transform(df10).select(vector_col)\n",
        "\n",
        "# get correlation matrix\n",
        "matrix = Correlation.corr(df_vector, vector_col)\n",
        "matrix.collect()[0][\"pearson({})\".format(vector_col)].values"
      ],
      "execution_count": 0,
      "outputs": [
        {
          "output_type": "execute_result",
          "data": {
            "text/plain": [
              "array([ 1.        , -0.36241196,  0.3343032 , -0.24404837,  0.49170703,\n",
              "       -0.36241196,  1.        ,  0.21487115, -0.16438049, -0.56422022,\n",
              "        0.3343032 ,  0.21487115,  1.        , -0.35914036,  0.37365962,\n",
              "       -0.24404837, -0.16438049, -0.35914036,  1.        ,  0.21982541,\n",
              "        0.49170703, -0.56422022,  0.37365962,  0.21982541,  1.        ])"
            ]
          },
          "metadata": {
            "tags": []
          },
          "execution_count": 68
        }
      ]
    },
    {
      "cell_type": "code",
      "metadata": {
        "id": "uRNo5qqPXwU9",
        "colab_type": "code",
        "colab": {}
      },
      "source": [
        "from pyspark.mllib.stat import Statistics\n",
        "import pandas as pd\n",
        "\n",
        "# result can be used w/ seaborn's heatmap\n",
        "def compute_correlation_matrix(df, method='pearson'):\n",
        "    # wrapper around\n",
        "    # https://forums.databricks.com/questions/3092/how-to-calculate-correlation-matrix-with-all-colum.html\n",
        "    df_rdd = df.rdd.map(lambda row: row[0:])\n",
        "    corr_mat = Statistics.corr(df_rdd, method=method)\n",
        "    corr_mat_df = pd.DataFrame(corr_mat,\n",
        "                    columns=df.columns, \n",
        "                    index=df.columns)\n",
        "    return corr_mat_df"
      ],
      "execution_count": 0,
      "outputs": []
    },
    {
      "cell_type": "code",
      "metadata": {
        "id": "gHaM_vJBXyfR",
        "colab_type": "code",
        "outputId": "f1a45eb3-d801-4ba4-f8ea-5e0c2a01e000",
        "colab": {
          "base_uri": "https://localhost:8080/",
          "height": 173
        }
      },
      "source": [
        "compute_correlation_matrix (df9)"
      ],
      "execution_count": 0,
      "outputs": [
        {
          "output_type": "execute_result",
          "data": {
            "text/html": [
              "<div>\n",
              "<style scoped>\n",
              "    .dataframe tbody tr th:only-of-type {\n",
              "        vertical-align: middle;\n",
              "    }\n",
              "\n",
              "    .dataframe tbody tr th {\n",
              "        vertical-align: top;\n",
              "    }\n",
              "\n",
              "    .dataframe thead th {\n",
              "        text-align: right;\n",
              "    }\n",
              "</style>\n",
              "<table border=\"1\" class=\"dataframe\">\n",
              "  <thead>\n",
              "    <tr style=\"text-align: right;\">\n",
              "      <th></th>\n",
              "      <th>a</th>\n",
              "      <th>b</th>\n",
              "      <th>c</th>\n",
              "      <th>d</th>\n",
              "    </tr>\n",
              "  </thead>\n",
              "  <tbody>\n",
              "    <tr>\n",
              "      <th>a</th>\n",
              "      <td>1.000000</td>\n",
              "      <td>1.000000</td>\n",
              "      <td>-1.000000</td>\n",
              "      <td>-0.074803</td>\n",
              "    </tr>\n",
              "    <tr>\n",
              "      <th>b</th>\n",
              "      <td>1.000000</td>\n",
              "      <td>1.000000</td>\n",
              "      <td>-1.000000</td>\n",
              "      <td>-0.074803</td>\n",
              "    </tr>\n",
              "    <tr>\n",
              "      <th>c</th>\n",
              "      <td>-1.000000</td>\n",
              "      <td>-1.000000</td>\n",
              "      <td>1.000000</td>\n",
              "      <td>0.074803</td>\n",
              "    </tr>\n",
              "    <tr>\n",
              "      <th>d</th>\n",
              "      <td>-0.074803</td>\n",
              "      <td>-0.074803</td>\n",
              "      <td>0.074803</td>\n",
              "      <td>1.000000</td>\n",
              "    </tr>\n",
              "  </tbody>\n",
              "</table>\n",
              "</div>"
            ],
            "text/plain": [
              "          a         b         c         d\n",
              "a  1.000000  1.000000 -1.000000 -0.074803\n",
              "b  1.000000  1.000000 -1.000000 -0.074803\n",
              "c -1.000000 -1.000000  1.000000  0.074803\n",
              "d -0.074803 -0.074803  0.074803  1.000000"
            ]
          },
          "metadata": {
            "tags": []
          },
          "execution_count": 70
        }
      ]
    },
    {
      "cell_type": "code",
      "metadata": {
        "id": "1kh_hazqZIFG",
        "colab_type": "code",
        "outputId": "7c8eb34e-472a-4639-b3fa-0e97c1181ec1",
        "colab": {
          "base_uri": "https://localhost:8080/",
          "height": 204
        }
      },
      "source": [
        "compute_correlation_matrix (df10)"
      ],
      "execution_count": 0,
      "outputs": [
        {
          "output_type": "execute_result",
          "data": {
            "text/html": [
              "<div>\n",
              "<style scoped>\n",
              "    .dataframe tbody tr th:only-of-type {\n",
              "        vertical-align: middle;\n",
              "    }\n",
              "\n",
              "    .dataframe tbody tr th {\n",
              "        vertical-align: top;\n",
              "    }\n",
              "\n",
              "    .dataframe thead th {\n",
              "        text-align: right;\n",
              "    }\n",
              "</style>\n",
              "<table border=\"1\" class=\"dataframe\">\n",
              "  <thead>\n",
              "    <tr style=\"text-align: right;\">\n",
              "      <th></th>\n",
              "      <th>x0</th>\n",
              "      <th>x1</th>\n",
              "      <th>x2</th>\n",
              "      <th>x3</th>\n",
              "      <th>x4</th>\n",
              "    </tr>\n",
              "  </thead>\n",
              "  <tbody>\n",
              "    <tr>\n",
              "      <th>x0</th>\n",
              "      <td>1.000000</td>\n",
              "      <td>-0.362412</td>\n",
              "      <td>0.334303</td>\n",
              "      <td>-0.244048</td>\n",
              "      <td>0.491707</td>\n",
              "    </tr>\n",
              "    <tr>\n",
              "      <th>x1</th>\n",
              "      <td>-0.362412</td>\n",
              "      <td>1.000000</td>\n",
              "      <td>0.214871</td>\n",
              "      <td>-0.164380</td>\n",
              "      <td>-0.564220</td>\n",
              "    </tr>\n",
              "    <tr>\n",
              "      <th>x2</th>\n",
              "      <td>0.334303</td>\n",
              "      <td>0.214871</td>\n",
              "      <td>1.000000</td>\n",
              "      <td>-0.359140</td>\n",
              "      <td>0.373660</td>\n",
              "    </tr>\n",
              "    <tr>\n",
              "      <th>x3</th>\n",
              "      <td>-0.244048</td>\n",
              "      <td>-0.164380</td>\n",
              "      <td>-0.359140</td>\n",
              "      <td>1.000000</td>\n",
              "      <td>0.219825</td>\n",
              "    </tr>\n",
              "    <tr>\n",
              "      <th>x4</th>\n",
              "      <td>0.491707</td>\n",
              "      <td>-0.564220</td>\n",
              "      <td>0.373660</td>\n",
              "      <td>0.219825</td>\n",
              "      <td>1.000000</td>\n",
              "    </tr>\n",
              "  </tbody>\n",
              "</table>\n",
              "</div>"
            ],
            "text/plain": [
              "          x0        x1        x2        x3        x4\n",
              "x0  1.000000 -0.362412  0.334303 -0.244048  0.491707\n",
              "x1 -0.362412  1.000000  0.214871 -0.164380 -0.564220\n",
              "x2  0.334303  0.214871  1.000000 -0.359140  0.373660\n",
              "x3 -0.244048 -0.164380 -0.359140  1.000000  0.219825\n",
              "x4  0.491707 -0.564220  0.373660  0.219825  1.000000"
            ]
          },
          "metadata": {
            "tags": []
          },
          "execution_count": 75
        }
      ]
    },
    {
      "cell_type": "code",
      "metadata": {
        "id": "up2VguzCYwOO",
        "colab_type": "code",
        "colab": {}
      },
      "source": [
        "#compute_correlation_matrix (df11)"
      ],
      "execution_count": 0,
      "outputs": []
    },
    {
      "cell_type": "code",
      "metadata": {
        "id": "EBX7VJYafjuq",
        "colab_type": "code",
        "colab": {}
      },
      "source": [
        "\n",
        "#ac1=sc.parallelize(ac)\n",
        "\n",
        "#df8 = spark.createDataFrame(ac, ['c1', 'c2', 'c3', 'c4'])\n",
        "#df8.show()"
      ],
      "execution_count": 0,
      "outputs": []
    },
    {
      "cell_type": "code",
      "metadata": {
        "id": "_5N116u7hUpY",
        "colab_type": "code",
        "colab": {}
      },
      "source": [
        "#from pyspark.sql.functions import explode\n",
        "#df8 = ac.toDF([ \"Values\", 'd'])\n",
        "#df8.select(explode(\"Values\").alias(\"a\", \"b\", 'c'),  'd').show()"
      ],
      "execution_count": 0,
      "outputs": []
    }
  ]
}