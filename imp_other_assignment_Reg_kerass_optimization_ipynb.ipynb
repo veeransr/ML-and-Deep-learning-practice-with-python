{
  "nbformat": 4,
  "nbformat_minor": 0,
  "metadata": {
    "kernelspec": {
      "display_name": "Python",
      "language": "python",
      "name": "conda-env-python-py"
    },
    "language_info": {
      "codemirror_mode": {
        "name": "ipython",
        "version": 3
      },
      "file_extension": ".py",
      "mimetype": "text/x-python",
      "name": "python",
      "nbconvert_exporter": "python",
      "pygments_lexer": "ipython3",
      "version": "3.6.10"
    },
    "colab": {
      "name": "imp other assignment-Reg kerass optimization ipynb",
      "provenance": [],
      "collapsed_sections": [],
      "include_colab_link": true
    }
  },
  "cells": [
    {
      "cell_type": "markdown",
      "metadata": {
        "id": "view-in-github",
        "colab_type": "text"
      },
      "source": [
        "<a href=\"https://colab.research.google.com/github/veeransr/ML-and-Deep-learning-practice-with-python/blob/master/imp_other_assignment_Reg_kerass_optimization_ipynb.ipynb\" target=\"_parent\"><img src=\"https://colab.research.google.com/assets/colab-badge.svg\" alt=\"Open In Colab\"/></a>"
      ]
    },
    {
      "cell_type": "code",
      "metadata": {
        "id": "BZYc60wS8LrK",
        "colab_type": "code",
        "colab": {}
      },
      "source": [
        ""
      ],
      "execution_count": 0,
      "outputs": []
    },
    {
      "cell_type": "markdown",
      "metadata": {
        "id": "5UX4Tl4u8LrN",
        "colab_type": "text"
      },
      "source": [
        "# Import required libraries"
      ]
    },
    {
      "cell_type": "code",
      "metadata": {
        "id": "0GDdSgSF8LrO",
        "colab_type": "code",
        "colab": {}
      },
      "source": [
        "import pandas as pd\n",
        "import numpy as np"
      ],
      "execution_count": 0,
      "outputs": []
    },
    {
      "cell_type": "markdown",
      "metadata": {
        "id": "E53vR3QY8LrQ",
        "colab_type": "text"
      },
      "source": [
        "Load source data"
      ]
    },
    {
      "cell_type": "code",
      "metadata": {
        "id": "n0SR6_Rj8LrR",
        "colab_type": "code",
        "outputId": "ba2d17f5-25bd-4d36-a67d-fd015c1930f0",
        "colab": {}
      },
      "source": [
        "concrete_data = pd.read_csv('https://s3-api.us-geo.objectstorage.softlayer.net/cf-courses-data/CognitiveClass/DL0101EN/labs/data/concrete_data.csv')\n",
        "concrete_data.head()"
      ],
      "execution_count": 0,
      "outputs": [
        {
          "output_type": "execute_result",
          "data": {
            "text/html": [
              "<div>\n",
              "<style scoped>\n",
              "    .dataframe tbody tr th:only-of-type {\n",
              "        vertical-align: middle;\n",
              "    }\n",
              "\n",
              "    .dataframe tbody tr th {\n",
              "        vertical-align: top;\n",
              "    }\n",
              "\n",
              "    .dataframe thead th {\n",
              "        text-align: right;\n",
              "    }\n",
              "</style>\n",
              "<table border=\"1\" class=\"dataframe\">\n",
              "  <thead>\n",
              "    <tr style=\"text-align: right;\">\n",
              "      <th></th>\n",
              "      <th>Cement</th>\n",
              "      <th>Blast Furnace Slag</th>\n",
              "      <th>Fly Ash</th>\n",
              "      <th>Water</th>\n",
              "      <th>Superplasticizer</th>\n",
              "      <th>Coarse Aggregate</th>\n",
              "      <th>Fine Aggregate</th>\n",
              "      <th>Age</th>\n",
              "      <th>Strength</th>\n",
              "    </tr>\n",
              "  </thead>\n",
              "  <tbody>\n",
              "    <tr>\n",
              "      <th>0</th>\n",
              "      <td>540.0</td>\n",
              "      <td>0.0</td>\n",
              "      <td>0.0</td>\n",
              "      <td>162.0</td>\n",
              "      <td>2.5</td>\n",
              "      <td>1040.0</td>\n",
              "      <td>676.0</td>\n",
              "      <td>28</td>\n",
              "      <td>79.99</td>\n",
              "    </tr>\n",
              "    <tr>\n",
              "      <th>1</th>\n",
              "      <td>540.0</td>\n",
              "      <td>0.0</td>\n",
              "      <td>0.0</td>\n",
              "      <td>162.0</td>\n",
              "      <td>2.5</td>\n",
              "      <td>1055.0</td>\n",
              "      <td>676.0</td>\n",
              "      <td>28</td>\n",
              "      <td>61.89</td>\n",
              "    </tr>\n",
              "    <tr>\n",
              "      <th>2</th>\n",
              "      <td>332.5</td>\n",
              "      <td>142.5</td>\n",
              "      <td>0.0</td>\n",
              "      <td>228.0</td>\n",
              "      <td>0.0</td>\n",
              "      <td>932.0</td>\n",
              "      <td>594.0</td>\n",
              "      <td>270</td>\n",
              "      <td>40.27</td>\n",
              "    </tr>\n",
              "    <tr>\n",
              "      <th>3</th>\n",
              "      <td>332.5</td>\n",
              "      <td>142.5</td>\n",
              "      <td>0.0</td>\n",
              "      <td>228.0</td>\n",
              "      <td>0.0</td>\n",
              "      <td>932.0</td>\n",
              "      <td>594.0</td>\n",
              "      <td>365</td>\n",
              "      <td>41.05</td>\n",
              "    </tr>\n",
              "    <tr>\n",
              "      <th>4</th>\n",
              "      <td>198.6</td>\n",
              "      <td>132.4</td>\n",
              "      <td>0.0</td>\n",
              "      <td>192.0</td>\n",
              "      <td>0.0</td>\n",
              "      <td>978.4</td>\n",
              "      <td>825.5</td>\n",
              "      <td>360</td>\n",
              "      <td>44.30</td>\n",
              "    </tr>\n",
              "  </tbody>\n",
              "</table>\n",
              "</div>"
            ],
            "text/plain": [
              "   Cement  Blast Furnace Slag  Fly Ash  Water  Superplasticizer  \\\n",
              "0   540.0                 0.0      0.0  162.0               2.5   \n",
              "1   540.0                 0.0      0.0  162.0               2.5   \n",
              "2   332.5               142.5      0.0  228.0               0.0   \n",
              "3   332.5               142.5      0.0  228.0               0.0   \n",
              "4   198.6               132.4      0.0  192.0               0.0   \n",
              "\n",
              "   Coarse Aggregate  Fine Aggregate  Age  Strength  \n",
              "0            1040.0           676.0   28     79.99  \n",
              "1            1055.0           676.0   28     61.89  \n",
              "2             932.0           594.0  270     40.27  \n",
              "3             932.0           594.0  365     41.05  \n",
              "4             978.4           825.5  360     44.30  "
            ]
          },
          "metadata": {
            "tags": []
          },
          "execution_count": 2
        }
      ]
    },
    {
      "cell_type": "markdown",
      "metadata": {
        "id": "em3mv_4M8LrU",
        "colab_type": "text"
      },
      "source": [
        "Check for missing data "
      ]
    },
    {
      "cell_type": "code",
      "metadata": {
        "id": "1dcGWu6x8LrU",
        "colab_type": "code",
        "outputId": "06d7dae2-1131-4ffb-e0c8-7413698b1a6d",
        "colab": {}
      },
      "source": [
        "concrete_data.isna().any()"
      ],
      "execution_count": 0,
      "outputs": [
        {
          "output_type": "execute_result",
          "data": {
            "text/plain": [
              "Cement                False\n",
              "Blast Furnace Slag    False\n",
              "Fly Ash               False\n",
              "Water                 False\n",
              "Superplasticizer      False\n",
              "Coarse Aggregate      False\n",
              "Fine Aggregate        False\n",
              "Age                   False\n",
              "Strength              False\n",
              "dtype: bool"
            ]
          },
          "metadata": {
            "tags": []
          },
          "execution_count": 3
        }
      ]
    },
    {
      "cell_type": "markdown",
      "metadata": {
        "id": "2PpRHsS68LrW",
        "colab_type": "text"
      },
      "source": [
        "Separate target and predictors (pop in the strength column from concrete_data)"
      ]
    },
    {
      "cell_type": "code",
      "metadata": {
        "id": "elNBrAqX8LrX",
        "colab_type": "code",
        "outputId": "6cf33123-a2a0-4b96-b86e-7666084fa792",
        "colab": {}
      },
      "source": [
        "target = concrete_data.pop('Strength')\n",
        "target.head()"
      ],
      "execution_count": 0,
      "outputs": [
        {
          "output_type": "execute_result",
          "data": {
            "text/plain": [
              "0    79.99\n",
              "1    61.89\n",
              "2    40.27\n",
              "3    41.05\n",
              "4    44.30\n",
              "Name: Strength, dtype: float64"
            ]
          },
          "metadata": {
            "tags": []
          },
          "execution_count": 4
        }
      ]
    },
    {
      "cell_type": "markdown",
      "metadata": {
        "id": "bYmUQofR8LrZ",
        "colab_type": "text"
      },
      "source": [
        "Check that concrete_data does not contain strength information"
      ]
    },
    {
      "cell_type": "code",
      "metadata": {
        "id": "ASVaSz_C8Lra",
        "colab_type": "code",
        "outputId": "9686d077-17ec-4604-f197-ab0b9dae9d41",
        "colab": {}
      },
      "source": [
        "concrete_data.head()"
      ],
      "execution_count": 0,
      "outputs": [
        {
          "output_type": "execute_result",
          "data": {
            "text/html": [
              "<div>\n",
              "<style scoped>\n",
              "    .dataframe tbody tr th:only-of-type {\n",
              "        vertical-align: middle;\n",
              "    }\n",
              "\n",
              "    .dataframe tbody tr th {\n",
              "        vertical-align: top;\n",
              "    }\n",
              "\n",
              "    .dataframe thead th {\n",
              "        text-align: right;\n",
              "    }\n",
              "</style>\n",
              "<table border=\"1\" class=\"dataframe\">\n",
              "  <thead>\n",
              "    <tr style=\"text-align: right;\">\n",
              "      <th></th>\n",
              "      <th>Cement</th>\n",
              "      <th>Blast Furnace Slag</th>\n",
              "      <th>Fly Ash</th>\n",
              "      <th>Water</th>\n",
              "      <th>Superplasticizer</th>\n",
              "      <th>Coarse Aggregate</th>\n",
              "      <th>Fine Aggregate</th>\n",
              "      <th>Age</th>\n",
              "    </tr>\n",
              "  </thead>\n",
              "  <tbody>\n",
              "    <tr>\n",
              "      <th>0</th>\n",
              "      <td>540.0</td>\n",
              "      <td>0.0</td>\n",
              "      <td>0.0</td>\n",
              "      <td>162.0</td>\n",
              "      <td>2.5</td>\n",
              "      <td>1040.0</td>\n",
              "      <td>676.0</td>\n",
              "      <td>28</td>\n",
              "    </tr>\n",
              "    <tr>\n",
              "      <th>1</th>\n",
              "      <td>540.0</td>\n",
              "      <td>0.0</td>\n",
              "      <td>0.0</td>\n",
              "      <td>162.0</td>\n",
              "      <td>2.5</td>\n",
              "      <td>1055.0</td>\n",
              "      <td>676.0</td>\n",
              "      <td>28</td>\n",
              "    </tr>\n",
              "    <tr>\n",
              "      <th>2</th>\n",
              "      <td>332.5</td>\n",
              "      <td>142.5</td>\n",
              "      <td>0.0</td>\n",
              "      <td>228.0</td>\n",
              "      <td>0.0</td>\n",
              "      <td>932.0</td>\n",
              "      <td>594.0</td>\n",
              "      <td>270</td>\n",
              "    </tr>\n",
              "    <tr>\n",
              "      <th>3</th>\n",
              "      <td>332.5</td>\n",
              "      <td>142.5</td>\n",
              "      <td>0.0</td>\n",
              "      <td>228.0</td>\n",
              "      <td>0.0</td>\n",
              "      <td>932.0</td>\n",
              "      <td>594.0</td>\n",
              "      <td>365</td>\n",
              "    </tr>\n",
              "    <tr>\n",
              "      <th>4</th>\n",
              "      <td>198.6</td>\n",
              "      <td>132.4</td>\n",
              "      <td>0.0</td>\n",
              "      <td>192.0</td>\n",
              "      <td>0.0</td>\n",
              "      <td>978.4</td>\n",
              "      <td>825.5</td>\n",
              "      <td>360</td>\n",
              "    </tr>\n",
              "  </tbody>\n",
              "</table>\n",
              "</div>"
            ],
            "text/plain": [
              "   Cement  Blast Furnace Slag  Fly Ash  Water  Superplasticizer  \\\n",
              "0   540.0                 0.0      0.0  162.0               2.5   \n",
              "1   540.0                 0.0      0.0  162.0               2.5   \n",
              "2   332.5               142.5      0.0  228.0               0.0   \n",
              "3   332.5               142.5      0.0  228.0               0.0   \n",
              "4   198.6               132.4      0.0  192.0               0.0   \n",
              "\n",
              "   Coarse Aggregate  Fine Aggregate  Age  \n",
              "0            1040.0           676.0   28  \n",
              "1            1055.0           676.0   28  \n",
              "2             932.0           594.0  270  \n",
              "3             932.0           594.0  365  \n",
              "4             978.4           825.5  360  "
            ]
          },
          "metadata": {
            "tags": []
          },
          "execution_count": 5
        }
      ]
    },
    {
      "cell_type": "markdown",
      "metadata": {
        "id": "mFMXjkkI8Lrc",
        "colab_type": "text"
      },
      "source": [
        "Build the model with \n",
        "* Three hidden layers, each of 10 nodes and a ReLU activation function\n",
        "* Use the adam optimizer and the mean squared error as the loss function"
      ]
    },
    {
      "cell_type": "code",
      "metadata": {
        "id": "S0FFO9zB8Lrd",
        "colab_type": "code",
        "colab": {}
      },
      "source": [
        "from keras.models import Sequential\n",
        "from keras.layers import Dense\n",
        "\n",
        "def build_model(input_shape):\n",
        "    model = Sequential()\n",
        "    model.add(Dense(10, activation='relu', input_shape=(input_shape,)))\n",
        "    model.add(Dense(10, activation='relu'))\n",
        "    model.add(Dense(10, activation='relu'))\n",
        "    model.add(Dense(1))\n",
        "\n",
        "    model.compile(loss='mean_squared_error',\n",
        "                 optimizer='adam')\n",
        "    model.summary()\n",
        "    return model"
      ],
      "execution_count": 0,
      "outputs": []
    },
    {
      "cell_type": "markdown",
      "metadata": {
        "id": "w8w-sele8Lrf",
        "colab_type": "text"
      },
      "source": [
        "## 1. Randomly split the data into a training and test sets by holding 30% of the data for testing."
      ]
    },
    {
      "cell_type": "code",
      "metadata": {
        "id": "6_FcFyjA8Lrf",
        "colab_type": "code",
        "outputId": "cc275fe5-9a06-4973-e1e3-8fb8cc2d4c24",
        "colab": {}
      },
      "source": [
        "from sklearn.model_selection import train_test_split\n",
        "\n",
        "X_train, X_test, y_train, y_test = train_test_split(concrete_data, target, test_size=0.30)\n",
        "print(X_train.shape, X_test.shape, y_train.shape, y_test.shape)"
      ],
      "execution_count": 0,
      "outputs": [
        {
          "output_type": "stream",
          "text": [
            "(721, 8) (309, 8) (721,) (309,)\n"
          ],
          "name": "stdout"
        }
      ]
    },
    {
      "cell_type": "markdown",
      "metadata": {
        "id": "ndrcOZkn8Lri",
        "colab_type": "text"
      },
      "source": [
        "Normalize the train data"
      ]
    },
    {
      "cell_type": "code",
      "metadata": {
        "id": "vNIcuQ718Lri",
        "colab_type": "code",
        "colab": {}
      },
      "source": [
        "train_means = X_train.mean()\n",
        "train_stds = X_train.std()\n",
        "X_train_norm = (X_train - train_means) / train_stds\n",
        "X_test_norm = (X_test - train_means) / train_stds"
      ],
      "execution_count": 0,
      "outputs": []
    },
    {
      "cell_type": "code",
      "metadata": {
        "id": "CFiyMEV_8Lrk",
        "colab_type": "code",
        "outputId": "abaf9dcb-a15d-49a8-a75c-a8fb44b4caf6",
        "colab": {}
      },
      "source": [
        "X_train_norm.head()"
      ],
      "execution_count": 0,
      "outputs": [
        {
          "output_type": "execute_result",
          "data": {
            "text/html": [
              "<div>\n",
              "<style scoped>\n",
              "    .dataframe tbody tr th:only-of-type {\n",
              "        vertical-align: middle;\n",
              "    }\n",
              "\n",
              "    .dataframe tbody tr th {\n",
              "        vertical-align: top;\n",
              "    }\n",
              "\n",
              "    .dataframe thead th {\n",
              "        text-align: right;\n",
              "    }\n",
              "</style>\n",
              "<table border=\"1\" class=\"dataframe\">\n",
              "  <thead>\n",
              "    <tr style=\"text-align: right;\">\n",
              "      <th></th>\n",
              "      <th>Cement</th>\n",
              "      <th>Blast Furnace Slag</th>\n",
              "      <th>Fly Ash</th>\n",
              "      <th>Water</th>\n",
              "      <th>Superplasticizer</th>\n",
              "      <th>Coarse Aggregate</th>\n",
              "      <th>Fine Aggregate</th>\n",
              "      <th>Age</th>\n",
              "    </tr>\n",
              "  </thead>\n",
              "  <tbody>\n",
              "    <tr>\n",
              "      <th>329</th>\n",
              "      <td>-0.347363</td>\n",
              "      <td>-0.839882</td>\n",
              "      <td>1.126289</td>\n",
              "      <td>-1.785793</td>\n",
              "      <td>0.971787</td>\n",
              "      <td>1.441764</td>\n",
              "      <td>0.354116</td>\n",
              "      <td>-0.692536</td>\n",
              "    </tr>\n",
              "    <tr>\n",
              "      <th>130</th>\n",
              "      <td>0.374259</td>\n",
              "      <td>2.412951</td>\n",
              "      <td>-0.839100</td>\n",
              "      <td>0.105221</td>\n",
              "      <td>0.686106</td>\n",
              "      <td>-0.399263</td>\n",
              "      <td>-1.405852</td>\n",
              "      <td>-0.276853</td>\n",
              "    </tr>\n",
              "    <tr>\n",
              "      <th>107</th>\n",
              "      <td>0.374259</td>\n",
              "      <td>2.412951</td>\n",
              "      <td>-0.839100</td>\n",
              "      <td>0.105221</td>\n",
              "      <td>0.686106</td>\n",
              "      <td>-0.399263</td>\n",
              "      <td>-1.405852</td>\n",
              "      <td>-0.626026</td>\n",
              "    </tr>\n",
              "    <tr>\n",
              "      <th>416</th>\n",
              "      <td>-0.659847</td>\n",
              "      <td>-0.839882</td>\n",
              "      <td>1.897677</td>\n",
              "      <td>-1.043395</td>\n",
              "      <td>0.921373</td>\n",
              "      <td>0.889839</td>\n",
              "      <td>-0.007863</td>\n",
              "      <td>-0.692536</td>\n",
              "    </tr>\n",
              "    <tr>\n",
              "      <th>271</th>\n",
              "      <td>-0.488121</td>\n",
              "      <td>-0.839882</td>\n",
              "      <td>1.071302</td>\n",
              "      <td>-0.352357</td>\n",
              "      <td>0.081134</td>\n",
              "      <td>1.053372</td>\n",
              "      <td>0.074518</td>\n",
              "      <td>-0.276853</td>\n",
              "    </tr>\n",
              "  </tbody>\n",
              "</table>\n",
              "</div>"
            ],
            "text/plain": [
              "       Cement  Blast Furnace Slag   Fly Ash     Water  Superplasticizer  \\\n",
              "329 -0.347363           -0.839882  1.126289 -1.785793          0.971787   \n",
              "130  0.374259            2.412951 -0.839100  0.105221          0.686106   \n",
              "107  0.374259            2.412951 -0.839100  0.105221          0.686106   \n",
              "416 -0.659847           -0.839882  1.897677 -1.043395          0.921373   \n",
              "271 -0.488121           -0.839882  1.071302 -0.352357          0.081134   \n",
              "\n",
              "     Coarse Aggregate  Fine Aggregate       Age  \n",
              "329          1.441764        0.354116 -0.692536  \n",
              "130         -0.399263       -1.405852 -0.276853  \n",
              "107         -0.399263       -1.405852 -0.626026  \n",
              "416          0.889839       -0.007863 -0.692536  \n",
              "271          1.053372        0.074518 -0.276853  "
            ]
          },
          "metadata": {
            "tags": []
          },
          "execution_count": 10
        }
      ]
    },
    {
      "cell_type": "code",
      "metadata": {
        "id": "uMYY-t4v8Lrn",
        "colab_type": "code",
        "outputId": "21995e63-7ed5-463f-e670-6e74e4d85e84",
        "colab": {}
      },
      "source": [
        "X_test_norm.head()"
      ],
      "execution_count": 0,
      "outputs": [
        {
          "output_type": "execute_result",
          "data": {
            "text/html": [
              "<div>\n",
              "<style scoped>\n",
              "    .dataframe tbody tr th:only-of-type {\n",
              "        vertical-align: middle;\n",
              "    }\n",
              "\n",
              "    .dataframe tbody tr th {\n",
              "        vertical-align: top;\n",
              "    }\n",
              "\n",
              "    .dataframe thead th {\n",
              "        text-align: right;\n",
              "    }\n",
              "</style>\n",
              "<table border=\"1\" class=\"dataframe\">\n",
              "  <thead>\n",
              "    <tr style=\"text-align: right;\">\n",
              "      <th></th>\n",
              "      <th>Cement</th>\n",
              "      <th>Blast Furnace Slag</th>\n",
              "      <th>Fly Ash</th>\n",
              "      <th>Water</th>\n",
              "      <th>Superplasticizer</th>\n",
              "      <th>Coarse Aggregate</th>\n",
              "      <th>Fine Aggregate</th>\n",
              "      <th>Age</th>\n",
              "    </tr>\n",
              "  </thead>\n",
              "  <tbody>\n",
              "    <tr>\n",
              "      <th>273</th>\n",
              "      <td>-0.488121</td>\n",
              "      <td>-0.839882</td>\n",
              "      <td>1.071302</td>\n",
              "      <td>-0.352357</td>\n",
              "      <td>0.081134</td>\n",
              "      <td>1.053372</td>\n",
              "      <td>0.074518</td>\n",
              "      <td>0.920314</td>\n",
              "    </tr>\n",
              "    <tr>\n",
              "      <th>984</th>\n",
              "      <td>-1.210682</td>\n",
              "      <td>-0.839882</td>\n",
              "      <td>1.404366</td>\n",
              "      <td>0.548793</td>\n",
              "      <td>0.484448</td>\n",
              "      <td>-1.236093</td>\n",
              "      <td>1.187917</td>\n",
              "      <td>-0.276853</td>\n",
              "    </tr>\n",
              "    <tr>\n",
              "      <th>233</th>\n",
              "      <td>-0.657970</td>\n",
              "      <td>0.288488</td>\n",
              "      <td>-0.454192</td>\n",
              "      <td>0.007169</td>\n",
              "      <td>0.114743</td>\n",
              "      <td>1.173467</td>\n",
              "      <td>0.160644</td>\n",
              "      <td>0.920314</td>\n",
              "    </tr>\n",
              "    <tr>\n",
              "      <th>172</th>\n",
              "      <td>1.324847</td>\n",
              "      <td>0.382806</td>\n",
              "      <td>-0.839100</td>\n",
              "      <td>-1.309537</td>\n",
              "      <td>1.728002</td>\n",
              "      <td>-1.556771</td>\n",
              "      <td>1.430069</td>\n",
              "      <td>0.770668</td>\n",
              "    </tr>\n",
              "    <tr>\n",
              "      <th>244</th>\n",
              "      <td>-0.429003</td>\n",
              "      <td>-0.839882</td>\n",
              "      <td>0.639262</td>\n",
              "      <td>0.240627</td>\n",
              "      <td>0.131548</td>\n",
              "      <td>-0.307275</td>\n",
              "      <td>0.929539</td>\n",
              "      <td>-0.692536</td>\n",
              "    </tr>\n",
              "  </tbody>\n",
              "</table>\n",
              "</div>"
            ],
            "text/plain": [
              "       Cement  Blast Furnace Slag   Fly Ash     Water  Superplasticizer  \\\n",
              "273 -0.488121           -0.839882  1.071302 -0.352357          0.081134   \n",
              "984 -1.210682           -0.839882  1.404366  0.548793          0.484448   \n",
              "233 -0.657970            0.288488 -0.454192  0.007169          0.114743   \n",
              "172  1.324847            0.382806 -0.839100 -1.309537          1.728002   \n",
              "244 -0.429003           -0.839882  0.639262  0.240627          0.131548   \n",
              "\n",
              "     Coarse Aggregate  Fine Aggregate       Age  \n",
              "273          1.053372        0.074518  0.920314  \n",
              "984         -1.236093        1.187917 -0.276853  \n",
              "233          1.173467        0.160644  0.920314  \n",
              "172         -1.556771        1.430069  0.770668  \n",
              "244         -0.307275        0.929539 -0.692536  "
            ]
          },
          "metadata": {
            "tags": []
          },
          "execution_count": 11
        }
      ]
    },
    {
      "cell_type": "markdown",
      "metadata": {
        "id": "dq5eQTDz8Lrp",
        "colab_type": "text"
      },
      "source": [
        "Build model"
      ]
    },
    {
      "cell_type": "code",
      "metadata": {
        "id": "JaQGTvzg8Lrq",
        "colab_type": "code",
        "outputId": "e7f8a1da-ccdc-47ba-ecd9-279ee0532ef7",
        "colab": {}
      },
      "source": [
        "concrete_model = build_model(X_train_norm.shape[1])"
      ],
      "execution_count": 0,
      "outputs": [
        {
          "output_type": "stream",
          "text": [
            "_________________________________________________________________\n",
            "Layer (type)                 Output Shape              Param #   \n",
            "=================================================================\n",
            "dense_1 (Dense)              (None, 10)                90        \n",
            "_________________________________________________________________\n",
            "dense_2 (Dense)              (None, 10)                110       \n",
            "_________________________________________________________________\n",
            "dense_3 (Dense)              (None, 10)                110       \n",
            "_________________________________________________________________\n",
            "dense_4 (Dense)              (None, 1)                 11        \n",
            "=================================================================\n",
            "Total params: 321\n",
            "Trainable params: 321\n",
            "Non-trainable params: 0\n",
            "_________________________________________________________________\n"
          ],
          "name": "stdout"
        }
      ]
    },
    {
      "cell_type": "markdown",
      "metadata": {
        "id": "TPwXCfgd8Lrt",
        "colab_type": "text"
      },
      "source": [
        "## 2. Train the model on the training data using 50 epochs"
      ]
    },
    {
      "cell_type": "code",
      "metadata": {
        "id": "JFL-awLe8Lru",
        "colab_type": "code",
        "outputId": "7c22b382-7d77-4cc4-ef4b-55d2fc7a3707",
        "colab": {}
      },
      "source": [
        "concrete_model.fit(X_train_norm, y_train, epochs=50, verbose=0)"
      ],
      "execution_count": 0,
      "outputs": [
        {
          "output_type": "execute_result",
          "data": {
            "text/plain": [
              "<keras.callbacks.History at 0x7ff118e26fd0>"
            ]
          },
          "metadata": {
            "tags": []
          },
          "execution_count": 13
        }
      ]
    },
    {
      "cell_type": "markdown",
      "metadata": {
        "id": "uVXPy_E28Lrw",
        "colab_type": "text"
      },
      "source": [
        "## 3. Evaluate the model on the test data and compute the mean squared error between the predicted concrete strength and the actual concrete strength"
      ]
    },
    {
      "cell_type": "markdown",
      "metadata": {
        "id": "Vy3n8GgE8Lrx",
        "colab_type": "text"
      },
      "source": [
        "Use the model to predict strength"
      ]
    },
    {
      "cell_type": "code",
      "metadata": {
        "id": "JNc_ob8y8Lrx",
        "colab_type": "code",
        "colab": {}
      },
      "source": [
        "y_hat = concrete_model.predict(X_test_norm)\n",
        "# print(y_hat)"
      ],
      "execution_count": 0,
      "outputs": []
    },
    {
      "cell_type": "code",
      "metadata": {
        "id": "DfNRgKuq8Lrz",
        "colab_type": "code",
        "outputId": "0f94c2ec-5ef0-4fb9-9dec-9ae7767b7b0b",
        "colab": {}
      },
      "source": [
        "from sklearn.metrics import mean_squared_error\n",
        "mse = mean_squared_error(y_test, y_hat)\n",
        "mse"
      ],
      "execution_count": 0,
      "outputs": [
        {
          "output_type": "execute_result",
          "data": {
            "text/plain": [
              "146.29454495431634"
            ]
          },
          "metadata": {
            "tags": []
          },
          "execution_count": 15
        }
      ]
    },
    {
      "cell_type": "markdown",
      "metadata": {
        "id": "cEf1KM2Z8Lr1",
        "colab_type": "text"
      },
      "source": [
        "## 4. Repeat steps 1 - 3, 50 times"
      ]
    },
    {
      "cell_type": "code",
      "metadata": {
        "id": "mxJu7AV08Lr2",
        "colab_type": "code",
        "colab": {}
      },
      "source": [
        "mse_list = list()"
      ],
      "execution_count": 0,
      "outputs": []
    },
    {
      "cell_type": "code",
      "metadata": {
        "id": "KYXzZojp8Lr4",
        "colab_type": "code",
        "colab": {}
      },
      "source": [
        "for r in range(0, 50):\n",
        "    # 1\n",
        "    X_train, X_test, y_train, y_test = train_test_split(concrete_data, target, test_size=0.30)\n",
        "    train_means = X_train.mean()\n",
        "    train_stds = X_train.std()\n",
        "    X_train_norm = (X_train - train_means) / train_stds\n",
        "    X_test_norm = (X_test - train_means) / train_stds\n",
        "    # 2 \n",
        "    concrete_model.fit(X_train_norm, y_train, epochs=50, verbose=0)\n",
        "    # 3\n",
        "    y_hat = concrete_model.predict(X_test_norm)\n",
        "    mse = mean_squared_error(y_test, y_hat)\n",
        "    mse_list.append(mse)"
      ],
      "execution_count": 0,
      "outputs": []
    },
    {
      "cell_type": "markdown",
      "metadata": {
        "id": "nboJGshQ8Lr6",
        "colab_type": "text"
      },
      "source": [
        "## 5. Report the mean and the standard deviation of the mean squared errors."
      ]
    },
    {
      "cell_type": "code",
      "metadata": {
        "id": "H4vFyAop8Lr6",
        "colab_type": "code",
        "outputId": "52419dfe-0a20-496f-e934-959e1a685a0f",
        "colab": {}
      },
      "source": [
        "print(\"Mean of the 50 runs = {} /// Standard deviation = {}\".format(sum(mse_list)/len(mse_list), np.std(mse_list)))"
      ],
      "execution_count": 0,
      "outputs": [
        {
          "output_type": "stream",
          "text": [
            "Mean of the 50 runs = 38.621805991374515 /// Standard deviation = 22.676398014814378\n"
          ],
          "name": "stdout"
        }
      ]
    },
    {
      "cell_type": "markdown",
      "metadata": {
        "id": "RuALQMgu8Lr8",
        "colab_type": "text"
      },
      "source": [
        "Compare to Step B the mean squared error is better. The mean has improved but the standard deviation just a little. Increasing hidden layers in the models enables to have in average better predictions.\n",
        "* Results of step B mean = 41.950 /// std = 23.994\n",
        "* Results of step D mean = 38.622 /// std = 22.676"
      ]
    },
    {
      "cell_type": "markdown",
      "metadata": {
        "id": "-IQDgEQe8Lr8",
        "colab_type": "text"
      },
      "source": [
        ""
      ]
    }
  ]
}