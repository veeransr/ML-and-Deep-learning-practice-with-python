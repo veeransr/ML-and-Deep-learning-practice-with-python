{
  "nbformat": 4,
  "nbformat_minor": 0,
  "metadata": {
    "colab": {
      "name": "Torch basics.ipynb",
      "provenance": [],
      "collapsed_sections": [],
      "authorship_tag": "ABX9TyN//T/MkUCfBpXr5F1fYluD",
      "include_colab_link": true
    },
    "kernelspec": {
      "name": "python3",
      "display_name": "Python 3"
    }
  },
  "cells": [
    {
      "cell_type": "markdown",
      "metadata": {
        "id": "view-in-github",
        "colab_type": "text"
      },
      "source": [
        "<a href=\"https://colab.research.google.com/github/veeransr/ML-and-Deep-learning-practice-with-python/blob/master/Torch_basics.ipynb\" target=\"_parent\"><img src=\"https://colab.research.google.com/assets/colab-badge.svg\" alt=\"Open In Colab\"/></a>"
      ]
    },
    {
      "cell_type": "code",
      "metadata": {
        "id": "j_7KFBN0yUvT",
        "colab_type": "code",
        "colab": {}
      },
      "source": [
        "import torch\n",
        "import numpy as np \n",
        "import pandas as pd\n",
        "\n",
        "import matplotlib.pyplot as plt\n",
        "%matplotlib inline  "
      ],
      "execution_count": 0,
      "outputs": []
    },
    {
      "cell_type": "code",
      "metadata": {
        "id": "KpCK-_nRya9o",
        "colab_type": "code",
        "colab": {
          "base_uri": "https://localhost:8080/",
          "height": 34
        },
        "outputId": "fc46067f-a437-4035-f615-f3ad2ac360f2"
      },
      "source": [
        "torch.__version__"
      ],
      "execution_count": 3,
      "outputs": [
        {
          "output_type": "execute_result",
          "data": {
            "text/plain": [
              "'1.5.0+cu101'"
            ]
          },
          "metadata": {
            "tags": []
          },
          "execution_count": 3
        }
      ]
    },
    {
      "cell_type": "code",
      "metadata": {
        "id": "MEL13N2m1u4q",
        "colab_type": "code",
        "colab": {}
      },
      "source": [
        "# Plot vecotrs, please keep the parameters in the same length\n",
        "# @param: Vectors = [{\"vector\": vector variable, \"name\": name of vector, \"color\": color of the vector on diagram}]\n",
        "    \n",
        "def plotVec(vectors):\n",
        "    ax = plt.axes()\n",
        "    \n",
        "    # For loop to draw the vectors\n",
        "    for vec in vectors:\n",
        "        ax.arrow(0, 0, *vec[\"vector\"], head_width = 0.05,color = vec[\"color\"], head_length = 0.1)\n",
        "        plt.text(*(vec[\"vector\"] + 0.1), vec[\"name\"])\n",
        "    \n",
        "    plt.ylim(-2,2)\n",
        "    plt.xlim(-2,2)"
      ],
      "execution_count": 0,
      "outputs": []
    },
    {
      "cell_type": "code",
      "metadata": {
        "id": "24R9EkBH12v_",
        "colab_type": "code",
        "colab": {
          "base_uri": "https://localhost:8080/",
          "height": 51
        },
        "outputId": "bf5366fb-4105-4624-a051-b05872b801f8"
      },
      "source": [
        "a= [1,2,3,4,5]\n",
        "\n",
        "ints_to_tensor = torch.tensor([0, 1, 2, 3, 4])\n",
        "ints_to_tensor1 = torch.tensor(a)\n",
        "ints_to_tensor1\n",
        "ints_to_tensor1.dtype\n",
        "ints_to_tensor1.type()\n",
        "print(\"The dtype of tensor object after converting it to tensor: \", ints_to_tensor.dtype)\n",
        "print(\"The type of tensor object after converting it to tensor: \", ints_to_tensor.type())\n"
      ],
      "execution_count": 11,
      "outputs": [
        {
          "output_type": "stream",
          "text": [
            "The dtype of tensor object after converting it to tensor:  torch.int64\n",
            "The type of tensor object after converting it to tensor:  torch.LongTensor\n"
          ],
          "name": "stdout"
        }
      ]
    },
    {
      "cell_type": "code",
      "metadata": {
        "id": "i40iAyPg38Up",
        "colab_type": "code",
        "colab": {
          "base_uri": "https://localhost:8080/",
          "height": 34
        },
        "outputId": "5f83d4a2-bf94-440a-d76a-93b1b63dd5b9"
      },
      "source": [
        "ints_to_tensor1"
      ],
      "execution_count": 14,
      "outputs": [
        {
          "output_type": "execute_result",
          "data": {
            "text/plain": [
              "tensor([1, 2, 3, 4, 5])"
            ]
          },
          "metadata": {
            "tags": []
          },
          "execution_count": 14
        }
      ]
    },
    {
      "cell_type": "code",
      "metadata": {
        "id": "RoBsHP0Z3rz0",
        "colab_type": "code",
        "colab": {
          "base_uri": "https://localhost:8080/",
          "height": 34
        },
        "outputId": "1ff4d5ba-02a0-4286-9a42-073201b411dc"
      },
      "source": [
        "b= ints_to_tensor1.numpy()\n",
        "b"
      ],
      "execution_count": 13,
      "outputs": [
        {
          "output_type": "execute_result",
          "data": {
            "text/plain": [
              "array([1, 2, 3, 4, 5])"
            ]
          },
          "metadata": {
            "tags": []
          },
          "execution_count": 13
        }
      ]
    },
    {
      "cell_type": "code",
      "metadata": {
        "id": "GcKBPoVp4CK6",
        "colab_type": "code",
        "colab": {
          "base_uri": "https://localhost:8080/",
          "height": 34
        },
        "outputId": "48b0a243-8c82-4723-8fe5-b1041d963d48"
      },
      "source": [
        "c=torch.from_numpy(b)\n",
        "c"
      ],
      "execution_count": 17,
      "outputs": [
        {
          "output_type": "execute_result",
          "data": {
            "text/plain": [
              "tensor([1, 2, 3, 4, 5])"
            ]
          },
          "metadata": {
            "tags": []
          },
          "execution_count": 17
        }
      ]
    },
    {
      "cell_type": "code",
      "metadata": {
        "id": "wup2NGtR4ZMx",
        "colab_type": "code",
        "colab": {
          "base_uri": "https://localhost:8080/",
          "height": 34
        },
        "outputId": "06ab1337-2186-4b98-d44b-906afcebdd6e"
      },
      "source": [
        "d = c.tolist()\n",
        "d"
      ],
      "execution_count": 19,
      "outputs": [
        {
          "output_type": "execute_result",
          "data": {
            "text/plain": [
              "[1, 2, 3, 4, 5]"
            ]
          },
          "metadata": {
            "tags": []
          },
          "execution_count": 19
        }
      ]
    },
    {
      "cell_type": "code",
      "metadata": {
        "id": "DPi6tQQ35YcG",
        "colab_type": "code",
        "colab": {
          "base_uri": "https://localhost:8080/",
          "height": 34
        },
        "outputId": "6e8dced1-26c7-4b36-a531-524a91b738b0"
      },
      "source": [
        "type(ints_to_tensor)"
      ],
      "execution_count": 20,
      "outputs": [
        {
          "output_type": "execute_result",
          "data": {
            "text/plain": [
              "torch.Tensor"
            ]
          },
          "metadata": {
            "tags": []
          },
          "execution_count": 20
        }
      ]
    },
    {
      "cell_type": "code",
      "metadata": {
        "id": "cbo18RG95a-X",
        "colab_type": "code",
        "colab": {
          "base_uri": "https://localhost:8080/",
          "height": 34
        },
        "outputId": "b1098e27-d988-410c-a76a-2842d1c53db6"
      },
      "source": [
        "ints_to_tensor.type()"
      ],
      "execution_count": 21,
      "outputs": [
        {
          "output_type": "execute_result",
          "data": {
            "text/plain": [
              "'torch.LongTensor'"
            ]
          },
          "metadata": {
            "tags": []
          },
          "execution_count": 21
        }
      ]
    },
    {
      "cell_type": "markdown",
      "metadata": {
        "id": "wapUriYe5sg3",
        "colab_type": "text"
      },
      "source": [
        "You can find the type of this float list [0.0, 1.0, 2.0, 3.0, 4.0] by applying the method torch.tensor():"
      ]
    },
    {
      "cell_type": "code",
      "metadata": {
        "id": "Mw1StZc55jXe",
        "colab_type": "code",
        "colab": {
          "base_uri": "https://localhost:8080/",
          "height": 34
        },
        "outputId": "e14cfd9d-e236-4c54-fa1b-a62ef127b408"
      },
      "source": [
        "e = torch.tensor([0.0, 1.0, 2.0, 3.0, 4.0])\n",
        "e\n"
      ],
      "execution_count": 22,
      "outputs": [
        {
          "output_type": "execute_result",
          "data": {
            "text/plain": [
              "tensor([0., 1., 2., 3., 4.])"
            ]
          },
          "metadata": {
            "tags": []
          },
          "execution_count": 22
        }
      ]
    },
    {
      "cell_type": "code",
      "metadata": {
        "id": "lCxUiX5Q6HB5",
        "colab_type": "code",
        "colab": {
          "base_uri": "https://localhost:8080/",
          "height": 34
        },
        "outputId": "84c735f9-b39f-4303-8527-051f2a860241"
      },
      "source": [
        "e.type()"
      ],
      "execution_count": 23,
      "outputs": [
        {
          "output_type": "execute_result",
          "data": {
            "text/plain": [
              "'torch.FloatTensor'"
            ]
          },
          "metadata": {
            "tags": []
          },
          "execution_count": 23
        }
      ]
    },
    {
      "cell_type": "code",
      "metadata": {
        "id": "wCAx3Shg6J8R",
        "colab_type": "code",
        "colab": {
          "base_uri": "https://localhost:8080/",
          "height": 34
        },
        "outputId": "c1f25025-9b17-4ea9-da43-d6119a74a937"
      },
      "source": [
        "list_floats=[0.0, 1.0, 2.0, 3.0, 4.0]\n",
        "\n",
        "floats_int_tensor=torch.tensor(list_floats,dtype=torch.int64)\n",
        "floats_int_tensor"
      ],
      "execution_count": 25,
      "outputs": [
        {
          "output_type": "execute_result",
          "data": {
            "text/plain": [
              "tensor([0, 1, 2, 3, 4])"
            ]
          },
          "metadata": {
            "tags": []
          },
          "execution_count": 25
        }
      ]
    },
    {
      "cell_type": "code",
      "metadata": {
        "id": "nuwIhPIv8Fdh",
        "colab_type": "code",
        "colab": {
          "base_uri": "https://localhost:8080/",
          "height": 34
        },
        "outputId": "fa589060-ed3c-42ca-df8c-dd4dd9962447"
      },
      "source": [
        "floats_int_tensor1=torch.tensor(list_floats,dtype=torch.uint8)\n",
        "floats_int_tensor1"
      ],
      "execution_count": 27,
      "outputs": [
        {
          "output_type": "execute_result",
          "data": {
            "text/plain": [
              "tensor([0, 1, 2, 3, 4], dtype=torch.uint8)"
            ]
          },
          "metadata": {
            "tags": []
          },
          "execution_count": 27
        }
      ]
    },
    {
      "cell_type": "code",
      "metadata": {
        "id": "dP4fOcDU8bhi",
        "colab_type": "code",
        "colab": {
          "base_uri": "https://localhost:8080/",
          "height": 34
        },
        "outputId": "1cd05b72-5641-4d22-e306-99b20d1c9077"
      },
      "source": [
        "type(floats_int_tensor1)"
      ],
      "execution_count": 28,
      "outputs": [
        {
          "output_type": "execute_result",
          "data": {
            "text/plain": [
              "torch.Tensor"
            ]
          },
          "metadata": {
            "tags": []
          },
          "execution_count": 28
        }
      ]
    },
    {
      "cell_type": "code",
      "metadata": {
        "id": "Jm-XSpsb8ifS",
        "colab_type": "code",
        "colab": {
          "base_uri": "https://localhost:8080/",
          "height": 34
        },
        "outputId": "de389252-8572-4680-c606-ab62c614cbdf"
      },
      "source": [
        "floats_int_tensor2=torch.tensor(list_floats,dtype=torch.int8)\n",
        "floats_int_tensor2"
      ],
      "execution_count": 29,
      "outputs": [
        {
          "output_type": "execute_result",
          "data": {
            "text/plain": [
              "tensor([0, 1, 2, 3, 4], dtype=torch.int8)"
            ]
          },
          "metadata": {
            "tags": []
          },
          "execution_count": 29
        }
      ]
    },
    {
      "cell_type": "code",
      "metadata": {
        "id": "iB5yjG0P9Ms6",
        "colab_type": "code",
        "colab": {
          "base_uri": "https://localhost:8080/",
          "height": 34
        },
        "outputId": "045b0433-8a31-493d-8525-020d3f62d18e"
      },
      "source": [
        "floats_int_tensor3=torch.tensor(list_floats,dtype=torch.float16)\n",
        "floats_int_tensor3"
      ],
      "execution_count": 30,
      "outputs": [
        {
          "output_type": "execute_result",
          "data": {
            "text/plain": [
              "tensor([0., 1., 2., 3., 4.], dtype=torch.float16)"
            ]
          },
          "metadata": {
            "tags": []
          },
          "execution_count": 30
        }
      ]
    },
    {
      "cell_type": "code",
      "metadata": {
        "id": "MnMsD7eN90n2",
        "colab_type": "code",
        "colab": {
          "base_uri": "https://localhost:8080/",
          "height": 34
        },
        "outputId": "60344496-ce7f-4b48-a39d-8935db4d0d3b"
      },
      "source": [
        "# Convert a integer list with length 5 to float tensor\n",
        "\n",
        "new_float_tensor = torch.FloatTensor([0, 1, 2, 3, 4])\n",
        "new_float_tensor.type()\n",
        "print(\"The type of the new_float_tensor:\", new_float_tensor.type())"
      ],
      "execution_count": 31,
      "outputs": [
        {
          "output_type": "stream",
          "text": [
            "The type of the new_float_tensor: torch.FloatTensor\n"
          ],
          "name": "stdout"
        }
      ]
    },
    {
      "cell_type": "code",
      "metadata": {
        "id": "hg7tANU_9YCi",
        "colab_type": "code",
        "colab": {
          "base_uri": "https://localhost:8080/",
          "height": 34
        },
        "outputId": "e1007f79-9221-4b7e-e78c-47db0a275584"
      },
      "source": [
        "new_float_tensor = torch.FloatTensor([0, 1, 2, 3, 4])\n",
        "new_float_tensor"
      ],
      "execution_count": 33,
      "outputs": [
        {
          "output_type": "execute_result",
          "data": {
            "text/plain": [
              "tensor([0., 1., 2., 3., 4.])"
            ]
          },
          "metadata": {
            "tags": []
          },
          "execution_count": 33
        }
      ]
    },
    {
      "cell_type": "code",
      "metadata": {
        "id": "tVN4ASmI-xac",
        "colab_type": "code",
        "colab": {
          "base_uri": "https://localhost:8080/",
          "height": 34
        },
        "outputId": "95b092aa-ec37-48bf-a32f-9a9f76c6507d"
      },
      "source": [
        "new_float_tensor2=torch.tensor([0, 1, 2, 3, 4], dtype= torch.float32)\n",
        "new_float_tensor2"
      ],
      "execution_count": 36,
      "outputs": [
        {
          "output_type": "execute_result",
          "data": {
            "text/plain": [
              "tensor([0., 1., 2., 3., 4.])"
            ]
          },
          "metadata": {
            "tags": []
          },
          "execution_count": 36
        }
      ]
    },
    {
      "cell_type": "code",
      "metadata": {
        "id": "hVRUOV1u_RBo",
        "colab_type": "code",
        "colab": {
          "base_uri": "https://localhost:8080/",
          "height": 34
        },
        "outputId": "0c808f93-ce71-48ee-c684-4e18ebb2cf4b"
      },
      "source": [
        "# Another method to convert the integer list to float tensor\n",
        "\n",
        "old_int_tensor = torch.tensor([0, 1, 2, 3, 4])\n",
        "new_float_tensor = old_int_tensor.type(torch.FloatTensor)\n",
        "print(\"The type of the new_float_tensor:\", new_float_tensor.type())"
      ],
      "execution_count": 37,
      "outputs": [
        {
          "output_type": "stream",
          "text": [
            "The type of the new_float_tensor: torch.FloatTensor\n"
          ],
          "name": "stdout"
        }
      ]
    },
    {
      "cell_type": "markdown",
      "metadata": {
        "id": "f_j0zSDq_lOc",
        "colab_type": "text"
      },
      "source": [
        "The tensor_obj.size() helps you to find out the size of the tensor_obj. The tensor_obj.ndimension() shows the dimension of the tensor object."
      ]
    },
    {
      "cell_type": "code",
      "metadata": {
        "id": "T3DTf2Wr_k06",
        "colab_type": "code",
        "colab": {
          "base_uri": "https://localhost:8080/",
          "height": 51
        },
        "outputId": "9a07aaea-e2df-447c-8f17-9e16d8adbed0"
      },
      "source": [
        "# Introduce the tensor_obj.size() & tensor_ndimension.size() methods\n",
        "\n",
        "print(\"The size of the new_float_tensor: \", new_float_tensor.size())\n",
        "print(\"The dimension of the new_float_tensor: \",new_float_tensor.ndimension())"
      ],
      "execution_count": 38,
      "outputs": [
        {
          "output_type": "stream",
          "text": [
            "The size of the new_float_tensor:  torch.Size([5])\n",
            "The dimension of the new_float_tensor:  1\n"
          ],
          "name": "stdout"
        }
      ]
    },
    {
      "cell_type": "markdown",
      "metadata": {
        "id": "QUz4oQ7M__tN",
        "colab_type": "text"
      },
      "source": [
        "The tensor_obj.view(row, column) is used for reshaping a tensor object.\n",
        "\n",
        "What if you have a tensor object with torch.Size([5]) as a new_float_tensor as shown in the previous example?\n",
        "After you execute new_float_tensor.view(5, 1), the size of new_float_tensor will be torch.Size([5, 1]).\n",
        "This means that the tensor object new_float_tensor has been reshaped from a one-dimensional tensor object with 5 elements to a two-dimensional tensor object with 5 rows and 1 column."
      ]
    },
    {
      "cell_type": "code",
      "metadata": {
        "id": "oRX0PB4K__ZN",
        "colab_type": "code",
        "colab": {
          "base_uri": "https://localhost:8080/",
          "height": 119
        },
        "outputId": "4f532a4b-496e-4864-bf35-13f979411c00"
      },
      "source": [
        "# Introduce the tensor_obj.view(row, column) method\n",
        "\n",
        "twoD_float_tensor = new_float_tensor.view(5, 1)\n",
        "print(\"Original Size: \", new_float_tensor)\n",
        "print(\"Size after view method\", twoD_float_tensor)"
      ],
      "execution_count": 39,
      "outputs": [
        {
          "output_type": "stream",
          "text": [
            "Original Size:  tensor([0., 1., 2., 3., 4.])\n",
            "Size after view method tensor([[0.],\n",
            "        [1.],\n",
            "        [2.],\n",
            "        [3.],\n",
            "        [4.]])\n"
          ],
          "name": "stdout"
        }
      ]
    },
    {
      "cell_type": "code",
      "metadata": {
        "id": "t1hMmOkNA1W8",
        "colab_type": "code",
        "colab": {
          "base_uri": "https://localhost:8080/",
          "height": 34
        },
        "outputId": "e5ff4970-2b90-4f4b-e788-e7e5c375bc49"
      },
      "source": [
        "twoD_float_tensor2 = new_float_tensor.view(1, 5)\n",
        "twoD_float_tensor2"
      ],
      "execution_count": 40,
      "outputs": [
        {
          "output_type": "execute_result",
          "data": {
            "text/plain": [
              "tensor([[0., 1., 2., 3., 4.]])"
            ]
          },
          "metadata": {
            "tags": []
          },
          "execution_count": 40
        }
      ]
    },
    {
      "cell_type": "code",
      "metadata": {
        "id": "hTw09LFtBEzG",
        "colab_type": "code",
        "colab": {}
      },
      "source": [
        "#twoD_float_tensor3 = new_float_tensor.view(2, 4)\n",
        "#twoD_float_tensor3"
      ],
      "execution_count": 0,
      "outputs": []
    },
    {
      "cell_type": "markdown",
      "metadata": {
        "id": "GRToyp7mBpMt",
        "colab_type": "text"
      },
      "source": [
        "\n",
        "What if you have a tensor with dynamic size but you want to reshape it? You can use -1 to do just that."
      ]
    },
    {
      "cell_type": "code",
      "metadata": {
        "id": "LRoo4WURBZVo",
        "colab_type": "code",
        "colab": {
          "base_uri": "https://localhost:8080/",
          "height": 119
        },
        "outputId": "e9d0b290-6bee-4a5f-aba3-d0722e7cd46d"
      },
      "source": [
        "# Introduce the use of -1 in tensor_obj.view(row, column) method\n",
        "\n",
        "twoD_float_tensor = new_float_tensor.view(-1, 1)\n",
        "print(\"Original Size: \", new_float_tensor)\n",
        "print(\"Size after view method\", twoD_float_tensor)"
      ],
      "execution_count": 44,
      "outputs": [
        {
          "output_type": "stream",
          "text": [
            "Original Size:  tensor([0., 1., 2., 3., 4.])\n",
            "Size after view method tensor([[0.],\n",
            "        [1.],\n",
            "        [2.],\n",
            "        [3.],\n",
            "        [4.]])\n"
          ],
          "name": "stdout"
        }
      ]
    },
    {
      "cell_type": "markdown",
      "metadata": {
        "id": "P601WZ13CgG4",
        "colab_type": "text"
      },
      "source": [
        "back_to_numpy and new_tensor still point to numpy_array. As a result if we change numpy_array both back_to_numpy and new_tensor will change. For example if we set all the elements in numpy_array to zeros, back_to_numpy and  new_tensor will follow suit."
      ]
    },
    {
      "cell_type": "code",
      "metadata": {
        "id": "xBHT4nuaCR5A",
        "colab_type": "code",
        "colab": {
          "base_uri": "https://localhost:8080/",
          "height": 51
        },
        "outputId": "e3ca689b-e9f8-4198-c587-9514339ad375"
      },
      "source": [
        "# Convert a numpy array to a tensor\n",
        "\n",
        "numpy_array = np.array([0.0, 1.0, 2.0, 3.0, 4.0])\n",
        "new_tensor = torch.from_numpy(numpy_array)\n",
        "\n",
        "print(\"The dtype of new tensor: \", new_tensor.dtype)\n",
        "print(\"The type of new tensor: \", new_tensor.type())"
      ],
      "execution_count": 45,
      "outputs": [
        {
          "output_type": "stream",
          "text": [
            "The dtype of new tensor:  torch.float64\n",
            "The type of new tensor:  torch.DoubleTensor\n"
          ],
          "name": "stdout"
        }
      ]
    },
    {
      "cell_type": "markdown",
      "metadata": {
        "id": "4uDdZdWTDe15",
        "colab_type": "text"
      },
      "source": [
        "important during the conversion process, the object point to other one without complete change, thus change in one affects the other one as well"
      ]
    },
    {
      "cell_type": "code",
      "metadata": {
        "id": "icNHTSLpCS1O",
        "colab_type": "code",
        "colab": {
          "base_uri": "https://localhost:8080/",
          "height": 51
        },
        "outputId": "d8ca812f-9bc3-4bec-f4e1-b86ae9353fea"
      },
      "source": [
        "# Convert a tensor to a numpy array\n",
        "\n",
        "back_to_numpy = new_tensor.numpy()\n",
        "print(\"The numpy array from tensor: \", back_to_numpy)\n",
        "print(\"The dtype of numpy array: \", back_to_numpy.dtype)"
      ],
      "execution_count": 46,
      "outputs": [
        {
          "output_type": "stream",
          "text": [
            "The numpy array from tensor:  [0. 1. 2. 3. 4.]\n",
            "The dtype of numpy array:  float64\n"
          ],
          "name": "stdout"
        }
      ]
    },
    {
      "cell_type": "code",
      "metadata": {
        "id": "E4rluJ0YCYY-",
        "colab_type": "code",
        "colab": {
          "base_uri": "https://localhost:8080/",
          "height": 51
        },
        "outputId": "351498cb-edd7-44ad-a2e3-c7c1811f268d"
      },
      "source": [
        "# Set all elements in numpy array to zero \n",
        "numpy_array[:] = 0\n",
        "print(\"The new tensor points to numpy_array : \", new_tensor)\n",
        "print(\"and back to numpy array points to the tensor: \", back_to_numpy)"
      ],
      "execution_count": 47,
      "outputs": [
        {
          "output_type": "stream",
          "text": [
            "The new tensor points to numpy_array :  tensor([0., 0., 0., 0., 0.], dtype=torch.float64)\n",
            "and back to numpy array points to the tensor:  [0. 0. 0. 0. 0.]\n"
          ],
          "name": "stdout"
        }
      ]
    },
    {
      "cell_type": "markdown",
      "metadata": {
        "id": "V3whzzEcD7hJ",
        "colab_type": "text"
      },
      "source": [
        "\n",
        "Pandas Series can also be converted by using the numpy array that is stored in pandas_series.values. Note that pandas_series can be any pandas_series object."
      ]
    },
    {
      "cell_type": "code",
      "metadata": {
        "id": "cuevbT5LCanp",
        "colab_type": "code",
        "colab": {
          "base_uri": "https://localhost:8080/",
          "height": 68
        },
        "outputId": "c50bff4a-e63b-42a6-931d-1b76ec879b1c"
      },
      "source": [
        "# Convert a panda series to a tensor\n",
        "\n",
        "pandas_series=pd.Series([0.1, 2, 0.3, 10.1])\n",
        "new_tensor=torch.from_numpy(pandas_series.values)\n",
        "print(\"The new tensor from numpy array: \", new_tensor)\n",
        "print(\"The dtype of new tensor: \", new_tensor.dtype)\n",
        "print(\"The type of new tensor: \", new_tensor.type())"
      ],
      "execution_count": 48,
      "outputs": [
        {
          "output_type": "stream",
          "text": [
            "The new tensor from numpy array:  tensor([ 0.1000,  2.0000,  0.3000, 10.1000], dtype=torch.float64)\n",
            "The dtype of new tensor:  torch.float64\n",
            "The type of new tensor:  torch.DoubleTensor\n"
          ],
          "name": "stdout"
        }
      ]
    },
    {
      "cell_type": "code",
      "metadata": {
        "id": "d7TpTar-E63T",
        "colab_type": "code",
        "colab": {}
      },
      "source": [
        "this_tensor=torch.tensor([0,1, 2,3]) "
      ],
      "execution_count": 0,
      "outputs": []
    },
    {
      "cell_type": "markdown",
      "metadata": {
        "id": "oIYAqmZOE9VO",
        "colab_type": "text"
      },
      "source": [
        "The method item() returns the value of this tensor as a standard Python number. This only works for one element."
      ]
    },
    {
      "cell_type": "code",
      "metadata": {
        "id": "cLIAEzurFCQG",
        "colab_type": "code",
        "colab": {
          "base_uri": "https://localhost:8080/",
          "height": 68
        },
        "outputId": "74b90787-328b-4baf-d670-a5daf8d140a0"
      },
      "source": [
        "this_tensor=torch.tensor([0,1, 2,3]) \n",
        "\n",
        "print(\"the first item is given by\",this_tensor[0].item(),\"the first tensor value is given by \",this_tensor[0])\n",
        "print(\"the second item is given by\",this_tensor[1].item(),\"the second tensor value is given by \",this_tensor[1])\n",
        "print(\"the third  item is given by\",this_tensor[2].item(),\"the third tensor value is given by \",this_tensor[2])"
      ],
      "execution_count": 49,
      "outputs": [
        {
          "output_type": "stream",
          "text": [
            "the first item is given by 0 the first tensor value is given by  tensor(0)\n",
            "the second item is given by 1 the second tensor value is given by  tensor(1)\n",
            "the third  item is given by 2 the third tensor value is given by  tensor(2)\n"
          ],
          "name": "stdout"
        }
      ]
    },
    {
      "cell_type": "markdown",
      "metadata": {
        "id": "MiZDJ6ZIFLno",
        "colab_type": "text"
      },
      "source": [
        "\n",
        "we can use the method  tolist() to return a list"
      ]
    },
    {
      "cell_type": "code",
      "metadata": {
        "id": "JMCcH9qyFKXB",
        "colab_type": "code",
        "colab": {
          "base_uri": "https://localhost:8080/",
          "height": 51
        },
        "outputId": "e94c006b-89f7-435e-df20-b7c7dcbe8839"
      },
      "source": [
        "torch_to_list=this_tensor.tolist()\n",
        "\n",
        "print('tensor:', this_tensor,\"\\nlist:\",torch_to_list)"
      ],
      "execution_count": 50,
      "outputs": [
        {
          "output_type": "stream",
          "text": [
            "tensor: tensor([0, 1, 2, 3]) \n",
            "list: [0, 1, 2, 3]\n"
          ],
          "name": "stdout"
        }
      ]
    },
    {
      "cell_type": "code",
      "metadata": {
        "id": "QcDoW_lYF0WW",
        "colab_type": "code",
        "colab": {
          "base_uri": "https://localhost:8080/",
          "height": 34
        },
        "outputId": "81cb4e7b-768f-4cae-ea5c-a34ddd009ef9"
      },
      "source": [
        "# Practice: convert the following tensor to a tensor object with 1 row and 5 columns\n",
        "\n",
        "your_tensor = torch.tensor([1, 2, 3, 4, 5])\n",
        "your_tensor.view(1,5)\n",
        "your_tensor\n",
        "your_tensor.ndimension()\n",
        "your_tensor.size()"
      ],
      "execution_count": 55,
      "outputs": [
        {
          "output_type": "execute_result",
          "data": {
            "text/plain": [
              "torch.Size([5])"
            ]
          },
          "metadata": {
            "tags": []
          },
          "execution_count": 55
        }
      ]
    },
    {
      "cell_type": "markdown",
      "metadata": {
        "id": "brF-3u1dGVxg",
        "colab_type": "text"
      },
      "source": [
        "Indexing and Slicing\n",
        "In Python, the index starts with 0. Therefore, the last index will always be 1 less than the length of the tensor object. You can access the value on a certain index by using the square bracket, for example:"
      ]
    },
    {
      "cell_type": "code",
      "metadata": {
        "id": "E2HoYoLIGU-r",
        "colab_type": "code",
        "colab": {
          "base_uri": "https://localhost:8080/",
          "height": 102
        },
        "outputId": "52cf3a75-bf16-41c7-ffb0-eb35987f51c8"
      },
      "source": [
        "# A tensor for showing how the indexs work on tensors\n",
        "\n",
        "index_tensor = torch.tensor([0, 1, 2, 3, 4])\n",
        "print(\"The value on index 0:\",index_tensor[0])\n",
        "print(\"The value on index 1:\",index_tensor[1])\n",
        "print(\"The value on index 2:\",index_tensor[2])\n",
        "print(\"The value on index 3:\",index_tensor[3])\n",
        "print(\"The value on index 4:\",index_tensor[4])"
      ],
      "execution_count": 56,
      "outputs": [
        {
          "output_type": "stream",
          "text": [
            "The value on index 0: tensor(0)\n",
            "The value on index 1: tensor(1)\n",
            "The value on index 2: tensor(2)\n",
            "The value on index 3: tensor(3)\n",
            "The value on index 4: tensor(4)\n"
          ],
          "name": "stdout"
        }
      ]
    },
    {
      "cell_type": "code",
      "metadata": {
        "id": "wFu6DKFxGgT7",
        "colab_type": "code",
        "colab": {}
      },
      "source": [
        "# A tensor for showing how to change value according to the index\n",
        "\n",
        "tensor_sample = torch.tensor([20, 1, 2, 3, 4])"
      ],
      "execution_count": 0,
      "outputs": []
    },
    {
      "cell_type": "code",
      "metadata": {
        "id": "wFB9QfY3Gjdq",
        "colab_type": "code",
        "colab": {
          "base_uri": "https://localhost:8080/",
          "height": 51
        },
        "outputId": "14503058-aa13-4fce-ced0-befa174699ff"
      },
      "source": [
        "# Change the value on the index 0 to 100\n",
        "\n",
        "print(\"Inital value on index 0:\", tensor_sample[0])\n",
        "tensor_sample[0] = 100\n",
        "print(\"Modified tensor:\", tensor_sample)"
      ],
      "execution_count": 58,
      "outputs": [
        {
          "output_type": "stream",
          "text": [
            "Inital value on index 0: tensor(20)\n",
            "Modified tensor: tensor([100,   1,   2,   3,   4])\n"
          ],
          "name": "stdout"
        }
      ]
    },
    {
      "cell_type": "code",
      "metadata": {
        "id": "8D_BqOv8GnqU",
        "colab_type": "code",
        "colab": {
          "base_uri": "https://localhost:8080/",
          "height": 51
        },
        "outputId": "1ab38be7-b696-4de4-fd7e-ecab6ebd5062"
      },
      "source": [
        "# Change the value on the index 4 to 0\n",
        "\n",
        "print(\"Inital value on index 4:\", tensor_sample[4])\n",
        "tensor_sample[4] = 0\n",
        "print(\"Modified tensor:\", tensor_sample)"
      ],
      "execution_count": 59,
      "outputs": [
        {
          "output_type": "stream",
          "text": [
            "Inital value on index 4: tensor(4)\n",
            "Modified tensor: tensor([100,   1,   2,   3,   0])\n"
          ],
          "name": "stdout"
        }
      ]
    },
    {
      "cell_type": "markdown",
      "metadata": {
        "id": "DbJCpfT7GuAZ",
        "colab_type": "text"
      },
      "source": [
        "If you are familiar with Python, you know that there is a feature called slicing on a list. Tensors support the same feature.\n",
        "\n",
        "Get the subset of tensor_sample. The subset should contain the values in tensor_sample from index 1 to index 3."
      ]
    },
    {
      "cell_type": "code",
      "metadata": {
        "id": "cAtDCMZrGuyc",
        "colab_type": "code",
        "colab": {
          "base_uri": "https://localhost:8080/",
          "height": 51
        },
        "outputId": "e0a7e599-4b62-4627-8f47-bb78b99f1d51"
      },
      "source": [
        "# Slice tensor_sample\n",
        "\n",
        "subset_tensor_sample = tensor_sample[1:4]\n",
        "print(\"Original tensor sample: \", tensor_sample)\n",
        "print(\"The subset of tensor sample:\", subset_tensor_sample)"
      ],
      "execution_count": 60,
      "outputs": [
        {
          "output_type": "stream",
          "text": [
            "Original tensor sample:  tensor([100,   1,   2,   3,   0])\n",
            "The subset of tensor sample: tensor([1, 2, 3])\n"
          ],
          "name": "stdout"
        }
      ]
    },
    {
      "cell_type": "markdown",
      "metadata": {
        "id": "Y07dF4p5G6_E",
        "colab_type": "text"
      },
      "source": [
        "Note: The number on the left side of the colon represents the index of the first value. The number on the right side of the colon is always 1 larger than the index of the last value. For example, tensor_sample[1:4] means you get values from the index 1 to index 3 (4-1)."
      ]
    },
    {
      "cell_type": "code",
      "metadata": {
        "id": "llqqI-WjG3Ek",
        "colab_type": "code",
        "colab": {
          "base_uri": "https://localhost:8080/",
          "height": 51
        },
        "outputId": "b3bd063a-5f94-4dcf-daa5-ccf6d0ea3371"
      },
      "source": [
        "# Change the values on index 3 and index 4\n",
        "\n",
        "print(\"Inital value on index 3 and index 4:\", tensor_sample[3:5])\n",
        "tensor_sample[3:5] = torch.tensor([300.0, 400.0])\n",
        "print(\"Modified tensor:\", tensor_sample)"
      ],
      "execution_count": 61,
      "outputs": [
        {
          "output_type": "stream",
          "text": [
            "Inital value on index 3 and index 4: tensor([3, 0])\n",
            "Modified tensor: tensor([100,   1,   2, 300, 400])\n"
          ],
          "name": "stdout"
        }
      ]
    },
    {
      "cell_type": "code",
      "metadata": {
        "id": "Siu-2IpxHMjO",
        "colab_type": "code",
        "colab": {
          "base_uri": "https://localhost:8080/",
          "height": 51
        },
        "outputId": "757f2f5a-1d84-48eb-a177-5fbf074ffd12"
      },
      "source": [
        "# Using variable to contain the selected index, and pass it to slice operation\n",
        "\n",
        "selected_indexes = [3, 4]\n",
        "subset_tensor_sample = tensor_sample[selected_indexes]\n",
        "print(\"The inital tensor_sample\", tensor_sample)\n",
        "print(\"The subset of tensor_sample with the values on index 3 and 4: \", subset_tensor_sample)"
      ],
      "execution_count": 62,
      "outputs": [
        {
          "output_type": "stream",
          "text": [
            "The inital tensor_sample tensor([100,   1,   2, 300, 400])\n",
            "The subset of tensor_sample with the values on index 3 and 4:  tensor([300, 400])\n"
          ],
          "name": "stdout"
        }
      ]
    },
    {
      "cell_type": "code",
      "metadata": {
        "id": "hxaZP46xHW2f",
        "colab_type": "code",
        "colab": {
          "base_uri": "https://localhost:8080/",
          "height": 34
        },
        "outputId": "73b28349-0bc1-4147-c955-b0eb8cb7f120"
      },
      "source": [
        "subset_tensor_sample1 = tensor_sample[[2,3]]\n",
        "subset_tensor_sample1 "
      ],
      "execution_count": 63,
      "outputs": [
        {
          "output_type": "execute_result",
          "data": {
            "text/plain": [
              "tensor([  2, 300])"
            ]
          },
          "metadata": {
            "tags": []
          },
          "execution_count": 63
        }
      ]
    },
    {
      "cell_type": "markdown",
      "metadata": {
        "id": "gKOwXOOtIGJM",
        "colab_type": "text"
      },
      "source": [
        "Very powerful of reversing the order"
      ]
    },
    {
      "cell_type": "markdown",
      "metadata": {
        "id": "Gf4EZ3xpIgFL",
        "colab_type": "text"
      },
      "source": [
        "double square brackets [[]]"
      ]
    },
    {
      "cell_type": "code",
      "metadata": {
        "id": "HckHuEgQHqO0",
        "colab_type": "code",
        "colab": {
          "base_uri": "https://localhost:8080/",
          "height": 34
        },
        "outputId": "a64354a8-6d8d-463a-a7f5-b7cd3387645b"
      },
      "source": [
        "reverse = tensor_sample[[-1,3,2,1,0]]\n",
        "reverse"
      ],
      "execution_count": 67,
      "outputs": [
        {
          "output_type": "execute_result",
          "data": {
            "text/plain": [
              "tensor([400, 300,   2,   1, 100])"
            ]
          },
          "metadata": {
            "tags": []
          },
          "execution_count": 67
        }
      ]
    },
    {
      "cell_type": "markdown",
      "metadata": {
        "id": "1tyMUNfMIPR6",
        "colab_type": "text"
      },
      "source": [
        "You can also assign one value to the selected indexes by using the variable. For example, assign 100,000 to all the selected_indexes:"
      ]
    },
    {
      "cell_type": "code",
      "metadata": {
        "id": "bSJAAZ0PIK5u",
        "colab_type": "code",
        "colab": {
          "base_uri": "https://localhost:8080/",
          "height": 51
        },
        "outputId": "da116e23-f394-4b47-c459-176fef727232"
      },
      "source": [
        "#Using variable to assign the value to the selected indexes\n",
        "\n",
        "print(\"The inital tensor_sample\", tensor_sample)\n",
        "selected_indexes = [1, 3]\n",
        "tensor_sample[selected_indexes] = 100000\n",
        "print(\"Modified tensor with one value: \", tensor_sample)"
      ],
      "execution_count": 68,
      "outputs": [
        {
          "output_type": "stream",
          "text": [
            "The inital tensor_sample tensor([100,   1,   2, 300, 400])\n",
            "Modified tensor with one value:  tensor([   100, 100000,      2, 100000,    400])\n"
          ],
          "name": "stdout"
        }
      ]
    },
    {
      "cell_type": "markdown",
      "metadata": {
        "id": "6dY2KP7BJwCq",
        "colab_type": "text"
      },
      "source": [
        "# Magic of double square brackets"
      ]
    },
    {
      "cell_type": "code",
      "metadata": {
        "id": "merO7WnEIxEu",
        "colab_type": "code",
        "colab": {
          "base_uri": "https://localhost:8080/",
          "height": 34
        },
        "outputId": "be61c3ae-ce65-4e53-9374-0a6bf9887717"
      },
      "source": [
        "# Practice: Change the values on index 3, 4, 7 to 0\n",
        "\n",
        "practice_tensor = torch.tensor([2, 7, 3, 4, 6, 2, 3, 1, 2])\n",
        "practice_tensor[[3, 4, 7]] = 0\n",
        "practice_tensor"
      ],
      "execution_count": 75,
      "outputs": [
        {
          "output_type": "execute_result",
          "data": {
            "text/plain": [
              "tensor([2, 7, 3, 0, 0, 2, 3, 0, 2])"
            ]
          },
          "metadata": {
            "tags": []
          },
          "execution_count": 75
        }
      ]
    },
    {
      "cell_type": "markdown",
      "metadata": {
        "id": "BcLYsbGmKKwM",
        "colab_type": "text"
      },
      "source": [
        "# Magic of double square brackets"
      ]
    },
    {
      "cell_type": "code",
      "metadata": {
        "id": "TQib8eALKKL_",
        "colab_type": "code",
        "colab": {
          "base_uri": "https://localhost:8080/",
          "height": 34
        },
        "outputId": "faa8b11d-6d45-4181-c485-f45ed148aad9"
      },
      "source": [
        "practice_tensor = torch.tensor([2, 7, 3, 4, 6, 2, 3, 1, 2], dtype=torch.float32)\n",
        "practice_tensor.mean()"
      ],
      "execution_count": 78,
      "outputs": [
        {
          "output_type": "execute_result",
          "data": {
            "text/plain": [
              "tensor(3.3333)"
            ]
          },
          "metadata": {
            "tags": []
          },
          "execution_count": 78
        }
      ]
    },
    {
      "cell_type": "code",
      "metadata": {
        "id": "eC7OUZ-GKkR5",
        "colab_type": "code",
        "colab": {
          "base_uri": "https://localhost:8080/",
          "height": 34
        },
        "outputId": "55fcc3f9-fdbc-40ab-ce37-4bf5b67fb736"
      },
      "source": [
        "practice_tensor.std()"
      ],
      "execution_count": 79,
      "outputs": [
        {
          "output_type": "execute_result",
          "data": {
            "text/plain": [
              "tensor(2.)"
            ]
          },
          "metadata": {
            "tags": []
          },
          "execution_count": 79
        }
      ]
    },
    {
      "cell_type": "code",
      "metadata": {
        "id": "SPn8NTAeKpVg",
        "colab_type": "code",
        "colab": {
          "base_uri": "https://localhost:8080/",
          "height": 34
        },
        "outputId": "faf357ae-c8a5-4f60-f22a-08b2cbcafa2c"
      },
      "source": [
        "practice_tensor.var()"
      ],
      "execution_count": 80,
      "outputs": [
        {
          "output_type": "execute_result",
          "data": {
            "text/plain": [
              "tensor(4.)"
            ]
          },
          "metadata": {
            "tags": []
          },
          "execution_count": 80
        }
      ]
    },
    {
      "cell_type": "code",
      "metadata": {
        "id": "qXwIgINnLJed",
        "colab_type": "code",
        "colab": {
          "base_uri": "https://localhost:8080/",
          "height": 34
        },
        "outputId": "f2c61223-1cf9-4433-ba58-a7f8e3bf98f9"
      },
      "source": [
        "practice_tensor.sum()"
      ],
      "execution_count": 82,
      "outputs": [
        {
          "output_type": "execute_result",
          "data": {
            "text/plain": [
              "tensor(30.)"
            ]
          },
          "metadata": {
            "tags": []
          },
          "execution_count": 82
        }
      ]
    },
    {
      "cell_type": "code",
      "metadata": {
        "id": "cU9O2VEULTff",
        "colab_type": "code",
        "colab": {
          "base_uri": "https://localhost:8080/",
          "height": 34
        },
        "outputId": "496cea6f-e30e-450f-b8a5-17fb2fbd1f1e"
      },
      "source": [
        "practice_tensor.max()"
      ],
      "execution_count": 83,
      "outputs": [
        {
          "output_type": "execute_result",
          "data": {
            "text/plain": [
              "tensor(7.)"
            ]
          },
          "metadata": {
            "tags": []
          },
          "execution_count": 83
        }
      ]
    },
    {
      "cell_type": "code",
      "metadata": {
        "id": "9N8BlsqiLWhF",
        "colab_type": "code",
        "colab": {
          "base_uri": "https://localhost:8080/",
          "height": 34
        },
        "outputId": "a547eef5-3927-4a29-dc8c-b89642c61bcb"
      },
      "source": [
        "practice_tensor.min()"
      ],
      "execution_count": 84,
      "outputs": [
        {
          "output_type": "execute_result",
          "data": {
            "text/plain": [
              "tensor(1.)"
            ]
          },
          "metadata": {
            "tags": []
          },
          "execution_count": 84
        }
      ]
    },
    {
      "cell_type": "code",
      "metadata": {
        "id": "39ahsMMaLY9Q",
        "colab_type": "code",
        "colab": {
          "base_uri": "https://localhost:8080/",
          "height": 34
        },
        "outputId": "2ff5a7f4-8f76-4482-9a15-e80959752dc7"
      },
      "source": [
        "practice_tensor.median()"
      ],
      "execution_count": 85,
      "outputs": [
        {
          "output_type": "execute_result",
          "data": {
            "text/plain": [
              "tensor(3.)"
            ]
          },
          "metadata": {
            "tags": []
          },
          "execution_count": 85
        }
      ]
    },
    {
      "cell_type": "markdown",
      "metadata": {
        "id": "Ti_w3a-RL1pL",
        "colab_type": "text"
      },
      "source": [
        "Sin\n",
        "Sin is the trigonometric function of an angle. Again, you will not be introducedvto any mathematic functions. You'll focus on Python.\n",
        "\n",
        "Create a tensor with 0, π/2 and π. Then, apply the sin function on the tensor. Notice here that the sin() is not a method of tensor object but is a function of torch:"
      ]
    },
    {
      "cell_type": "code",
      "metadata": {
        "id": "BbMZy9XkL31g",
        "colab_type": "code",
        "colab": {
          "base_uri": "https://localhost:8080/",
          "height": 51
        },
        "outputId": "41958fb1-ba42-4f75-c91c-b61585e5c164"
      },
      "source": [
        "practice_tensor.sin()"
      ],
      "execution_count": 87,
      "outputs": [
        {
          "output_type": "execute_result",
          "data": {
            "text/plain": [
              "tensor([ 0.9093,  0.6570,  0.1411, -0.7568, -0.2794,  0.9093,  0.1411,  0.8415,\n",
              "         0.9093])"
            ]
          },
          "metadata": {
            "tags": []
          },
          "execution_count": 87
        }
      ]
    },
    {
      "cell_type": "code",
      "metadata": {
        "id": "K2K4_8VmMBgS",
        "colab_type": "code",
        "colab": {
          "base_uri": "https://localhost:8080/",
          "height": 34
        },
        "outputId": "4d92a2cb-8bdd-48b3-df57-baf82616b941"
      },
      "source": [
        "practice_tensor.sqrt_()"
      ],
      "execution_count": 88,
      "outputs": [
        {
          "output_type": "execute_result",
          "data": {
            "text/plain": [
              "tensor([1.4142, 2.6458, 1.7321, 2.0000, 2.4495, 1.4142, 1.7321, 1.0000, 1.4142])"
            ]
          },
          "metadata": {
            "tags": []
          },
          "execution_count": 88
        }
      ]
    },
    {
      "cell_type": "code",
      "metadata": {
        "id": "xMKMiDojMHcD",
        "colab_type": "code",
        "colab": {
          "base_uri": "https://localhost:8080/",
          "height": 34
        },
        "outputId": "d616f86d-58a8-468f-a10e-973108174b3a"
      },
      "source": [
        "practice_tensor.square()"
      ],
      "execution_count": 89,
      "outputs": [
        {
          "output_type": "execute_result",
          "data": {
            "text/plain": [
              "tensor([2.0000, 7.0000, 3.0000, 4.0000, 6.0000, 2.0000, 3.0000, 1.0000, 2.0000])"
            ]
          },
          "metadata": {
            "tags": []
          },
          "execution_count": 89
        }
      ]
    },
    {
      "cell_type": "code",
      "metadata": {
        "id": "e8Qz-wB-MTEl",
        "colab_type": "code",
        "colab": {
          "base_uri": "https://localhost:8080/",
          "height": 34
        },
        "outputId": "192d5373-5927-46c2-808a-e8d51f0ea548"
      },
      "source": [
        "practice_tensor.square()"
      ],
      "execution_count": 90,
      "outputs": [
        {
          "output_type": "execute_result",
          "data": {
            "text/plain": [
              "tensor([2.0000, 7.0000, 3.0000, 4.0000, 6.0000, 2.0000, 3.0000, 1.0000, 2.0000])"
            ]
          },
          "metadata": {
            "tags": []
          },
          "execution_count": 90
        }
      ]
    },
    {
      "cell_type": "code",
      "metadata": {
        "id": "XxjEunnuMaOv",
        "colab_type": "code",
        "colab": {
          "base_uri": "https://localhost:8080/",
          "height": 34
        },
        "outputId": "6c61c179-340f-4eba-8c89-f8d884680cea"
      },
      "source": [
        "practice_tensor = torch.tensor([2, 7, 3, 4, 6, 2, 3, 1, 2])\n",
        "practice_tensor.square()"
      ],
      "execution_count": 91,
      "outputs": [
        {
          "output_type": "execute_result",
          "data": {
            "text/plain": [
              "tensor([ 4, 49,  9, 16, 36,  4,  9,  1,  4])"
            ]
          },
          "metadata": {
            "tags": []
          },
          "execution_count": 91
        }
      ]
    },
    {
      "cell_type": "code",
      "metadata": {
        "id": "wnxjq7ctM29A",
        "colab_type": "code",
        "colab": {
          "base_uri": "https://localhost:8080/",
          "height": 34
        },
        "outputId": "a325f46d-18f9-450b-91ac-7f8886f9ad94"
      },
      "source": [
        "# Method for calculating the sin result of each element in the tensor\n",
        "\n",
        "pi_tensor = torch.tensor([0, np.pi/2, np.pi])\n",
        "sin = torch.sin(pi_tensor)\n",
        "print(\"The sin result of pi_tensor: \", sin)"
      ],
      "execution_count": 93,
      "outputs": [
        {
          "output_type": "stream",
          "text": [
            "The sin result of pi_tensor:  tensor([ 0.0000e+00,  1.0000e+00, -8.7423e-08])\n"
          ],
          "name": "stdout"
        }
      ]
    },
    {
      "cell_type": "markdown",
      "metadata": {
        "id": "0ADKC2zrM_yS",
        "colab_type": "text"
      },
      "source": [
        "The resultant tensor sin contains the result of the sin function applied to each element in the pi_tensor.\n",
        "This is different from the previous methods. For tensor_obj.mean(), tensor_obj.std(), tensor_obj.max(), and tensor_obj.min(), the result is a tensor with only one number because these are aggregate methods.\n",
        "However, the torch.sin() is not. Therefore, the resultant tensors have the same length as the input tensor."
      ]
    },
    {
      "cell_type": "markdown",
      "metadata": {
        "id": "u0G3hvBSNQdT",
        "colab_type": "text"
      },
      "source": [
        "# Create Tensor by torch.linspace()\n",
        "A useful function for plotting mathematical functions is torch.linspace(). torch.linspace() returns evenly spaced numbers over a specified interval. You specify the starting point of the sequence and the ending point of the sequence. The parameter steps indicates the number of samples to generate. Now, you'll work with steps = 5."
      ]
    },
    {
      "cell_type": "code",
      "metadata": {
        "id": "yp54SU-aM5pr",
        "colab_type": "code",
        "colab": {
          "base_uri": "https://localhost:8080/",
          "height": 153
        },
        "outputId": "4ffd2786-05fb-4837-943e-f19a6edba912"
      },
      "source": [
        "h=torch.linspace(0,1000,100, dtype=torch.int32)\n",
        "h"
      ],
      "execution_count": 116,
      "outputs": [
        {
          "output_type": "execute_result",
          "data": {
            "text/plain": [
              "tensor([  0,  10,  20,  30,  40,  50,  60,  70,  80,  90, 101, 111, 121, 131,\n",
              "        141, 151, 161, 171, 181, 191, 202, 212, 222, 232, 242, 252, 262, 272,\n",
              "        282, 292, 303, 313, 323, 333, 343, 353, 363, 373, 383, 393, 404, 414,\n",
              "        424, 434, 444, 454, 464, 474, 484, 494, 505, 515, 525, 535, 545, 555,\n",
              "        565, 575, 585, 595, 606, 616, 626, 636, 646, 656, 666, 676, 686, 696,\n",
              "        707, 717, 727, 737, 747, 757, 767, 777, 787, 797, 808, 818, 828, 838,\n",
              "        848, 858, 868, 878, 888, 898, 909, 919, 929, 939, 949, 959, 969, 979,\n",
              "        989, 999], dtype=torch.int32)"
            ]
          },
          "metadata": {
            "tags": []
          },
          "execution_count": 116
        }
      ]
    },
    {
      "cell_type": "code",
      "metadata": {
        "id": "aZ6UgbbiXP2e",
        "colab_type": "code",
        "colab": {
          "base_uri": "https://localhost:8080/",
          "height": 34
        },
        "outputId": "d2645450-337e-4bf3-b088-61c2335a5977"
      },
      "source": [
        "len_5_tensor = torch.linspace(-2, 2, steps = 5)\n",
        "print (\"First Try on linspace\", len_5_tensor)"
      ],
      "execution_count": 100,
      "outputs": [
        {
          "output_type": "stream",
          "text": [
            "First Try on linspace tensor([-2., -1.,  0.,  1.,  2.])\n"
          ],
          "name": "stdout"
        }
      ]
    },
    {
      "cell_type": "code",
      "metadata": {
        "id": "fxlUFMZGXVAM",
        "colab_type": "code",
        "colab": {
          "base_uri": "https://localhost:8080/",
          "height": 51
        },
        "outputId": "02ee5a3c-7031-4be2-cac3-d9fd7a7f06fb"
      },
      "source": [
        "# Second try on using linspace to create tensor\n",
        "\n",
        "len_9_tensor = torch.linspace(-2, 2, steps = 9)\n",
        "print (\"Second Try on linspace\", len_9_tensor)"
      ],
      "execution_count": 101,
      "outputs": [
        {
          "output_type": "stream",
          "text": [
            "Second Try on linspace tensor([-2.0000, -1.5000, -1.0000, -0.5000,  0.0000,  0.5000,  1.0000,  1.5000,\n",
            "         2.0000])\n"
          ],
          "name": "stdout"
        }
      ]
    },
    {
      "cell_type": "code",
      "metadata": {
        "id": "M2LQYptxXWc8",
        "colab_type": "code",
        "colab": {}
      },
      "source": [
        "# Construct the tensor within 0 to 360 degree\n",
        "\n",
        "pi_tensor = torch.linspace(0, 2*np.pi, 100)\n",
        "sin_result = torch.sin(pi_tensor)"
      ],
      "execution_count": 0,
      "outputs": []
    },
    {
      "cell_type": "code",
      "metadata": {
        "id": "CCUZpvFWYKQ6",
        "colab_type": "code",
        "colab": {}
      },
      "source": [
        "g = torch.linspace(0, 2*np.pi, 100).sin()"
      ],
      "execution_count": 0,
      "outputs": []
    },
    {
      "cell_type": "code",
      "metadata": {
        "id": "Da1-huqhck5x",
        "colab_type": "code",
        "colab": {
          "base_uri": "https://localhost:8080/",
          "height": 34
        },
        "outputId": "ff0fb649-0213-488c-a18a-eb4f7dcf284f"
      },
      "source": [
        "len(g)"
      ],
      "execution_count": 112,
      "outputs": [
        {
          "output_type": "execute_result",
          "data": {
            "text/plain": [
              "100"
            ]
          },
          "metadata": {
            "tags": []
          },
          "execution_count": 112
        }
      ]
    },
    {
      "cell_type": "markdown",
      "metadata": {
        "id": "UXQtUpcpXfge",
        "colab_type": "text"
      },
      "source": [
        "Plot the result to get a clearer picture. You must cast the tensor to a numpy array before plotting it."
      ]
    },
    {
      "cell_type": "code",
      "metadata": {
        "id": "z7XXDbU7XxTf",
        "colab_type": "code",
        "colab": {
          "base_uri": "https://localhost:8080/",
          "height": 34
        },
        "outputId": "4effd846-c5ed-46e7-cb2c-d29dfbb85a2e"
      },
      "source": [
        "2*np.pi"
      ],
      "execution_count": 104,
      "outputs": [
        {
          "output_type": "execute_result",
          "data": {
            "text/plain": [
              "6.283185307179586"
            ]
          },
          "metadata": {
            "tags": []
          },
          "execution_count": 104
        }
      ]
    },
    {
      "cell_type": "code",
      "metadata": {
        "id": "bxoSYB1rXgV_",
        "colab_type": "code",
        "colab": {
          "base_uri": "https://localhost:8080/",
          "height": 282
        },
        "outputId": "96308c12-37fc-407e-9f78-ffe5dcc14c0e"
      },
      "source": [
        "# Plot sin_result\n",
        "\n",
        "plt.plot(pi_tensor.numpy(), sin_result.numpy())"
      ],
      "execution_count": 103,
      "outputs": [
        {
          "output_type": "execute_result",
          "data": {
            "text/plain": [
              "[<matplotlib.lines.Line2D at 0x7f6b7f89b278>]"
            ]
          },
          "metadata": {
            "tags": []
          },
          "execution_count": 103
        },
        {
          "output_type": "display_data",
          "data": {
            "image/png": "[encoded data removed]",
            "text/plain": [
              "<Figure size 432x288 with 1 Axes>"
            ]
          },
          "metadata": {
            "tags": [],
            "needs_background": "light"
          }
        }
      ]
    },
    {
      "cell_type": "markdown",
      "metadata": {
        "id": "wzTxenfYZoy7",
        "colab_type": "text"
      },
      "source": [
        "Construct a tensor with 25 steps in the range 0 to π/2. Print out the Maximum and Minimum number. Also, plot a graph showing the diagram that shows the result."
      ]
    },
    {
      "cell_type": "code",
      "metadata": {
        "id": "BzGUv5G4Zppa",
        "colab_type": "code",
        "colab": {
          "base_uri": "https://localhost:8080/",
          "height": 34
        },
        "outputId": "ef42cbc0-f77d-4c13-c767-393b5283689f"
      },
      "source": [
        "torch.tensor([0, np.pi/2, 25]).min()"
      ],
      "execution_count": 107,
      "outputs": [
        {
          "output_type": "execute_result",
          "data": {
            "text/plain": [
              "tensor(0.)"
            ]
          },
          "metadata": {
            "tags": []
          },
          "execution_count": 107
        }
      ]
    },
    {
      "cell_type": "code",
      "metadata": {
        "id": "uc9lg5nNaGWZ",
        "colab_type": "code",
        "colab": {
          "base_uri": "https://localhost:8080/",
          "height": 34
        },
        "outputId": "822dad31-e724-43ec-c1cc-a9114ee2c3e4"
      },
      "source": [
        "torch.tensor([0, np.pi/2, 25]).max()"
      ],
      "execution_count": 108,
      "outputs": [
        {
          "output_type": "execute_result",
          "data": {
            "text/plain": [
              "tensor(25.)"
            ]
          },
          "metadata": {
            "tags": []
          },
          "execution_count": 108
        }
      ]
    },
    {
      "cell_type": "code",
      "metadata": {
        "id": "hEu9M-HZaTOH",
        "colab_type": "code",
        "colab": {
          "base_uri": "https://localhost:8080/",
          "height": 282
        },
        "outputId": "e7e25440-fa93-48dd-96e3-8fa9c746563a"
      },
      "source": [
        "plt.plot(torch.tensor([0, np.pi/2, 25]).numpy(), torch.tensor([0, np.pi/2, 25]).numpy() )"
      ],
      "execution_count": 109,
      "outputs": [
        {
          "output_type": "execute_result",
          "data": {
            "text/plain": [
              "[<matplotlib.lines.Line2D at 0x7f6b7ef5f320>]"
            ]
          },
          "metadata": {
            "tags": []
          },
          "execution_count": 109
        },
        {
          "output_type": "display_data",
          "data": {
            "image/png": "[encoded data removed]",
            "text/plain": [
              "<Figure size 432x288 with 1 Axes>"
            ]
          },
          "metadata": {
            "tags": [],
            "needs_background": "light"
          }
        }
      ]
    },
    {
      "cell_type": "code",
      "metadata": {
        "id": "XhSQ3qN0bNg-",
        "colab_type": "code",
        "colab": {
          "base_uri": "https://localhost:8080/",
          "height": 282
        },
        "outputId": "cfce68e5-fea8-449c-8ee6-31a654a35013"
      },
      "source": [
        "plt.plot(torch.tensor([0, np.pi/2, 25]).numpy(), torch.tensor([0, np.pi/2, 25]).sin().numpy() )"
      ],
      "execution_count": 110,
      "outputs": [
        {
          "output_type": "execute_result",
          "data": {
            "text/plain": [
              "[<matplotlib.lines.Line2D at 0x7f6b7ef3f6a0>]"
            ]
          },
          "metadata": {
            "tags": []
          },
          "execution_count": 110
        },
        {
          "output_type": "display_data",
          "data": {
            "image/png": "[encoded data removed]",
            "text/plain": [
              "<Figure size 432x288 with 1 Axes>"
            ]
          },
          "metadata": {
            "tags": [],
            "needs_background": "light"
          }
        }
      ]
    },
    {
      "cell_type": "markdown",
      "metadata": {
        "id": "flM8W7SecODQ",
        "colab_type": "text"
      },
      "source": [
        "# Tensor Operations"
      ]
    },
    {
      "cell_type": "code",
      "metadata": {
        "id": "cPzud7hUb5Y3",
        "colab_type": "code",
        "colab": {
          "base_uri": "https://localhost:8080/",
          "height": 272
        },
        "outputId": "082a096e-78d5-45c8-e06b-2671e45206df"
      },
      "source": [
        "i = g+h\n",
        "i"
      ],
      "execution_count": 118,
      "outputs": [
        {
          "output_type": "execute_result",
          "data": {
            "text/plain": [
              "tensor([  0.0000,  10.0634,  20.1266,  30.1893,  40.2511,  50.3120,  60.3717,\n",
              "         70.4298,  80.4862,  90.5406, 101.5929, 111.6428, 121.6901, 131.7346,\n",
              "        141.7762, 151.8146, 161.8497, 171.8815, 181.9096, 191.9341, 202.9549,\n",
              "        212.9718, 222.9848, 232.9938, 242.9989, 252.9999, 262.9969, 272.9898,\n",
              "        282.9788, 292.9638, 303.9450, 313.9224, 323.8960, 333.8660, 343.8326,\n",
              "        353.7958, 363.7557, 373.7127, 383.6668, 393.6182, 404.5670, 414.5137,\n",
              "        424.4582, 434.4009, 444.3420, 454.2817, 464.2203, 474.1580, 484.0951,\n",
              "        494.0317, 504.9683, 514.9050, 524.8420, 534.7797, 544.7183, 554.6580,\n",
              "        564.5991, 574.5417, 584.4863, 594.4329, 605.3818, 615.3333, 625.2873,\n",
              "        635.2443, 645.2042, 655.1674, 665.1340, 675.1040, 685.0776, 695.0550,\n",
              "        706.0361, 716.0212, 726.0102, 736.0032, 746.0001, 756.0012, 766.0062,\n",
              "        776.0152, 786.0282, 796.0451, 807.0659, 817.0904, 827.1185, 837.1503,\n",
              "        847.1854, 857.2239, 867.2654, 877.3099, 887.3572, 897.4071, 908.4594,\n",
              "        918.5138, 928.5702, 938.6284, 948.6880, 958.7488, 968.8107, 978.8734,\n",
              "        988.9366, 999.0000])"
            ]
          },
          "metadata": {
            "tags": []
          },
          "execution_count": 118
        }
      ]
    },
    {
      "cell_type": "code",
      "metadata": {
        "id": "cKd-Ai8tdMmy",
        "colab_type": "code",
        "colab": {
          "base_uri": "https://localhost:8080/",
          "height": 306
        },
        "outputId": "e85714dc-0ef9-4f30-80f6-4afc0463900d"
      },
      "source": [
        "j = g-h\n",
        "j"
      ],
      "execution_count": 120,
      "outputs": [
        {
          "output_type": "execute_result",
          "data": {
            "text/plain": [
              "tensor([   0.0000,   -9.9366,  -19.8734,  -29.8107,  -39.7489,  -49.6880,\n",
              "         -59.6283,  -69.5702,  -79.5138,  -89.4594, -100.4071, -110.3572,\n",
              "        -120.3099, -130.2654, -140.2238, -150.1854, -160.1503, -170.1185,\n",
              "        -180.0904, -190.0659, -201.0451, -211.0282, -221.0152, -231.0062,\n",
              "        -241.0011, -251.0001, -261.0031, -271.0102, -281.0212, -291.0362,\n",
              "        -302.0550, -312.0776, -322.1040, -332.1340, -342.1674, -352.2042,\n",
              "        -362.2443, -372.2873, -382.3332, -392.3818, -403.4330, -413.4863,\n",
              "        -423.5418, -433.5991, -443.6580, -453.7183, -463.7797, -473.8420,\n",
              "        -483.9049, -493.9683, -505.0317, -515.0950, -525.1580, -535.2203,\n",
              "        -545.2817, -555.3420, -565.4009, -575.4583, -585.5137, -595.5671,\n",
              "        -606.6182, -616.6667, -626.7127, -636.7557, -646.7958, -656.8326,\n",
              "        -666.8660, -676.8960, -686.9224, -696.9450, -707.9639, -717.9788,\n",
              "        -727.9898, -737.9968, -747.9999, -757.9988, -767.9938, -777.9848,\n",
              "        -787.9718, -797.9549, -808.9341, -818.9096, -828.8815, -838.8497,\n",
              "        -848.8146, -858.7761, -868.7346, -878.6901, -888.6428, -898.5929,\n",
              "        -909.5406, -919.4862, -929.4298, -939.3716, -949.3120, -959.2512,\n",
              "        -969.1893, -979.1266, -989.0634, -999.0000])"
            ]
          },
          "metadata": {
            "tags": []
          },
          "execution_count": 120
        }
      ]
    },
    {
      "cell_type": "code",
      "metadata": {
        "id": "LPrRbGZ-dRXk",
        "colab_type": "code",
        "colab": {
          "base_uri": "https://localhost:8080/",
          "height": 357
        },
        "outputId": "0b1ffb26-ed13-4f3f-af3d-84645b3a6eb6"
      },
      "source": [
        "k = g*h\n",
        "k"
      ],
      "execution_count": 122,
      "outputs": [
        {
          "output_type": "execute_result",
          "data": {
            "text/plain": [
              "tensor([ 0.0000e+00,  6.3424e-01,  2.5318e+00,  5.6775e+00,  1.0046e+01,\n",
              "         1.5602e+01,  2.2300e+01,  3.0086e+01,  3.8896e+01,  4.8658e+01,\n",
              "         5.9884e+01,  7.1349e+01,  8.3500e+01,  9.6232e+01,  1.0944e+02,\n",
              "         1.2300e+02,  1.3681e+02,  1.5073e+02,  1.6464e+02,  1.7842e+02,\n",
              "         1.9289e+02,  2.0602e+02,  2.1863e+02,  2.3057e+02,  2.4173e+02,\n",
              "         2.5197e+02,  2.6118e+02,  2.6923e+02,  2.7602e+02,  2.8144e+02,\n",
              "         2.8634e+02,  2.8870e+02,  2.8941e+02,  2.8839e+02,  2.8557e+02,\n",
              "         2.8090e+02,  2.7434e+02,  2.6583e+02,  2.5537e+02,  2.4294e+02,\n",
              "         2.2909e+02,  2.1266e+02,  1.9429e+02,  1.7400e+02,  1.5186e+02,\n",
              "         1.2791e+02,  1.0222e+02,  7.4893e+01,  4.6007e+01,  1.5674e+01,\n",
              "        -1.6023e+01, -4.8954e+01, -8.2951e+01, -1.1787e+02, -1.5354e+02,\n",
              "        -1.8982e+02, -2.2653e+02, -2.6348e+02, -3.0050e+02, -3.3740e+02,\n",
              "        -3.7460e+02, -4.1073e+02, -4.4615e+02, -4.8066e+02, -5.1406e+02,\n",
              "        -5.4617e+02, -5.7677e+02, -6.0569e+02, -6.3274e+02, -6.5772e+02,\n",
              "        -6.8144e+02, -7.0180e+02, -7.1960e+02, -7.3468e+02, -7.4691e+02,\n",
              "        -7.5614e+02, -7.6227e+02, -7.6520e+02, -7.6482e+02, -7.6106e+02,\n",
              "        -7.5479e+02, -7.4408e+02, -7.2984e+02, -7.1207e+02, -6.9076e+02,\n",
              "        -6.6593e+02, -6.3763e+02, -6.0589e+02, -5.7080e+02, -5.3243e+02,\n",
              "        -4.9144e+02, -4.4681e+02, -3.9928e+02, -3.4899e+02, -2.9612e+02,\n",
              "        -2.4085e+02, -1.8338e+02, -1.2393e+02, -6.2726e+01,  1.7467e-04])"
            ]
          },
          "metadata": {
            "tags": []
          },
          "execution_count": 122
        }
      ]
    },
    {
      "cell_type": "code",
      "metadata": {
        "id": "GCjEhoWHdYQf",
        "colab_type": "code",
        "colab": {
          "base_uri": "https://localhost:8080/",
          "height": 357
        },
        "outputId": "d3511c30-1543-44b6-b959-f50660c503da"
      },
      "source": [
        "l = h/g\n",
        "l"
      ],
      "execution_count": 124,
      "outputs": [
        {
          "output_type": "execute_result",
          "data": {
            "text/plain": [
              "tensor([        nan,  1.5767e+02,  1.5799e+02,  1.5852e+02,  1.5927e+02,\n",
              "         1.6024e+02,  1.6144e+02,  1.6287e+02,  1.6454e+02,  1.6647e+02,\n",
              "         1.7035e+02,  1.7269e+02,  1.7534e+02,  1.7833e+02,  1.8167e+02,\n",
              "         1.8537e+02,  1.8947e+02,  1.9400e+02,  1.9898e+02,  2.0446e+02,\n",
              "         2.1154e+02,  2.1815e+02,  2.2542e+02,  2.3344e+02,  2.4227e+02,\n",
              "         2.5203e+02,  2.6283e+02,  2.7480e+02,  2.8811e+02,  3.0295e+02,\n",
              "         3.2063e+02,  3.3935e+02,  3.6049e+02,  3.8452e+02,  4.1198e+02,\n",
              "         4.4360e+02,  4.8032e+02,  5.2337e+02,  5.7441e+02,  6.3576e+02,\n",
              "         7.1245e+02,  8.0595e+02,  9.2531e+02,  1.0825e+03,  1.2982e+03,\n",
              "         1.6115e+03,  2.1061e+03,  3.0000e+03,  5.0917e+03,  1.5570e+04,\n",
              "        -1.5917e+04, -5.4178e+03, -3.3228e+03, -2.4284e+03, -1.9345e+03,\n",
              "        -1.6227e+03, -1.4092e+03, -1.2548e+03, -1.1388e+03, -1.0493e+03,\n",
              "        -9.8033e+02, -9.2386e+02, -8.7836e+02, -8.4155e+02, -8.1180e+02,\n",
              "        -7.8792e+02, -7.6903e+02, -7.5447e+02, -7.4375e+02, -7.3651e+02,\n",
              "        -7.3352e+02, -7.3253e+02, -7.3448e+02, -7.3933e+02, -7.4709e+02,\n",
              "        -7.5786e+02, -7.7176e+02, -7.8899e+02, -8.0983e+02, -8.3464e+02,\n",
              "        -8.6496e+02, -8.9926e+02, -9.3936e+02, -9.8620e+02, -1.0410e+03,\n",
              "        -1.1055e+03, -1.1816e+03, -1.2723e+03, -1.3815e+03, -1.5146e+03,\n",
              "        -1.6813e+03, -1.8902e+03, -2.1615e+03, -2.5265e+03, -3.0413e+03,\n",
              "        -3.8185e+03, -5.1202e+03, -7.7335e+03, -1.5594e+04,  5.7136e+09])"
            ]
          },
          "metadata": {
            "tags": []
          },
          "execution_count": 124
        }
      ]
    },
    {
      "cell_type": "markdown",
      "metadata": {
        "id": "nAbhCHhifRVa",
        "colab_type": "text"
      },
      "source": [
        "Dot Product\n",
        "The dot product is a special operation for a vector that you can use in Torch.\n",
        " The function is 1 x 3 + 2 x 2 = 7."
      ]
    },
    {
      "cell_type": "code",
      "metadata": {
        "id": "DikKoiBAdfcO",
        "colab_type": "code",
        "colab": {
          "base_uri": "https://localhost:8080/",
          "height": 34
        },
        "outputId": "7346a8d4-71b1-49b4-e552-85a16ccb0aca"
      },
      "source": [
        "m = torch.dot(g, h.type(torch.float32))\n",
        "m"
      ],
      "execution_count": 130,
      "outputs": [
        {
          "output_type": "execute_result",
          "data": {
            "text/plain": [
              "tensor(-15749.5273)"
            ]
          },
          "metadata": {
            "tags": []
          },
          "execution_count": 130
        }
      ]
    },
    {
      "cell_type": "code",
      "metadata": {
        "id": "nIH2Z8JmfWQK",
        "colab_type": "code",
        "colab": {
          "base_uri": "https://localhost:8080/",
          "height": 102
        },
        "outputId": "fa0f0648-ade2-4da8-ece8-d91522561cc7"
      },
      "source": [
        "n = g.type(torch.int64)*-1000000000000000000\n",
        "n"
      ],
      "execution_count": 143,
      "outputs": [
        {
          "output_type": "execute_result",
          "data": {
            "text/plain": [
              "tensor([0, 0, 0, 0, 0, 0, 0, 0, 0, 0, 0, 0, 0, 0, 0, 0, 0, 0, 0, 0, 0, 0, 0, 0,\n",
              "        0, 0, 0, 0, 0, 0, 0, 0, 0, 0, 0, 0, 0, 0, 0, 0, 0, 0, 0, 0, 0, 0, 0, 0,\n",
              "        0, 0, 0, 0, 0, 0, 0, 0, 0, 0, 0, 0, 0, 0, 0, 0, 0, 0, 0, 0, 0, 0, 0, 0,\n",
              "        0, 0, 0, 0, 0, 0, 0, 0, 0, 0, 0, 0, 0, 0, 0, 0, 0, 0, 0, 0, 0, 0, 0, 0,\n",
              "        0, 0, 0, 0])"
            ]
          },
          "metadata": {
            "tags": []
          },
          "execution_count": 143
        }
      ]
    },
    {
      "cell_type": "code",
      "metadata": {
        "id": "L76PHG9ogGHP",
        "colab_type": "code",
        "colab": {
          "base_uri": "https://localhost:8080/",
          "height": 85
        },
        "outputId": "fd306118-0ec3-4a3b-f0af-e618036734f0"
      },
      "source": [
        "o = h.type(torch.int64)*-1000000000000000000\n",
        "o [:10]"
      ],
      "execution_count": 146,
      "outputs": [
        {
          "output_type": "execute_result",
          "data": {
            "text/plain": [
              "tensor([                   0,  8446744073709551616, -1553255926290448384,\n",
              "         6893488147419103232, -3106511852580896768,  5340232221128654848,\n",
              "        -4659767778871345152,  3786976294838206464, -6213023705161793536,\n",
              "         2233720368547758080])"
            ]
          },
          "metadata": {
            "tags": []
          },
          "execution_count": 146
        }
      ]
    },
    {
      "cell_type": "code",
      "metadata": {
        "id": "TV7kq7yNgegS",
        "colab_type": "code",
        "colab": {}
      },
      "source": [
        "# Create two sample tensors\n",
        "\n",
        "u = torch.tensor([1, 0])\n",
        "v = torch.tensor([0, 1])"
      ],
      "execution_count": 0,
      "outputs": []
    },
    {
      "cell_type": "code",
      "metadata": {
        "id": "1Lx9yRIrgfIP",
        "colab_type": "code",
        "colab": {
          "base_uri": "https://localhost:8080/",
          "height": 34
        },
        "outputId": "56da78d0-1467-4ddc-9d3a-282594ee6c3f"
      },
      "source": [
        "\n",
        "w = u + v\n",
        "print(\"The result tensor: \", w)"
      ],
      "execution_count": 150,
      "outputs": [
        {
          "output_type": "stream",
          "text": [
            "The result tensor:  tensor([1, 1])\n"
          ],
          "name": "stdout"
        }
      ]
    },
    {
      "cell_type": "markdown",
      "metadata": {
        "id": "SZu6kStagk5J",
        "colab_type": "text"
      },
      "source": [
        "The result is tensor([1, 1]). The behavior is [1 + 0, 0 + 1].\n",
        "\n",
        "Plot the result to to get a clearer picture."
      ]
    },
    {
      "cell_type": "code",
      "metadata": {
        "id": "PLx8m8DGgoJC",
        "colab_type": "code",
        "colab": {
          "base_uri": "https://localhost:8080/",
          "height": 269
        },
        "outputId": "c4ac16b2-1ede-4216-f31a-2c0d41b9872d"
      },
      "source": [
        "# Plot u, v, w\n",
        "\n",
        "plotVec([\n",
        "    {\"vector\": u.numpy(), \"name\": 'u', \"color\": 'r'},\n",
        "    {\"vector\": v.numpy(), \"name\": 'v', \"color\": 'b'},\n",
        "    {\"vector\": w.numpy(), \"name\": 'w', \"color\": 'g'}\n",
        "])"
      ],
      "execution_count": 151,
      "outputs": [
        {
          "output_type": "display_data",
          "data": {
            "image/png": "[encoded data removed]",
            "text/plain": [
              "<Figure size 432x288 with 1 Axes>"
            ]
          },
          "metadata": {
            "tags": [],
            "needs_background": "light"
          }
        }
      ]
    },
    {
      "cell_type": "code",
      "metadata": {
        "id": "3JxuGVkfiogt",
        "colab_type": "code",
        "colab": {}
      },
      "source": [
        "def plotVec(vectors):\n",
        "    ax = plt.axes()\n",
        "    \n",
        "    # For loop to draw the vectors\n",
        "    for vec in vectors:\n",
        "        ax.arrow(0, 0, *vec[\"vector\"], head_width = 0.05,color = vec[\"color\"], head_length = 0.1)\n",
        "        plt.text(*(vec[\"vector\"] + 0.1), vec[\"name\"])\n",
        "    \n",
        "    plt.ylim(-10,10)\n",
        "    plt.xlim(-10,10)"
      ],
      "execution_count": 0,
      "outputs": []
    },
    {
      "cell_type": "code",
      "metadata": {
        "id": "at8LQ6zGghWf",
        "colab_type": "code",
        "colab": {
          "base_uri": "https://localhost:8080/",
          "height": 275
        },
        "outputId": "69bd193d-c2da-43e9-f969-ec058335cc6e"
      },
      "source": [
        "\n",
        "plotVec([\n",
        "    {\"vector\": i[:2].numpy(), \"name\": 'i', \"color\": 'r'},\n",
        "    {\"vector\": j[:2].numpy(), \"name\": 'j', \"color\": 'b'},\n",
        "    {\"vector\": k[:2].numpy(), \"name\": 'k', \"color\": 'g'}\n",
        "])"
      ],
      "execution_count": 159,
      "outputs": [
        {
          "output_type": "display_data",
          "data": {
            "image/png": "[encoded data removed]",
            "text/plain": [
              "<Figure size 432x288 with 1 Axes>"
            ]
          },
          "metadata": {
            "tags": [],
            "needs_background": "light"
          }
        }
      ]
    },
    {
      "cell_type": "code",
      "metadata": {
        "id": "dOTxbxL2kpVC",
        "colab_type": "code",
        "colab": {}
      },
      "source": [
        "u=torch.tensor([1,2])\n",
        "v=torch.tensor([0,1])"
      ],
      "execution_count": 0,
      "outputs": []
    },
    {
      "cell_type": "code",
      "metadata": {
        "id": "IU1-VAGrkp4P",
        "colab_type": "code",
        "colab": {
          "base_uri": "https://localhost:8080/",
          "height": 34
        },
        "outputId": "8922d817-9a2d-4f5f-e15a-9c186789040c"
      },
      "source": [
        " torch.dot(u, v)"
      ],
      "execution_count": 161,
      "outputs": [
        {
          "output_type": "execute_result",
          "data": {
            "text/plain": [
              "tensor(2)"
            ]
          },
          "metadata": {
            "tags": []
          },
          "execution_count": 161
        }
      ]
    },
    {
      "cell_type": "markdown",
      "metadata": {
        "id": "M12yTghytaD2",
        "colab_type": "text"
      },
      "source": [
        "# Two-Dimensional Tensors"
      ]
    },
    {
      "cell_type": "code",
      "metadata": {
        "id": "Wn6M_AoctZGd",
        "colab_type": "code",
        "colab": {
          "base_uri": "https://localhost:8080/",
          "height": 68
        },
        "outputId": "8d94a15f-f3f6-45d6-b3ae-381df1d9fff0"
      },
      "source": [
        "twoD_list = [[11, 12, 13], [21, 22, 23], [31, 32, 33]]\n",
        "twoD_tensor = torch.tensor(twoD_list)\n",
        "twoD_tensor"
      ],
      "execution_count": 163,
      "outputs": [
        {
          "output_type": "execute_result",
          "data": {
            "text/plain": [
              "tensor([[11, 12, 13],\n",
              "        [21, 22, 23],\n",
              "        [31, 32, 33]])"
            ]
          },
          "metadata": {
            "tags": []
          },
          "execution_count": 163
        }
      ]
    },
    {
      "cell_type": "code",
      "metadata": {
        "id": "3zvatg-8trnO",
        "colab_type": "code",
        "colab": {
          "base_uri": "https://localhost:8080/",
          "height": 34
        },
        "outputId": "52be2147-9b68-4b1b-e3bb-af8cd7b9097a"
      },
      "source": [
        "twoD_tensor.numel()"
      ],
      "execution_count": 164,
      "outputs": [
        {
          "output_type": "execute_result",
          "data": {
            "text/plain": [
              "9"
            ]
          },
          "metadata": {
            "tags": []
          },
          "execution_count": 164
        }
      ]
    },
    {
      "cell_type": "code",
      "metadata": {
        "id": "t89Yf7l5uAPU",
        "colab_type": "code",
        "colab": {
          "base_uri": "https://localhost:8080/",
          "height": 85
        },
        "outputId": "654b5965-b85d-474d-8f45-9171fb2755f2"
      },
      "source": [
        "# Try tensor_obj.ndimension(), tensor_obj.shape, tensor_obj.size()\n",
        "\n",
        "print(\"The dimension of twoD_tensor: \", twoD_tensor.ndimension())\n",
        "print(\"The shape of twoD_tensor: \", twoD_tensor.shape)\n",
        "print(\"The shape of twoD_tensor: \", twoD_tensor.size())\n",
        "print(\"The number of elements in twoD_tensor: \", twoD_tensor.numel())"
      ],
      "execution_count": 165,
      "outputs": [
        {
          "output_type": "stream",
          "text": [
            "The dimension of twoD_tensor:  2\n",
            "The shape of twoD_tensor:  torch.Size([3, 3])\n",
            "The shape of twoD_tensor:  torch.Size([3, 3])\n",
            "The number of elements in twoD_tensor:  9\n"
          ],
          "name": "stdout"
        }
      ]
    },
    {
      "cell_type": "code",
      "metadata": {
        "id": "NukeN2X7uBOl",
        "colab_type": "code",
        "colab": {
          "base_uri": "https://localhost:8080/",
          "height": 204
        },
        "outputId": "440ed689-ff2b-43f1-a06e-ede4910d355e"
      },
      "source": [
        "# Convert tensor to numpy array; Convert numpy array to tensor\n",
        "\n",
        "twoD_numpy = twoD_tensor.numpy()\n",
        "print(\"Tensor -> Numpy Array:\")\n",
        "print(\"The numpy array after converting: \", twoD_numpy)\n",
        "print(\"Type after converting: \", twoD_numpy.dtype)\n",
        "\n",
        "print(\"================================================\")\n",
        "\n",
        "new_twoD_tensor = torch.from_numpy(twoD_numpy)\n",
        "print(\"Numpy Array -> Tensor:\")\n",
        "print(\"The tensor after converting:\", new_twoD_tensor)\n",
        "print(\"Type after converting: \", new_twoD_tensor.dtype)"
      ],
      "execution_count": 166,
      "outputs": [
        {
          "output_type": "stream",
          "text": [
            "Tensor -> Numpy Array:\n",
            "The numpy array after converting:  [[11 12 13]\n",
            " [21 22 23]\n",
            " [31 32 33]]\n",
            "Type after converting:  int64\n",
            "================================================\n",
            "Numpy Array -> Tensor:\n",
            "The tensor after converting: tensor([[11, 12, 13],\n",
            "        [21, 22, 23],\n",
            "        [31, 32, 33]])\n",
            "Type after converting:  torch.int64\n"
          ],
          "name": "stdout"
        }
      ]
    },
    {
      "cell_type": "markdown",
      "metadata": {
        "id": "WgUaN_X7uOC7",
        "colab_type": "text"
      },
      "source": [
        "\n",
        "Now let us try to convert a Pandas Dataframe to a tensor. The process is the Same as the 1D conversion, we can obtain the numpy array via the attribute values. Then, we can use torch.from_numpy() to convert the value of the Pandas Series to a tensor."
      ]
    },
    {
      "cell_type": "code",
      "metadata": {
        "id": "CUkicod-uOxm",
        "colab_type": "code",
        "colab": {
          "base_uri": "https://localhost:8080/",
          "height": 170
        },
        "outputId": "5eb64ea5-83e1-4162-969c-6699b146f781"
      },
      "source": [
        "# Try to convert the Panda Dataframe to tensor\n",
        "\n",
        "df = pd.DataFrame({'a':[11,21,31],'b':[12,22,312]})\n",
        "\n",
        "print(\"Pandas Dataframe to numpy: \", df.values)\n",
        "print(\"Type BEFORE converting: \", df.values.dtype)\n",
        "\n",
        "print(\"================================================\")\n",
        "\n",
        "new_tensor = torch.from_numpy(df.values)\n",
        "print(\"Tensor AFTER converting: \", new_tensor)\n",
        "print(\"Type AFTER converting: \", new_tensor.dtype)"
      ],
      "execution_count": 167,
      "outputs": [
        {
          "output_type": "stream",
          "text": [
            "Pandas Dataframe to numpy:  [[ 11  12]\n",
            " [ 21  22]\n",
            " [ 31 312]]\n",
            "Type BEFORE converting:  int64\n",
            "================================================\n",
            "Tensor AFTER converting:  tensor([[ 11,  12],\n",
            "        [ 21,  22],\n",
            "        [ 31, 312]])\n",
            "Type AFTER converting:  torch.int64\n"
          ],
          "name": "stdout"
        }
      ]
    },
    {
      "cell_type": "code",
      "metadata": {
        "id": "gz-CtQqBuaQf",
        "colab_type": "code",
        "colab": {
          "base_uri": "https://localhost:8080/",
          "height": 68
        },
        "outputId": "952a2ac4-091e-462e-deea-d5a3e78e5716"
      },
      "source": [
        "# Practice: try to convert Pandas Series to tensor\n",
        "\n",
        "df = pd.DataFrame({'A':[11, 33, 22],'B':[3, 3, 2]})\n",
        "df_tensor = torch.from_numpy(df.values)\n",
        "df_tensor"
      ],
      "execution_count": 168,
      "outputs": [
        {
          "output_type": "execute_result",
          "data": {
            "text/plain": [
              "tensor([[11,  3],\n",
              "        [33,  3],\n",
              "        [22,  2]])"
            ]
          },
          "metadata": {
            "tags": []
          },
          "execution_count": 168
        }
      ]
    },
    {
      "cell_type": "code",
      "metadata": {
        "id": "bhLDt638uyDE",
        "colab_type": "code",
        "colab": {
          "base_uri": "https://localhost:8080/",
          "height": 51
        },
        "outputId": "4dc8a8ea-240c-4cbb-f659-b91aa5e257c6"
      },
      "source": [
        "# Use tensor_obj[row, column] and tensor_obj[row][column] to access certain position\n",
        "\n",
        "tensor_example = torch.tensor([[11, 12, 13], [21, 22, 23], [31, 32, 33]])\n",
        "print(\"What is the value on 2nd-row 3rd-column? \", tensor_example[1, 2])\n",
        "print(\"What is the value on 2nd-row 3rd-column? \", tensor_example[1][2])"
      ],
      "execution_count": 169,
      "outputs": [
        {
          "output_type": "stream",
          "text": [
            "What is the value on 2nd-row 3rd-column?  tensor(23)\n",
            "What is the value on 2nd-row 3rd-column?  tensor(23)\n"
          ],
          "name": "stdout"
        }
      ]
    },
    {
      "cell_type": "code",
      "metadata": {
        "id": "au_Mr-W9uzlh",
        "colab_type": "code",
        "colab": {
          "base_uri": "https://localhost:8080/",
          "height": 51
        },
        "outputId": "d6d9db79-d698-4cda-aa99-1fe05e64a01c"
      },
      "source": [
        "# Use tensor_obj[begin_row_number: end_row_number, begin_column_number: end_column number] \n",
        "# and tensor_obj[row][begin_column_number: end_column number] to do the slicing\n",
        "\n",
        "tensor_example = torch.tensor([[11, 12, 13], [21, 22, 23], [31, 32, 33]])\n",
        "print(\"What is the value on 1st-row first two columns? \", tensor_example[0, 0:2])\n",
        "print(\"What is the value on 1st-row first two columns? \", tensor_example[0][0:2])"
      ],
      "execution_count": 170,
      "outputs": [
        {
          "output_type": "stream",
          "text": [
            "What is the value on 1st-row first two columns?  tensor([11, 12])\n",
            "What is the value on 1st-row first two columns?  tensor([11, 12])\n"
          ],
          "name": "stdout"
        }
      ]
    },
    {
      "cell_type": "code",
      "metadata": {
        "id": "kaZEr3dJvAn7",
        "colab_type": "code",
        "colab": {
          "base_uri": "https://localhost:8080/",
          "height": 68
        },
        "outputId": "573fd3fc-c4a2-49b6-f6fd-e5d0f75460b5"
      },
      "source": [
        "tensor_example = torch.tensor([[11, 12, 13], [21, 22, 23], [31, 32, 33]])\n",
        "tensor_example "
      ],
      "execution_count": 171,
      "outputs": [
        {
          "output_type": "execute_result",
          "data": {
            "text/plain": [
              "tensor([[11, 12, 13],\n",
              "        [21, 22, 23],\n",
              "        [31, 32, 33]])"
            ]
          },
          "metadata": {
            "tags": []
          },
          "execution_count": 171
        }
      ]
    },
    {
      "cell_type": "code",
      "metadata": {
        "id": "djj03iJ3u9gj",
        "colab_type": "code",
        "colab": {
          "base_uri": "https://localhost:8080/",
          "height": 34
        },
        "outputId": "44e80009-ea70-4cf2-910f-097d6667a0f7"
      },
      "source": [
        "tensor_example [0][:]"
      ],
      "execution_count": 172,
      "outputs": [
        {
          "output_type": "execute_result",
          "data": {
            "text/plain": [
              "tensor([11, 12, 13])"
            ]
          },
          "metadata": {
            "tags": []
          },
          "execution_count": 172
        }
      ]
    },
    {
      "cell_type": "code",
      "metadata": {
        "id": "UVPWSzugvb0V",
        "colab_type": "code",
        "colab": {
          "base_uri": "https://localhost:8080/",
          "height": 34
        },
        "outputId": "4e6b39e4-d2c6-4e69-eecd-f73332353b7e"
      },
      "source": [
        "tensor_example [:][1]"
      ],
      "execution_count": 173,
      "outputs": [
        {
          "output_type": "execute_result",
          "data": {
            "text/plain": [
              "tensor([21, 22, 23])"
            ]
          },
          "metadata": {
            "tags": []
          },
          "execution_count": 173
        }
      ]
    },
    {
      "cell_type": "code",
      "metadata": {
        "id": "Zr_LiLMIvl7d",
        "colab_type": "code",
        "colab": {
          "base_uri": "https://localhost:8080/",
          "height": 34
        },
        "outputId": "707d9990-9a01-461f-c9ff-184a6891a751"
      },
      "source": [
        "tensor_example [0,:]"
      ],
      "execution_count": 174,
      "outputs": [
        {
          "output_type": "execute_result",
          "data": {
            "text/plain": [
              "tensor([11, 12, 13])"
            ]
          },
          "metadata": {
            "tags": []
          },
          "execution_count": 174
        }
      ]
    },
    {
      "cell_type": "markdown",
      "metadata": {
        "id": "HjfMPYKlwySh",
        "colab_type": "text"
      },
      "source": [
        "**But we can't combine using slicing on row and pick one column by using the code tensor_obj[begin_row_number: end_row_number][begin_column_number: end_column number]. The reason is that the slicing will be applied on the tensor first. The result type will be a two dimension again. The second bracket will no longer represent the index of the column it will be the index of the row at that time. Let us see an example.**"
      ]
    },
    {
      "cell_type": "code",
      "metadata": {
        "id": "GLyUhWJaw05d",
        "colab_type": "code",
        "colab": {
          "base_uri": "https://localhost:8080/",
          "height": 221
        },
        "outputId": "989a5070-34d7-40bd-9912-1380adad129c"
      },
      "source": [
        "# Give an idea on tensor_obj[number: number][number]\n",
        "\n",
        "tensor_example = torch.tensor([[11, 12, 13], [21, 22, 23], [31, 32, 33]])\n",
        "sliced_tensor_example = tensor_example[1:3]\n",
        "print(\"1. Slicing step on tensor_example: \")\n",
        "print(\"Result after tensor_example[1:3]: \", sliced_tensor_example)\n",
        "print(\"Dimension after tensor_example[1:3]: \", sliced_tensor_example.ndimension())\n",
        "print(\"================================================\")\n",
        "print(\"2. Pick an index on sliced_tensor_example: \")\n",
        "print(\"Result after sliced_tensor_example[1]: \", sliced_tensor_example[1])\n",
        "print(\"Dimension after sliced_tensor_example[1]: \", sliced_tensor_example[1].ndimension())\n",
        "print(\"================================================\")\n",
        "print(\"3. Combine these step together:\")\n",
        "print(\"Result: \", tensor_example[1:3][1])\n",
        "print(\"Dimension: \", tensor_example[1:3][1].ndimension())"
      ],
      "execution_count": 175,
      "outputs": [
        {
          "output_type": "stream",
          "text": [
            "1. Slicing step on tensor_example: \n",
            "Result after tensor_example[1:3]:  tensor([[21, 22, 23],\n",
            "        [31, 32, 33]])\n",
            "Dimension after tensor_example[1:3]:  2\n",
            "================================================\n",
            "2. Pick an index on sliced_tensor_example: \n",
            "Result after sliced_tensor_example[1]:  tensor([31, 32, 33])\n",
            "Dimension after sliced_tensor_example[1]:  1\n",
            "================================================\n",
            "3. Combine these step together:\n",
            "Result:  tensor([31, 32, 33])\n",
            "Dimension:  1\n"
          ],
          "name": "stdout"
        }
      ]
    },
    {
      "cell_type": "code",
      "metadata": {
        "id": "_YtPDLg2xPjw",
        "colab_type": "code",
        "colab": {
          "base_uri": "https://localhost:8080/",
          "height": 34
        },
        "outputId": "9ccbe845-af87-455c-a256-f993126ec9ec"
      },
      "source": [
        "# Use tensor_obj[begin_row_number: end_row_number, begin_column_number: end_column number] \n",
        "\n",
        "tensor_example = torch.tensor([[11, 12, 13], [21, 22, 23], [31, 32, 33]])\n",
        "print(\"What is the value on 3rd-column last two rows? \", tensor_example[1:3, 2])"
      ],
      "execution_count": 176,
      "outputs": [
        {
          "output_type": "stream",
          "text": [
            "What is the value on 3rd-column last two rows?  tensor([23, 33])\n"
          ],
          "name": "stdout"
        }
      ]
    },
    {
      "cell_type": "code",
      "metadata": {
        "id": "Jz8MbMSryE5F",
        "colab_type": "code",
        "colab": {
          "base_uri": "https://localhost:8080/",
          "height": 68
        },
        "outputId": "9b755b4b-4b03-4e60-824d-169f7d966b63"
      },
      "source": [
        "tensor_example = torch.tensor([[11, 12, 13], [21, 22, 23], [31, 32, 33]])\n",
        "tensor_example "
      ],
      "execution_count": 178,
      "outputs": [
        {
          "output_type": "execute_result",
          "data": {
            "text/plain": [
              "tensor([[11, 12, 13],\n",
              "        [21, 22, 23],\n",
              "        [31, 32, 33]])"
            ]
          },
          "metadata": {
            "tags": []
          },
          "execution_count": 178
        }
      ]
    },
    {
      "cell_type": "code",
      "metadata": {
        "id": "ITfUgZRJxSaJ",
        "colab_type": "code",
        "colab": {
          "base_uri": "https://localhost:8080/",
          "height": 34
        },
        "outputId": "fddfb51c-6a0e-4120-8391-7ca224c5010f"
      },
      "source": [
        "# Use tensor_obj[begin_row_number: end_row_number, begin_column_number: end_column number] \n",
        "\n",
        "tensor_example = torch.tensor([[11, 12, 13], [21, 22, 23], [31, 32, 33]])\n",
        "print(\"What is the value on 3rd-column last two rows? \", tensor_example[0:3, 2])"
      ],
      "execution_count": 177,
      "outputs": [
        {
          "output_type": "stream",
          "text": [
            "What is the value on 3rd-column last two rows?  tensor([13, 23, 33])\n"
          ],
          "name": "stdout"
        }
      ]
    },
    {
      "cell_type": "markdown",
      "metadata": {
        "id": "UexhxYlhywAz",
        "colab_type": "text"
      },
      "source": [
        "# get a colum"
      ]
    },
    {
      "cell_type": "code",
      "metadata": {
        "id": "k8qcElfkyb8J",
        "colab_type": "code",
        "colab": {
          "base_uri": "https://localhost:8080/",
          "height": 34
        },
        "outputId": "1baf7a50-44af-4610-f24a-8bf60772f320"
      },
      "source": [
        "tensor_example[0:3, 1]"
      ],
      "execution_count": 180,
      "outputs": [
        {
          "output_type": "execute_result",
          "data": {
            "text/plain": [
              "tensor([12, 22, 32])"
            ]
          },
          "metadata": {
            "tags": []
          },
          "execution_count": 180
        }
      ]
    },
    {
      "cell_type": "markdown",
      "metadata": {
        "id": "j4SgBW4-zQga",
        "colab_type": "text"
      },
      "source": [
        "# get a column"
      ]
    },
    {
      "cell_type": "code",
      "metadata": {
        "id": "fBu8S-EwyzVI",
        "colab_type": "code",
        "colab": {
          "base_uri": "https://localhost:8080/",
          "height": 34
        },
        "outputId": "128da23e-84c3-47c1-f375-267606baca95"
      },
      "source": [
        "tensor_example[0:, 1]"
      ],
      "execution_count": 182,
      "outputs": [
        {
          "output_type": "execute_result",
          "data": {
            "text/plain": [
              "tensor([12, 22, 32])"
            ]
          },
          "metadata": {
            "tags": []
          },
          "execution_count": 182
        }
      ]
    },
    {
      "cell_type": "code",
      "metadata": {
        "id": "HcS4n2mNzgkf",
        "colab_type": "code",
        "colab": {
          "base_uri": "https://localhost:8080/",
          "height": 34
        },
        "outputId": "2f314cc9-9b1c-451c-ffcd-1e5425f1659d"
      },
      "source": [
        "tensor_example[0:, 0]"
      ],
      "execution_count": 184,
      "outputs": [
        {
          "output_type": "execute_result",
          "data": {
            "text/plain": [
              "tensor([11, 21, 31])"
            ]
          },
          "metadata": {
            "tags": []
          },
          "execution_count": 184
        }
      ]
    },
    {
      "cell_type": "code",
      "metadata": {
        "id": "ekh1fafBz51L",
        "colab_type": "code",
        "colab": {
          "base_uri": "https://localhost:8080/",
          "height": 34
        },
        "outputId": "db884d27-f07d-4d95-e41f-31f1f2704c8e"
      },
      "source": [
        "tensor_example[0, 0:]"
      ],
      "execution_count": 185,
      "outputs": [
        {
          "output_type": "execute_result",
          "data": {
            "text/plain": [
              "tensor([11, 12, 13])"
            ]
          },
          "metadata": {
            "tags": []
          },
          "execution_count": 185
        }
      ]
    },
    {
      "cell_type": "markdown",
      "metadata": {
        "id": "7t4EGy0E0roT",
        "colab_type": "text"
      },
      "source": [
        "Try to change the values on the second column and the last two rows to 0. Basically, change the values on tensor_ques[1][1] and tensor_ques[2][1] to 0."
      ]
    },
    {
      "cell_type": "code",
      "metadata": {
        "id": "K40eQ2ga0sUw",
        "colab_type": "code",
        "colab": {
          "base_uri": "https://localhost:8080/",
          "height": 68
        },
        "outputId": "35f13e27-2fda-4d13-80a2-de4315a43b0c"
      },
      "source": [
        "tensor_ques = torch.tensor([[11, 12, 13], [21, 22, 23], [31, 32, 33]])\n",
        "tensor_ques [1:, 1]=0\n",
        "tensor_ques"
      ],
      "execution_count": 188,
      "outputs": [
        {
          "output_type": "execute_result",
          "data": {
            "text/plain": [
              "tensor([[11, 12, 13],\n",
              "        [21,  0, 23],\n",
              "        [31,  0, 33]])"
            ]
          },
          "metadata": {
            "tags": []
          },
          "execution_count": 188
        }
      ]
    },
    {
      "cell_type": "code",
      "metadata": {
        "id": "kQX-MVLK1v_j",
        "colab_type": "code",
        "colab": {
          "base_uri": "https://localhost:8080/",
          "height": 51
        },
        "outputId": "88a69518-ff45-465e-b83b-1e67af234253"
      },
      "source": [
        "# Calculate [[1, 0], [0, 1]] + [[2, 1], [1, 2]]\n",
        "\n",
        "X = torch.tensor([[1, 0],[0, 1]]) \n",
        "Y = torch.tensor([[2, 1],[1, 2]])\n",
        "X_plus_Y = X + Y\n",
        "print(\"The result of X + Y: \", X_plus_Y)"
      ],
      "execution_count": 189,
      "outputs": [
        {
          "output_type": "stream",
          "text": [
            "The result of X + Y:  tensor([[3, 1],\n",
            "        [1, 3]])\n"
          ],
          "name": "stdout"
        }
      ]
    },
    {
      "cell_type": "code",
      "metadata": {
        "id": "-AhpSUaS1xk4",
        "colab_type": "code",
        "colab": {
          "base_uri": "https://localhost:8080/",
          "height": 51
        },
        "outputId": "3677f85a-ca03-4888-df39-c100007c988a"
      },
      "source": [
        "# Calculate 2 * [[2, 1], [1, 2]]\n",
        "\n",
        "Y = torch.tensor([[2, 1], [1, 2]]) \n",
        "two_Y = 2 * Y\n",
        "print(\"The result of 2Y: \", two_Y)"
      ],
      "execution_count": 190,
      "outputs": [
        {
          "output_type": "stream",
          "text": [
            "The result of 2Y:  tensor([[4, 2],\n",
            "        [2, 4]])\n"
          ],
          "name": "stdout"
        }
      ]
    },
    {
      "cell_type": "markdown",
      "metadata": {
        "id": "yevJg63i2E4s",
        "colab_type": "text"
      },
      "source": [
        "Element-wise Product/Hadamard Product\n",
        "Multiplication of two tensors corresponds to an element-wise product or Hadamard product. Consider matrix the X and Y with the same size. The Hadamard product corresponds to multiplying each of the elements at the same position, that is, multiplying elements with the same color together. The result is a new matrix that is the same size as matrix X and Y as shown in the following figure:"
      ]
    },
    {
      "cell_type": "code",
      "metadata": {
        "id": "glTFLga22GKU",
        "colab_type": "code",
        "colab": {
          "base_uri": "https://localhost:8080/",
          "height": 51
        },
        "outputId": "cbbc6db1-d6da-4e63-940b-1540630f1533"
      },
      "source": [
        "# Calculate [[1, 0], [0, 1]] * [[2, 1], [1, 2]]\n",
        "\n",
        "X = torch.tensor([[1, 0], [0, 1]])\n",
        "Y = torch.tensor([[2, 1], [1, 2]]) \n",
        "X_times_Y = X * Y\n",
        "print(\"The result of X * Y: \", X_times_Y)"
      ],
      "execution_count": 195,
      "outputs": [
        {
          "output_type": "stream",
          "text": [
            "The result of X * Y:  tensor([[2, 0],\n",
            "        [0, 2]])\n"
          ],
          "name": "stdout"
        }
      ]
    },
    {
      "cell_type": "code",
      "metadata": {
        "id": "EsOxMBHe3h5y",
        "colab_type": "code",
        "colab": {
          "base_uri": "https://localhost:8080/",
          "height": 51
        },
        "outputId": "34ef9664-fcec-4299-8918-21d841e3d4a9"
      },
      "source": [
        "torch.mm(X,Y)"
      ],
      "execution_count": 198,
      "outputs": [
        {
          "output_type": "execute_result",
          "data": {
            "text/plain": [
              "tensor([[2, 1],\n",
              "        [1, 2]])"
            ]
          },
          "metadata": {
            "tags": []
          },
          "execution_count": 198
        }
      ]
    },
    {
      "cell_type": "markdown",
      "metadata": {
        "id": "6Fv6HOVZ9JX7",
        "colab_type": "text"
      },
      "source": [
        "Notice that when creating x we also specify the parameter of requires_grad and set it to True in the tensor constructor. Doing so essentially tells PyTorch that we would be using evaluating functions and derivatives of x using this value of x Next, we create a new tensor y and specify that y is equal to x square.\n",
        "\n",
        "Derivatives\n",
        "Let us create the tensor x and set the parameter requires_grad to true because you are going to take the derivative of the tensor."
      ]
    },
    {
      "cell_type": "code",
      "metadata": {
        "id": "VI6eEJ9EBFfm",
        "colab_type": "code",
        "colab": {
          "base_uri": "https://localhost:8080/",
          "height": 34
        },
        "outputId": "43d07e59-3de2-417a-dc83-6bd10a4e06d8"
      },
      "source": [
        "x = torch.tensor(2.0, requires_grad = True)\n",
        "print(\"The tensor x: \", x)"
      ],
      "execution_count": 199,
      "outputs": [
        {
          "output_type": "stream",
          "text": [
            "The tensor x:  tensor(2., requires_grad=True)\n"
          ],
          "name": "stdout"
        }
      ]
    },
    {
      "cell_type": "code",
      "metadata": {
        "id": "q9POSHahCM_8",
        "colab_type": "code",
        "colab": {
          "base_uri": "https://localhost:8080/",
          "height": 34
        },
        "outputId": "aacdf084-36a2-4f01-8484-b295d3cc6f61"
      },
      "source": [
        "# Create a tensor y according to y = x^2\n",
        "\n",
        "y = x ** 2\n",
        "print(\"The result of y = x^2: \", y)"
      ],
      "execution_count": 200,
      "outputs": [
        {
          "output_type": "stream",
          "text": [
            "The result of y = x^2:  tensor(4., grad_fn=<PowBackward0>)\n"
          ],
          "name": "stdout"
        }
      ]
    },
    {
      "cell_type": "code",
      "metadata": {
        "id": "Nsdx3rscCS2t",
        "colab_type": "code",
        "colab": {
          "base_uri": "https://localhost:8080/",
          "height": 34
        },
        "outputId": "ed298fc1-0a28-4d4b-e6de-2302461023bc"
      },
      "source": [
        "# Take the derivative. Try to print out the derivative at the value x = 2\n",
        "\n",
        "y.backward()\n",
        "print(\"The dervative at x = 2: \", x.grad)"
      ],
      "execution_count": 201,
      "outputs": [
        {
          "output_type": "stream",
          "text": [
            "The dervative at x = 2:  tensor(4.)\n"
          ],
          "name": "stdout"
        }
      ]
    },
    {
      "cell_type": "code",
      "metadata": {
        "id": "AHDoyOJBCcBs",
        "colab_type": "code",
        "colab": {
          "base_uri": "https://localhost:8080/",
          "height": 102
        },
        "outputId": "57a351e6-a92c-4cf9-a465-45528f762f3c"
      },
      "source": [
        "print('data:',x.data)\n",
        "print('grad_fn:',x.grad_fn)\n",
        "print('grad:',x.grad)\n",
        "print(\"is_leaf:\",x.is_leaf)\n",
        "print(\"requires_grad:\",x.requires_grad)"
      ],
      "execution_count": 202,
      "outputs": [
        {
          "output_type": "stream",
          "text": [
            "data: tensor(2.)\n",
            "grad_fn: None\n",
            "grad: tensor(4.)\n",
            "is_leaf: True\n",
            "requires_grad: True\n"
          ],
          "name": "stdout"
        }
      ]
    },
    {
      "cell_type": "code",
      "metadata": {
        "id": "qwv5xS1nCnvN",
        "colab_type": "code",
        "colab": {
          "base_uri": "https://localhost:8080/",
          "height": 156
        },
        "outputId": "d4dfe8ef-5f08-4600-8948-ccd9a0614057"
      },
      "source": [
        "print('data:',y.data)\n",
        "print('grad_fn:',y.grad_fn)\n",
        "print('grad:',y.grad)\n",
        "print(\"is_leaf:\",y.is_leaf)\n",
        "print(\"requires_grad:\",y.requires_grad)"
      ],
      "execution_count": 203,
      "outputs": [
        {
          "output_type": "stream",
          "text": [
            "data: tensor(4.)\n",
            "grad_fn: <PowBackward0 object at 0x7f6b7ea299b0>\n",
            "grad: None\n",
            "is_leaf: False\n",
            "requires_grad: True\n"
          ],
          "name": "stdout"
        },
        {
          "output_type": "stream",
          "text": [
            "/usr/local/lib/python3.6/dist-packages/torch/tensor.py:746: UserWarning: The .grad attribute of a Tensor that is not a leaf Tensor is being accessed. Its .grad attribute won't be populated during autograd.backward(). If you indeed want the gradient for a non-leaf Tensor, use .retain_grad() on the non-leaf Tensor. If you access the non-leaf Tensor by mistake, make sure you access the leaf Tensor instead. See github.com/pytorch/pytorch/pull/30531 for more informations.\n",
            "  warnings.warn(\"The .grad attribute of a Tensor that is not a leaf Tensor is being accessed. Its .grad \"\n"
          ],
          "name": "stderr"
        }
      ]
    },
    {
      "cell_type": "code",
      "metadata": {
        "id": "C56rTgk1C8kr",
        "colab_type": "code",
        "colab": {
          "base_uri": "https://localhost:8080/",
          "height": 51
        },
        "outputId": "6678c295-d8cd-4d13-f1aa-87afe1056c5e"
      },
      "source": [
        "# Calculate the y = x^2 + 2x + 1, then find the derivative \n",
        "\n",
        "x = torch.tensor(2.0, requires_grad = True)\n",
        "y = x ** 2 + 2 * x + 1\n",
        "print(\"The result of y = x^2 + 2x + 1: \", y)\n",
        "y.backward()\n",
        "print(\"The dervative at x = 2: \", x.grad)"
      ],
      "execution_count": 218,
      "outputs": [
        {
          "output_type": "stream",
          "text": [
            "The result of y = x^2 + 2x + 1:  tensor(9., grad_fn=<AddBackward0>)\n",
            "The dervative at x = 2:  tensor(6.)\n"
          ],
          "name": "stdout"
        }
      ]
    },
    {
      "cell_type": "code",
      "metadata": {
        "id": "eTlhcox1DJ5L",
        "colab_type": "code",
        "colab": {
          "base_uri": "https://localhost:8080/",
          "height": 68
        },
        "outputId": "c2e3c4ab-6270-4499-e81e-f001fb8a2895"
      },
      "source": [
        "# Practice: Calculate the derivative of y = 2x^3 + x at x = 1\n",
        "x = torch.tensor(1.0, requires_grad = True)\n",
        "y = 2*(x**3)+x\n",
        "print(\"The result of y = 3x^3  + 1: \", y)\n",
        "print(y)\n",
        "y.backward()\n",
        "print('The drivative at x = 1 : ', x.grad)"
      ],
      "execution_count": 222,
      "outputs": [
        {
          "output_type": "stream",
          "text": [
            "The result of y = 3x^3  + 1:  tensor(3., grad_fn=<AddBackward0>)\n",
            "tensor(3., grad_fn=<AddBackward0>)\n",
            "The drivative at x = 1 :  tensor(7.)\n"
          ],
          "name": "stdout"
        }
      ]
    },
    {
      "cell_type": "markdown",
      "metadata": {
        "id": "c2aQHPQiIXEf",
        "colab_type": "text"
      },
      "source": [
        "We can implement our own custom autograd Functions by subclassing torch.autograd.Function and implementing the forward and backward passes which operate on Tensors"
      ]
    },
    {
      "cell_type": "code",
      "metadata": {
        "id": "7G7ff0RCGUzm",
        "colab_type": "code",
        "colab": {}
      },
      "source": [
        "class SQ(torch.autograd.Function):\n",
        "\n",
        "\n",
        "    @staticmethod\n",
        "    def forward(ctx,i):\n",
        "        \"\"\"\n",
        "        In the forward pass we receive a Tensor containing the input and return\n",
        "        a Tensor containing the output. ctx is a context object that can be used\n",
        "        to stash information for backward computation. You can cache arbitrary\n",
        "        objects for use in the backward pass using the ctx.save_for_backward method.\n",
        "        \"\"\"\n",
        "        result=i**2\n",
        "        ctx.save_for_backward(i)\n",
        "        return result\n",
        "\n",
        "    @staticmethod\n",
        "    def backward(ctx, grad_output):\n",
        "        \"\"\"\n",
        "        In the backward pass we receive a Tensor containing the gradient of the loss\n",
        "        with respect to the output, and we need to compute the gradient of the loss\n",
        "        with respect to the input.\n",
        "        \"\"\"\n",
        "        i, = ctx.saved_tensors\n",
        "        grad_output = 2*i\n",
        "        return grad_output"
      ],
      "execution_count": 0,
      "outputs": []
    },
    {
      "cell_type": "code",
      "metadata": {
        "id": "y-oBW1FTMQNP",
        "colab_type": "code",
        "colab": {
          "base_uri": "https://localhost:8080/",
          "height": 51
        },
        "outputId": "6585a4e6-3357-430c-c16d-46886c217f26"
      },
      "source": [
        "x=torch.tensor(2.0,requires_grad=True )\n",
        "sq=SQ.apply\n",
        "\n",
        "y=sq(x)\n",
        "y\n",
        "print(y.grad_fn)\n",
        "y.backward()\n",
        "x.grad"
      ],
      "execution_count": 224,
      "outputs": [
        {
          "output_type": "stream",
          "text": [
            "<torch.autograd.function.SQBackward object at 0x7f6b7eb684a8>\n"
          ],
          "name": "stdout"
        },
        {
          "output_type": "execute_result",
          "data": {
            "text/plain": [
              "tensor(4.)"
            ]
          },
          "metadata": {
            "tags": []
          },
          "execution_count": 224
        }
      ]
    },
    {
      "cell_type": "markdown",
      "metadata": {
        "id": "J--pVXOKMdAx",
        "colab_type": "text"
      },
      "source": [
        "Partial Derivatives\n",
        "We can also calculate Partial Derivatives. Consider the function:  𝑓(𝑢,𝑣)=𝑣𝑢+𝑢2 \n",
        "Let us create u tensor, v tensor and f tensor"
      ]
    },
    {
      "cell_type": "code",
      "metadata": {
        "id": "yBcpXPPcMgoF",
        "colab_type": "code",
        "colab": {
          "base_uri": "https://localhost:8080/",
          "height": 34
        },
        "outputId": "466392ed-cb1a-4ea7-bc3b-b4a2365a1e8b"
      },
      "source": [
        "# Calculate f(u, v) = v * u + u^2 at u = 1, v = 2\n",
        "\n",
        "u = torch.tensor(1.0,requires_grad=True)\n",
        "v = torch.tensor(2.0,requires_grad=True)\n",
        "f = u * v + u ** 2\n",
        "print(\"The result of v * u + u^2: \", f)"
      ],
      "execution_count": 225,
      "outputs": [
        {
          "output_type": "stream",
          "text": [
            "The result of v * u + u^2:  tensor(3., grad_fn=<AddBackward0>)\n"
          ],
          "name": "stdout"
        }
      ]
    },
    {
      "cell_type": "markdown",
      "metadata": {
        "id": "M2Uhhg2MMsfe",
        "colab_type": "text"
      },
      "source": [
        "This is equivalent to the following:\n",
        "\n",
        "𝑓(𝑢=1,𝑣=2)=(2)(1)+12=3"
      ]
    },
    {
      "cell_type": "markdown",
      "metadata": {
        "id": "LEStkZKgMwhf",
        "colab_type": "text"
      },
      "source": [
        "\n",
        "Now let us take the derivative with respect to u:"
      ]
    },
    {
      "cell_type": "code",
      "metadata": {
        "id": "EGLUUExZMtcI",
        "colab_type": "code",
        "colab": {}
      },
      "source": [
        ""
      ],
      "execution_count": 0,
      "outputs": []
    },
    {
      "cell_type": "code",
      "metadata": {
        "id": "ETgH1gQLMyHZ",
        "colab_type": "code",
        "colab": {
          "base_uri": "https://localhost:8080/",
          "height": 34
        },
        "outputId": "b3bbc2ff-be99-49f0-e33a-1dea845dbf04"
      },
      "source": [
        "# Calculate the derivative with respect to u\n",
        "\n",
        "f.backward()\n",
        "print(\"The partial derivative with respect to u: \", u.grad)"
      ],
      "execution_count": 226,
      "outputs": [
        {
          "output_type": "stream",
          "text": [
            "The partial derivative with respect to u:  tensor(4.)\n"
          ],
          "name": "stdout"
        }
      ]
    },
    {
      "cell_type": "markdown",
      "metadata": {
        "id": "1_mKk5a4M7zL",
        "colab_type": "text"
      },
      "source": [
        "the expression is given by:\n",
        "\n",
        "∂f(u,v)∂𝑢=𝑣+2𝑢 \n",
        "∂f(u=1,v=2)∂𝑢=2+2(1)=4 \n",
        "Now, take the derivative with respect to v:"
      ]
    },
    {
      "cell_type": "code",
      "metadata": {
        "id": "yrr9XXhdM5D3",
        "colab_type": "code",
        "colab": {
          "base_uri": "https://localhost:8080/",
          "height": 34
        },
        "outputId": "385ed6ea-ba71-4419-980f-927de273b24b"
      },
      "source": [
        "# Calculate the derivative with respect to v\n",
        "\n",
        "print(\"The partial derivative with respect to u: \", v.grad)"
      ],
      "execution_count": 227,
      "outputs": [
        {
          "output_type": "stream",
          "text": [
            "The partial derivative with respect to u:  tensor(1.)\n"
          ],
          "name": "stdout"
        }
      ]
    },
    {
      "cell_type": "markdown",
      "metadata": {
        "id": "OJQlZFBCNFnC",
        "colab_type": "text"
      },
      "source": [
        "\n",
        "The equation is given by:\n",
        "\n",
        "∂f(u,v)∂𝑣=𝑢 \n",
        "∂f(u=1,v=2)∂𝑣=1 \n",
        "Calculate the derivative with respect to a function with multiple values as follows. You use the sum trick to produce a scalar valued function and then take the gradient:"
      ]
    },
    {
      "cell_type": "code",
      "metadata": {
        "id": "Hhi-CzVuNGfi",
        "colab_type": "code",
        "colab": {
          "base_uri": "https://localhost:8080/",
          "height": 34
        },
        "outputId": "9dd85d56-3054-4117-fb56-37de06ea95f6"
      },
      "source": [
        "# Calculate the derivative with multiple values\n",
        "\n",
        "x = torch.linspace(-10, 10, 10, requires_grad = True)\n",
        "Y = x ** 2\n",
        "y = torch.sum(x ** 2)\n",
        "y"
      ],
      "execution_count": 230,
      "outputs": [
        {
          "output_type": "execute_result",
          "data": {
            "text/plain": [
              "tensor(407.4074, grad_fn=<SumBackward0>)"
            ]
          },
          "metadata": {
            "tags": []
          },
          "execution_count": 230
        }
      ]
    },
    {
      "cell_type": "code",
      "metadata": {
        "id": "CYQnTIHwPE4O",
        "colab_type": "code",
        "colab": {
          "base_uri": "https://localhost:8080/",
          "height": 68
        },
        "outputId": "78f76486-db2c-4491-f085-d907a5bb2b4c"
      },
      "source": [
        "Y.detach().numpy()"
      ],
      "execution_count": 232,
      "outputs": [
        {
          "output_type": "execute_result",
          "data": {
            "text/plain": [
              "array([100.      ,  60.493824,  30.864195,  11.111111,   1.234568,\n",
              "         1.234568,  11.111111,  30.864195,  60.493824, 100.      ],\n",
              "      dtype=float32)"
            ]
          },
          "metadata": {
            "tags": []
          },
          "execution_count": 232
        }
      ]
    },
    {
      "cell_type": "code",
      "metadata": {
        "id": "xbRoQ7NRPiVq",
        "colab_type": "code",
        "colab": {
          "base_uri": "https://localhost:8080/",
          "height": 51
        },
        "outputId": "c2cbdbed-1ad3-4b77-89a7-4c341262491e"
      },
      "source": [
        "x"
      ],
      "execution_count": 233,
      "outputs": [
        {
          "output_type": "execute_result",
          "data": {
            "text/plain": [
              "tensor([-10.0000,  -7.7778,  -5.5556,  -3.3333,  -1.1111,   1.1111,   3.3333,\n",
              "          5.5556,   7.7778,  10.0000], requires_grad=True)"
            ]
          },
          "metadata": {
            "tags": []
          },
          "execution_count": 233
        }
      ]
    },
    {
      "cell_type": "code",
      "metadata": {
        "id": "Fefvrz9lP_AD",
        "colab_type": "code",
        "colab": {
          "base_uri": "https://localhost:8080/",
          "height": 68
        },
        "outputId": "a07045f1-c3e9-4ede-c9e3-80d20709f6a8"
      },
      "source": [
        "x.grad.detach().numpy()"
      ],
      "execution_count": 234,
      "outputs": [
        {
          "output_type": "execute_result",
          "data": {
            "text/plain": [
              "array([-20.       , -15.555555 , -11.111111 ,  -6.6666665,  -2.2222223,\n",
              "         2.2222223,   6.6666665,  11.111111 ,  15.555555 ,  20.       ],\n",
              "      dtype=float32)"
            ]
          },
          "metadata": {
            "tags": []
          },
          "execution_count": 234
        }
      ]
    },
    {
      "cell_type": "code",
      "metadata": {
        "id": "a3aVi098OUlQ",
        "colab_type": "code",
        "colab": {
          "base_uri": "https://localhost:8080/",
          "height": 279
        },
        "outputId": "20715fb5-15d7-4cba-8bee-13596544e772"
      },
      "source": [
        "# Take the derivative with respect to multiple value. Plot out the function and its derivative\n",
        "\n",
        "y.backward()\n",
        "\n",
        "plt.plot(x.detach().numpy(), Y.detach().numpy(), label = 'function')\n",
        "plt.plot(x.detach().numpy(), x.grad.detach().numpy(), label = 'derivative')\n",
        "plt.xlabel('x')\n",
        "plt.legend()\n",
        "plt.show()"
      ],
      "execution_count": 231,
      "outputs": [
        {
          "output_type": "display_data",
          "data": {
            "image/png": "[encoded data removed]",
            "text/plain": [
              "<Figure size 432x288 with 1 Axes>"
            ]
          },
          "metadata": {
            "tags": [],
            "needs_background": "light"
          }
        }
      ]
    },
    {
      "cell_type": "markdown",
      "metadata": {
        "id": "PDmpD_f6Ryfe",
        "colab_type": "text"
      },
      "source": [
        "AUTOGRAD: AUTOMATIC DIFFERENTIATION\n",
        "Central to all neural networks in PyTorch is the autograd package. Let’s first briefly visit this, and we will then go to training our first neural network.\n",
        "\n",
        "The autograd package provides automatic differentiation for all operations on Tensors. It is a define-by-run framework, which means that your backprop is defined by how your code is run, and that every single iteration can be different.\n",
        "\n",
        "Let us see this in more simple terms with some examples.\n",
        "\n",
        "Tensor\n",
        "torch.Tensor is the central class of the package. If you set its attribute .requires_grad as True, it starts to track all operations on it. When you finish your computation you can call .backward() and have all the gradients computed automatically. The gradient for this tensor will be accumulated into .grad attribute.\n",
        "\n",
        "To stop a tensor from tracking history, you can call .detach() to detach it from the computation history, and to prevent future computation from being tracked.\n",
        "\n",
        "To prevent tracking history (and using memory), you can also wrap the code block in with torch.no_grad():. This can be particularly helpful when evaluating a model because the model may have trainable parameters with requires_grad=True, but for which we don’t need the gradients.\n",
        "\n",
        "There’s one more class which is very important for autograd implementation - a Function.\n",
        "\n",
        "Tensor and Function are interconnected and build up an acyclic graph, that encodes a complete history of computation. Each tensor has a .grad_fn attribute that references a Function that has created the Tensor (except for Tensors created by the user - their grad_fn is None).\n",
        "\n",
        "If you want to compute the derivatives, you can call .backward() on a Tensor. If Tensor is a scalar (i.e. it holds a one element data), you don’t need to specify any arguments to backward(), however if it has more elements, you need to specify a gradient argument that is a tensor of matching shape."
      ]
    },
    {
      "cell_type": "markdown",
      "metadata": {
        "id": "eAYRu_JhR6Z2",
        "colab_type": "text"
      },
      "source": [
        "The relu activation function is an essential function in neural networks. We can take the derivative as follows:"
      ]
    },
    {
      "cell_type": "code",
      "metadata": {
        "id": "mPjC7KfqRzwF",
        "colab_type": "code",
        "colab": {
          "base_uri": "https://localhost:8080/",
          "height": 279
        },
        "outputId": "baf7de04-6fba-42c5-bc4c-abf199672cf4"
      },
      "source": [
        "# Take the derivative of Relu with respect to multiple value. Plot out the function and its derivative\n",
        "\n",
        "x = torch.linspace(-10, 10, 1000, requires_grad = True)\n",
        "Y = torch.relu(x)\n",
        "y = Y.sum()\n",
        "y.backward()\n",
        "plt.plot(x.detach().numpy(), Y.detach().numpy(), label = 'function')\n",
        "plt.plot(x.detach().numpy(), x.grad.detach().numpy(), label = 'derivative')\n",
        "plt.xlabel('x')\n",
        "plt.legend()\n",
        "plt.show()"
      ],
      "execution_count": 235,
      "outputs": [
        {
          "output_type": "display_data",
          "data": {
            "image/png": "[encoded data removed]",
            "text/plain": [
              "<Figure size 432x288 with 1 Axes>"
            ]
          },
          "metadata": {
            "tags": [],
            "needs_background": "light"
          }
        }
      ]
    },
    {
      "cell_type": "code",
      "metadata": {
        "id": "qo-tdmUqWMwd",
        "colab_type": "code",
        "colab": {
          "base_uri": "https://localhost:8080/",
          "height": 136
        },
        "outputId": "5016ddae-4088-4790-d341-f06dbf63e4c9"
      },
      "source": [
        "Y.detach().numpy()[:100]"
      ],
      "execution_count": 246,
      "outputs": [
        {
          "output_type": "execute_result",
          "data": {
            "text/plain": [
              "array([0., 0., 0., 0., 0., 0., 0., 0., 0., 0., 0., 0., 0., 0., 0., 0., 0.,\n",
              "       0., 0., 0., 0., 0., 0., 0., 0., 0., 0., 0., 0., 0., 0., 0., 0., 0.,\n",
              "       0., 0., 0., 0., 0., 0., 0., 0., 0., 0., 0., 0., 0., 0., 0., 0., 0.,\n",
              "       0., 0., 0., 0., 0., 0., 0., 0., 0., 0., 0., 0., 0., 0., 0., 0., 0.,\n",
              "       0., 0., 0., 0., 0., 0., 0., 0., 0., 0., 0., 0., 0., 0., 0., 0., 0.,\n",
              "       0., 0., 0., 0., 0., 0., 0., 0., 0., 0., 0., 0., 0., 0., 0.],\n",
              "      dtype=float32)"
            ]
          },
          "metadata": {
            "tags": []
          },
          "execution_count": 246
        }
      ]
    },
    {
      "cell_type": "code",
      "metadata": {
        "id": "OA9oc2PySiaj",
        "colab_type": "code",
        "colab": {
          "base_uri": "https://localhost:8080/",
          "height": 34
        },
        "outputId": "a6ba5f30-252f-4a38-e32e-0e721cb9c4de"
      },
      "source": [
        "y.grad_fn"
      ],
      "execution_count": 236,
      "outputs": [
        {
          "output_type": "execute_result",
          "data": {
            "text/plain": [
              "<SumBackward0 at 0x7f6b7d988e48>"
            ]
          },
          "metadata": {
            "tags": []
          },
          "execution_count": 236
        }
      ]
    },
    {
      "cell_type": "markdown",
      "metadata": {
        "id": "uAcM4hSbSo3J",
        "colab_type": "text"
      },
      "source": [
        "Try to determine partial derivative  𝑢  of the following function where  𝑢=2  and  𝑣=1 :  𝑓=𝑢𝑣+(𝑢𝑣)2"
      ]
    },
    {
      "cell_type": "code",
      "metadata": {
        "id": "Pf0QMS0zSofK",
        "colab_type": "code",
        "colab": {
          "base_uri": "https://localhost:8080/",
          "height": 51
        },
        "outputId": "8f211e07-843f-4345-8694-eecfc5d84cc5"
      },
      "source": [
        " u = torch.tensor(2.0, requires_grad= True)\n",
        " v = torch.tensor(1.0, requires_grad= True)\n",
        " w = u*v+(u*v)**2.0\n",
        "print(w)\n",
        "w.backward()\n",
        "print('The partial derivative of u is:', u.grad)\n"
      ],
      "execution_count": 251,
      "outputs": [
        {
          "output_type": "stream",
          "text": [
            "tensor(6., grad_fn=<AddBackward0>)\n",
            "The partial derivative of u is: tensor(5.)\n"
          ],
          "name": "stdout"
        }
      ]
    },
    {
      "cell_type": "code",
      "metadata": {
        "id": "5fBudGZAYgAZ",
        "colab_type": "code",
        "colab": {
          "base_uri": "https://localhost:8080/",
          "height": 34
        },
        "outputId": "6ede838c-8bd4-4ce3-fd24-9c7624e87b08"
      },
      "source": [
        "u = torch.tensor(2.0, requires_grad = True)\n",
        "v = torch.tensor(1.0, requires_grad = True)\n",
        "f = u * v + (u * v) ** 2\n",
        "f.backward()\n",
        "print(\"The result is \", u.grad)"
      ],
      "execution_count": 252,
      "outputs": [
        {
          "output_type": "stream",
          "text": [
            "The result is  tensor(5.)\n"
          ],
          "name": "stdout"
        }
      ]
    },
    {
      "cell_type": "markdown",
      "metadata": {
        "id": "XjoABqHVkNzP",
        "colab_type": "text"
      },
      "source": [
        "# Sample data set, trasfrom , composer"
      ]
    },
    {
      "cell_type": "code",
      "metadata": {
        "id": "Tud2v9FKkTbi",
        "colab_type": "code",
        "colab": {
          "base_uri": "https://localhost:8080/",
          "height": 34
        },
        "outputId": "938b1930-b2c4-4520-f2e7-e456208629d8"
      },
      "source": [
        "# These are the libraries will be used for this lab.\n",
        "\n",
        "import torch\n",
        "from torch.utils.data import Dataset\n",
        "torch.manual_seed(1)"
      ],
      "execution_count": 6,
      "outputs": [
        {
          "output_type": "execute_result",
          "data": {
            "text/plain": [
              "<torch._C.Generator at 0x7f727419de50>"
            ]
          },
          "metadata": {
            "tags": []
          },
          "execution_count": 6
        }
      ]
    },
    {
      "cell_type": "code",
      "metadata": {
        "id": "cKHoQUgkknAc",
        "colab_type": "code",
        "colab": {}
      },
      "source": [
        "# Define class for dataset\n",
        "\n",
        "class toy_set(Dataset):\n",
        "    \n",
        "    # Constructor with defult values \n",
        "    def __init__(self, length = 100, transform = None):\n",
        "        self.len = length\n",
        "        self.x = 2 * torch.ones(length, 2)\n",
        "        self.y = torch.ones(length, 1)\n",
        "        self.transform = transform\n",
        "     \n",
        "    # Getter\n",
        "    def __getitem__(self, index):\n",
        "        sample = self.x[index], self.y[index]\n",
        "        if self.transform:\n",
        "            sample = self.transform(sample)     \n",
        "        return sample\n",
        "    \n",
        "    # Get Length\n",
        "    def __len__(self):\n",
        "        return self.len"
      ],
      "execution_count": 0,
      "outputs": []
    },
    {
      "cell_type": "markdown",
      "metadata": {
        "id": "q32aYbjoktvt",
        "colab_type": "text"
      },
      "source": [
        "Now, let us create our toy_set object, and find out the value on index 1 and the length of the inital dataset"
      ]
    },
    {
      "cell_type": "code",
      "metadata": {
        "id": "aqCrbj65zXUG",
        "colab_type": "code",
        "colab": {
          "base_uri": "https://localhost:8080/",
          "height": 34
        },
        "outputId": "0c544ca6-1131-4d7c-ebc6-cad75628bbba"
      },
      "source": [
        "my = toy_set()\n",
        "c,d = my[12]\n",
        "print(c,d)\n"
      ],
      "execution_count": 286,
      "outputs": [
        {
          "output_type": "stream",
          "text": [
            "tensor([2., 2.]) tensor([1.])\n"
          ],
          "name": "stdout"
        }
      ]
    },
    {
      "cell_type": "code",
      "metadata": {
        "id": "5gc0xPbpkvRV",
        "colab_type": "code",
        "colab": {
          "base_uri": "https://localhost:8080/",
          "height": 68
        },
        "outputId": "e3de522c-e2b0-49c5-a887-eef8c328fa92"
      },
      "source": [
        "# Create Dataset Object. Find out the value on index 1. Find out the length of Dataset Object.\n",
        "\n",
        "our_dataset = toy_set()\n",
        "print(\"Our toy_set object: \", our_dataset)\n",
        "print(\"Value on index 0 of our toy_set object: \", our_dataset[0])\n",
        "print(\"Our toy_set length: \", len(our_dataset))"
      ],
      "execution_count": 256,
      "outputs": [
        {
          "output_type": "stream",
          "text": [
            "Our toy_set object:  <__main__.toy_set object at 0x7f6b7d8efc88>\n",
            "Value on index 0 of our toy_set object:  (tensor([2., 2.]), tensor([1.]))\n",
            "Our toy_set length:  100\n"
          ],
          "name": "stdout"
        }
      ]
    },
    {
      "cell_type": "markdown",
      "metadata": {
        "id": "9h9_ni3blX8Q",
        "colab_type": "text"
      },
      "source": [
        "As a result, we can apply the same indexing convention as a list, and apply the fuction len on the toy_set object. We are able to customize the indexing and length method by def __getitem__(self, index) and def __len__(self)."
      ]
    },
    {
      "cell_type": "code",
      "metadata": {
        "id": "miKa44jwlPI_",
        "colab_type": "code",
        "colab": {
          "base_uri": "https://localhost:8080/",
          "height": 68
        },
        "outputId": "37a571eb-b49e-4865-f894-a2fa78569e83"
      },
      "source": [
        "for i in range(3):\n",
        "    x, y=our_dataset[i]\n",
        "    print(\"index: \", i, '; x:', x, '; y:', y)"
      ],
      "execution_count": 257,
      "outputs": [
        {
          "output_type": "stream",
          "text": [
            "index:  0 ; x: tensor([2., 2.]) ; y: tensor([1.])\n",
            "index:  1 ; x: tensor([2., 2.]) ; y: tensor([1.])\n",
            "index:  2 ; x: tensor([2., 2.]) ; y: tensor([1.])\n"
          ],
          "name": "stdout"
        }
      ]
    },
    {
      "cell_type": "code",
      "metadata": {
        "id": "VSAYmyG4l2kI",
        "colab_type": "code",
        "colab": {}
      },
      "source": [
        "#for x,y in our_dataset:\n",
        "    #print(' x:', x, 'y:', y)"
      ],
      "execution_count": 0,
      "outputs": []
    },
    {
      "cell_type": "markdown",
      "metadata": {
        "id": "YeXmBDexmAlg",
        "colab_type": "text"
      },
      "source": [
        "\n",
        "Try to create an toy_set object with length 50. Print out the length of your object."
      ]
    },
    {
      "cell_type": "code",
      "metadata": {
        "id": "knH5nD3UzvDD",
        "colab_type": "code",
        "colab": {}
      },
      "source": [
        "# Define class for dataset\n",
        "\n",
        "class toy_set(Dataset):\n",
        "    \n",
        "    # Constructor with defult values \n",
        "    def __init__(self, length = 100, transform = None):\n",
        "        self.len = length\n",
        "        self.x = 2 * torch.ones(length, 2)\n",
        "        self.y = torch.ones(length, 1)\n",
        "        self.transform = transform\n",
        "     \n",
        "    # Getter\n",
        "    def __getitem__(self, index):\n",
        "        sample = self.x[index], self.y[index]\n",
        "        if self.transform:\n",
        "            sample = self.transform(sample)     \n",
        "        return sample\n",
        "    \n",
        "    # Get Length\n",
        "    def __len__(self):\n",
        "        return self.len"
      ],
      "execution_count": 0,
      "outputs": []
    },
    {
      "cell_type": "code",
      "metadata": {
        "id": "-A4zQlv0l4n7",
        "colab_type": "code",
        "colab": {}
      },
      "source": [
        "class toy (Dataset):\n",
        "  def __init__(self, length = 50, transform = None):\n",
        "    self.x = 5*torch.ones(length,1)\n",
        "    self.y = torch.ones (length, 1)\n",
        "    self.len = length\n",
        "    self.transform = transform\n",
        "  def __getitem__(self, index):\n",
        "    sample = self.x[index], self.y[index]\n",
        "    if self.transform:\n",
        "      sample = self.transform(sample)     \n",
        "    return sample\n",
        "  def __len__(self):\n",
        "    return self.len\n",
        "                                  "
      ],
      "execution_count": 0,
      "outputs": []
    },
    {
      "cell_type": "code",
      "metadata": {
        "id": "jrSJ0tQeqcYi",
        "colab_type": "code",
        "colab": {
          "base_uri": "https://localhost:8080/",
          "height": 34
        },
        "outputId": "cca8b57d-a662-4077-e01b-a3adcc07fda3"
      },
      "source": [
        "type (toy)"
      ],
      "execution_count": 15,
      "outputs": [
        {
          "output_type": "execute_result",
          "data": {
            "text/plain": [
              "type"
            ]
          },
          "metadata": {
            "tags": []
          },
          "execution_count": 15
        }
      ]
    },
    {
      "cell_type": "code",
      "metadata": {
        "id": "enJj6-Yzo0dM",
        "colab_type": "code",
        "colab": {
          "base_uri": "https://localhost:8080/",
          "height": 34
        },
        "outputId": "7c710e5a-e45e-4635-c897-c5ec3cf6c0d4"
      },
      "source": [
        "a = toy()\n",
        "print (len(a))"
      ],
      "execution_count": 46,
      "outputs": [
        {
          "output_type": "stream",
          "text": [
            "50\n"
          ],
          "name": "stdout"
        }
      ]
    },
    {
      "cell_type": "code",
      "metadata": {
        "id": "K0Wh9PG1sCRA",
        "colab_type": "code",
        "colab": {
          "base_uri": "https://localhost:8080/",
          "height": 34
        },
        "outputId": "8b1b1750-355b-46ee-c72d-3c3c9e6b74b1"
      },
      "source": [
        "k,l = a[12]\n",
        "print(k,l)"
      ],
      "execution_count": 72,
      "outputs": [
        {
          "output_type": "stream",
          "text": [
            "tensor([5.]) tensor([1.])\n"
          ],
          "name": "stdout"
        }
      ]
    },
    {
      "cell_type": "markdown",
      "metadata": {
        "id": "jlWg2mP7iBvu",
        "colab_type": "text"
      },
      "source": [
        "# Transformation"
      ]
    },
    {
      "cell_type": "code",
      "metadata": {
        "id": "ql8SdKozsoFV",
        "colab_type": "code",
        "colab": {}
      },
      "source": [
        "\n",
        "class add_mult(object):\n",
        "    \n",
        "    # Constructor\n",
        "    def __init__(self, addx = 1, muly = 2):\n",
        "        self.addx = addx\n",
        "        self.muly = muly\n",
        "    \n",
        "    # Executor\n",
        "    def __call__(self, sample):\n",
        "        x = sample[0]\n",
        "        y = sample[1]\n",
        "        x = x + self.addx\n",
        "        y = y * self.muly\n",
        "        sample = x, y\n",
        "        return sample"
      ],
      "execution_count": 0,
      "outputs": []
    },
    {
      "cell_type": "code",
      "metadata": {
        "id": "KxBLq4fgiBI-",
        "colab_type": "code",
        "colab": {}
      },
      "source": [
        "class transform1(object) :\n",
        "  def __init__(self, add= 1, mul= 2):\n",
        "    self.add = add\n",
        "    self.mul = mul\n",
        "  def __call__(self, sample):\n",
        "    x = sample[0]\n",
        "    y = sample[1]\n",
        "    x = x+self.add\n",
        "    y = y*self.mul\n",
        "    sample = x, y\n",
        "    return sample\n"
      ],
      "execution_count": 0,
      "outputs": []
    },
    {
      "cell_type": "code",
      "metadata": {
        "id": "pNntwa45vHgi",
        "colab_type": "code",
        "colab": {}
      },
      "source": [
        "p = transform1()"
      ],
      "execution_count": 0,
      "outputs": []
    },
    {
      "cell_type": "code",
      "metadata": {
        "id": "bSv8alVpkvlD",
        "colab_type": "code",
        "colab": {}
      },
      "source": [
        "j = toy(length = 200, transform = p )"
      ],
      "execution_count": 0,
      "outputs": []
    },
    {
      "cell_type": "code",
      "metadata": {
        "id": "Evaeorg3sP7w",
        "colab_type": "code",
        "colab": {
          "base_uri": "https://localhost:8080/",
          "height": 34
        },
        "outputId": "82db5efa-7803-4a46-d65c-1d0574112c3e"
      },
      "source": [
        "m = toy(length = 200, transform = p)\n",
        "n,o = m[190]\n",
        "print(n,o)"
      ],
      "execution_count": 70,
      "outputs": [
        {
          "output_type": "stream",
          "text": [
            "tensor([6.]) tensor([2.])\n"
          ],
          "name": "stdout"
        }
      ]
    },
    {
      "cell_type": "code",
      "metadata": {
        "id": "MeQzGHiBkoLI",
        "colab_type": "code",
        "colab": {
          "base_uri": "https://localhost:8080/",
          "height": 34
        },
        "outputId": "c2f43082-0f95-43c1-b424-79f1afcdcfed"
      },
      "source": [
        "q,r = j[190]\n",
        "print(q,r)"
      ],
      "execution_count": 76,
      "outputs": [
        {
          "output_type": "stream",
          "text": [
            "tensor([6.]) tensor([2.])\n"
          ],
          "name": "stdout"
        }
      ]
    },
    {
      "cell_type": "code",
      "metadata": {
        "id": "eR7uUsWyzx-K",
        "colab_type": "code",
        "colab": {}
      },
      "source": [
        "# Create an add_mult transform object, and an toy_set object\n",
        "\n",
        "a_m = add_mult()\n",
        "data_set = toy_set()"
      ],
      "execution_count": 0,
      "outputs": []
    },
    {
      "cell_type": "code",
      "metadata": {
        "id": "csYvnrdkzzVU",
        "colab_type": "code",
        "colab": {
          "base_uri": "https://localhost:8080/",
          "height": 357
        },
        "outputId": "d2e6c88d-0fcd-4569-c957-06cc5cad58e8"
      },
      "source": [
        "# Use loop to print out first 10 elements in dataset\n",
        "\n",
        "for i in range(10):\n",
        "    x, y = data_set[i]\n",
        "    print('Index: ', i, 'Original x: ', x, 'Original y: ', y)\n",
        "    x_, y_ = a_m(data_set[i])\n",
        "    print('Index: ', i, 'Transformed x_:', x_, 'Transformed y_:', y_)"
      ],
      "execution_count": 78,
      "outputs": [
        {
          "output_type": "stream",
          "text": [
            "Index:  0 Original x:  tensor([2., 2.]) Original y:  tensor([1.])\n",
            "Index:  0 Transformed x_: tensor([3., 3.]) Transformed y_: tensor([2.])\n",
            "Index:  1 Original x:  tensor([2., 2.]) Original y:  tensor([1.])\n",
            "Index:  1 Transformed x_: tensor([3., 3.]) Transformed y_: tensor([2.])\n",
            "Index:  2 Original x:  tensor([2., 2.]) Original y:  tensor([1.])\n",
            "Index:  2 Transformed x_: tensor([3., 3.]) Transformed y_: tensor([2.])\n",
            "Index:  3 Original x:  tensor([2., 2.]) Original y:  tensor([1.])\n",
            "Index:  3 Transformed x_: tensor([3., 3.]) Transformed y_: tensor([2.])\n",
            "Index:  4 Original x:  tensor([2., 2.]) Original y:  tensor([1.])\n",
            "Index:  4 Transformed x_: tensor([3., 3.]) Transformed y_: tensor([2.])\n",
            "Index:  5 Original x:  tensor([2., 2.]) Original y:  tensor([1.])\n",
            "Index:  5 Transformed x_: tensor([3., 3.]) Transformed y_: tensor([2.])\n",
            "Index:  6 Original x:  tensor([2., 2.]) Original y:  tensor([1.])\n",
            "Index:  6 Transformed x_: tensor([3., 3.]) Transformed y_: tensor([2.])\n",
            "Index:  7 Original x:  tensor([2., 2.]) Original y:  tensor([1.])\n",
            "Index:  7 Transformed x_: tensor([3., 3.]) Transformed y_: tensor([2.])\n",
            "Index:  8 Original x:  tensor([2., 2.]) Original y:  tensor([1.])\n",
            "Index:  8 Transformed x_: tensor([3., 3.]) Transformed y_: tensor([2.])\n",
            "Index:  9 Original x:  tensor([2., 2.]) Original y:  tensor([1.])\n",
            "Index:  9 Transformed x_: tensor([3., 3.]) Transformed y_: tensor([2.])\n"
          ],
          "name": "stdout"
        }
      ]
    },
    {
      "cell_type": "code",
      "metadata": {
        "id": "oKSVvyXd0Luz",
        "colab_type": "code",
        "colab": {}
      },
      "source": [
        "# Create a new data_set object with add_mult object as transform\n",
        "\n",
        "cust_data_set = toy_set(transform = a_m)"
      ],
      "execution_count": 0,
      "outputs": []
    },
    {
      "cell_type": "code",
      "metadata": {
        "id": "VV_K6o3q0NEt",
        "colab_type": "code",
        "colab": {
          "base_uri": "https://localhost:8080/",
          "height": 357
        },
        "outputId": "469002a8-63a7-4c6b-82d1-a8dd192baaaf"
      },
      "source": [
        "# Use loop to print out first 10 elements in dataset\n",
        "\n",
        "for i in range(10):\n",
        "    x, y = data_set[i]\n",
        "    print('Index: ', i, 'Original x: ', x, 'Original y: ', y)\n",
        "    x_, y_ = cust_data_set[i]\n",
        "    print('Index: ', i, 'Transformed x_:', x_, 'Transformed y_:', y_)"
      ],
      "execution_count": 80,
      "outputs": [
        {
          "output_type": "stream",
          "text": [
            "Index:  0 Original x:  tensor([2., 2.]) Original y:  tensor([1.])\n",
            "Index:  0 Transformed x_: tensor([3., 3.]) Transformed y_: tensor([2.])\n",
            "Index:  1 Original x:  tensor([2., 2.]) Original y:  tensor([1.])\n",
            "Index:  1 Transformed x_: tensor([3., 3.]) Transformed y_: tensor([2.])\n",
            "Index:  2 Original x:  tensor([2., 2.]) Original y:  tensor([1.])\n",
            "Index:  2 Transformed x_: tensor([3., 3.]) Transformed y_: tensor([2.])\n",
            "Index:  3 Original x:  tensor([2., 2.]) Original y:  tensor([1.])\n",
            "Index:  3 Transformed x_: tensor([3., 3.]) Transformed y_: tensor([2.])\n",
            "Index:  4 Original x:  tensor([2., 2.]) Original y:  tensor([1.])\n",
            "Index:  4 Transformed x_: tensor([3., 3.]) Transformed y_: tensor([2.])\n",
            "Index:  5 Original x:  tensor([2., 2.]) Original y:  tensor([1.])\n",
            "Index:  5 Transformed x_: tensor([3., 3.]) Transformed y_: tensor([2.])\n",
            "Index:  6 Original x:  tensor([2., 2.]) Original y:  tensor([1.])\n",
            "Index:  6 Transformed x_: tensor([3., 3.]) Transformed y_: tensor([2.])\n",
            "Index:  7 Original x:  tensor([2., 2.]) Original y:  tensor([1.])\n",
            "Index:  7 Transformed x_: tensor([3., 3.]) Transformed y_: tensor([2.])\n",
            "Index:  8 Original x:  tensor([2., 2.]) Original y:  tensor([1.])\n",
            "Index:  8 Transformed x_: tensor([3., 3.]) Transformed y_: tensor([2.])\n",
            "Index:  9 Original x:  tensor([2., 2.]) Original y:  tensor([1.])\n",
            "Index:  9 Transformed x_: tensor([3., 3.]) Transformed y_: tensor([2.])\n"
          ],
          "name": "stdout"
        }
      ]
    },
    {
      "cell_type": "code",
      "metadata": {
        "id": "zzr3jErr0cQJ",
        "colab_type": "code",
        "colab": {}
      },
      "source": [
        "b = transform1( add = 10, mul = 3)\n",
        "a = toy(length = 500, transform = b)"
      ],
      "execution_count": 0,
      "outputs": []
    },
    {
      "cell_type": "code",
      "metadata": {
        "id": "TYzomUCG0dBE",
        "colab_type": "code",
        "colab": {
          "base_uri": "https://localhost:8080/",
          "height": 34
        },
        "outputId": "8ce56fb1-68fd-409a-f917-77b0b9f20abb"
      },
      "source": [
        "c,d = a[450]\n",
        "print (c,d)"
      ],
      "execution_count": 82,
      "outputs": [
        {
          "output_type": "stream",
          "text": [
            "tensor([15.]) tensor([3.])\n"
          ],
          "name": "stdout"
        }
      ]
    },
    {
      "cell_type": "code",
      "metadata": {
        "id": "qgGZ1yTC0hfN",
        "colab_type": "code",
        "colab": {
          "base_uri": "https://localhost:8080/",
          "height": 187
        },
        "outputId": "8d9e700b-6bd0-42be-e950-004eb590d626"
      },
      "source": [
        "for i in range (10):\n",
        "  x, y = a[i]\n",
        "  print(x,y)"
      ],
      "execution_count": 83,
      "outputs": [
        {
          "output_type": "stream",
          "text": [
            "tensor([15.]) tensor([3.])\n",
            "tensor([15.]) tensor([3.])\n",
            "tensor([15.]) tensor([3.])\n",
            "tensor([15.]) tensor([3.])\n",
            "tensor([15.]) tensor([3.])\n",
            "tensor([15.]) tensor([3.])\n",
            "tensor([15.]) tensor([3.])\n",
            "tensor([15.]) tensor([3.])\n",
            "tensor([15.]) tensor([3.])\n",
            "tensor([15.]) tensor([3.])\n"
          ],
          "name": "stdout"
        }
      ]
    },
    {
      "cell_type": "markdown",
      "metadata": {
        "id": "NO_5zAwX0uv-",
        "colab_type": "text"
      },
      "source": [
        "# Compose"
      ]
    },
    {
      "cell_type": "markdown",
      "metadata": {
        "id": "zwT0lOoi03eo",
        "colab_type": "text"
      },
      "source": [
        "You can compose multiple transforms on the dataset object. First, import transforms from torchvision:"
      ]
    },
    {
      "cell_type": "code",
      "metadata": {
        "id": "_3wmggQW0wkX",
        "colab_type": "code",
        "colab": {}
      },
      "source": [
        "# Run the command below when you do not have torchvision installed\n",
        "# !conda install -y torchvision\n",
        "\n",
        "from torchvision import transforms"
      ],
      "execution_count": 0,
      "outputs": []
    },
    {
      "cell_type": "code",
      "metadata": {
        "id": "Fo8szzc21Be-",
        "colab_type": "code",
        "colab": {}
      },
      "source": [
        "class mult(object):\n",
        "    \n",
        "    # Constructor\n",
        "    def __init__(self, mult = 100):\n",
        "        self.mult = mult\n",
        "        \n",
        "    # Executor\n",
        "    def __call__(self, sample):\n",
        "        x = sample[0]\n",
        "        y = sample[1]\n",
        "        x = x * self.mult\n",
        "        y = y * self.mult\n",
        "        sample = x, y\n",
        "        return sample"
      ],
      "execution_count": 0,
      "outputs": []
    },
    {
      "cell_type": "markdown",
      "metadata": {
        "id": "mioWyVTi1YMP",
        "colab_type": "text"
      },
      "source": [
        "Now let us try to combine the transforms add_mult and mult"
      ]
    },
    {
      "cell_type": "code",
      "metadata": {
        "id": "gi9mfL9V1XZD",
        "colab_type": "code",
        "colab": {
          "base_uri": "https://localhost:8080/",
          "height": 85
        },
        "outputId": "e3eb7e66-c06a-400c-b0f0-c5c2f090c087"
      },
      "source": [
        "data_transform = transforms.Compose([add_mult(), mult()])\n",
        "print(\"The combination of transforms (Compose): \", data_transform)"
      ],
      "execution_count": 96,
      "outputs": [
        {
          "output_type": "stream",
          "text": [
            "The combination of transforms (Compose):  Compose(\n",
            "    <__main__.add_mult object at 0x7f722a8d4cc0>\n",
            "    <__main__.mult object at 0x7f722a8d4d30>\n",
            ")\n"
          ],
          "name": "stdout"
        }
      ]
    },
    {
      "cell_type": "code",
      "metadata": {
        "id": "KHJ8SWwy1_42",
        "colab_type": "code",
        "colab": {
          "base_uri": "https://localhost:8080/",
          "height": 34
        },
        "outputId": "ea4da7eb-a892-46bb-9aa7-9987704234d8"
      },
      "source": [
        "data_transform(data_set[0])"
      ],
      "execution_count": 97,
      "outputs": [
        {
          "output_type": "execute_result",
          "data": {
            "text/plain": [
              "(tensor([300., 300.]), tensor([200.]))"
            ]
          },
          "metadata": {
            "tags": []
          },
          "execution_count": 97
        }
      ]
    },
    {
      "cell_type": "code",
      "metadata": {
        "id": "JRq98aO-2CUv",
        "colab_type": "code",
        "colab": {
          "base_uri": "https://localhost:8080/",
          "height": 51
        },
        "outputId": "dea268ef-fb54-494c-e4ca-dbebb8b507b8"
      },
      "source": [
        "x,y=data_set[0]\n",
        "x_,y_=data_transform(data_set[0])\n",
        "print( 'Original x: ', x, 'Original y: ', y)\n",
        "\n",
        "print( 'Transformed x_:', x_, 'Transformed y_:', y_)"
      ],
      "execution_count": 98,
      "outputs": [
        {
          "output_type": "stream",
          "text": [
            "Original x:  tensor([2., 2.]) Original y:  tensor([1.])\n",
            "Transformed x_: tensor([300., 300.]) Transformed y_: tensor([200.])\n"
          ],
          "name": "stdout"
        }
      ]
    },
    {
      "cell_type": "code",
      "metadata": {
        "id": "rvusi21W3DIM",
        "colab_type": "code",
        "colab": {}
      },
      "source": [
        "# Create a new toy_set object with compose object as transform\n",
        "\n",
        "compose_data_set = toy_set(transform = data_transform)"
      ],
      "execution_count": 0,
      "outputs": []
    },
    {
      "cell_type": "code",
      "metadata": {
        "id": "sGjzI4o53Eyz",
        "colab_type": "code",
        "colab": {
          "base_uri": "https://localhost:8080/",
          "height": 170
        },
        "outputId": "134b603e-29c2-4733-97b2-57c1ecdbd553"
      },
      "source": [
        "# Use loop to print out first 3 elements in dataset\n",
        "\n",
        "for i in range(3):\n",
        "    x, y = data_set[i]\n",
        "    print('Index: ', i, 'Original x: ', x, 'Original y: ', y)\n",
        "    x_, y_ = cust_data_set[i]\n",
        "    print('Index: ', i, 'Transformed x_:', x_, 'Transformed y_:', y_)\n",
        "    x_co, y_co = compose_data_set[i]\n",
        "    print('Index: ', i, 'Compose Transformed x_co: ', x_co ,'Compose Transformed y_co: ',y_co)"
      ],
      "execution_count": 100,
      "outputs": [
        {
          "output_type": "stream",
          "text": [
            "Index:  0 Original x:  tensor([2., 2.]) Original y:  tensor([1.])\n",
            "Index:  0 Transformed x_: tensor([3., 3.]) Transformed y_: tensor([2.])\n",
            "Index:  0 Compose Transformed x_co:  tensor([300., 300.]) Compose Transformed y_co:  tensor([200.])\n",
            "Index:  1 Original x:  tensor([2., 2.]) Original y:  tensor([1.])\n",
            "Index:  1 Transformed x_: tensor([3., 3.]) Transformed y_: tensor([2.])\n",
            "Index:  1 Compose Transformed x_co:  tensor([300., 300.]) Compose Transformed y_co:  tensor([200.])\n",
            "Index:  2 Original x:  tensor([2., 2.]) Original y:  tensor([1.])\n",
            "Index:  2 Transformed x_: tensor([3., 3.]) Transformed y_: tensor([2.])\n",
            "Index:  2 Compose Transformed x_co:  tensor([300., 300.]) Compose Transformed y_co:  tensor([200.])\n"
          ],
          "name": "stdout"
        }
      ]
    },
    {
      "cell_type": "markdown",
      "metadata": {
        "id": "WAg9zMDq3QZr",
        "colab_type": "text"
      },
      "source": [
        "Let us see what happened on index 0. The original value of x is [2, 2], and the original value of y is [1]. If we only applied add_mult() on the original dataset, then the x became [3, 3] and y became [2]. Now let us see what is the value after applied both add_mult() and mult(). The result of x is [300, 300] and y is [200]. The calculation which is equavalent to the compose is x = ([2, 2] + 1) x 100 = [300, 300], y = ([1] x 2) x 100 = 200"
      ]
    },
    {
      "cell_type": "markdown",
      "metadata": {
        "id": "hRzyKCDn3gSn",
        "colab_type": "text"
      },
      "source": [
        "Practice\n",
        "Try to combine the mult() and add_mult() as mult() to be executed first. And apply this on a new toy_set dataset. Print out the first 3 elements in the transformed dataset."
      ]
    },
    {
      "cell_type": "code",
      "metadata": {
        "id": "J3hu84gw3SDr",
        "colab_type": "code",
        "colab": {}
      },
      "source": [
        "data_trans2 = transforms.Compose([mult(), add_mult()])"
      ],
      "execution_count": 0,
      "outputs": []
    },
    {
      "cell_type": "code",
      "metadata": {
        "id": "OsE86Nw03_YM",
        "colab_type": "code",
        "colab": {
          "base_uri": "https://localhost:8080/",
          "height": 119
        },
        "outputId": "09e5ede9-05e6-497f-d6e6-d552e5d44a1d"
      },
      "source": [
        "z = toy(transform = data_trans2)\n",
        "for i in range (3):\n",
        "  x, y = z[i]\n",
        "  print (x,y)\n",
        "  print('Index:', i, 'transx:', x, 'transy:', y) "
      ],
      "execution_count": 106,
      "outputs": [
        {
          "output_type": "stream",
          "text": [
            "tensor([501.]) tensor([200.])\n",
            "Index: 0 transx: tensor([501.]) transy: tensor([200.])\n",
            "tensor([501.]) tensor([200.])\n",
            "Index: 1 transx: tensor([501.]) transy: tensor([200.])\n",
            "tensor([501.]) tensor([200.])\n",
            "Index: 2 transx: tensor([501.]) transy: tensor([200.])\n"
          ],
          "name": "stdout"
        }
      ]
    },
    {
      "cell_type": "code",
      "metadata": {
        "id": "xydKz2_2563c",
        "colab_type": "code",
        "colab": {
          "base_uri": "https://localhost:8080/",
          "height": 204
        },
        "outputId": "19135788-32e0-4c6e-848a-cdd7251be478"
      },
      "source": [
        "! wget https://s3-api.us-geo.objectstorage.softlayer.net/cf-courses-data/CognitiveClass/DL0110EN/datasets/img.tar.gz -P /resources/data\n"
      ],
      "execution_count": 29,
      "outputs": [
        {
          "output_type": "stream",
          "text": [
            "--2020-05-30 17:38:58--  https://s3-api.us-geo.objectstorage.softlayer.net/cf-courses-data/CognitiveClass/DL0110EN/datasets/img.tar.gz\n",
            "Resolving s3-api.us-geo.objectstorage.softlayer.net (s3-api.us-geo.objectstorage.softlayer.net)... 67.228.254.196\n",
            "Connecting to s3-api.us-geo.objectstorage.softlayer.net (s3-api.us-geo.objectstorage.softlayer.net)|67.228.254.196|:443... connected.\n",
            "HTTP request sent, awaiting response... 200 OK\n",
            "Length: 50460 (49K) [application/octet-stream]\n",
            "Saving to: ‘/resources/data/img.tar.gz.1’\n",
            "\n",
            "\rimg.tar.gz.1          0%[                    ]       0  --.-KB/s               \rimg.tar.gz.1        100%[===================>]  49.28K  --.-KB/s    in 0.02s   \n",
            "\n",
            "2020-05-30 17:38:58 (3.01 MB/s) - ‘/resources/data/img.tar.gz.1’ saved [50460/50460]\n",
            "\n"
          ],
          "name": "stdout"
        }
      ]
    },
    {
      "cell_type": "code",
      "metadata": {
        "id": "rYtEoO1U6Cac",
        "colab_type": "code",
        "colab": {}
      },
      "source": [
        "!tar -xf /resources/data/img.tar.gz "
      ],
      "execution_count": 0,
      "outputs": []
    },
    {
      "cell_type": "code",
      "metadata": {
        "id": "HcvEQle-7YlM",
        "colab_type": "code",
        "colab": {
          "base_uri": "https://localhost:8080/",
          "height": 204
        },
        "outputId": "fbcdb26a-203e-446b-b09b-94ade8a902c2"
      },
      "source": [
        "!wget https://s3-api.us-geo.objectstorage.softlayer.net/cf-courses-data/CognitiveClass/DL0110EN/datasets/index.csv "
      ],
      "execution_count": 31,
      "outputs": [
        {
          "output_type": "stream",
          "text": [
            "--2020-05-30 17:39:03--  https://s3-api.us-geo.objectstorage.softlayer.net/cf-courses-data/CognitiveClass/DL0110EN/datasets/index.csv\n",
            "Resolving s3-api.us-geo.objectstorage.softlayer.net (s3-api.us-geo.objectstorage.softlayer.net)... 67.228.254.196\n",
            "Connecting to s3-api.us-geo.objectstorage.softlayer.net (s3-api.us-geo.objectstorage.softlayer.net)|67.228.254.196|:443... connected.\n",
            "HTTP request sent, awaiting response... 200 OK\n",
            "Length: 1680905 (1.6M) [text/csv]\n",
            "Saving to: ‘index.csv.1’\n",
            "\n",
            "index.csv.1         100%[===================>]   1.60M  3.62MB/s    in 0.4s    \n",
            "\n",
            "2020-05-30 17:39:04 (3.62 MB/s) - ‘index.csv.1’ saved [1680905/1680905]\n",
            "\n"
          ],
          "name": "stdout"
        }
      ]
    },
    {
      "cell_type": "code",
      "metadata": {
        "id": "57NWhdfK7hs1",
        "colab_type": "code",
        "colab": {}
      },
      "source": [
        "def show_data(data_sample, shape = (28, 28)):\n",
        "    plt.imshow(data_sample[0].numpy().reshape(shape), cmap='gray')\n",
        "    plt.title('y = ' + data_sample[1])"
      ],
      "execution_count": 0,
      "outputs": []
    },
    {
      "cell_type": "markdown",
      "metadata": {
        "id": "6JRiwt4X8AOw",
        "colab_type": "text"
      },
      "source": [
        "The following are the libraries we are going to use for this lab. The torch.manual_seed() is for forcing the random function to give the same number every time we try to recompile it."
      ]
    },
    {
      "cell_type": "code",
      "metadata": {
        "id": "zPAqUyCU8PCq",
        "colab_type": "code",
        "colab": {
          "base_uri": "https://localhost:8080/",
          "height": 34
        },
        "outputId": "f879ed02-4547-4edf-b417-d6d1d52e234d"
      },
      "source": [
        "# These are the libraries will be used for this lab.\n",
        "\n",
        "import torch \n",
        "import matplotlib.pylab as plt\n",
        "import numpy as np\n",
        "from torch.utils.data import Dataset, DataLoader\n",
        "torch.manual_seed(0)"
      ],
      "execution_count": 32,
      "outputs": [
        {
          "output_type": "execute_result",
          "data": {
            "text/plain": [
              "<torch._C.Generator at 0x7f6aa0d26670>"
            ]
          },
          "metadata": {
            "tags": []
          },
          "execution_count": 32
        }
      ]
    },
    {
      "cell_type": "code",
      "metadata": {
        "id": "I4q3fLBm8X0C",
        "colab_type": "code",
        "colab": {}
      },
      "source": [
        "from matplotlib.pyplot import imshow\n",
        "import matplotlib.pylab as plt\n",
        "from PIL import Image\n",
        "import pandas as pd\n",
        "import os"
      ],
      "execution_count": 0,
      "outputs": []
    },
    {
      "cell_type": "markdown",
      "metadata": {
        "id": "sJzeLLNb8sdN",
        "colab_type": "text"
      },
      "source": [
        "Auxiliary Functions\n",
        "You will use the following function as components of a dataset object, in this section, you will review each of the components independently.\n",
        "\n",
        "The path to the csv file with the labels for each image."
      ]
    },
    {
      "cell_type": "code",
      "metadata": {
        "id": "iJgKhUnP8qku",
        "colab_type": "code",
        "colab": {}
      },
      "source": [
        "# Read CSV file from the URL and print out the first five samples\n",
        "directory=\"\"\n",
        "csv_file ='index.csv'\n",
        "csv_path=os.path.join(directory,csv_file)"
      ],
      "execution_count": 0,
      "outputs": []
    },
    {
      "cell_type": "markdown",
      "metadata": {
        "id": "nJ0YBeod9V1q",
        "colab_type": "text"
      },
      "source": [
        "You can load the CSV file and convert it into a dataframe , using the Pandas function read_csv() . You can view the dataframe using the method head"
      ]
    },
    {
      "cell_type": "code",
      "metadata": {
        "id": "D_MHtt_49SBH",
        "colab_type": "code",
        "colab": {
          "base_uri": "https://localhost:8080/",
          "height": 170
        },
        "outputId": "09bfbc77-d3e8-4380-cd9d-35750f5cfcd1"
      },
      "source": [
        "data_name = pd.read_csv(csv_path)\n",
        "data_name.info()"
      ],
      "execution_count": 35,
      "outputs": [
        {
          "output_type": "stream",
          "text": [
            "<class 'pandas.core.frame.DataFrame'>\n",
            "RangeIndex: 60000 entries, 0 to 59999\n",
            "Data columns (total 2 columns):\n",
            " #   Column    Non-Null Count  Dtype \n",
            "---  ------    --------------  ----- \n",
            " 0   category  60000 non-null  object\n",
            " 1   image     60000 non-null  object\n",
            "dtypes: object(2)\n",
            "memory usage: 937.6+ KB\n"
          ],
          "name": "stdout"
        }
      ]
    },
    {
      "cell_type": "markdown",
      "metadata": {
        "id": "Gng-nE1M-FEn",
        "colab_type": "text"
      },
      "source": [
        "The first column of the dataframe corresponds to the type of clothing. The second column is the name of the image file corresponding to the clothing. You can obtain the path of the first file by using the method  DATAFRAME.iloc[0, 1]. The first argument corresponds to the sample number, and the second input corresponds to the column index."
      ]
    },
    {
      "cell_type": "code",
      "metadata": {
        "id": "0dc-NANw9ylD",
        "colab_type": "code",
        "colab": {
          "base_uri": "https://localhost:8080/",
          "height": 34
        },
        "outputId": "563bf3f9-8a0f-457b-bab2-6feabf08f072"
      },
      "source": [
        "# Get the value on location row 0, column 1 (Notice that index starts at 0)\n",
        "#rember this dataset has only 100 samples to make the download faster  \n",
        "print('File name:', data_name.iloc[0, 1])"
      ],
      "execution_count": 36,
      "outputs": [
        {
          "output_type": "stream",
          "text": [
            "File name: img/fashion0.png\n"
          ],
          "name": "stdout"
        }
      ]
    },
    {
      "cell_type": "code",
      "metadata": {
        "id": "wUgIqc1v-rAA",
        "colab_type": "code",
        "colab": {
          "base_uri": "https://localhost:8080/",
          "height": 34
        },
        "outputId": "1804de7b-075e-4bcc-9bb2-91efccd909c9"
      },
      "source": [
        "# Get the value on location row 0, column 0 (Notice that index starts at 0.)\n",
        "\n",
        "print('y:', data_name.iloc[0, 0])"
      ],
      "execution_count": 37,
      "outputs": [
        {
          "output_type": "stream",
          "text": [
            "y: Ankle boot\n"
          ],
          "name": "stdout"
        }
      ]
    },
    {
      "cell_type": "code",
      "metadata": {
        "id": "er6y9jHdArnH",
        "colab_type": "code",
        "colab": {
          "base_uri": "https://localhost:8080/",
          "height": 51
        },
        "outputId": "63915453-b810-4ce1-b5a1-f4f84efc9980"
      },
      "source": [
        "# Print out the file name and the class number of the element on row 1 (the second row)\n",
        "\n",
        "print('File name:', data_name.iloc[1, 1])\n",
        "print('class or y:', data_name.iloc[1, 0])"
      ],
      "execution_count": 38,
      "outputs": [
        {
          "output_type": "stream",
          "text": [
            "File name: img/fashion1.png\n",
            "class or y: T-shirt\n"
          ],
          "name": "stdout"
        }
      ]
    },
    {
      "cell_type": "code",
      "metadata": {
        "id": "Vqr0-5UuN5kM",
        "colab_type": "code",
        "colab": {
          "base_uri": "https://localhost:8080/",
          "height": 51
        },
        "outputId": "6901c477-580e-4b63-a914-1405d70df3bd"
      },
      "source": [
        "# Print out the file name and the class number of the element on row 1 (the second row)\n",
        "\n",
        "print('File name:', data_name.iloc[1, 1])\n",
        "print('class or y:', data_name.iloc[1, 0])"
      ],
      "execution_count": 39,
      "outputs": [
        {
          "output_type": "stream",
          "text": [
            "File name: img/fashion1.png\n",
            "class or y: T-shirt\n"
          ],
          "name": "stdout"
        }
      ]
    },
    {
      "cell_type": "code",
      "metadata": {
        "id": "jKoWKAPzOHVZ",
        "colab_type": "code",
        "colab": {
          "base_uri": "https://localhost:8080/",
          "height": 34
        },
        "outputId": "e0537675-4e12-4c0b-d19b-6ab7e2001478"
      },
      "source": [
        "# Print out the total number of rows in traing dataset\n",
        "\n",
        "print('The number of rows: ', data_name.shape[0])"
      ],
      "execution_count": 40,
      "outputs": [
        {
          "output_type": "stream",
          "text": [
            "The number of rows:  60000\n"
          ],
          "name": "stdout"
        }
      ]
    },
    {
      "cell_type": "markdown",
      "metadata": {
        "id": "FVvEn3mmOXUk",
        "colab_type": "text"
      },
      "source": [
        "Load Image\n",
        "To load the image, you need the directory and the image name. You can concatenate the variable train_data_dir with the name of the image stored in a Dataframe. Finally, you will store the result in the variable image_name"
      ]
    },
    {
      "cell_type": "code",
      "metadata": {
        "id": "ksBir741PJ0R",
        "colab_type": "code",
        "colab": {}
      },
      "source": [
        ""
      ],
      "execution_count": 0,
      "outputs": []
    },
    {
      "cell_type": "code",
      "metadata": {
        "id": "9wg2lFlVPJ7z",
        "colab_type": "code",
        "colab": {
          "base_uri": "https://localhost:8080/",
          "height": 34
        },
        "outputId": "c45b7692-1b04-4f9a-c36f-70aec20772ff"
      },
      "source": [
        "# Combine the directory path with file name\n",
        "\n",
        "image_name =data_name.iloc[1, 1]\n",
        "image_name"
      ],
      "execution_count": 41,
      "outputs": [
        {
          "output_type": "execute_result",
          "data": {
            "text/plain": [
              "'img/fashion1.png'"
            ]
          },
          "metadata": {
            "tags": []
          },
          "execution_count": 41
        }
      ]
    },
    {
      "cell_type": "code",
      "metadata": {
        "id": "gp84jpHHPOkT",
        "colab_type": "code",
        "colab": {
          "base_uri": "https://localhost:8080/",
          "height": 34
        },
        "outputId": "a0f2c52f-09ed-4ac6-b7c8-0fee6ec4af1d"
      },
      "source": [
        "image_path=os.path.join(directory,image_name)\n",
        "image_path"
      ],
      "execution_count": 42,
      "outputs": [
        {
          "output_type": "execute_result",
          "data": {
            "text/plain": [
              "'img/fashion1.png'"
            ]
          },
          "metadata": {
            "tags": []
          },
          "execution_count": 42
        }
      ]
    },
    {
      "cell_type": "code",
      "metadata": {
        "id": "4n1tr7wRPRVf",
        "colab_type": "code",
        "colab": {
          "base_uri": "https://localhost:8080/",
          "height": 281
        },
        "outputId": "c45f543a-a450-49ce-d4f8-459825a2b14f"
      },
      "source": [
        "# Plot the second training image\n",
        "\n",
        "image = Image.open(image_path)\n",
        "plt.imshow(image,cmap='gray', vmin=0, vmax=255)\n",
        "plt.title(data_name.iloc[1, 0])\n",
        "plt.show()"
      ],
      "execution_count": 43,
      "outputs": [
        {
          "output_type": "display_data",
          "data": {
            "image/png": "[encoded data removed]",
            "text/plain": [
              "<Figure size 432x288 with 1 Axes>"
            ]
          },
          "metadata": {
            "tags": [],
            "needs_background": "light"
          }
        }
      ]
    },
    {
      "cell_type": "code",
      "metadata": {
        "id": "5HU6Dp_2PhAG",
        "colab_type": "code",
        "colab": {
          "base_uri": "https://localhost:8080/",
          "height": 281
        },
        "outputId": "db695049-e12b-463f-a77e-cbaf3c3f8fb8"
      },
      "source": [
        "# Plot the 20th image\n",
        "\n",
        "image_name = data_name.iloc[19, 1]\n",
        "image_path=os.path.join(directory,image_name)\n",
        "image = Image.open(image_path)\n",
        "plt.imshow(image,cmap='gray', vmin=0, vmax=255)\n",
        "plt.title(data_name.iloc[19, 0])\n",
        "plt.show()"
      ],
      "execution_count": 44,
      "outputs": [
        {
          "output_type": "display_data",
          "data": {
            "image/png": "[encoded data removed]",
            "text/plain": [
              "<Figure size 432x288 with 1 Axes>"
            ]
          },
          "metadata": {
            "tags": [],
            "needs_background": "light"
          }
        }
      ]
    },
    {
      "cell_type": "code",
      "metadata": {
        "id": "lAD1-oOoPsIh",
        "colab_type": "code",
        "colab": {}
      },
      "source": [
        "class Dataset(Dataset):\n",
        "\n",
        "    # Constructor\n",
        "    def __init__(self, csv_file, data_dir, transform=None):\n",
        "        \n",
        "        # Image directory\n",
        "        self.data_dir=data_dir\n",
        "        \n",
        "        # The transform is goint to be used on image\n",
        "        self.transform = transform\n",
        "        data_dircsv_file=os.path.join(self.data_dir,csv_file)\n",
        "        # Load the CSV file contians image info\n",
        "        self.data_name= pd.read_csv(data_dircsv_file)\n",
        "        \n",
        "        # Number of images in dataset\n",
        "        self.len=self.data_name.shape[0] \n",
        "    \n",
        "    # Get the length\n",
        "    def __len__(self):\n",
        "        return self.len\n",
        "    \n",
        "    # Getter\n",
        "    def __getitem__(self, idx):\n",
        "        \n",
        "        # Image file path\n",
        "        img_name=os.path.join(self.data_dir,self.data_name.iloc[idx, 1])\n",
        "        # Open image file\n",
        "        image = Image.open(img_name)\n",
        "        \n",
        "        # The class label for the image\n",
        "        y = self.data_name.iloc[idx, 0]\n",
        "        \n",
        "        # If there is any transform method, apply it onto the image\n",
        "        if self.transform:\n",
        "            image = self.transform(image)\n",
        "\n",
        "        return image, y"
      ],
      "execution_count": 0,
      "outputs": []
    },
    {
      "cell_type": "code",
      "metadata": {
        "id": "EXfmsjx4O3ph",
        "colab_type": "code",
        "colab": {
          "base_uri": "https://localhost:8080/",
          "height": 54
        },
        "outputId": "35bae7f5-030b-4dc4-ed40-6d9eae4dfa48"
      },
      "source": [
        "print(Dataset.__dict__)"
      ],
      "execution_count": 62,
      "outputs": [
        {
          "output_type": "stream",
          "text": [
            "{'__module__': '__main__', '__init__': <function Dataset.__init__ at 0x7f6aa00a66a8>, '__len__': <function Dataset.__len__ at 0x7f6aa00a6840>, '__getitem__': <function Dataset.__getitem__ at 0x7f6aa00a67b8>, '__doc__': None}\n"
          ],
          "name": "stdout"
        }
      ]
    },
    {
      "cell_type": "code",
      "metadata": {
        "id": "i1sp3-qsq2kC",
        "colab_type": "code",
        "colab": {}
      },
      "source": [
        "# Create the dataset objects\n",
        "\n",
        "dataset = Dataset(csv_file=csv_file, data_dir=directory)"
      ],
      "execution_count": 0,
      "outputs": []
    },
    {
      "cell_type": "code",
      "metadata": {
        "id": "w5CUcwpzrDK_",
        "colab_type": "code",
        "colab": {
          "base_uri": "https://localhost:8080/",
          "height": 281
        },
        "outputId": "e6e17b76-472a-4949-fe76-f490a7c3d4cd"
      },
      "source": [
        "image=dataset[1][0]\n",
        "y=dataset[1][1]\n",
        "\n",
        "plt.imshow(image,cmap='gray', vmin=0, vmax=255)\n",
        "plt.title(y)\n",
        "plt.show()"
      ],
      "execution_count": 50,
      "outputs": [
        {
          "output_type": "display_data",
          "data": {
            "image/png": "[encoded data removed]",
            "text/plain": [
              "<Figure size 432x288 with 1 Axes>"
            ]
          },
          "metadata": {
            "tags": [],
            "needs_background": "light"
          }
        }
      ]
    },
    {
      "cell_type": "code",
      "metadata": {
        "id": "4E6wSgUBU_1K",
        "colab_type": "code",
        "colab": {
          "base_uri": "https://localhost:8080/",
          "height": 281
        },
        "outputId": "49c1adca-e02c-46d4-ed41-8a98aa1a3b55"
      },
      "source": [
        "image=dataset[0][0]\n",
        "y=dataset[0][1]\n",
        "\n",
        "plt.imshow(image,cmap='gray', vmin=0, vmax=255)\n",
        "plt.title(y)\n",
        "plt.show()"
      ],
      "execution_count": 48,
      "outputs": [
        {
          "output_type": "display_data",
          "data": {
            "image/png": "[encoded data removed]",
            "text/plain": [
              "<Figure size 432x288 with 1 Axes>"
            ]
          },
          "metadata": {
            "tags": [],
            "needs_background": "light"
          }
        }
      ]
    },
    {
      "cell_type": "code",
      "metadata": {
        "id": "25SxYxDQq8TP",
        "colab_type": "code",
        "colab": {
          "base_uri": "https://localhost:8080/",
          "height": 34
        },
        "outputId": "bf203d23-7d21-40dd-8333-0fc41e55645f"
      },
      "source": [
        "y"
      ],
      "execution_count": 49,
      "outputs": [
        {
          "output_type": "execute_result",
          "data": {
            "text/plain": [
              "'Ankle boot'"
            ]
          },
          "metadata": {
            "tags": []
          },
          "execution_count": 49
        }
      ]
    },
    {
      "cell_type": "code",
      "metadata": {
        "id": "ut-DmRnBrWOJ",
        "colab_type": "code",
        "colab": {
          "base_uri": "https://localhost:8080/",
          "height": 281
        },
        "outputId": "d461ef15-3299-4003-9d52-1349c6b98876"
      },
      "source": [
        "image=dataset[9][0]\n",
        "y=dataset[9][1]\n",
        "\n",
        "plt.imshow(image,cmap='gray', vmin=0, vmax=255)\n",
        "plt.title(y)\n",
        "plt.show()"
      ],
      "execution_count": 51,
      "outputs": [
        {
          "output_type": "display_data",
          "data": {
            "image/png": "[encoded data removed]",
            "text/plain": [
              "<Figure size 432x288 with 1 Axes>"
            ]
          },
          "metadata": {
            "tags": [],
            "needs_background": "light"
          }
        }
      ]
    },
    {
      "cell_type": "markdown",
      "metadata": {
        "id": "g4QcfSD2tjLy",
        "colab_type": "text"
      },
      "source": [
        "Torchvision Transforms"
      ]
    },
    {
      "cell_type": "code",
      "metadata": {
        "id": "JFQNUvkEuDfb",
        "colab_type": "code",
        "colab": {}
      },
      "source": [
        "import torchvision.transforms as transforms"
      ],
      "execution_count": 0,
      "outputs": []
    },
    {
      "cell_type": "code",
      "metadata": {
        "id": "HEsJyC1JrYiz",
        "colab_type": "code",
        "colab": {
          "base_uri": "https://localhost:8080/",
          "height": 34
        },
        "outputId": "3564ed36-d345-46cf-ce5f-b01361bf4a57"
      },
      "source": [
        "# Combine two transforms: crop and convert to tensor. Apply the compose to MNIST dataset\n",
        "\n",
        "croptensor_data_transform = transforms.Compose([transforms.CenterCrop(20), transforms.ToTensor()])\n",
        "dataset = Dataset(csv_file=csv_file , data_dir=directory,transform=croptensor_data_transform )\n",
        "print(\"The shape of the first element tensor: \", dataset[0][0].shape)"
      ],
      "execution_count": 54,
      "outputs": [
        {
          "output_type": "stream",
          "text": [
            "The shape of the first element tensor:  torch.Size([1, 20, 20])\n"
          ],
          "name": "stdout"
        }
      ]
    },
    {
      "cell_type": "code",
      "metadata": {
        "id": "BiCNuKznuMcC",
        "colab_type": "code",
        "colab": {
          "base_uri": "https://localhost:8080/",
          "height": 281
        },
        "outputId": "39330aad-4bd1-40b9-fe41-673c00c5fd54"
      },
      "source": [
        "# Plot the first element in the dataset\n",
        "\n",
        "show_data(dataset[0],shape = (20, 20))"
      ],
      "execution_count": 55,
      "outputs": [
        {
          "output_type": "display_data",
          "data": {
            "image/png": "[encoded data removed]",
            "text/plain": [
              "<Figure size 432x288 with 1 Axes>"
            ]
          },
          "metadata": {
            "tags": [],
            "needs_background": "light"
          }
        }
      ]
    },
    {
      "cell_type": "code",
      "metadata": {
        "id": "5wxpLzW4uQM3",
        "colab_type": "code",
        "colab": {
          "base_uri": "https://localhost:8080/",
          "height": 281
        },
        "outputId": "07f22336-bcf1-4794-9fae-4799f85de5bb"
      },
      "source": [
        "# Plot the second element in the dataset\n",
        "\n",
        "show_data(dataset[1],shape = (20, 20))"
      ],
      "execution_count": 56,
      "outputs": [
        {
          "output_type": "display_data",
          "data": {
            "image/png": "[encoded data removed]",
            "text/plain": [
              "<Figure size 432x288 with 1 Axes>"
            ]
          },
          "metadata": {
            "tags": [],
            "needs_background": "light"
          }
        }
      ]
    },
    {
      "cell_type": "code",
      "metadata": {
        "id": "HKkU69byubJU",
        "colab_type": "code",
        "colab": {
          "base_uri": "https://localhost:8080/",
          "height": 281
        },
        "outputId": "782b2b42-c3a5-4057-d188-c33d28a321b9"
      },
      "source": [
        "# Construct the compose. Apply it on MNIST dataset. Plot the image out.\n",
        "\n",
        "fliptensor_data_transform = transforms.Compose([transforms.RandomVerticalFlip(p=1),transforms.ToTensor()])\n",
        "dataset = Dataset(csv_file=csv_file , data_dir=directory,transform=fliptensor_data_transform )\n",
        "show_data(dataset[1])"
      ],
      "execution_count": 57,
      "outputs": [
        {
          "output_type": "display_data",
          "data": {
            "image/png": "[encoded data removed]",
            "text/plain": [
              "<Figure size 432x288 with 1 Axes>"
            ]
          },
          "metadata": {
            "tags": [],
            "needs_background": "light"
          }
        }
      ]
    },
    {
      "cell_type": "markdown",
      "metadata": {
        "id": "gIXgDzunuoZa",
        "colab_type": "text"
      },
      "source": [
        "Try to use the RandomVerticalFlip (vertically flip the image) with horizontally flip and convert to tensor as a compose. Apply the compose on image. Use show_data() to plot the second image (the image as 2)."
      ]
    },
    {
      "cell_type": "code",
      "metadata": {
        "id": "YA0-lZVWvR1H",
        "colab_type": "code",
        "colab": {
          "base_uri": "https://localhost:8080/",
          "height": 281
        },
        "outputId": "5c2af1be-ddda-4e2b-9952-4fb9bf8326db"
      },
      "source": [
        "\n",
        "fliptensor_data_transform = transforms.Compose([transforms.RandomVerticalFlip(p=1), transforms.RandomHorizontalFlip (p=1), transforms.ToTensor()])\n",
        "dataset = Dataset(csv_file=csv_file , data_dir=directory,transform=fliptensor_data_transform )\n",
        "show_data(dataset[2])"
      ],
      "execution_count": 59,
      "outputs": [
        {
          "output_type": "display_data",
          "data": {
            "image/png": "[encoded data removed]",
            "text/plain": [
              "<Figure size 432x288 with 1 Axes>"
            ]
          },
          "metadata": {
            "tags": [],
            "needs_background": "light"
          }
        }
      ]
    },
    {
      "cell_type": "code",
      "metadata": {
        "id": "eMqml45QvXqk",
        "colab_type": "code",
        "colab": {}
      },
      "source": [
        ""
      ],
      "execution_count": 0,
      "outputs": []
    }
  ]
}